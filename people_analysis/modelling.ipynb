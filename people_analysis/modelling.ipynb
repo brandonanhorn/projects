{
 "cells": [
  {
   "cell_type": "code",
   "execution_count": 1,
   "metadata": {},
   "outputs": [],
   "source": [
    "import pandas as pd\n",
    "\n",
    "from sklearn.model_selection import train_test_split, GridSearchCV\n",
    "from sklearn.preprocessing import LabelBinarizer, StandardScaler\n",
    "from sklearn.linear_model import LinearRegression, HuberRegressor, Lasso, Ridge, ElasticNet\n",
    "from sklearn.ensemble import RandomForestRegressor, AdaBoostRegressor\n",
    "from sklearn.tree import DecisionTreeRegressor\n",
    "from sklearn_pandas import DataFrameMapper\n",
    "from sklearn.metrics import mean_squared_error\n",
    "\n",
    "import matplotlib.pyplot as plt\n",
    "\n",
    "import tensorflow as tf\n",
    "from tensorflow import keras\n",
    "\n",
    "from tensorflow.keras.models import Sequential\n",
    "from tensorflow.keras.layers import Dense, Input, Dropout\n",
    "from tensorflow.keras.utils import to_categorical\n",
    "\n",
    "pd.set_option(\"max.columns\", None)"
   ]
  },
  {
   "cell_type": "code",
   "execution_count": 2,
   "metadata": {},
   "outputs": [],
   "source": [
    "df = pd.read_csv(\"data/student-mat.csv\")"
   ]
  },
  {
   "cell_type": "code",
   "execution_count": 3,
   "metadata": {},
   "outputs": [],
   "source": [
    "df[\"finalgrade\"] = (df[\"G1\"] + df[\"G2\"] + df[\"G3\"]) / 3"
   ]
  },
  {
   "cell_type": "code",
   "execution_count": 4,
   "metadata": {},
   "outputs": [],
   "source": [
    "target = \"finalgrade\"\n",
    "X = df.drop(target, axis=1)\n",
    "y = df[target]"
   ]
  },
  {
   "cell_type": "code",
   "execution_count": 5,
   "metadata": {},
   "outputs": [],
   "source": [
    "X_train, X_test, y_train, y_test = train_test_split(X, y)"
   ]
  },
  {
   "cell_type": "code",
   "execution_count": 6,
   "metadata": {},
   "outputs": [
    {
     "data": {
      "text/html": [
       "<div>\n",
       "<style scoped>\n",
       "    .dataframe tbody tr th:only-of-type {\n",
       "        vertical-align: middle;\n",
       "    }\n",
       "\n",
       "    .dataframe tbody tr th {\n",
       "        vertical-align: top;\n",
       "    }\n",
       "\n",
       "    .dataframe thead th {\n",
       "        text-align: right;\n",
       "    }\n",
       "</style>\n",
       "<table border=\"1\" class=\"dataframe\">\n",
       "  <thead>\n",
       "    <tr style=\"text-align: right;\">\n",
       "      <th></th>\n",
       "      <th>school</th>\n",
       "      <th>sex</th>\n",
       "      <th>age</th>\n",
       "      <th>address</th>\n",
       "      <th>famsize</th>\n",
       "      <th>Pstatus</th>\n",
       "      <th>Medu</th>\n",
       "      <th>Fedu</th>\n",
       "      <th>Mjob</th>\n",
       "      <th>Fjob</th>\n",
       "      <th>reason</th>\n",
       "      <th>guardian</th>\n",
       "      <th>traveltime</th>\n",
       "      <th>studytime</th>\n",
       "      <th>failures</th>\n",
       "      <th>schoolsup</th>\n",
       "      <th>famsup</th>\n",
       "      <th>paid</th>\n",
       "      <th>activities</th>\n",
       "      <th>nursery</th>\n",
       "      <th>higher</th>\n",
       "      <th>internet</th>\n",
       "      <th>romantic</th>\n",
       "      <th>famrel</th>\n",
       "      <th>freetime</th>\n",
       "      <th>goout</th>\n",
       "      <th>Dalc</th>\n",
       "      <th>Walc</th>\n",
       "      <th>health</th>\n",
       "      <th>absences</th>\n",
       "      <th>G1</th>\n",
       "      <th>G2</th>\n",
       "      <th>G3</th>\n",
       "      <th>finalgrade</th>\n",
       "    </tr>\n",
       "  </thead>\n",
       "  <tbody>\n",
       "    <tr>\n",
       "      <td>0</td>\n",
       "      <td>GP</td>\n",
       "      <td>F</td>\n",
       "      <td>18</td>\n",
       "      <td>U</td>\n",
       "      <td>GT3</td>\n",
       "      <td>A</td>\n",
       "      <td>4</td>\n",
       "      <td>4</td>\n",
       "      <td>at_home</td>\n",
       "      <td>teacher</td>\n",
       "      <td>course</td>\n",
       "      <td>mother</td>\n",
       "      <td>2</td>\n",
       "      <td>2</td>\n",
       "      <td>0</td>\n",
       "      <td>yes</td>\n",
       "      <td>no</td>\n",
       "      <td>no</td>\n",
       "      <td>no</td>\n",
       "      <td>yes</td>\n",
       "      <td>yes</td>\n",
       "      <td>no</td>\n",
       "      <td>no</td>\n",
       "      <td>4</td>\n",
       "      <td>3</td>\n",
       "      <td>4</td>\n",
       "      <td>1</td>\n",
       "      <td>1</td>\n",
       "      <td>3</td>\n",
       "      <td>6</td>\n",
       "      <td>5</td>\n",
       "      <td>6</td>\n",
       "      <td>6</td>\n",
       "      <td>5.666667</td>\n",
       "    </tr>\n",
       "  </tbody>\n",
       "</table>\n",
       "</div>"
      ],
      "text/plain": [
       "  school sex  age address famsize Pstatus  Medu  Fedu     Mjob     Fjob  \\\n",
       "0     GP   F   18       U     GT3       A     4     4  at_home  teacher   \n",
       "\n",
       "   reason guardian  traveltime  studytime  failures schoolsup famsup paid  \\\n",
       "0  course   mother           2          2         0       yes     no   no   \n",
       "\n",
       "  activities nursery higher internet romantic  famrel  freetime  goout  Dalc  \\\n",
       "0         no     yes    yes       no       no       4         3      4     1   \n",
       "\n",
       "   Walc  health  absences  G1  G2  G3  finalgrade  \n",
       "0     1       3         6   5   6   6    5.666667  "
      ]
     },
     "execution_count": 6,
     "metadata": {},
     "output_type": "execute_result"
    }
   ],
   "source": [
    "df.head(1)"
   ]
  },
  {
   "cell_type": "code",
   "execution_count": 7,
   "metadata": {},
   "outputs": [],
   "source": [
    "mapper = DataFrameMapper([\n",
    "    (\"school\", LabelBinarizer()),\n",
    "    (\"sex\", LabelBinarizer()),\n",
    "    ([\"age\"], StandardScaler()),\n",
    "    (\"address\", LabelBinarizer()),\n",
    "    (\"famsize\", LabelBinarizer()),\n",
    "    (\"Pstatus\", LabelBinarizer()),\n",
    "    ([\"Medu\"], StandardScaler()),\n",
    "    (\"Mjob\", LabelBinarizer()),\n",
    "    (\"Fjob\", LabelBinarizer()),\n",
    "    (\"reason\", LabelBinarizer()),\n",
    "    (\"guardian\", LabelBinarizer()),\n",
    "    ([\"traveltime\"], StandardScaler()),\n",
    "    ([\"studytime\"], StandardScaler()),\n",
    "    ([\"failures\"], StandardScaler()),\n",
    "    (\"schoolsup\", LabelBinarizer()),\n",
    "    (\"famsup\", LabelBinarizer()),\n",
    "    (\"paid\", LabelBinarizer()),\n",
    "    (\"activities\", LabelBinarizer()),\n",
    "    (\"nursery\", LabelBinarizer()),\n",
    "    (\"higher\", LabelBinarizer()),\n",
    "    (\"internet\", LabelBinarizer()),\n",
    "    (\"romantic\", LabelBinarizer()),\n",
    "    ([\"famrel\"], StandardScaler()),\n",
    "    ([\"freetime\"], StandardScaler()),\n",
    "    ([\"goout\"], StandardScaler()),\n",
    "    ([\"Dalc\"], StandardScaler()),\n",
    "    ([\"Walc\"], StandardScaler()),\n",
    "    ([\"health\"], StandardScaler()),\n",
    "    ([\"absences\"], StandardScaler()),\n",
    "],df_out=True)"
   ]
  },
  {
   "cell_type": "code",
   "execution_count": 8,
   "metadata": {},
   "outputs": [],
   "source": [
    "Z_train = mapper.fit_transform(X_train)\n",
    "Z_test = mapper.transform(X_test)"
   ]
  },
  {
   "cell_type": "code",
   "execution_count": 9,
   "metadata": {},
   "outputs": [
    {
     "name": "stdout",
     "output_type": "stream",
     "text": [
      "LinearRegression train score is 0.330347300401697\n",
      "LinearRegression test score is 0.15530639872111773\n",
      "Mean squared error is 3.3075558945348815\n"
     ]
    }
   ],
   "source": [
    "model = LinearRegression().fit(Z_train,y_train)\n",
    "print(\"LinearRegression train score is \" + str(model.score(Z_train,y_train)))\n",
    "print(\"LinearRegression test score is \" + str(model.score(Z_test,y_test)))\n",
    "\n",
    "print(\"Mean squared error is \" + str(mean_squared_error(y_test, model.predict(Z_test))**(1/2)))"
   ]
  },
  {
   "cell_type": "code",
   "execution_count": 10,
   "metadata": {},
   "outputs": [
    {
     "name": "stdout",
     "output_type": "stream",
     "text": [
      "HuberRegressor train score is 0.3065482159980253\n",
      "HuberRegressor test score is 0.1165706193011782\n",
      "Mean squared error is 3.3825444259904676\n"
     ]
    }
   ],
   "source": [
    "model = HuberRegressor().fit(Z_train,y_train)\n",
    "print(\"HuberRegressor train score is \" + str(model.score(Z_train,y_train)))\n",
    "print(\"HuberRegressor test score is \" + str(model.score(Z_test,y_test)))\n",
    "\n",
    "print(\"Mean squared error is \" + str(mean_squared_error(y_test, model.predict(Z_test))**(1/2)))"
   ]
  },
  {
   "cell_type": "code",
   "execution_count": 11,
   "metadata": {},
   "outputs": [
    {
     "name": "stdout",
     "output_type": "stream",
     "text": [
      "Lasso train score is 0.0641859280343654\n",
      "Lasso test score is 0.0740472016129945\n",
      "Mean squared error is 3.462996193588234\n"
     ]
    }
   ],
   "source": [
    "model = Lasso().fit(Z_train,y_train)\n",
    "print(\"Lasso train score is \" + str(model.score(Z_train,y_train)))\n",
    "print(\"Lasso test score is \" + str(model.score(Z_test,y_test)))\n",
    "\n",
    "print(\"Mean squared error is \" + str(mean_squared_error(y_test, model.predict(Z_test))**(1/2)))"
   ]
  },
  {
   "cell_type": "code",
   "execution_count": 12,
   "metadata": {},
   "outputs": [
    {
     "name": "stdout",
     "output_type": "stream",
     "text": [
      "Ridge train score is 0.33016634842419745\n",
      "Ridge test score is 0.16463462773686977\n",
      "Mean squared error is 3.2892419791965155\n"
     ]
    }
   ],
   "source": [
    "model = Ridge().fit(Z_train,y_train)\n",
    "print(\"Ridge train score is \" + str(model.score(Z_train,y_train)))\n",
    "print(\"Ridge test score is \" + str(model.score(Z_test,y_test)))\n",
    "\n",
    "print(\"Mean squared error is \" + str(mean_squared_error(y_test, model.predict(Z_test))**(1/2)))"
   ]
  },
  {
   "cell_type": "code",
   "execution_count": 13,
   "metadata": {},
   "outputs": [
    {
     "name": "stdout",
     "output_type": "stream",
     "text": [
      "ElasticNet train score is 0.09629320188221413\n",
      "ElasticNet test score is 0.11743427855605282\n",
      "Mean squared error is 3.3808905981866557\n"
     ]
    }
   ],
   "source": [
    "model = ElasticNet().fit(Z_train,y_train)\n",
    "print(\"ElasticNet train score is \" + str(model.score(Z_train,y_train)))\n",
    "print(\"ElasticNet test score is \" + str(model.score(Z_test,y_test)))\n",
    "\n",
    "print(\"Mean squared error is \" + str(mean_squared_error(y_test, model.predict(Z_test))**(1/2)))"
   ]
  },
  {
   "cell_type": "code",
   "execution_count": 14,
   "metadata": {},
   "outputs": [
    {
     "name": "stdout",
     "output_type": "stream",
     "text": [
      "RandomForestRegressor train score is 0.8497229144522871\n",
      "RandomForestRegressor test score is 0.07606435777897214\n",
      "Mean squared error is 3.459222128294799\n"
     ]
    },
    {
     "name": "stderr",
     "output_type": "stream",
     "text": [
      "/Users/BA/opt/anaconda3/lib/python3.7/site-packages/sklearn/ensemble/forest.py:245: FutureWarning: The default value of n_estimators will change from 10 in version 0.20 to 100 in 0.22.\n",
      "  \"10 in version 0.20 to 100 in 0.22.\", FutureWarning)\n"
     ]
    }
   ],
   "source": [
    "model = RandomForestRegressor().fit(Z_train,y_train)\n",
    "print(\"RandomForestRegressor train score is \" + str(model.score(Z_train,y_train)))\n",
    "print(\"RandomForestRegressor test score is \" + str(model.score(Z_test,y_test)))\n",
    "\n",
    "print(\"Mean squared error is \" + str(mean_squared_error(y_test, model.predict(Z_test))**(1/2)))"
   ]
  },
  {
   "cell_type": "code",
   "execution_count": 15,
   "metadata": {},
   "outputs": [
    {
     "name": "stdout",
     "output_type": "stream",
     "text": [
      "DecisionTreeRegressor train score is 1.0\n",
      "DecisionTreeRegressor test score is -0.7309873899928747\n",
      "Mean squared error is 4.734831649801721\n"
     ]
    }
   ],
   "source": [
    "model = DecisionTreeRegressor().fit(Z_train,y_train)\n",
    "print(\"DecisionTreeRegressor train score is \" + str(model.score(Z_train,y_train)))\n",
    "print(\"DecisionTreeRegressor test score is \" + str(model.score(Z_test,y_test)))\n",
    "\n",
    "print(\"Mean squared error is \" + str(mean_squared_error(y_test, model.predict(Z_test))**(1/2)))"
   ]
  },
  {
   "cell_type": "code",
   "execution_count": 16,
   "metadata": {},
   "outputs": [
    {
     "name": "stdout",
     "output_type": "stream",
     "text": [
      "AdaBoostRegressor train score is 0.5068914165765006\n",
      "AdaBoostRegressor test score is 0.22393983783562255\n",
      "Mean squared error is 3.170335947116801\n"
     ]
    }
   ],
   "source": [
    "model = AdaBoostRegressor().fit(Z_train,y_train)\n",
    "print(\"AdaBoostRegressor train score is \" + str(model.score(Z_train,y_train)))\n",
    "print(\"AdaBoostRegressor test score is \" + str(model.score(Z_test,y_test)))\n",
    "\n",
    "print(\"Mean squared error is \" + str(mean_squared_error(y_test, model.predict(Z_test))**(1/2)))"
   ]
  },
  {
   "cell_type": "code",
   "execution_count": 17,
   "metadata": {},
   "outputs": [
    {
     "name": "stdout",
     "output_type": "stream",
     "text": [
      "Train on 296 samples, validate on 99 samples\n",
      "Epoch 1/50\n",
      "296/296 - 1s - loss: 12.1941 - val_loss: 11.7774\n",
      "Epoch 2/50\n",
      "296/296 - 0s - loss: 12.0593 - val_loss: 11.6144\n",
      "Epoch 3/50\n",
      "296/296 - 0s - loss: 11.8116 - val_loss: 11.3190\n",
      "Epoch 4/50\n",
      "296/296 - 0s - loss: 11.4117 - val_loss: 10.7588\n",
      "Epoch 5/50\n",
      "296/296 - 0s - loss: 10.7907 - val_loss: 10.0736\n",
      "Epoch 6/50\n",
      "296/296 - 0s - loss: 10.1853 - val_loss: 9.5672\n",
      "Epoch 7/50\n",
      "296/296 - 0s - loss: 9.6854 - val_loss: 9.0640\n",
      "Epoch 8/50\n",
      "296/296 - 0s - loss: 9.2078 - val_loss: 8.5077\n",
      "Epoch 9/50\n",
      "296/296 - 0s - loss: 8.6560 - val_loss: 7.9004\n",
      "Epoch 10/50\n",
      "296/296 - 0s - loss: 8.0317 - val_loss: 7.2779\n",
      "Epoch 11/50\n",
      "296/296 - 0s - loss: 7.4452 - val_loss: 6.6457\n",
      "Epoch 12/50\n",
      "296/296 - 0s - loss: 6.7545 - val_loss: 6.0384\n",
      "Epoch 13/50\n",
      "296/296 - 0s - loss: 6.1378 - val_loss: 5.4247\n",
      "Epoch 14/50\n",
      "296/296 - 0s - loss: 5.5858 - val_loss: 4.8477\n",
      "Epoch 15/50\n",
      "296/296 - 0s - loss: 5.1490 - val_loss: 4.2965\n",
      "Epoch 16/50\n",
      "296/296 - 0s - loss: 4.4323 - val_loss: 3.8217\n",
      "Epoch 17/50\n",
      "296/296 - 0s - loss: 3.9785 - val_loss: 3.4291\n",
      "Epoch 18/50\n",
      "296/296 - 0s - loss: 3.5815 - val_loss: 3.1700\n",
      "Epoch 19/50\n",
      "296/296 - 0s - loss: 3.4479 - val_loss: 3.0134\n",
      "Epoch 20/50\n",
      "296/296 - 0s - loss: 3.4025 - val_loss: 2.9251\n",
      "Epoch 21/50\n",
      "296/296 - 0s - loss: 3.3327 - val_loss: 2.9141\n",
      "Epoch 22/50\n",
      "296/296 - 0s - loss: 3.4524 - val_loss: 2.8994\n",
      "Epoch 23/50\n",
      "296/296 - 0s - loss: 3.4308 - val_loss: 2.8841\n",
      "Epoch 24/50\n",
      "296/296 - 0s - loss: 3.3785 - val_loss: 2.8876\n",
      "Epoch 25/50\n",
      "296/296 - 0s - loss: 3.4066 - val_loss: 2.8807\n",
      "Epoch 26/50\n",
      "296/296 - 0s - loss: 3.3739 - val_loss: 2.8815\n",
      "Epoch 27/50\n",
      "296/296 - 0s - loss: 3.5762 - val_loss: 2.8788\n",
      "Epoch 28/50\n",
      "296/296 - 0s - loss: 3.5631 - val_loss: 2.8800\n",
      "Epoch 29/50\n",
      "296/296 - 0s - loss: 3.4647 - val_loss: 2.8774\n",
      "Epoch 30/50\n",
      "296/296 - 0s - loss: 3.3453 - val_loss: 2.8777\n",
      "Epoch 31/50\n",
      "296/296 - 0s - loss: 3.4119 - val_loss: 2.8753\n",
      "Epoch 32/50\n",
      "296/296 - 0s - loss: 3.1636 - val_loss: 2.8720\n",
      "Epoch 33/50\n",
      "296/296 - 0s - loss: 3.3323 - val_loss: 2.8720\n",
      "Epoch 34/50\n",
      "296/296 - 0s - loss: 3.3373 - val_loss: 2.8774\n",
      "Epoch 35/50\n",
      "296/296 - 0s - loss: 3.3456 - val_loss: 2.8760\n",
      "Epoch 36/50\n",
      "296/296 - 0s - loss: 3.2308 - val_loss: 2.8721\n",
      "Epoch 37/50\n",
      "296/296 - 0s - loss: 3.4681 - val_loss: 2.8728\n",
      "Epoch 38/50\n",
      "296/296 - 0s - loss: 3.5860 - val_loss: 2.8770\n",
      "Epoch 39/50\n",
      "296/296 - 0s - loss: 3.3908 - val_loss: 2.8754\n",
      "Epoch 40/50\n",
      "296/296 - 0s - loss: 3.3726 - val_loss: 2.8742\n",
      "Epoch 41/50\n",
      "296/296 - 0s - loss: 3.5701 - val_loss: 2.8752\n",
      "Epoch 42/50\n",
      "296/296 - 0s - loss: 3.3553 - val_loss: 2.8778\n",
      "Epoch 43/50\n",
      "296/296 - 0s - loss: 3.4561 - val_loss: 2.8756\n",
      "Epoch 44/50\n",
      "296/296 - 0s - loss: 3.4336 - val_loss: 2.8743\n",
      "Epoch 45/50\n",
      "296/296 - 0s - loss: 3.4020 - val_loss: 2.8734\n",
      "Epoch 46/50\n",
      "296/296 - 0s - loss: 3.4719 - val_loss: 2.8729\n",
      "Epoch 47/50\n",
      "296/296 - 0s - loss: 3.3208 - val_loss: 2.8726\n",
      "Epoch 48/50\n",
      "296/296 - 0s - loss: 3.3894 - val_loss: 2.8718\n",
      "Epoch 49/50\n",
      "296/296 - 0s - loss: 3.3955 - val_loss: 2.8776\n",
      "Epoch 50/50\n",
      "296/296 - 0s - loss: 3.2008 - val_loss: 2.8732\n"
     ]
    }
   ],
   "source": [
    "model = Sequential([\n",
    "    Input(shape=(Z_train.shape[1],)),\n",
    "    Dense(128, activation='relu'),\n",
    "    Dropout(.05),\n",
    "    Dense(64, activation='softmax'),\n",
    "    Dropout(.05),\n",
    "    Dense(32, activation='relu'),\n",
    "    Dropout(.05),\n",
    "    Dense(16, activation='softmax'),\n",
    "    Dropout(.05),\n",
    "    Dense(8, activation='exponential'),\n",
    "    Dropout(.05),\n",
    "    Dense(1, activation='selu')\n",
    "])\n",
    "\n",
    "model.compile(loss='mae', optimizer='adam')\n",
    "\n",
    "history = model.fit(Z_train, y_train,\n",
    "                    validation_data=(Z_test, y_test),\n",
    "                    epochs=50, batch_size=16,\n",
    "                    verbose=2)"
   ]
  },
  {
   "cell_type": "code",
   "execution_count": 18,
   "metadata": {},
   "outputs": [
    {
     "data": {
      "image/png": "[encoded data removed]",
      "text/plain": [
       "<Figure size 432x288 with 1 Axes>"
      ]
     },
     "metadata": {
      "needs_background": "light"
     },
     "output_type": "display_data"
    }
   ],
   "source": [
    "plt.plot(history.history['loss'], label='Train loss')\n",
    "plt.plot(history.history['val_loss'], label='Test loss')\n",
    "plt.legend();"
   ]
  },
  {
   "cell_type": "code",
   "execution_count": null,
   "metadata": {},
   "outputs": [],
   "source": []
  }
 ],
 "metadata": {
  "kernelspec": {
   "display_name": "Python 3",
   "language": "python",
   "name": "python3"
  },
  "language_info": {
   "codemirror_mode": {
    "name": "ipython",
    "version": 3
   },
   "file_extension": ".py",
   "mimetype": "text/x-python",
   "name": "python",
   "nbconvert_exporter": "python",
   "pygments_lexer": "ipython3",
   "version": "3.7.4"
  }
 },
 "nbformat": 4,
 "nbformat_minor": 2
}
