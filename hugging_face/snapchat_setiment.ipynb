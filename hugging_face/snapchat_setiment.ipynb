{
  "nbformat": 4,
  "nbformat_minor": 0,
  "metadata": {
    "colab": {
      "name": "snapchat-setiment.ipynb",
      "provenance": [],
      "collapsed_sections": []
    },
    "kernelspec": {
      "name": "python3",
      "display_name": "Python 3"
    },
    "language_info": {
      "name": "python"
    }
  },
  "cells": [
    {
      "cell_type": "code",
      "metadata": {
        "colab": {
          "base_uri": "https://localhost:8080/"
        },
        "id": "I7rMp_-CRulY",
        "outputId": "18486ffc-af1e-45e7-b9a5-5191f0d0a3d5"
      },
      "source": [
        "pip install transformers"
      ],
      "execution_count": 1,
      "outputs": [
        {
          "output_type": "stream",
          "text": [
            "Requirement already satisfied: transformers in /usr/local/lib/python3.7/dist-packages (4.7.0)\n",
            "Requirement already satisfied: numpy>=1.17 in /usr/local/lib/python3.7/dist-packages (from transformers) (1.19.5)\n",
            "Requirement already satisfied: requests in /usr/local/lib/python3.7/dist-packages (from transformers) (2.23.0)\n",
            "Requirement already satisfied: importlib-metadata; python_version < \"3.8\" in /usr/local/lib/python3.7/dist-packages (from transformers) (4.5.0)\n",
            "Requirement already satisfied: huggingface-hub==0.0.8 in /usr/local/lib/python3.7/dist-packages (from transformers) (0.0.8)\n",
            "Requirement already satisfied: pyyaml in /usr/local/lib/python3.7/dist-packages (from transformers) (3.13)\n",
            "Requirement already satisfied: packaging in /usr/local/lib/python3.7/dist-packages (from transformers) (20.9)\n",
            "Requirement already satisfied: filelock in /usr/local/lib/python3.7/dist-packages (from transformers) (3.0.12)\n",
            "Requirement already satisfied: regex!=2019.12.17 in /usr/local/lib/python3.7/dist-packages (from transformers) (2019.12.20)\n",
            "Requirement already satisfied: tqdm>=4.27 in /usr/local/lib/python3.7/dist-packages (from transformers) (4.41.1)\n",
            "Requirement already satisfied: tokenizers<0.11,>=0.10.1 in /usr/local/lib/python3.7/dist-packages (from transformers) (0.10.3)\n",
            "Requirement already satisfied: sacremoses in /usr/local/lib/python3.7/dist-packages (from transformers) (0.0.45)\n",
            "Requirement already satisfied: idna<3,>=2.5 in /usr/local/lib/python3.7/dist-packages (from requests->transformers) (2.10)\n",
            "Requirement already satisfied: chardet<4,>=3.0.2 in /usr/local/lib/python3.7/dist-packages (from requests->transformers) (3.0.4)\n",
            "Requirement already satisfied: urllib3!=1.25.0,!=1.25.1,<1.26,>=1.21.1 in /usr/local/lib/python3.7/dist-packages (from requests->transformers) (1.24.3)\n",
            "Requirement already satisfied: certifi>=2017.4.17 in /usr/local/lib/python3.7/dist-packages (from requests->transformers) (2021.5.30)\n",
            "Requirement already satisfied: typing-extensions>=3.6.4; python_version < \"3.8\" in /usr/local/lib/python3.7/dist-packages (from importlib-metadata; python_version < \"3.8\"->transformers) (3.7.4.3)\n",
            "Requirement already satisfied: zipp>=0.5 in /usr/local/lib/python3.7/dist-packages (from importlib-metadata; python_version < \"3.8\"->transformers) (3.4.1)\n",
            "Requirement already satisfied: pyparsing>=2.0.2 in /usr/local/lib/python3.7/dist-packages (from packaging->transformers) (2.4.7)\n",
            "Requirement already satisfied: joblib in /usr/local/lib/python3.7/dist-packages (from sacremoses->transformers) (1.0.1)\n",
            "Requirement already satisfied: click in /usr/local/lib/python3.7/dist-packages (from sacremoses->transformers) (7.1.2)\n",
            "Requirement already satisfied: six in /usr/local/lib/python3.7/dist-packages (from sacremoses->transformers) (1.15.0)\n"
          ],
          "name": "stdout"
        }
      ]
    },
    {
      "cell_type": "code",
      "metadata": {
        "colab": {
          "base_uri": "https://localhost:8080/"
        },
        "id": "p-9HNwzLix6D",
        "outputId": "d31360cb-77bc-4ffc-9cd4-a2094cf0edc9"
      },
      "source": [
        "import pandas as pd\n",
        "\n",
        "from transformers import pipeline\n",
        "\n",
        "from google.colab import drive\n",
        "drive.mount('/content/gdrive')"
      ],
      "execution_count": 2,
      "outputs": [
        {
          "output_type": "stream",
          "text": [
            "Drive already mounted at /content/gdrive; to attempt to forcibly remount, call drive.mount(\"/content/gdrive\", force_remount=True).\n"
          ],
          "name": "stdout"
        }
      ]
    },
    {
      "cell_type": "code",
      "metadata": {
        "id": "XgoIxBaRQHjX"
      },
      "source": [
        "classifier = pipeline('sentiment-analysis')"
      ],
      "execution_count": 3,
      "outputs": []
    },
    {
      "cell_type": "code",
      "metadata": {
        "id": "o09-zANeRUDS"
      },
      "source": [
        "s = [\"I am happy to practice with this model\", \"this is fun\", \"dumb dumb project\"]"
      ],
      "execution_count": 4,
      "outputs": []
    },
    {
      "cell_type": "code",
      "metadata": {
        "colab": {
          "base_uri": "https://localhost:8080/"
        },
        "id": "JEmAt7_bSDsZ",
        "outputId": "cd4a9487-9b25-414a-cfcc-4acefa6c693c"
      },
      "source": [
        "classifier(s)"
      ],
      "execution_count": 5,
      "outputs": [
        {
          "output_type": "execute_result",
          "data": {
            "text/plain": [
              "[{'label': 'POSITIVE', 'score': 0.9998703002929688},\n",
              " {'label': 'POSITIVE', 'score': 0.9998794794082642},\n",
              " {'label': 'NEGATIVE', 'score': 0.9997717142105103}]"
            ]
          },
          "metadata": {
            "tags": []
          },
          "execution_count": 5
        }
      ]
    },
    {
      "cell_type": "code",
      "metadata": {
        "id": "gAexuRsciWvc"
      },
      "source": [
        "df = pd.read_csv('gdrive/My Drive/snapchat/Snapchat_app_store_reviews.csv')"
      ],
      "execution_count": 6,
      "outputs": []
    },
    {
      "cell_type": "code",
      "metadata": {
        "colab": {
          "base_uri": "https://localhost:8080/",
          "height": 419
        },
        "id": "dUjjKnEDiuSN",
        "outputId": "090311b2-be14-4499-ae35-a3f1d1c5f3bb"
      },
      "source": [
        "df"
      ],
      "execution_count": 7,
      "outputs": [
        {
          "output_type": "execute_result",
          "data": {
            "text/html": [
              "<div>\n",
              "<style scoped>\n",
              "    .dataframe tbody tr th:only-of-type {\n",
              "        vertical-align: middle;\n",
              "    }\n",
              "\n",
              "    .dataframe tbody tr th {\n",
              "        vertical-align: top;\n",
              "    }\n",
              "\n",
              "    .dataframe thead th {\n",
              "        text-align: right;\n",
              "    }\n",
              "</style>\n",
              "<table border=\"1\" class=\"dataframe\">\n",
              "  <thead>\n",
              "    <tr style=\"text-align: right;\">\n",
              "      <th></th>\n",
              "      <th>Unnamed: 0</th>\n",
              "      <th>userName</th>\n",
              "      <th>rating</th>\n",
              "      <th>review</th>\n",
              "      <th>isEdited</th>\n",
              "      <th>date</th>\n",
              "      <th>title</th>\n",
              "    </tr>\n",
              "  </thead>\n",
              "  <tbody>\n",
              "    <tr>\n",
              "      <th>0</th>\n",
              "      <td>0</td>\n",
              "      <td>Savvanananahhh</td>\n",
              "      <td>4</td>\n",
              "      <td>For the most part I quite enjoy Snapchat it’s ...</td>\n",
              "      <td>False</td>\n",
              "      <td>10/4/20 6:01</td>\n",
              "      <td>Performance issues</td>\n",
              "    </tr>\n",
              "    <tr>\n",
              "      <th>1</th>\n",
              "      <td>1</td>\n",
              "      <td>Idek 9-101112</td>\n",
              "      <td>3</td>\n",
              "      <td>I’m sorry to say it, but something is definite...</td>\n",
              "      <td>False</td>\n",
              "      <td>10/14/20 2:13</td>\n",
              "      <td>What happened?</td>\n",
              "    </tr>\n",
              "    <tr>\n",
              "      <th>2</th>\n",
              "      <td>2</td>\n",
              "      <td>William Quintana</td>\n",
              "      <td>3</td>\n",
              "      <td>Snapchat update ruined my story organization! ...</td>\n",
              "      <td>False</td>\n",
              "      <td>7/31/20 19:54</td>\n",
              "      <td>STORY ORGANIZATION RUINED!</td>\n",
              "    </tr>\n",
              "    <tr>\n",
              "      <th>3</th>\n",
              "      <td>3</td>\n",
              "      <td>an gonna be unkown😏</td>\n",
              "      <td>5</td>\n",
              "      <td>I really love the app for how long i have been...</td>\n",
              "      <td>False</td>\n",
              "      <td>4/22/21 14:10</td>\n",
              "      <td>The app is great</td>\n",
              "    </tr>\n",
              "    <tr>\n",
              "      <th>4</th>\n",
              "      <td>4</td>\n",
              "      <td>gzhangziqi</td>\n",
              "      <td>1</td>\n",
              "      <td>This is super frustrating. I was in the middle...</td>\n",
              "      <td>False</td>\n",
              "      <td>10/2/20 13:58</td>\n",
              "      <td>Locked me out, customer service not helping</td>\n",
              "    </tr>\n",
              "    <tr>\n",
              "      <th>...</th>\n",
              "      <td>...</td>\n",
              "      <td>...</td>\n",
              "      <td>...</td>\n",
              "      <td>...</td>\n",
              "      <td>...</td>\n",
              "      <td>...</td>\n",
              "      <td>...</td>\n",
              "    </tr>\n",
              "    <tr>\n",
              "      <th>9555</th>\n",
              "      <td>9555</td>\n",
              "      <td>geekygirl17</td>\n",
              "      <td>1</td>\n",
              "      <td>I used to love using Snapchat and now I hardly...</td>\n",
              "      <td>False</td>\n",
              "      <td>6/24/19 0:58</td>\n",
              "      <td>Major issue...not that it will get fixed</td>\n",
              "    </tr>\n",
              "    <tr>\n",
              "      <th>9556</th>\n",
              "      <td>9556</td>\n",
              "      <td>changemaker kkdd</td>\n",
              "      <td>2</td>\n",
              "      <td>Well, I did deleted it because there was some ...</td>\n",
              "      <td>False</td>\n",
              "      <td>6/23/19 13:42</td>\n",
              "      <td>I got then deleted it.</td>\n",
              "    </tr>\n",
              "    <tr>\n",
              "      <th>9557</th>\n",
              "      <td>9557</td>\n",
              "      <td>teekay2much</td>\n",
              "      <td>4</td>\n",
              "      <td>Every time I upload a photo or video to my sto...</td>\n",
              "      <td>False</td>\n",
              "      <td>6/3/19 3:35</td>\n",
              "      <td>Story problem</td>\n",
              "    </tr>\n",
              "    <tr>\n",
              "      <th>9558</th>\n",
              "      <td>9558</td>\n",
              "      <td>whoratheexplora</td>\n",
              "      <td>4</td>\n",
              "      <td>Love this app, but since he update I can’t upl...</td>\n",
              "      <td>False</td>\n",
              "      <td>6/3/19 3:26</td>\n",
              "      <td>Bugs</td>\n",
              "    </tr>\n",
              "    <tr>\n",
              "      <th>9559</th>\n",
              "      <td>9559</td>\n",
              "      <td>Anthony romanempire21</td>\n",
              "      <td>3</td>\n",
              "      <td>Love Snapchat but for some reason when I post ...</td>\n",
              "      <td>False</td>\n",
              "      <td>6/3/19 2:24</td>\n",
              "      <td>Posting to snap story</td>\n",
              "    </tr>\n",
              "  </tbody>\n",
              "</table>\n",
              "<p>9560 rows × 7 columns</p>\n",
              "</div>"
            ],
            "text/plain": [
              "      Unnamed: 0  ...                                        title\n",
              "0              0  ...                           Performance issues\n",
              "1              1  ...                               What happened?\n",
              "2              2  ...                   STORY ORGANIZATION RUINED!\n",
              "3              3  ...                             The app is great\n",
              "4              4  ...  Locked me out, customer service not helping\n",
              "...          ...  ...                                          ...\n",
              "9555        9555  ...     Major issue...not that it will get fixed\n",
              "9556        9556  ...                       I got then deleted it.\n",
              "9557        9557  ...                                Story problem\n",
              "9558        9558  ...                                         Bugs\n",
              "9559        9559  ...                        Posting to snap story\n",
              "\n",
              "[9560 rows x 7 columns]"
            ]
          },
          "metadata": {
            "tags": []
          },
          "execution_count": 7
        }
      ]
    },
    {
      "cell_type": "code",
      "metadata": {
        "colab": {
          "base_uri": "https://localhost:8080/",
          "height": 103
        },
        "id": "QkaYvjiKi9xR",
        "outputId": "8c2739c9-4187-4549-df66-d078b63f4276"
      },
      "source": [
        "df[\"review\"][3]"
      ],
      "execution_count": 8,
      "outputs": [
        {
          "output_type": "execute_result",
          "data": {
            "application/vnd.google.colaboratory.intrinsic+json": {
              "type": "string"
            },
            "text/plain": [
              "\"I really love the app for how long i have been using it i can say that it has had some difficulties i also have had some request to a new update for snapchat. Not many people are going to like the idea of this but maybe saving chat can be taken off my phone gets checked and i have friends that are very...yk💀and they save every little chat they send in out gc and every time my phone gets checked since am still a child ofc😀i get in trouble and grounded for the things they send💀u dont wanna know..but anyways thats a request i was also thinking to give dark mode out i have heard they where thinking to do dark mode but i heard that long ago i was also thinking to take out snap call i rlly dont know why i dont like snap call its jus..dumb in a way..if its called snapchat y is there call in there if we have facetime or any other app any other device uses to call in my opinion i dont like snap call...idky i also request to maybe when u send a chat it give u a notif of what the person said bc sometimes i dont like opening nobodys text ok💀snap is a great app but in some things it rlly doesn't please me some things i might have said other people might not like but as someone who has had snap for over 6 years or more i just wanted to give some opinions and maybe ideas for a new updat.😀🙏🏽\""
            ]
          },
          "metadata": {
            "tags": []
          },
          "execution_count": 8
        }
      ]
    },
    {
      "cell_type": "code",
      "metadata": {
        "colab": {
          "base_uri": "https://localhost:8080/"
        },
        "id": "mZzXNshgnsy-",
        "outputId": "945bc5c6-c624-4ef3-ed56-63b20699f440"
      },
      "source": [
        "classifier(df[\"review\"][3])"
      ],
      "execution_count": 9,
      "outputs": [
        {
          "output_type": "execute_result",
          "data": {
            "text/plain": [
              "[{'label': 'NEGATIVE', 'score': 0.9966466426849365}]"
            ]
          },
          "metadata": {
            "tags": []
          },
          "execution_count": 9
        }
      ]
    },
    {
      "cell_type": "code",
      "metadata": {
        "id": "B1g86Q3njCg2"
      },
      "source": [
        "sentiment = []\n",
        "\n",
        "for i in df[\"review\"]:\n",
        "  z = classifier(i)\n",
        "  sentiment.append(z)"
      ],
      "execution_count": 10,
      "outputs": []
    },
    {
      "cell_type": "code",
      "metadata": {
        "id": "3VDHNlKbx_Af"
      },
      "source": [
        "# not sure what I want to do with it yet"
      ],
      "execution_count": null,
      "outputs": []
    }
  ]
}