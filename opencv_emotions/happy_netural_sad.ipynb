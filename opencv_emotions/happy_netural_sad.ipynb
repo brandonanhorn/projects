{
  "nbformat": 4,
  "nbformat_minor": 0,
  "metadata": {
    "colab": {
      "name": "happy_netural_sad",
      "provenance": [],
      "collapsed_sections": []
    },
    "kernelspec": {
      "name": "python3",
      "display_name": "Python 3"
    },
    "language_info": {
      "name": "python"
    }
  },
  "cells": [
    {
      "cell_type": "code",
      "metadata": {
        "id": "n4mmh6wjyySm"
      },
      "source": [
        "import os\n",
        "import pandas as pd\n",
        "import numpy as np\n",
        "import matplotlib.pyplot as plt\n",
        "import seaborn as sns\n",
        "\n",
        "from tqdm import tqdm\n",
        "\n",
        "from sklearn.preprocessing import LabelBinarizer\n",
        "from sklearn.model_selection import train_test_split\n",
        "\n",
        "import tensorflow as tf\n",
        "import keras\n",
        "from keras.models import Sequential\n",
        "from keras.layers import Dense, Dropout, Flatten\n",
        "from keras.layers import Conv2D, MaxPool2D\n",
        "from keras.utils import to_categorical\n",
        "from keras.preprocessing import image\n",
        "from keras.preprocessing.image import ImageDataGenerator\n",
        "from keras.utils import to_categorical\n",
        "\n",
        "from keras.callbacks import ModelCheckpoint, EarlyStopping, ReduceLROnPlateau\n",
        "\n",
        "import cv2\n",
        "import os"
      ],
      "execution_count": 1,
      "outputs": []
    },
    {
      "cell_type": "code",
      "metadata": {
        "colab": {
          "base_uri": "https://localhost:8080/"
        },
        "id": "NV-0nqCfzS6B",
        "outputId": "48c9362e-8f53-42a8-a663-58c16c260885"
      },
      "source": [
        "from google.colab import drive\n",
        "drive.mount('/content/gdrive')"
      ],
      "execution_count": 2,
      "outputs": [
        {
          "output_type": "stream",
          "text": [
            "Mounted at /content/gdrive\n"
          ],
          "name": "stdout"
        }
      ]
    },
    {
      "cell_type": "code",
      "metadata": {
        "id": "WT1SltqdzYcz"
      },
      "source": [
        "labels = ['happy', 'neutral', 'sad']\n",
        "img_size = 64\n",
        "def get_data(data_dir):\n",
        "    data = [] \n",
        "    for label in labels: \n",
        "        path = os.path.join(data_dir, label)\n",
        "        class_num = labels.index(label)\n",
        "        for img in tqdm(os.listdir(path)):\n",
        "            try:\n",
        "                img_arr = cv2.imread(os.path.join(path, img))[...,::-1] #convert BGR to RGB format\n",
        "                resized_arr = cv2.resize(img_arr, (img_size, img_size)) # Reshaping images to preferred size\n",
        "                data.append([resized_arr, class_num])\n",
        "            except Exception as e:\n",
        "                print(e)\n",
        "    return np.array(data)"
      ],
      "execution_count": 3,
      "outputs": []
    },
    {
      "cell_type": "code",
      "metadata": {
        "colab": {
          "base_uri": "https://localhost:8080/"
        },
        "id": "ykv3b0zR0nRE",
        "outputId": "32d89786-57dc-4211-8d7f-a6d56a46d57f"
      },
      "source": [
        "images_data = get_data(\"gdrive/My Drive/emotions_data\")"
      ],
      "execution_count": 4,
      "outputs": [
        {
          "output_type": "stream",
          "text": [
            "100%|██████████| 8989/8989 [34:24<00:00,  4.35it/s]\n",
            "100%|██████████| 6197/6197 [24:13<00:00,  4.26it/s]\n",
            "100%|██████████| 6078/6078 [25:54<00:00,  3.91it/s]\n",
            "/usr/local/lib/python3.7/dist-packages/ipykernel_launcher.py:15: VisibleDeprecationWarning: Creating an ndarray from ragged nested sequences (which is a list-or-tuple of lists-or-tuples-or ndarrays with different lengths or shapes) is deprecated. If you meant to do this, you must specify 'dtype=object' when creating the ndarray\n",
            "  from ipykernel import kernelapp as app\n"
          ],
          "name": "stderr"
        }
      ]
    },
    {
      "cell_type": "code",
      "metadata": {
        "id": "Hb-Y8ueo06fx"
      },
      "source": [
        "X = []\n",
        "y = []\n",
        "for feature, label in images_data:\n",
        "  X.append(feature)\n",
        "  y.append(label)"
      ],
      "execution_count": 5,
      "outputs": []
    },
    {
      "cell_type": "code",
      "metadata": {
        "id": "MrXSaueQiD77"
      },
      "source": [
        "X = np.array(X) / 255"
      ],
      "execution_count": 6,
      "outputs": []
    },
    {
      "cell_type": "code",
      "metadata": {
        "id": "ve-MOkBziQmq"
      },
      "source": [
        "X.reshape(-1, img_size, img_size, 1)\n",
        "y = np.array(y)"
      ],
      "execution_count": 7,
      "outputs": []
    },
    {
      "cell_type": "code",
      "metadata": {
        "id": "D9qW2lYYw4AO"
      },
      "source": [
        "X_train, X_test, y_train, y_test = train_test_split(X, y, random_state=13)"
      ],
      "execution_count": 8,
      "outputs": []
    },
    {
      "cell_type": "code",
      "metadata": {
        "colab": {
          "base_uri": "https://localhost:8080/"
        },
        "id": "bwvISZ_mxTj5",
        "outputId": "85846a46-9430-4c4a-815a-3201db4717da"
      },
      "source": [
        "X_train.shape"
      ],
      "execution_count": 9,
      "outputs": [
        {
          "output_type": "execute_result",
          "data": {
            "text/plain": [
              "(15948, 64, 64, 3)"
            ]
          },
          "metadata": {
            "tags": []
          },
          "execution_count": 9
        }
      ]
    },
    {
      "cell_type": "code",
      "metadata": {
        "colab": {
          "base_uri": "https://localhost:8080/"
        },
        "id": "KHrnQVVSxZIJ",
        "outputId": "be84a9c0-85fa-4410-ed1e-6c60816ab314"
      },
      "source": [
        "X_test.shape"
      ],
      "execution_count": 10,
      "outputs": [
        {
          "output_type": "execute_result",
          "data": {
            "text/plain": [
              "(5316, 64, 64, 3)"
            ]
          },
          "metadata": {
            "tags": []
          },
          "execution_count": 10
        }
      ]
    },
    {
      "cell_type": "code",
      "metadata": {
        "colab": {
          "base_uri": "https://localhost:8080/"
        },
        "id": "z2CQQ9TP0rdy",
        "outputId": "c2c11e96-81f3-4615-cf4a-e224df974001"
      },
      "source": [
        "X_train[0]"
      ],
      "execution_count": 11,
      "outputs": [
        {
          "output_type": "execute_result",
          "data": {
            "text/plain": [
              "array([[[0.91764706, 0.91764706, 0.91764706],\n",
              "        [0.93333333, 0.93333333, 0.93333333],\n",
              "        [0.9254902 , 0.9254902 , 0.9254902 ],\n",
              "        ...,\n",
              "        [0.50196078, 0.50196078, 0.50196078],\n",
              "        [0.51764706, 0.51764706, 0.51764706],\n",
              "        [0.49411765, 0.49411765, 0.49411765]],\n",
              "\n",
              "       [[0.92156863, 0.92156863, 0.92156863],\n",
              "        [0.91372549, 0.91372549, 0.91372549],\n",
              "        [0.90588235, 0.90588235, 0.90588235],\n",
              "        ...,\n",
              "        [0.56470588, 0.56470588, 0.56470588],\n",
              "        [0.54117647, 0.54117647, 0.54117647],\n",
              "        [0.47843137, 0.47843137, 0.47843137]],\n",
              "\n",
              "       [[0.91764706, 0.91764706, 0.91764706],\n",
              "        [0.91764706, 0.91764706, 0.91764706],\n",
              "        [0.91764706, 0.91764706, 0.91764706],\n",
              "        ...,\n",
              "        [0.66666667, 0.66666667, 0.66666667],\n",
              "        [0.64705882, 0.64705882, 0.64705882],\n",
              "        [0.60392157, 0.60392157, 0.60392157]],\n",
              "\n",
              "       ...,\n",
              "\n",
              "       [[0.17254902, 0.17254902, 0.17254902],\n",
              "        [0.2745098 , 0.2745098 , 0.2745098 ],\n",
              "        [0.26666667, 0.26666667, 0.26666667],\n",
              "        ...,\n",
              "        [0.11372549, 0.11372549, 0.11372549],\n",
              "        [0.11372549, 0.11372549, 0.11372549],\n",
              "        [0.11372549, 0.11372549, 0.11372549]],\n",
              "\n",
              "       [[0.2745098 , 0.2745098 , 0.2745098 ],\n",
              "        [0.28235294, 0.28235294, 0.28235294],\n",
              "        [0.2       , 0.2       , 0.2       ],\n",
              "        ...,\n",
              "        [0.11372549, 0.11372549, 0.11372549],\n",
              "        [0.11764706, 0.11764706, 0.11764706],\n",
              "        [0.11764706, 0.11764706, 0.11764706]],\n",
              "\n",
              "       [[0.40784314, 0.40784314, 0.40784314],\n",
              "        [0.25490196, 0.25490196, 0.25490196],\n",
              "        [0.10980392, 0.10980392, 0.10980392],\n",
              "        ...,\n",
              "        [0.11372549, 0.11372549, 0.11372549],\n",
              "        [0.12156863, 0.12156863, 0.12156863],\n",
              "        [0.12941176, 0.12941176, 0.12941176]]])"
            ]
          },
          "metadata": {
            "tags": []
          },
          "execution_count": 11
        }
      ]
    },
    {
      "cell_type": "code",
      "metadata": {
        "colab": {
          "base_uri": "https://localhost:8080/"
        },
        "id": "pb2-Q03xxw8t",
        "outputId": "0f6503db-7263-4fb1-83d0-bf0318d0546d"
      },
      "source": [
        "y_train.shape"
      ],
      "execution_count": 12,
      "outputs": [
        {
          "output_type": "execute_result",
          "data": {
            "text/plain": [
              "(15948,)"
            ]
          },
          "metadata": {
            "tags": []
          },
          "execution_count": 12
        }
      ]
    },
    {
      "cell_type": "code",
      "metadata": {
        "colab": {
          "base_uri": "https://localhost:8080/"
        },
        "id": "teP008xSx0KE",
        "outputId": "3212ee88-d8d9-467b-c129-b40a468a2e70"
      },
      "source": [
        "y_test.shape"
      ],
      "execution_count": 13,
      "outputs": [
        {
          "output_type": "execute_result",
          "data": {
            "text/plain": [
              "(5316,)"
            ]
          },
          "metadata": {
            "tags": []
          },
          "execution_count": 13
        }
      ]
    },
    {
      "cell_type": "code",
      "metadata": {
        "colab": {
          "base_uri": "https://localhost:8080/"
        },
        "id": "b0lTKu4R020G",
        "outputId": "13ba5afb-7871-4d83-98b1-f1f79f5423df"
      },
      "source": [
        "y_train[0]"
      ],
      "execution_count": 14,
      "outputs": [
        {
          "output_type": "execute_result",
          "data": {
            "text/plain": [
              "2"
            ]
          },
          "metadata": {
            "tags": []
          },
          "execution_count": 14
        }
      ]
    },
    {
      "cell_type": "code",
      "metadata": {
        "id": "OsITkj4WiWhw"
      },
      "source": [
        "datagen = ImageDataGenerator(\n",
        "        featurewise_center=False,  \n",
        "        samplewise_center=False,  \n",
        "        featurewise_std_normalization=False,  \n",
        "        samplewise_std_normalization=False,  \n",
        "        zca_whitening=False,  \n",
        "        rotation_range = 30,  \n",
        "        zoom_range = 0.2,  \n",
        "        width_shift_range=0.1,  \n",
        "        height_shift_range=0.1,  \n",
        "        horizontal_flip = True,  \n",
        "        vertical_flip=False)  \n",
        "\n",
        "\n",
        "datagen.fit(X_train)"
      ],
      "execution_count": 15,
      "outputs": []
    },
    {
      "cell_type": "code",
      "metadata": {
        "colab": {
          "base_uri": "https://localhost:8080/"
        },
        "id": "4HxS3lQRyHJj",
        "outputId": "15ea796c-6b47-4145-b30b-dbe5f6e4569d"
      },
      "source": [
        "model = Sequential()\n",
        "model.add(Conv2D(32,3,padding=\"same\", activation=\"gelu\", input_shape=(64,64,3)))\n",
        "model.add(MaxPool2D())\n",
        "\n",
        "model.add(Conv2D(32, 3, padding=\"same\", activation=\"gelu\"))\n",
        "model.add(MaxPool2D())\n",
        "\n",
        "model.add(Conv2D(32, 3, padding=\"same\", activation=\"gelu\"))\n",
        "model.add(MaxPool2D())\n",
        "\n",
        "model.add(Conv2D(64, 3, padding=\"same\", activation=\"gelu\"))\n",
        "model.add(MaxPool2D())\n",
        "model.add(Dropout(0.4))\n",
        "\n",
        "model.add(Flatten())\n",
        "model.add(Dense(64,activation=\"gelu\"))\n",
        "model.add(Dense(3, activation=\"softmax\"))\n",
        "\n",
        "model.summary()"
      ],
      "execution_count": 16,
      "outputs": [
        {
          "output_type": "stream",
          "text": [
            "Model: \"sequential\"\n",
            "_________________________________________________________________\n",
            "Layer (type)                 Output Shape              Param #   \n",
            "=================================================================\n",
            "conv2d (Conv2D)              (None, 64, 64, 32)        896       \n",
            "_________________________________________________________________\n",
            "max_pooling2d (MaxPooling2D) (None, 32, 32, 32)        0         \n",
            "_________________________________________________________________\n",
            "conv2d_1 (Conv2D)            (None, 32, 32, 32)        9248      \n",
            "_________________________________________________________________\n",
            "max_pooling2d_1 (MaxPooling2 (None, 16, 16, 32)        0         \n",
            "_________________________________________________________________\n",
            "conv2d_2 (Conv2D)            (None, 16, 16, 32)        9248      \n",
            "_________________________________________________________________\n",
            "max_pooling2d_2 (MaxPooling2 (None, 8, 8, 32)          0         \n",
            "_________________________________________________________________\n",
            "conv2d_3 (Conv2D)            (None, 8, 8, 64)          18496     \n",
            "_________________________________________________________________\n",
            "max_pooling2d_3 (MaxPooling2 (None, 4, 4, 64)          0         \n",
            "_________________________________________________________________\n",
            "dropout (Dropout)            (None, 4, 4, 64)          0         \n",
            "_________________________________________________________________\n",
            "flatten (Flatten)            (None, 1024)              0         \n",
            "_________________________________________________________________\n",
            "dense (Dense)                (None, 64)                65600     \n",
            "_________________________________________________________________\n",
            "dense_1 (Dense)              (None, 3)                 195       \n",
            "=================================================================\n",
            "Total params: 103,683\n",
            "Trainable params: 103,683\n",
            "Non-trainable params: 0\n",
            "_________________________________________________________________\n"
          ],
          "name": "stdout"
        }
      ]
    },
    {
      "cell_type": "code",
      "metadata": {
        "id": "vsKw7zHxywHP"
      },
      "source": [
        "model.compile(optimizer = \"adam\" , loss = tf.keras.losses.SparseCategoricalCrossentropy(from_logits=True) , metrics = ['accuracy'])"
      ],
      "execution_count": 17,
      "outputs": []
    },
    {
      "cell_type": "code",
      "metadata": {
        "id": "o8uJdNF_uhkC"
      },
      "source": [
        "early_stop = EarlyStopping(monitor='val_loss', patience=10, verbose=0, mode='min')\n",
        "mcp_save = ModelCheckpoint('gdrive/My Drive/emotions_data/happy_neutral_sad.h5', save_best_only=True, monitor='val_loss', mode='min')"
      ],
      "execution_count": 18,
      "outputs": []
    },
    {
      "cell_type": "code",
      "metadata": {
        "colab": {
          "base_uri": "https://localhost:8080/"
        },
        "id": "720GmCa00NP7",
        "outputId": "d4ec8136-cabf-40f0-84ed-2256387b45c9"
      },
      "source": [
        "history = model.fit(X_train, y_train,\n",
        "                   validation_data=(X_test, y_test),\n",
        "                   epochs=40, batch_size=32,\n",
        "                   verbose=2, callbacks=[early_stop, mcp_save])"
      ],
      "execution_count": 19,
      "outputs": [
        {
          "output_type": "stream",
          "text": [
            "Epoch 1/40\n",
            "499/499 - 111s - loss: 0.9573 - accuracy: 0.5240 - val_loss: 0.8144 - val_accuracy: 0.6294\n",
            "Epoch 2/40\n",
            "499/499 - 112s - loss: 0.7759 - accuracy: 0.6418 - val_loss: 0.7340 - val_accuracy: 0.6527\n",
            "Epoch 3/40\n",
            "499/499 - 112s - loss: 0.7159 - accuracy: 0.6691 - val_loss: 0.7168 - val_accuracy: 0.6744\n",
            "Epoch 4/40\n",
            "499/499 - 111s - loss: 0.6700 - accuracy: 0.6958 - val_loss: 0.6914 - val_accuracy: 0.6872\n",
            "Epoch 5/40\n",
            "499/499 - 111s - loss: 0.6349 - accuracy: 0.7166 - val_loss: 0.6710 - val_accuracy: 0.7005\n",
            "Epoch 6/40\n",
            "499/499 - 111s - loss: 0.5915 - accuracy: 0.7418 - val_loss: 0.6388 - val_accuracy: 0.7103\n",
            "Epoch 7/40\n",
            "499/499 - 111s - loss: 0.5587 - accuracy: 0.7552 - val_loss: 0.6714 - val_accuracy: 0.7028\n",
            "Epoch 8/40\n",
            "499/499 - 111s - loss: 0.5276 - accuracy: 0.7721 - val_loss: 0.6444 - val_accuracy: 0.7129\n",
            "Epoch 9/40\n",
            "499/499 - 112s - loss: 0.4943 - accuracy: 0.7886 - val_loss: 0.6364 - val_accuracy: 0.7220\n",
            "Epoch 10/40\n",
            "499/499 - 111s - loss: 0.4585 - accuracy: 0.8049 - val_loss: 0.6826 - val_accuracy: 0.7184\n",
            "Epoch 11/40\n",
            "499/499 - 111s - loss: 0.4321 - accuracy: 0.8187 - val_loss: 0.6827 - val_accuracy: 0.7207\n",
            "Epoch 12/40\n",
            "499/499 - 111s - loss: 0.4029 - accuracy: 0.8334 - val_loss: 0.6756 - val_accuracy: 0.7254\n",
            "Epoch 13/40\n",
            "499/499 - 111s - loss: 0.3811 - accuracy: 0.8409 - val_loss: 0.6777 - val_accuracy: 0.7237\n",
            "Epoch 14/40\n",
            "499/499 - 112s - loss: 0.3512 - accuracy: 0.8585 - val_loss: 0.7023 - val_accuracy: 0.7216\n",
            "Epoch 15/40\n",
            "499/499 - 114s - loss: 0.3287 - accuracy: 0.8636 - val_loss: 0.7196 - val_accuracy: 0.7227\n",
            "Epoch 16/40\n",
            "499/499 - 113s - loss: 0.3109 - accuracy: 0.8735 - val_loss: 0.7389 - val_accuracy: 0.7178\n",
            "Epoch 17/40\n",
            "499/499 - 112s - loss: 0.2901 - accuracy: 0.8848 - val_loss: 0.7574 - val_accuracy: 0.7188\n",
            "Epoch 18/40\n",
            "499/499 - 111s - loss: 0.2731 - accuracy: 0.8922 - val_loss: 0.7810 - val_accuracy: 0.7220\n",
            "Epoch 19/40\n",
            "499/499 - 112s - loss: 0.2639 - accuracy: 0.8963 - val_loss: 0.7764 - val_accuracy: 0.7182\n"
          ],
          "name": "stdout"
        }
      ]
    }
  ]
}