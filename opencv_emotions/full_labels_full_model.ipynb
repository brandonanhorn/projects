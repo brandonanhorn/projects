{
  "nbformat": 4,
  "nbformat_minor": 0,
  "metadata": {
    "colab": {
      "name": "full_labels_full_model",
      "provenance": [],
      "collapsed_sections": []
    },
    "kernelspec": {
      "name": "python3",
      "display_name": "Python 3"
    },
    "language_info": {
      "name": "python"
    }
  },
  "cells": [
    {
      "cell_type": "code",
      "metadata": {
        "id": "n4mmh6wjyySm"
      },
      "source": [
        "import os\n",
        "import pandas as pd\n",
        "import numpy as np\n",
        "import matplotlib.pyplot as plt\n",
        "import seaborn as sns\n",
        "\n",
        "from tqdm import tqdm\n",
        "\n",
        "from sklearn.preprocessing import LabelBinarizer\n",
        "from sklearn.model_selection import train_test_split\n",
        "\n",
        "import tensorflow as tf\n",
        "import keras\n",
        "from keras.models import Sequential\n",
        "from keras.layers import Dense, Dropout, Flatten\n",
        "from keras.layers import Conv2D, MaxPool2D\n",
        "from keras.utils import to_categorical\n",
        "from keras.preprocessing import image\n",
        "from keras.preprocessing.image import ImageDataGenerator\n",
        "from keras.utils import to_categorical\n",
        "\n",
        "from keras.callbacks import ModelCheckpoint, EarlyStopping, ReduceLROnPlateau\n",
        "\n",
        "import cv2\n",
        "import os"
      ],
      "execution_count": 1,
      "outputs": []
    },
    {
      "cell_type": "code",
      "metadata": {
        "colab": {
          "base_uri": "https://localhost:8080/"
        },
        "id": "NV-0nqCfzS6B",
        "outputId": "73c4cfbb-613c-4f73-d1ee-32492fa1e0d8"
      },
      "source": [
        "from google.colab import drive\n",
        "drive.mount('/content/gdrive')"
      ],
      "execution_count": 2,
      "outputs": [
        {
          "output_type": "stream",
          "text": [
            "Drive already mounted at /content/gdrive; to attempt to forcibly remount, call drive.mount(\"/content/gdrive\", force_remount=True).\n"
          ],
          "name": "stdout"
        }
      ]
    },
    {
      "cell_type": "code",
      "metadata": {
        "id": "WT1SltqdzYcz"
      },
      "source": [
        "labels = ['angry', 'disgust', 'fear', 'happy', 'neutral', 'sad', 'surprise']\n",
        "img_size = 64\n",
        "def get_data(data_dir):\n",
        "    data = [] \n",
        "    for label in labels: \n",
        "        path = os.path.join(data_dir, label)\n",
        "        class_num = labels.index(label)\n",
        "        for img in tqdm(os.listdir(path)):\n",
        "            try:\n",
        "                img_arr = cv2.imread(os.path.join(path, img))[...,::-1] #convert BGR to RGB format\n",
        "                resized_arr = cv2.resize(img_arr, (img_size, img_size)) # Reshaping images to preferred size\n",
        "                data.append([resized_arr, class_num])\n",
        "            except Exception as e:\n",
        "                print(e)\n",
        "    return np.array(data)"
      ],
      "execution_count": 3,
      "outputs": []
    },
    {
      "cell_type": "code",
      "metadata": {
        "colab": {
          "base_uri": "https://localhost:8080/"
        },
        "id": "ykv3b0zR0nRE",
        "outputId": "fe569406-0de8-4362-86e3-2fe512da1633"
      },
      "source": [
        "images_data = get_data(\"gdrive/My Drive/emotions_data\")"
      ],
      "execution_count": 4,
      "outputs": [
        {
          "output_type": "stream",
          "text": [
            "100%|██████████| 4953/4953 [00:13<00:00, 379.32it/s]\n",
            "100%|██████████| 547/547 [00:01<00:00, 366.40it/s]\n",
            "100%|██████████| 5121/5121 [00:13<00:00, 392.68it/s]\n",
            "100%|██████████| 8989/8989 [00:23<00:00, 387.58it/s]\n",
            "100%|██████████| 6197/6197 [00:15<00:00, 395.27it/s]\n",
            "100%|██████████| 6078/6078 [00:15<00:00, 394.64it/s]\n",
            "100%|██████████| 4002/4002 [00:10<00:00, 397.92it/s]\n",
            "/usr/local/lib/python3.7/dist-packages/ipykernel_launcher.py:15: VisibleDeprecationWarning: Creating an ndarray from ragged nested sequences (which is a list-or-tuple of lists-or-tuples-or ndarrays with different lengths or shapes) is deprecated. If you meant to do this, you must specify 'dtype=object' when creating the ndarray\n",
            "  from ipykernel import kernelapp as app\n"
          ],
          "name": "stderr"
        }
      ]
    },
    {
      "cell_type": "code",
      "metadata": {
        "id": "Hb-Y8ueo06fx"
      },
      "source": [
        "X = []\n",
        "y = []\n",
        "for feature, label in images_data:\n",
        "  X.append(feature)\n",
        "  y.append(label)"
      ],
      "execution_count": 5,
      "outputs": []
    },
    {
      "cell_type": "code",
      "metadata": {
        "id": "MrXSaueQiD77"
      },
      "source": [
        "X = np.array(X) / 255"
      ],
      "execution_count": 6,
      "outputs": []
    },
    {
      "cell_type": "code",
      "metadata": {
        "id": "ve-MOkBziQmq"
      },
      "source": [
        "X.reshape(-1, img_size, img_size, 1)\n",
        "y = np.array(y)"
      ],
      "execution_count": 7,
      "outputs": []
    },
    {
      "cell_type": "code",
      "metadata": {
        "id": "D9qW2lYYw4AO"
      },
      "source": [
        "X_train, X_test, y_train, y_test = train_test_split(X, y, random_state=13)"
      ],
      "execution_count": 8,
      "outputs": []
    },
    {
      "cell_type": "code",
      "metadata": {
        "colab": {
          "base_uri": "https://localhost:8080/"
        },
        "id": "bwvISZ_mxTj5",
        "outputId": "3ac17ff6-7efd-4947-eca4-57b0ec929399"
      },
      "source": [
        "X_train.shape"
      ],
      "execution_count": 9,
      "outputs": [
        {
          "output_type": "execute_result",
          "data": {
            "text/plain": [
              "(26915, 64, 64, 3)"
            ]
          },
          "metadata": {
            "tags": []
          },
          "execution_count": 9
        }
      ]
    },
    {
      "cell_type": "code",
      "metadata": {
        "colab": {
          "base_uri": "https://localhost:8080/"
        },
        "id": "KHrnQVVSxZIJ",
        "outputId": "b72f6af0-1ec8-442c-999f-9c94cfe1b8c6"
      },
      "source": [
        "X_test.shape"
      ],
      "execution_count": 10,
      "outputs": [
        {
          "output_type": "execute_result",
          "data": {
            "text/plain": [
              "(8972, 64, 64, 3)"
            ]
          },
          "metadata": {
            "tags": []
          },
          "execution_count": 10
        }
      ]
    },
    {
      "cell_type": "code",
      "metadata": {
        "colab": {
          "base_uri": "https://localhost:8080/"
        },
        "id": "z2CQQ9TP0rdy",
        "outputId": "e33dd460-1c3d-401b-84c1-67c7e50434b5"
      },
      "source": [
        "X_train[0]"
      ],
      "execution_count": 11,
      "outputs": [
        {
          "output_type": "execute_result",
          "data": {
            "text/plain": [
              "array([[[0.65098039, 0.65098039, 0.65098039],\n",
              "        [0.59215686, 0.59215686, 0.59215686],\n",
              "        [0.5372549 , 0.5372549 , 0.5372549 ],\n",
              "        ...,\n",
              "        [0.18431373, 0.18431373, 0.18431373],\n",
              "        [0.18039216, 0.18039216, 0.18039216],\n",
              "        [0.22352941, 0.22352941, 0.22352941]],\n",
              "\n",
              "       [[0.64313725, 0.64313725, 0.64313725],\n",
              "        [0.61568627, 0.61568627, 0.61568627],\n",
              "        [0.54509804, 0.54509804, 0.54509804],\n",
              "        ...,\n",
              "        [0.21568627, 0.21568627, 0.21568627],\n",
              "        [0.18431373, 0.18431373, 0.18431373],\n",
              "        [0.16862745, 0.16862745, 0.16862745]],\n",
              "\n",
              "       [[0.64313725, 0.64313725, 0.64313725],\n",
              "        [0.63137255, 0.63137255, 0.63137255],\n",
              "        [0.54901961, 0.54901961, 0.54901961],\n",
              "        ...,\n",
              "        [0.23921569, 0.23921569, 0.23921569],\n",
              "        [0.20784314, 0.20784314, 0.20784314],\n",
              "        [0.17254902, 0.17254902, 0.17254902]],\n",
              "\n",
              "       ...,\n",
              "\n",
              "       [[0.49411765, 0.49411765, 0.49411765],\n",
              "        [0.42352941, 0.42352941, 0.42352941],\n",
              "        [0.39607843, 0.39607843, 0.39607843],\n",
              "        ...,\n",
              "        [0.28235294, 0.28235294, 0.28235294],\n",
              "        [0.31764706, 0.31764706, 0.31764706],\n",
              "        [0.35294118, 0.35294118, 0.35294118]],\n",
              "\n",
              "       [[0.48627451, 0.48627451, 0.48627451],\n",
              "        [0.41960784, 0.41960784, 0.41960784],\n",
              "        [0.39215686, 0.39215686, 0.39215686],\n",
              "        ...,\n",
              "        [0.27058824, 0.27058824, 0.27058824],\n",
              "        [0.30980392, 0.30980392, 0.30980392],\n",
              "        [0.34901961, 0.34901961, 0.34901961]],\n",
              "\n",
              "       [[0.47058824, 0.47058824, 0.47058824],\n",
              "        [0.41176471, 0.41176471, 0.41176471],\n",
              "        [0.38823529, 0.38823529, 0.38823529],\n",
              "        ...,\n",
              "        [0.27058824, 0.27058824, 0.27058824],\n",
              "        [0.31372549, 0.31372549, 0.31372549],\n",
              "        [0.34509804, 0.34509804, 0.34509804]]])"
            ]
          },
          "metadata": {
            "tags": []
          },
          "execution_count": 11
        }
      ]
    },
    {
      "cell_type": "code",
      "metadata": {
        "colab": {
          "base_uri": "https://localhost:8080/"
        },
        "id": "pb2-Q03xxw8t",
        "outputId": "d5e2c2dd-28b3-4f45-cbbc-af1302f7fe08"
      },
      "source": [
        "y_train.shape"
      ],
      "execution_count": 12,
      "outputs": [
        {
          "output_type": "execute_result",
          "data": {
            "text/plain": [
              "(26915,)"
            ]
          },
          "metadata": {
            "tags": []
          },
          "execution_count": 12
        }
      ]
    },
    {
      "cell_type": "code",
      "metadata": {
        "colab": {
          "base_uri": "https://localhost:8080/"
        },
        "id": "teP008xSx0KE",
        "outputId": "82adb97b-022d-4839-d9ea-0b3592fbda1d"
      },
      "source": [
        "y_test.shape"
      ],
      "execution_count": 13,
      "outputs": [
        {
          "output_type": "execute_result",
          "data": {
            "text/plain": [
              "(8972,)"
            ]
          },
          "metadata": {
            "tags": []
          },
          "execution_count": 13
        }
      ]
    },
    {
      "cell_type": "code",
      "metadata": {
        "colab": {
          "base_uri": "https://localhost:8080/"
        },
        "id": "b0lTKu4R020G",
        "outputId": "db9bd90f-53c9-4639-f0dc-3029b11ee039"
      },
      "source": [
        "y_train[0]"
      ],
      "execution_count": 14,
      "outputs": [
        {
          "output_type": "execute_result",
          "data": {
            "text/plain": [
              "4"
            ]
          },
          "metadata": {
            "tags": []
          },
          "execution_count": 14
        }
      ]
    },
    {
      "cell_type": "code",
      "metadata": {
        "id": "OsITkj4WiWhw"
      },
      "source": [
        "datagen = ImageDataGenerator(\n",
        "        featurewise_center=False,  # set input mean to 0 over the dataset\n",
        "        samplewise_center=False,  # set each sample mean to 0\n",
        "        featurewise_std_normalization=False,  # divide inputs by std of the dataset\n",
        "        samplewise_std_normalization=False,  # divide each input by its std\n",
        "        zca_whitening=False,  # apply ZCA whitening\n",
        "        rotation_range = 30,  # randomly rotate images in the range (degrees, 0 to 180)\n",
        "        zoom_range = 0.2, # Randomly zoom image \n",
        "        width_shift_range=0.1,  # randomly shift images horizontally (fraction of total width)\n",
        "        height_shift_range=0.1,  # randomly shift images vertically (fraction of total height)\n",
        "        horizontal_flip = True,  # randomly flip images\n",
        "        vertical_flip=False)  # randomly flip images\n",
        "\n",
        "\n",
        "datagen.fit(X_train)"
      ],
      "execution_count": 15,
      "outputs": []
    },
    {
      "cell_type": "code",
      "metadata": {
        "colab": {
          "base_uri": "https://localhost:8080/"
        },
        "id": "4HxS3lQRyHJj",
        "outputId": "2d02526a-5c14-493f-fa94-e25e59104d86"
      },
      "source": [
        "model = Sequential()\n",
        "model.add(Conv2D(32,3,padding=\"same\", activation=\"relu\", input_shape=(64,64,3)))\n",
        "model.add(MaxPool2D())\n",
        "\n",
        "model.add(Conv2D(32, 3, padding=\"same\", activation=\"relu\"))\n",
        "model.add(MaxPool2D())\n",
        "\n",
        "model.add(Conv2D(32, 3, padding=\"same\", activation=\"elu\"))\n",
        "model.add(MaxPool2D())\n",
        "\n",
        "model.add(Conv2D(64, 3, padding=\"same\", activation=\"elu\"))\n",
        "model.add(MaxPool2D())\n",
        "model.add(Dropout(0.4))\n",
        "\n",
        "model.add(Flatten())\n",
        "model.add(Dense(64,activation=\"relu\"))\n",
        "model.add(Dense(7, activation=\"softmax\"))\n",
        "\n",
        "model.summary()"
      ],
      "execution_count": 20,
      "outputs": [
        {
          "output_type": "stream",
          "text": [
            "Model: \"sequential_1\"\n",
            "_________________________________________________________________\n",
            "Layer (type)                 Output Shape              Param #   \n",
            "=================================================================\n",
            "conv2d_3 (Conv2D)            (None, 64, 64, 32)        896       \n",
            "_________________________________________________________________\n",
            "max_pooling2d_3 (MaxPooling2 (None, 32, 32, 32)        0         \n",
            "_________________________________________________________________\n",
            "conv2d_4 (Conv2D)            (None, 32, 32, 32)        9248      \n",
            "_________________________________________________________________\n",
            "max_pooling2d_4 (MaxPooling2 (None, 16, 16, 32)        0         \n",
            "_________________________________________________________________\n",
            "conv2d_5 (Conv2D)            (None, 16, 16, 32)        9248      \n",
            "_________________________________________________________________\n",
            "max_pooling2d_5 (MaxPooling2 (None, 8, 8, 32)          0         \n",
            "_________________________________________________________________\n",
            "conv2d_6 (Conv2D)            (None, 8, 8, 64)          18496     \n",
            "_________________________________________________________________\n",
            "max_pooling2d_6 (MaxPooling2 (None, 4, 4, 64)          0         \n",
            "_________________________________________________________________\n",
            "dropout_1 (Dropout)          (None, 4, 4, 64)          0         \n",
            "_________________________________________________________________\n",
            "flatten_1 (Flatten)          (None, 1024)              0         \n",
            "_________________________________________________________________\n",
            "dense_2 (Dense)              (None, 64)                65600     \n",
            "_________________________________________________________________\n",
            "dense_3 (Dense)              (None, 7)                 455       \n",
            "=================================================================\n",
            "Total params: 103,943\n",
            "Trainable params: 103,943\n",
            "Non-trainable params: 0\n",
            "_________________________________________________________________\n"
          ],
          "name": "stdout"
        }
      ]
    },
    {
      "cell_type": "code",
      "metadata": {
        "id": "vsKw7zHxywHP"
      },
      "source": [
        "model.compile(optimizer = \"adam\" , loss = tf.keras.losses.SparseCategoricalCrossentropy(from_logits=True) , metrics = ['accuracy'])"
      ],
      "execution_count": 21,
      "outputs": []
    },
    {
      "cell_type": "code",
      "metadata": {
        "id": "o8uJdNF_uhkC"
      },
      "source": [
        "early_stop = EarlyStopping(monitor='val_loss', patience=7, verbose=0, mode='min')\n",
        "mcp_save = ModelCheckpoint('gdrive/My Drive/emotions_data/callback_model.h5', save_best_only=True, monitor='val_loss', mode='min')"
      ],
      "execution_count": 22,
      "outputs": []
    },
    {
      "cell_type": "code",
      "metadata": {
        "colab": {
          "base_uri": "https://localhost:8080/"
        },
        "id": "720GmCa00NP7",
        "outputId": "f395842d-5416-4e2a-f2cb-c2ec35d43c34"
      },
      "source": [
        "history = model.fit(X_train, y_train,\n",
        "                   validation_data=(X_test, y_test),\n",
        "                   epochs=40, batch_size=32,\n",
        "                   verbose=2, callbacks=[early_stop, mcp_save])"
      ],
      "execution_count": 23,
      "outputs": [
        {
          "output_type": "stream",
          "text": [
            "Epoch 1/40\n",
            "842/842 - 142s - loss: 1.6619 - accuracy: 0.3405 - val_loss: 1.5094 - val_accuracy: 0.4075\n",
            "Epoch 2/40\n",
            "842/842 - 143s - loss: 1.4494 - accuracy: 0.4412 - val_loss: 1.3742 - val_accuracy: 0.4738\n",
            "Epoch 3/40\n",
            "842/842 - 143s - loss: 1.3478 - accuracy: 0.4834 - val_loss: 1.3030 - val_accuracy: 0.5020\n",
            "Epoch 4/40\n",
            "842/842 - 144s - loss: 1.2704 - accuracy: 0.5132 - val_loss: 1.2542 - val_accuracy: 0.5224\n",
            "Epoch 5/40\n",
            "842/842 - 144s - loss: 1.2127 - accuracy: 0.5356 - val_loss: 1.2144 - val_accuracy: 0.5308\n",
            "Epoch 6/40\n",
            "842/842 - 143s - loss: 1.1612 - accuracy: 0.5571 - val_loss: 1.1850 - val_accuracy: 0.5471\n",
            "Epoch 7/40\n",
            "842/842 - 143s - loss: 1.1188 - accuracy: 0.5735 - val_loss: 1.1732 - val_accuracy: 0.5543\n",
            "Epoch 8/40\n",
            "842/842 - 143s - loss: 1.0732 - accuracy: 0.5952 - val_loss: 1.1848 - val_accuracy: 0.5464\n",
            "Epoch 9/40\n",
            "842/842 - 143s - loss: 1.0368 - accuracy: 0.6047 - val_loss: 1.1989 - val_accuracy: 0.5478\n",
            "Epoch 10/40\n",
            "842/842 - 142s - loss: 1.0163 - accuracy: 0.6140 - val_loss: 1.1789 - val_accuracy: 0.5610\n",
            "Epoch 11/40\n",
            "842/842 - 143s - loss: 0.9797 - accuracy: 0.6287 - val_loss: 1.1881 - val_accuracy: 0.5578\n",
            "Epoch 12/40\n",
            "842/842 - 142s - loss: 0.9636 - accuracy: 0.6365 - val_loss: 1.1741 - val_accuracy: 0.5636\n",
            "Epoch 13/40\n",
            "842/842 - 142s - loss: 0.9277 - accuracy: 0.6504 - val_loss: 1.1871 - val_accuracy: 0.5584\n",
            "Epoch 14/40\n",
            "842/842 - 142s - loss: 0.9137 - accuracy: 0.6559 - val_loss: 1.2120 - val_accuracy: 0.5571\n"
          ],
          "name": "stdout"
        }
      ]
    },
    {
      "cell_type": "code",
      "metadata": {
        "id": "jwf8XiF-0VTh"
      },
      "source": [
        "#model.save(\"gdrive/My Drive/emotions_data/model.h5\")"
      ],
      "execution_count": null,
      "outputs": []
    }
  ]
}