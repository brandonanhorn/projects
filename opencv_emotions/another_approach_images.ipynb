{
  "nbformat": 4,
  "nbformat_minor": 0,
  "metadata": {
    "colab": {
      "name": "another_approach_images.ipynb",
      "provenance": [],
      "collapsed_sections": []
    },
    "kernelspec": {
      "name": "python3",
      "display_name": "Python 3"
    },
    "language_info": {
      "name": "python"
    }
  },
  "cells": [
    {
      "cell_type": "code",
      "metadata": {
        "id": "n4mmh6wjyySm"
      },
      "source": [
        "import os\n",
        "import pandas as pd\n",
        "import numpy as np\n",
        "import matplotlib.pyplot as plt\n",
        "import seaborn as sns\n",
        "\n",
        "from tqdm import tqdm\n",
        "\n",
        "from sklearn.preprocessing import LabelBinarizer\n",
        "from sklearn.model_selection import train_test_split\n",
        "\n",
        "import tensorflow as tf\n",
        "import keras\n",
        "from keras.models import Sequential\n",
        "from keras.layers import Dense, Dropout, Flatten\n",
        "from keras.layers import Conv2D, MaxPool2D\n",
        "from keras.utils import to_categorical\n",
        "from keras.preprocessing import image\n",
        "from keras.preprocessing.image import ImageDataGenerator\n",
        "from keras.utils import to_categorical\n",
        "\n",
        "from keras.callbacks import ModelCheckpoint, EarlyStopping, ReduceLROnPlateau\n",
        "\n",
        "import cv2\n",
        "import os"
      ],
      "execution_count": 34,
      "outputs": []
    },
    {
      "cell_type": "code",
      "metadata": {
        "colab": {
          "base_uri": "https://localhost:8080/"
        },
        "id": "NV-0nqCfzS6B",
        "outputId": "4908f210-80c1-4ef9-c1a7-177f0a7f7901"
      },
      "source": [
        "from google.colab import drive\n",
        "drive.mount('/content/gdrive')"
      ],
      "execution_count": 2,
      "outputs": [
        {
          "output_type": "stream",
          "text": [
            "Mounted at /content/gdrive\n"
          ],
          "name": "stdout"
        }
      ]
    },
    {
      "cell_type": "code",
      "metadata": {
        "id": "WT1SltqdzYcz"
      },
      "source": [
        "#labels = ['angry', 'disgust', 'fear', 'happy', 'neutral', 'sad', 'suprise']\n",
        "labels = ['happy', 'sad']\n",
        "img_size = 64\n",
        "def get_data(data_dir):\n",
        "    data = [] \n",
        "    for label in labels: \n",
        "        path = os.path.join(data_dir, label)\n",
        "        class_num = labels.index(label)\n",
        "        for img in tqdm(os.listdir(path)):\n",
        "            try:\n",
        "                img_arr = cv2.imread(os.path.join(path, img))[...,::-1] #convert BGR to RGB format\n",
        "                resized_arr = cv2.resize(img_arr, (img_size, img_size)) # Reshaping images to preferred size\n",
        "                data.append([resized_arr, class_num])\n",
        "            except Exception as e:\n",
        "                print(e)\n",
        "    return np.array(data)"
      ],
      "execution_count": 3,
      "outputs": []
    },
    {
      "cell_type": "code",
      "metadata": {
        "colab": {
          "base_uri": "https://localhost:8080/"
        },
        "id": "ykv3b0zR0nRE",
        "outputId": "0d9a3ba6-b427-4f38-c9fa-d5fdf07e1737"
      },
      "source": [
        "images_data = get_data(\"gdrive/My Drive/emotions_data\")"
      ],
      "execution_count": 4,
      "outputs": [
        {
          "output_type": "stream",
          "text": [
            "100%|██████████| 8989/8989 [33:58<00:00,  4.41it/s]\n",
            "100%|██████████| 6078/6078 [24:16<00:00,  4.17it/s]\n",
            "/usr/local/lib/python3.7/dist-packages/ipykernel_launcher.py:16: VisibleDeprecationWarning: Creating an ndarray from ragged nested sequences (which is a list-or-tuple of lists-or-tuples-or ndarrays with different lengths or shapes) is deprecated. If you meant to do this, you must specify 'dtype=object' when creating the ndarray\n",
            "  app.launch_new_instance()\n"
          ],
          "name": "stderr"
        }
      ]
    },
    {
      "cell_type": "code",
      "metadata": {
        "id": "Hb-Y8ueo06fx"
      },
      "source": [
        "X = []\n",
        "y = []\n",
        "for feature, label in images_data:\n",
        "  X.append(feature)\n",
        "  y.append(label)"
      ],
      "execution_count": 6,
      "outputs": []
    },
    {
      "cell_type": "code",
      "metadata": {
        "id": "MrXSaueQiD77"
      },
      "source": [
        "X = np.array(X) / 255"
      ],
      "execution_count": 7,
      "outputs": []
    },
    {
      "cell_type": "code",
      "metadata": {
        "id": "ve-MOkBziQmq"
      },
      "source": [
        "X.reshape(-1, img_size, img_size, 1)\n",
        "y = np.array(y)"
      ],
      "execution_count": 8,
      "outputs": []
    },
    {
      "cell_type": "code",
      "metadata": {
        "id": "D9qW2lYYw4AO"
      },
      "source": [
        "X_train, X_test, y_train, y_test = train_test_split(X, y, random_state=13)"
      ],
      "execution_count": 10,
      "outputs": []
    },
    {
      "cell_type": "code",
      "metadata": {
        "colab": {
          "base_uri": "https://localhost:8080/"
        },
        "id": "bwvISZ_mxTj5",
        "outputId": "1f5118f3-a153-4ebb-cc8f-dfea9ad87044"
      },
      "source": [
        "X_train.shape"
      ],
      "execution_count": 11,
      "outputs": [
        {
          "output_type": "execute_result",
          "data": {
            "text/plain": [
              "(11300, 64, 64, 3)"
            ]
          },
          "metadata": {
            "tags": []
          },
          "execution_count": 11
        }
      ]
    },
    {
      "cell_type": "code",
      "metadata": {
        "colab": {
          "base_uri": "https://localhost:8080/"
        },
        "id": "KHrnQVVSxZIJ",
        "outputId": "9ae53255-3d22-4d2a-f571-669efb71aba8"
      },
      "source": [
        "X_test.shape"
      ],
      "execution_count": 12,
      "outputs": [
        {
          "output_type": "execute_result",
          "data": {
            "text/plain": [
              "(3767, 64, 64, 3)"
            ]
          },
          "metadata": {
            "tags": []
          },
          "execution_count": 12
        }
      ]
    },
    {
      "cell_type": "code",
      "metadata": {
        "colab": {
          "base_uri": "https://localhost:8080/"
        },
        "id": "z2CQQ9TP0rdy",
        "outputId": "9abbc90c-6338-4485-b9c7-66aa679264a6"
      },
      "source": [
        "X_train[0]"
      ],
      "execution_count": 26,
      "outputs": [
        {
          "output_type": "execute_result",
          "data": {
            "text/plain": [
              "array([[[0.03921569, 0.03921569, 0.03921569],\n",
              "        [0.03529412, 0.03529412, 0.03529412],\n",
              "        [0.03529412, 0.03529412, 0.03529412],\n",
              "        ...,\n",
              "        [0.07058824, 0.07058824, 0.07058824],\n",
              "        [0.27843137, 0.27843137, 0.27843137],\n",
              "        [0.57647059, 0.57647059, 0.57647059]],\n",
              "\n",
              "       [[0.02352941, 0.02352941, 0.02352941],\n",
              "        [0.03529412, 0.03529412, 0.03529412],\n",
              "        [0.03921569, 0.03921569, 0.03921569],\n",
              "        ...,\n",
              "        [0.07058824, 0.07058824, 0.07058824],\n",
              "        [0.25882353, 0.25882353, 0.25882353],\n",
              "        [0.5372549 , 0.5372549 , 0.5372549 ]],\n",
              "\n",
              "       [[0.02352941, 0.02352941, 0.02352941],\n",
              "        [0.03921569, 0.03921569, 0.03921569],\n",
              "        [0.04313725, 0.04313725, 0.04313725],\n",
              "        ...,\n",
              "        [0.06666667, 0.06666667, 0.06666667],\n",
              "        [0.23529412, 0.23529412, 0.23529412],\n",
              "        [0.48235294, 0.48235294, 0.48235294]],\n",
              "\n",
              "       ...,\n",
              "\n",
              "       [[0.06666667, 0.06666667, 0.06666667],\n",
              "        [0.08235294, 0.08235294, 0.08235294],\n",
              "        [0.0745098 , 0.0745098 , 0.0745098 ],\n",
              "        ...,\n",
              "        [0.63921569, 0.63921569, 0.63921569],\n",
              "        [0.64705882, 0.64705882, 0.64705882],\n",
              "        [0.64705882, 0.64705882, 0.64705882]],\n",
              "\n",
              "       [[0.03921569, 0.03921569, 0.03921569],\n",
              "        [0.08235294, 0.08235294, 0.08235294],\n",
              "        [0.09019608, 0.09019608, 0.09019608],\n",
              "        ...,\n",
              "        [0.64705882, 0.64705882, 0.64705882],\n",
              "        [0.65490196, 0.65490196, 0.65490196],\n",
              "        [0.65098039, 0.65098039, 0.65098039]],\n",
              "\n",
              "       [[0.01176471, 0.01176471, 0.01176471],\n",
              "        [0.08627451, 0.08627451, 0.08627451],\n",
              "        [0.10196078, 0.10196078, 0.10196078],\n",
              "        ...,\n",
              "        [0.65490196, 0.65490196, 0.65490196],\n",
              "        [0.6627451 , 0.6627451 , 0.6627451 ],\n",
              "        [0.6627451 , 0.6627451 , 0.6627451 ]]])"
            ]
          },
          "metadata": {
            "tags": []
          },
          "execution_count": 26
        }
      ]
    },
    {
      "cell_type": "code",
      "metadata": {
        "colab": {
          "base_uri": "https://localhost:8080/"
        },
        "id": "pb2-Q03xxw8t",
        "outputId": "649c3e7f-165a-4b70-eb3e-725e32439daa"
      },
      "source": [
        "y_train.shape"
      ],
      "execution_count": 13,
      "outputs": [
        {
          "output_type": "execute_result",
          "data": {
            "text/plain": [
              "(11300,)"
            ]
          },
          "metadata": {
            "tags": []
          },
          "execution_count": 13
        }
      ]
    },
    {
      "cell_type": "code",
      "metadata": {
        "colab": {
          "base_uri": "https://localhost:8080/"
        },
        "id": "teP008xSx0KE",
        "outputId": "6283a5aa-6682-41d2-ac8f-a68b7d10a296"
      },
      "source": [
        "y_test.shape"
      ],
      "execution_count": 14,
      "outputs": [
        {
          "output_type": "execute_result",
          "data": {
            "text/plain": [
              "(3767,)"
            ]
          },
          "metadata": {
            "tags": []
          },
          "execution_count": 14
        }
      ]
    },
    {
      "cell_type": "code",
      "metadata": {
        "colab": {
          "base_uri": "https://localhost:8080/"
        },
        "id": "b0lTKu4R020G",
        "outputId": "c48206eb-f444-4fd8-9573-0f9402400a90"
      },
      "source": [
        "y_train[0]"
      ],
      "execution_count": 29,
      "outputs": [
        {
          "output_type": "execute_result",
          "data": {
            "text/plain": [
              "0"
            ]
          },
          "metadata": {
            "tags": []
          },
          "execution_count": 29
        }
      ]
    },
    {
      "cell_type": "code",
      "metadata": {
        "id": "OsITkj4WiWhw"
      },
      "source": [
        "datagen = ImageDataGenerator(\n",
        "        featurewise_center=False,  # set input mean to 0 over the dataset\n",
        "        samplewise_center=False,  # set each sample mean to 0\n",
        "        featurewise_std_normalization=False,  # divide inputs by std of the dataset\n",
        "        samplewise_std_normalization=False,  # divide each input by its std\n",
        "        zca_whitening=False,  # apply ZCA whitening\n",
        "        rotation_range = 30,  # randomly rotate images in the range (degrees, 0 to 180)\n",
        "        zoom_range = 0.2, # Randomly zoom image \n",
        "        width_shift_range=0.1,  # randomly shift images horizontally (fraction of total width)\n",
        "        height_shift_range=0.1,  # randomly shift images vertically (fraction of total height)\n",
        "        horizontal_flip = True,  # randomly flip images\n",
        "        vertical_flip=False)  # randomly flip images\n",
        "\n",
        "\n",
        "datagen.fit(X_train)"
      ],
      "execution_count": 15,
      "outputs": []
    },
    {
      "cell_type": "code",
      "metadata": {
        "colab": {
          "base_uri": "https://localhost:8080/"
        },
        "id": "4HxS3lQRyHJj",
        "outputId": "1e28350b-dca8-4d59-943a-401ea45294e8"
      },
      "source": [
        "model = Sequential()\n",
        "model.add(Conv2D(32,3,padding=\"same\", activation=\"relu\", input_shape=(64,64,3)))\n",
        "model.add(MaxPool2D())\n",
        "\n",
        "model.add(Conv2D(32, 3, padding=\"same\", activation=\"relu\"))\n",
        "model.add(MaxPool2D())\n",
        "\n",
        "model.add(Conv2D(64, 3, padding=\"same\", activation=\"relu\"))\n",
        "model.add(MaxPool2D())\n",
        "model.add(Dropout(0.4))\n",
        "\n",
        "model.add(Flatten())\n",
        "model.add(Dense(128,activation=\"relu\"))\n",
        "model.add(Dense(2, activation=\"softmax\"))\n",
        "\n",
        "model.summary()"
      ],
      "execution_count": 22,
      "outputs": [
        {
          "output_type": "stream",
          "text": [
            "Model: \"sequential_5\"\n",
            "_________________________________________________________________\n",
            "Layer (type)                 Output Shape              Param #   \n",
            "=================================================================\n",
            "conv2d_5 (Conv2D)            (None, 64, 64, 32)        896       \n",
            "_________________________________________________________________\n",
            "max_pooling2d (MaxPooling2D) (None, 32, 32, 32)        0         \n",
            "_________________________________________________________________\n",
            "conv2d_6 (Conv2D)            (None, 32, 32, 32)        9248      \n",
            "_________________________________________________________________\n",
            "max_pooling2d_1 (MaxPooling2 (None, 16, 16, 32)        0         \n",
            "_________________________________________________________________\n",
            "conv2d_7 (Conv2D)            (None, 16, 16, 64)        18496     \n",
            "_________________________________________________________________\n",
            "max_pooling2d_2 (MaxPooling2 (None, 8, 8, 64)          0         \n",
            "_________________________________________________________________\n",
            "dropout (Dropout)            (None, 8, 8, 64)          0         \n",
            "_________________________________________________________________\n",
            "flatten (Flatten)            (None, 4096)              0         \n",
            "_________________________________________________________________\n",
            "dense (Dense)                (None, 128)               524416    \n",
            "_________________________________________________________________\n",
            "dense_1 (Dense)              (None, 2)                 258       \n",
            "=================================================================\n",
            "Total params: 553,314\n",
            "Trainable params: 553,314\n",
            "Non-trainable params: 0\n",
            "_________________________________________________________________\n"
          ],
          "name": "stdout"
        }
      ]
    },
    {
      "cell_type": "code",
      "metadata": {
        "id": "vsKw7zHxywHP"
      },
      "source": [
        "model.compile(optimizer = \"adam\" , loss = tf.keras.losses.SparseCategoricalCrossentropy(from_logits=True) , metrics = ['accuracy'])"
      ],
      "execution_count": 35,
      "outputs": []
    },
    {
      "cell_type": "code",
      "metadata": {
        "colab": {
          "base_uri": "https://localhost:8080/"
        },
        "id": "720GmCa00NP7",
        "outputId": "5998ee2a-5d71-49e8-ea59-142cc08903e3"
      },
      "source": [
        "history = model.fit(X_train, y_train,\n",
        "                   validation_data=(X_test, y_test),\n",
        "                   epochs=50, batch_size=32,\n",
        "                   verbose=2)"
      ],
      "execution_count": 36,
      "outputs": [
        {
          "output_type": "stream",
          "text": [
            "Epoch 1/50\n",
            "354/354 - 62s - loss: 0.6209 - accuracy: 0.6541 - val_loss: 0.5335 - val_accuracy: 0.7306\n",
            "Epoch 2/50\n",
            "354/354 - 61s - loss: 0.5133 - accuracy: 0.7432 - val_loss: 0.5041 - val_accuracy: 0.7608\n",
            "Epoch 3/50\n",
            "354/354 - 61s - loss: 0.4638 - accuracy: 0.7716 - val_loss: 0.4334 - val_accuracy: 0.7903\n",
            "Epoch 4/50\n",
            "354/354 - 61s - loss: 0.4176 - accuracy: 0.7997 - val_loss: 0.3964 - val_accuracy: 0.8097\n",
            "Epoch 5/50\n",
            "354/354 - 61s - loss: 0.3807 - accuracy: 0.8199 - val_loss: 0.4202 - val_accuracy: 0.7993\n",
            "Epoch 6/50\n",
            "354/354 - 61s - loss: 0.3593 - accuracy: 0.8353 - val_loss: 0.3833 - val_accuracy: 0.8174\n",
            "Epoch 7/50\n",
            "354/354 - 61s - loss: 0.3255 - accuracy: 0.8519 - val_loss: 0.3561 - val_accuracy: 0.8370\n",
            "Epoch 8/50\n",
            "354/354 - 61s - loss: 0.3019 - accuracy: 0.8596 - val_loss: 0.3357 - val_accuracy: 0.8511\n",
            "Epoch 9/50\n",
            "354/354 - 61s - loss: 0.2769 - accuracy: 0.8812 - val_loss: 0.3431 - val_accuracy: 0.8466\n",
            "Epoch 10/50\n",
            "354/354 - 61s - loss: 0.2531 - accuracy: 0.8918 - val_loss: 0.3552 - val_accuracy: 0.8439\n",
            "Epoch 11/50\n",
            "354/354 - 61s - loss: 0.2243 - accuracy: 0.9064 - val_loss: 0.3495 - val_accuracy: 0.8569\n",
            "Epoch 12/50\n",
            "354/354 - 61s - loss: 0.1955 - accuracy: 0.9205 - val_loss: 0.3498 - val_accuracy: 0.8604\n",
            "Epoch 13/50\n",
            "354/354 - 61s - loss: 0.1734 - accuracy: 0.9272 - val_loss: 0.3654 - val_accuracy: 0.8598\n",
            "Epoch 14/50\n",
            "354/354 - 61s - loss: 0.1516 - accuracy: 0.9411 - val_loss: 0.3892 - val_accuracy: 0.8540\n",
            "Epoch 15/50\n",
            "354/354 - 61s - loss: 0.1371 - accuracy: 0.9456 - val_loss: 0.3909 - val_accuracy: 0.8553\n",
            "Epoch 16/50\n",
            "354/354 - 61s - loss: 0.1253 - accuracy: 0.9494 - val_loss: 0.4224 - val_accuracy: 0.8620\n",
            "Epoch 17/50\n",
            "354/354 - 61s - loss: 0.1111 - accuracy: 0.9568 - val_loss: 0.4061 - val_accuracy: 0.8577\n",
            "Epoch 18/50\n",
            "354/354 - 61s - loss: 0.1064 - accuracy: 0.9576 - val_loss: 0.4117 - val_accuracy: 0.8636\n",
            "Epoch 19/50\n",
            "354/354 - 61s - loss: 0.0914 - accuracy: 0.9650 - val_loss: 0.4834 - val_accuracy: 0.8604\n",
            "Epoch 20/50\n",
            "354/354 - 61s - loss: 0.0820 - accuracy: 0.9695 - val_loss: 0.4751 - val_accuracy: 0.8654\n",
            "Epoch 21/50\n",
            "354/354 - 61s - loss: 0.0802 - accuracy: 0.9695 - val_loss: 0.4504 - val_accuracy: 0.8662\n",
            "Epoch 22/50\n",
            "354/354 - 61s - loss: 0.0616 - accuracy: 0.9779 - val_loss: 0.5118 - val_accuracy: 0.8689\n",
            "Epoch 23/50\n",
            "354/354 - 61s - loss: 0.0696 - accuracy: 0.9731 - val_loss: 0.4856 - val_accuracy: 0.8662\n",
            "Epoch 24/50\n",
            "354/354 - 61s - loss: 0.0689 - accuracy: 0.9755 - val_loss: 0.5066 - val_accuracy: 0.8625\n",
            "Epoch 25/50\n",
            "354/354 - 61s - loss: 0.0607 - accuracy: 0.9788 - val_loss: 0.5384 - val_accuracy: 0.8566\n",
            "Epoch 26/50\n",
            "354/354 - 61s - loss: 0.0544 - accuracy: 0.9812 - val_loss: 0.5124 - val_accuracy: 0.8614\n",
            "Epoch 27/50\n",
            "354/354 - 61s - loss: 0.0547 - accuracy: 0.9805 - val_loss: 0.5316 - val_accuracy: 0.8641\n",
            "Epoch 28/50\n",
            "354/354 - 61s - loss: 0.0532 - accuracy: 0.9815 - val_loss: 0.5155 - val_accuracy: 0.8606\n",
            "Epoch 29/50\n",
            "354/354 - 61s - loss: 0.0464 - accuracy: 0.9831 - val_loss: 0.5241 - val_accuracy: 0.8620\n",
            "Epoch 30/50\n",
            "354/354 - 61s - loss: 0.0432 - accuracy: 0.9839 - val_loss: 0.5354 - val_accuracy: 0.8678\n",
            "Epoch 31/50\n",
            "354/354 - 61s - loss: 0.0394 - accuracy: 0.9865 - val_loss: 0.5711 - val_accuracy: 0.8651\n",
            "Epoch 32/50\n",
            "354/354 - 61s - loss: 0.0425 - accuracy: 0.9855 - val_loss: 0.5894 - val_accuracy: 0.8620\n",
            "Epoch 33/50\n",
            "354/354 - 61s - loss: 0.0467 - accuracy: 0.9831 - val_loss: 0.5904 - val_accuracy: 0.8553\n",
            "Epoch 34/50\n",
            "354/354 - 61s - loss: 0.0441 - accuracy: 0.9850 - val_loss: 0.5184 - val_accuracy: 0.8673\n",
            "Epoch 35/50\n",
            "354/354 - 61s - loss: 0.0400 - accuracy: 0.9849 - val_loss: 0.6087 - val_accuracy: 0.8628\n",
            "Epoch 36/50\n",
            "354/354 - 61s - loss: 0.0456 - accuracy: 0.9853 - val_loss: 0.6141 - val_accuracy: 0.8649\n",
            "Epoch 37/50\n",
            "354/354 - 61s - loss: 0.0385 - accuracy: 0.9863 - val_loss: 0.6032 - val_accuracy: 0.8686\n",
            "Epoch 38/50\n",
            "354/354 - 61s - loss: 0.0367 - accuracy: 0.9881 - val_loss: 0.6465 - val_accuracy: 0.8585\n",
            "Epoch 39/50\n",
            "354/354 - 61s - loss: 0.0397 - accuracy: 0.9863 - val_loss: 0.6497 - val_accuracy: 0.8598\n",
            "Epoch 40/50\n",
            "354/354 - 61s - loss: 0.0318 - accuracy: 0.9882 - val_loss: 0.7564 - val_accuracy: 0.8553\n",
            "Epoch 41/50\n",
            "354/354 - 61s - loss: 0.0346 - accuracy: 0.9883 - val_loss: 0.6528 - val_accuracy: 0.8482\n",
            "Epoch 42/50\n",
            "354/354 - 61s - loss: 0.0330 - accuracy: 0.9890 - val_loss: 0.6300 - val_accuracy: 0.8588\n",
            "Epoch 43/50\n",
            "354/354 - 61s - loss: 0.0349 - accuracy: 0.9878 - val_loss: 0.6311 - val_accuracy: 0.8641\n",
            "Epoch 44/50\n",
            "354/354 - 61s - loss: 0.0364 - accuracy: 0.9876 - val_loss: 0.6392 - val_accuracy: 0.8636\n",
            "Epoch 45/50\n",
            "354/354 - 61s - loss: 0.0400 - accuracy: 0.9868 - val_loss: 0.6817 - val_accuracy: 0.8537\n",
            "Epoch 46/50\n",
            "354/354 - 61s - loss: 0.0310 - accuracy: 0.9898 - val_loss: 0.6283 - val_accuracy: 0.8604\n",
            "Epoch 47/50\n",
            "354/354 - 61s - loss: 0.0316 - accuracy: 0.9891 - val_loss: 0.6749 - val_accuracy: 0.8569\n",
            "Epoch 48/50\n",
            "354/354 - 61s - loss: 0.0288 - accuracy: 0.9912 - val_loss: 0.6491 - val_accuracy: 0.8625\n",
            "Epoch 49/50\n",
            "354/354 - 61s - loss: 0.0300 - accuracy: 0.9899 - val_loss: 0.6714 - val_accuracy: 0.8649\n",
            "Epoch 50/50\n",
            "354/354 - 61s - loss: 0.0238 - accuracy: 0.9917 - val_loss: 0.7355 - val_accuracy: 0.8588\n"
          ],
          "name": "stdout"
        }
      ]
    },
    {
      "cell_type": "code",
      "metadata": {
        "id": "jwf8XiF-0VTh"
      },
      "source": [
        "model.save(\"gdrive/My Drive/emotions_data/model.h5\")"
      ],
      "execution_count": 37,
      "outputs": []
    }
  ]
}