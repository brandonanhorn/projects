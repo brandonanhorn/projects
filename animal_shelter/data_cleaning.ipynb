{
 "cells": [
  {
   "cell_type": "code",
   "execution_count": 1,
   "metadata": {},
   "outputs": [],
   "source": [
    "import pandas as pd"
   ]
  },
  {
   "cell_type": "code",
   "execution_count": 2,
   "metadata": {},
   "outputs": [],
   "source": [
    "pd.set_option(\"max.columns\", None)\n",
    "pd.set_option(\"max.rows\", None)"
   ]
  },
  {
   "cell_type": "code",
   "execution_count": 3,
   "metadata": {},
   "outputs": [],
   "source": [
    "df_dog = pd.read_csv(\"data/dogs.csv\")"
   ]
  },
  {
   "cell_type": "code",
   "execution_count": 4,
   "metadata": {},
   "outputs": [],
   "source": [
    "df_cat = pd.read_csv(\"data/cats.csv\")"
   ]
  },
  {
   "cell_type": "code",
   "execution_count": 5,
   "metadata": {},
   "outputs": [
    {
     "data": {
      "text/html": [
       "<div>\n",
       "<style scoped>\n",
       "    .dataframe tbody tr th:only-of-type {\n",
       "        vertical-align: middle;\n",
       "    }\n",
       "\n",
       "    .dataframe tbody tr th {\n",
       "        vertical-align: top;\n",
       "    }\n",
       "\n",
       "    .dataframe thead th {\n",
       "        text-align: right;\n",
       "    }\n",
       "</style>\n",
       "<table border=\"1\" class=\"dataframe\">\n",
       "  <thead>\n",
       "    <tr style=\"text-align: right;\">\n",
       "      <th></th>\n",
       "      <th>Unnamed: 0</th>\n",
       "      <th>animal id</th>\n",
       "      <th>name_x</th>\n",
       "      <th>datetime_x</th>\n",
       "      <th>monthyear_x</th>\n",
       "      <th>found location</th>\n",
       "      <th>intake type</th>\n",
       "      <th>intake condition</th>\n",
       "      <th>animal type_x</th>\n",
       "      <th>sex upon intake</th>\n",
       "      <th>age upon intake</th>\n",
       "      <th>breed_x</th>\n",
       "      <th>color_x</th>\n",
       "      <th>name_y</th>\n",
       "      <th>datetime_y</th>\n",
       "      <th>monthyear_y</th>\n",
       "      <th>date of birth</th>\n",
       "      <th>outcome type</th>\n",
       "      <th>outcome subtype</th>\n",
       "      <th>animal type_y</th>\n",
       "      <th>sex upon outcome</th>\n",
       "      <th>age upon outcome</th>\n",
       "      <th>breed_y</th>\n",
       "      <th>color_y</th>\n",
       "    </tr>\n",
       "  </thead>\n",
       "  <tbody>\n",
       "    <tr>\n",
       "      <td>0</td>\n",
       "      <td>0</td>\n",
       "      <td>A786884</td>\n",
       "      <td>*Brock</td>\n",
       "      <td>01/03/2019 04:19:00 PM</td>\n",
       "      <td>01/03/2019 04:19:00 PM</td>\n",
       "      <td>2501 Magin Meadow Dr in Austin (TX)</td>\n",
       "      <td>Stray</td>\n",
       "      <td>Normal</td>\n",
       "      <td>Dog</td>\n",
       "      <td>Neutered Male</td>\n",
       "      <td>2 years</td>\n",
       "      <td>Beagle Mix</td>\n",
       "      <td>Tricolor</td>\n",
       "      <td>*Brock</td>\n",
       "      <td>01/08/2019 03:11:00 PM</td>\n",
       "      <td>01/08/2019 03:11:00 PM</td>\n",
       "      <td>01/03/2017</td>\n",
       "      <td>Transfer</td>\n",
       "      <td>Partner</td>\n",
       "      <td>Dog</td>\n",
       "      <td>Neutered Male</td>\n",
       "      <td>2 years</td>\n",
       "      <td>Beagle Mix</td>\n",
       "      <td>Tricolor</td>\n",
       "    </tr>\n",
       "  </tbody>\n",
       "</table>\n",
       "</div>"
      ],
      "text/plain": [
       "   Unnamed: 0 animal id  name_x              datetime_x  \\\n",
       "0           0   A786884  *Brock  01/03/2019 04:19:00 PM   \n",
       "\n",
       "              monthyear_x                       found location intake type  \\\n",
       "0  01/03/2019 04:19:00 PM  2501 Magin Meadow Dr in Austin (TX)       Stray   \n",
       "\n",
       "  intake condition animal type_x sex upon intake age upon intake     breed_x  \\\n",
       "0           Normal           Dog   Neutered Male         2 years  Beagle Mix   \n",
       "\n",
       "    color_x  name_y              datetime_y             monthyear_y  \\\n",
       "0  Tricolor  *Brock  01/08/2019 03:11:00 PM  01/08/2019 03:11:00 PM   \n",
       "\n",
       "  date of birth outcome type outcome subtype animal type_y sex upon outcome  \\\n",
       "0    01/03/2017     Transfer         Partner           Dog    Neutered Male   \n",
       "\n",
       "  age upon outcome     breed_y   color_y  \n",
       "0          2 years  Beagle Mix  Tricolor  "
      ]
     },
     "execution_count": 5,
     "metadata": {},
     "output_type": "execute_result"
    }
   ],
   "source": [
    "df_dog.head(1)"
   ]
  },
  {
   "cell_type": "code",
   "execution_count": 6,
   "metadata": {},
   "outputs": [],
   "source": [
    "del df_dog[\"Unnamed: 0\"]"
   ]
  },
  {
   "cell_type": "code",
   "execution_count": 7,
   "metadata": {},
   "outputs": [
    {
     "data": {
      "text/html": [
       "<div>\n",
       "<style scoped>\n",
       "    .dataframe tbody tr th:only-of-type {\n",
       "        vertical-align: middle;\n",
       "    }\n",
       "\n",
       "    .dataframe tbody tr th {\n",
       "        vertical-align: top;\n",
       "    }\n",
       "\n",
       "    .dataframe thead th {\n",
       "        text-align: right;\n",
       "    }\n",
       "</style>\n",
       "<table border=\"1\" class=\"dataframe\">\n",
       "  <thead>\n",
       "    <tr style=\"text-align: right;\">\n",
       "      <th></th>\n",
       "      <th>animal id</th>\n",
       "      <th>name_x</th>\n",
       "      <th>datetime_x</th>\n",
       "      <th>monthyear_x</th>\n",
       "      <th>found location</th>\n",
       "      <th>intake type</th>\n",
       "      <th>intake condition</th>\n",
       "      <th>animal type_x</th>\n",
       "      <th>sex upon intake</th>\n",
       "      <th>age upon intake</th>\n",
       "      <th>breed_x</th>\n",
       "      <th>color_x</th>\n",
       "      <th>name_y</th>\n",
       "      <th>datetime_y</th>\n",
       "      <th>monthyear_y</th>\n",
       "      <th>date of birth</th>\n",
       "      <th>outcome type</th>\n",
       "      <th>outcome subtype</th>\n",
       "      <th>animal type_y</th>\n",
       "      <th>sex upon outcome</th>\n",
       "      <th>age upon outcome</th>\n",
       "      <th>breed_y</th>\n",
       "      <th>color_y</th>\n",
       "    </tr>\n",
       "  </thead>\n",
       "  <tbody>\n",
       "    <tr>\n",
       "      <td>count</td>\n",
       "      <td>59404</td>\n",
       "      <td>47503</td>\n",
       "      <td>59404</td>\n",
       "      <td>59404</td>\n",
       "      <td>59404</td>\n",
       "      <td>59404</td>\n",
       "      <td>59404</td>\n",
       "      <td>59404</td>\n",
       "      <td>59403</td>\n",
       "      <td>59404</td>\n",
       "      <td>59404</td>\n",
       "      <td>59404</td>\n",
       "      <td>47280</td>\n",
       "      <td>59132</td>\n",
       "      <td>59132</td>\n",
       "      <td>59132</td>\n",
       "      <td>59120</td>\n",
       "      <td>20485</td>\n",
       "      <td>59132</td>\n",
       "      <td>59131</td>\n",
       "      <td>59132</td>\n",
       "      <td>59132</td>\n",
       "      <td>59132</td>\n",
       "    </tr>\n",
       "    <tr>\n",
       "      <td>unique</td>\n",
       "      <td>59404</td>\n",
       "      <td>14037</td>\n",
       "      <td>47445</td>\n",
       "      <td>47445</td>\n",
       "      <td>31112</td>\n",
       "      <td>5</td>\n",
       "      <td>10</td>\n",
       "      <td>1</td>\n",
       "      <td>5</td>\n",
       "      <td>48</td>\n",
       "      <td>2326</td>\n",
       "      <td>372</td>\n",
       "      <td>13985</td>\n",
       "      <td>52998</td>\n",
       "      <td>52998</td>\n",
       "      <td>6668</td>\n",
       "      <td>8</td>\n",
       "      <td>20</td>\n",
       "      <td>1</td>\n",
       "      <td>5</td>\n",
       "      <td>48</td>\n",
       "      <td>2320</td>\n",
       "      <td>372</td>\n",
       "    </tr>\n",
       "    <tr>\n",
       "      <td>top</td>\n",
       "      <td>A682471</td>\n",
       "      <td>Max</td>\n",
       "      <td>09/01/2017 02:47:00 PM</td>\n",
       "      <td>09/01/2017 02:47:00 PM</td>\n",
       "      <td>Austin (TX)</td>\n",
       "      <td>Stray</td>\n",
       "      <td>Normal</td>\n",
       "      <td>Dog</td>\n",
       "      <td>Intact Male</td>\n",
       "      <td>1 year</td>\n",
       "      <td>Pit Bull Mix</td>\n",
       "      <td>Black/White</td>\n",
       "      <td>Max</td>\n",
       "      <td>04/18/2016 12:00:00 AM</td>\n",
       "      <td>04/18/2016 12:00:00 AM</td>\n",
       "      <td>09/01/2015</td>\n",
       "      <td>Adoption</td>\n",
       "      <td>Partner</td>\n",
       "      <td>Dog</td>\n",
       "      <td>Neutered Male</td>\n",
       "      <td>1 year</td>\n",
       "      <td>Pit Bull Mix</td>\n",
       "      <td>Black/White</td>\n",
       "    </tr>\n",
       "    <tr>\n",
       "      <td>freq</td>\n",
       "      <td>1</td>\n",
       "      <td>384</td>\n",
       "      <td>47</td>\n",
       "      <td>47</td>\n",
       "      <td>10819</td>\n",
       "      <td>42839</td>\n",
       "      <td>53444</td>\n",
       "      <td>59404</td>\n",
       "      <td>21241</td>\n",
       "      <td>10838</td>\n",
       "      <td>6442</td>\n",
       "      <td>6905</td>\n",
       "      <td>384</td>\n",
       "      <td>27</td>\n",
       "      <td>27</td>\n",
       "      <td>57</td>\n",
       "      <td>27434</td>\n",
       "      <td>14265</td>\n",
       "      <td>59132</td>\n",
       "      <td>23799</td>\n",
       "      <td>10997</td>\n",
       "      <td>6405</td>\n",
       "      <td>6858</td>\n",
       "    </tr>\n",
       "  </tbody>\n",
       "</table>\n",
       "</div>"
      ],
      "text/plain": [
       "       animal id name_x              datetime_x             monthyear_x  \\\n",
       "count      59404  47503                   59404                   59404   \n",
       "unique     59404  14037                   47445                   47445   \n",
       "top      A682471    Max  09/01/2017 02:47:00 PM  09/01/2017 02:47:00 PM   \n",
       "freq           1    384                      47                      47   \n",
       "\n",
       "       found location intake type intake condition animal type_x  \\\n",
       "count           59404       59404            59404         59404   \n",
       "unique          31112           5               10             1   \n",
       "top       Austin (TX)       Stray           Normal           Dog   \n",
       "freq            10819       42839            53444         59404   \n",
       "\n",
       "       sex upon intake age upon intake       breed_x      color_x name_y  \\\n",
       "count            59403           59404         59404        59404  47280   \n",
       "unique               5              48          2326          372  13985   \n",
       "top        Intact Male          1 year  Pit Bull Mix  Black/White    Max   \n",
       "freq             21241           10838          6442         6905    384   \n",
       "\n",
       "                    datetime_y             monthyear_y date of birth  \\\n",
       "count                    59132                   59132         59132   \n",
       "unique                   52998                   52998          6668   \n",
       "top     04/18/2016 12:00:00 AM  04/18/2016 12:00:00 AM    09/01/2015   \n",
       "freq                        27                      27            57   \n",
       "\n",
       "       outcome type outcome subtype animal type_y sex upon outcome  \\\n",
       "count         59120           20485         59132            59131   \n",
       "unique            8              20             1                5   \n",
       "top        Adoption         Partner           Dog    Neutered Male   \n",
       "freq          27434           14265         59132            23799   \n",
       "\n",
       "       age upon outcome       breed_y      color_y  \n",
       "count             59132         59132        59132  \n",
       "unique               48          2320          372  \n",
       "top              1 year  Pit Bull Mix  Black/White  \n",
       "freq              10997          6405         6858  "
      ]
     },
     "execution_count": 7,
     "metadata": {},
     "output_type": "execute_result"
    }
   ],
   "source": [
    "df_dog.describe()"
   ]
  },
  {
   "cell_type": "code",
   "execution_count": 8,
   "metadata": {},
   "outputs": [
    {
     "data": {
      "text/plain": [
       "Adoption           27434\n",
       "Return to Owner    15078\n",
       "Transfer           14269\n",
       "Euthanasia          1639\n",
       "Rto-Adopt            395\n",
       "Died                 248\n",
       "Disposal              35\n",
       "Missing               22\n",
       "Name: outcome type, dtype: int64"
      ]
     },
     "execution_count": 8,
     "metadata": {},
     "output_type": "execute_result"
    }
   ],
   "source": [
    "df_dog[\"outcome type\"].value_counts()"
   ]
  },
  {
   "cell_type": "code",
   "execution_count": 9,
   "metadata": {},
   "outputs": [
    {
     "data": {
      "text/plain": [
       "Stray                 42839\n",
       "Owner Surrender       11271\n",
       "Public Assist          4970\n",
       "Euthanasia Request      177\n",
       "Abandoned               147\n",
       "Name: intake type, dtype: int64"
      ]
     },
     "execution_count": 9,
     "metadata": {},
     "output_type": "execute_result"
    }
   ],
   "source": [
    "df_dog[\"intake type\"].value_counts()"
   ]
  },
  {
   "cell_type": "code",
   "execution_count": 10,
   "metadata": {},
   "outputs": [
    {
     "data": {
      "text/plain": [
       "Normal      53444\n",
       "Injured      2696\n",
       "Sick         1554\n",
       "Nursing      1144\n",
       "Aged          341\n",
       "Other         115\n",
       "Pregnant       49\n",
       "Medical        38\n",
       "Behavior       14\n",
       "Feral           9\n",
       "Name: intake condition, dtype: int64"
      ]
     },
     "execution_count": 10,
     "metadata": {},
     "output_type": "execute_result"
    }
   ],
   "source": [
    "df_dog[\"intake condition\"].value_counts()"
   ]
  },
  {
   "cell_type": "code",
   "execution_count": 11,
   "metadata": {},
   "outputs": [
    {
     "data": {
      "text/plain": [
       "Intact Male      21241\n",
       "Intact Female    18981\n",
       "Neutered Male    10154\n",
       "Spayed Female     8573\n",
       "Unknown            454\n",
       "Name: sex upon intake, dtype: int64"
      ]
     },
     "execution_count": 11,
     "metadata": {},
     "output_type": "execute_result"
    }
   ],
   "source": [
    "df_dog[\"sex upon intake\"].value_counts()"
   ]
  },
  {
   "cell_type": "code",
   "execution_count": 12,
   "metadata": {},
   "outputs": [
    {
     "data": {
      "text/plain": [
       "1 year       10838\n",
       "2 years      10826\n",
       "3 years       4488\n",
       "1 month       3885\n",
       "2 months      2979\n",
       "4 years       2777\n",
       "5 years       2544\n",
       "6 years       1738\n",
       "4 months      1587\n",
       "5 months      1566\n",
       "7 years       1482\n",
       "8 years       1422\n",
       "3 months      1325\n",
       "9 months      1205\n",
       "10 years      1173\n",
       "6 months      1131\n",
       "7 months      1106\n",
       "8 months       869\n",
       "9 years        842\n",
       "10 months      633\n",
       "12 years       535\n",
       "11 months      518\n",
       "4 weeks        479\n",
       "11 years       476\n",
       "13 years       346\n",
       "0 years        311\n",
       "3 weeks        279\n",
       "14 years       248\n",
       "1 day          247\n",
       "1 week         228\n",
       "2 weeks        209\n",
       "15 years       195\n",
       "1 weeks        182\n",
       "2 days         136\n",
       "3 days         129\n",
       "4 days         116\n",
       "16 years        89\n",
       "5 weeks         84\n",
       "6 days          55\n",
       "17 years        42\n",
       "5 days          40\n",
       "18 years        21\n",
       "19 years        15\n",
       "20 years         4\n",
       "24 years         1\n",
       "23 years         1\n",
       "-1 years         1\n",
       "-3 years         1\n",
       "Name: age upon intake, dtype: int64"
      ]
     },
     "execution_count": 12,
     "metadata": {},
     "output_type": "execute_result"
    }
   ],
   "source": [
    "df_dog[\"age upon intake\"].value_counts()"
   ]
  },
  {
   "cell_type": "code",
   "execution_count": 13,
   "metadata": {},
   "outputs": [],
   "source": [
    "df_dog[\"age upon intake\"] = df_dog[\"age upon intake\"].str.replace(\"-\", \"\")\n",
    "df_dog[\"age upon intake\"] = df_dog[\"age upon intake\"].str.replace(\"0 years\", \"1 year\")\n",
    "df_dog[\"age upon intake\"] = df_dog[\"age upon intake\"].str.replace(\"1 years\", \"1 year\")"
   ]
  },
  {
   "cell_type": "code",
   "execution_count": 14,
   "metadata": {},
   "outputs": [],
   "source": [
    "## changing age - if less than 6 weeks\n",
    "for i in df_dog[\"age upon intake\"]:\n",
    "    for z in range(1,7):\n",
    "        if i == str(z) + \" weeks\":\n",
    "            df_dog[\"age upon intake\"] =  df_dog[\"age upon intake\"].str.replace(str(i), \"< 6 weeks\")\n",
    "        if i == str(z) + \" week\":\n",
    "            df_dog[\"age upon intake\"] =  df_dog[\"age upon intake\"].str.replace(str(i), \"< 6 weeks\")\n",
    "        if i == str(z) + \" day\":\n",
    "            df_dog[\"age upon intake\"] =  df_dog[\"age upon intake\"].str.replace(str(i), \"< 6 weeks\")\n",
    "        if i == str(z) + \" days\":\n",
    "            df_dog[\"age upon intake\"] =  df_dog[\"age upon intake\"].str.replace(str(i), \"< 6 weeks\")"
   ]
  },
  {
   "cell_type": "code",
   "execution_count": 15,
   "metadata": {},
   "outputs": [],
   "source": [
    "## changing age - if b/n 6 weeks and less than 1 year\n",
    "for i in df_dog[\"age upon intake\"]:\n",
    "    for z in range(1,12):\n",
    "        if i == str(z) + \" months\":\n",
    "            df_dog[\"age upon intake\"] =  df_dog[\"age upon intake\"].str.replace(str(i), \"between 6 weeks and < 1 year\")\n",
    "        if i == str(z) + \" month\":\n",
    "            df_dog[\"age upon intake\"] =  df_dog[\"age upon intake\"].str.replace(str(i), \"between 6 weeks and < 1 year\")"
   ]
  },
  {
   "cell_type": "code",
   "execution_count": 16,
   "metadata": {},
   "outputs": [],
   "source": [
    "df_dog = pd.read_csv(\"data/clean_dogs.csv\")"
   ]
  },
  {
   "cell_type": "code",
   "execution_count": 17,
   "metadata": {},
   "outputs": [],
   "source": [
    "# changing age - if dogs >9 years\n",
    "df_dog[\"age upon intake\"] =  df_dog[\"age upon intake\"].str.replace(\"19 years\", \"11 year\")\n",
    "df_dog[\"age upon intake\"] =  df_dog[\"age upon intake\"].str.replace(\"9 years\", \"> 9 years\")\n",
    "df_dog[\"age upon intake\"] =  df_dog[\"age upon intake\"].str.replace(\"10 years\", \"> 9 years\")\n",
    "df_dog[\"age upon intake\"] =  df_dog[\"age upon intake\"].str.replace(\"11 year\", \"> 9 years\")\n",
    "df_dog[\"age upon intake\"] =  df_dog[\"age upon intake\"].str.replace(\"12 years\", \"> 9 years\")\n",
    "df_dog[\"age upon intake\"] =  df_dog[\"age upon intake\"].str.replace(\"13 years\", \"> 9 years\")\n",
    "df_dog[\"age upon intake\"] =  df_dog[\"age upon intake\"].str.replace(\"14 years\", \"> 9 years\")\n",
    "df_dog[\"age upon intake\"] =  df_dog[\"age upon intake\"].str.replace(\"15 years\", \"> 9 years\")\n",
    "df_dog[\"age upon intake\"] =  df_dog[\"age upon intake\"].str.replace(\"16 years\", \"> 9 years\")\n",
    "df_dog[\"age upon intake\"] =  df_dog[\"age upon intake\"].str.replace(\"17 years\", \"> 9 years\")\n",
    "df_dog[\"age upon intake\"] =  df_dog[\"age upon intake\"].str.replace(\"18 years\", \"> 9 years\")\n",
    "df_dog[\"age upon intake\"] =  df_dog[\"age upon intake\"].str.replace(\"20 years\", \"> 9 years\")\n",
    "df_dog[\"age upon intake\"] =  df_dog[\"age upon intake\"].str.replace(\"21 year\", \"> 9 years\")\n",
    "df_dog[\"age upon intake\"] =  df_dog[\"age upon intake\"].str.replace(\"22 years\", \"> 9 years\")\n",
    "df_dog[\"age upon intake\"] =  df_dog[\"age upon intake\"].str.replace(\"23 years\", \"> 9 years\")\n",
    "df_dog[\"age upon intake\"] =  df_dog[\"age upon intake\"].str.replace(\"24 years\", \"> 9 years\")"
   ]
  },
  {
   "cell_type": "code",
   "execution_count": 18,
   "metadata": {},
   "outputs": [],
   "source": [
    "df_dog[\"age upon intake\"] = df_dog[\"age upon intake\"].str.replace(\"> >\", \">\")"
   ]
  },
  {
   "cell_type": "code",
   "execution_count": 19,
   "metadata": {},
   "outputs": [],
   "source": [
    "df_dog[\"age upon intake\"] = df_dog[\"age upon intake\"].str.replace(\"between 6 weeks and 1 year\", \"between 6 weeks and < 1 year\")"
   ]
  },
  {
   "cell_type": "code",
   "execution_count": 20,
   "metadata": {},
   "outputs": [
    {
     "data": {
      "text/plain": [
       "between 6 weeks and < 1 year    16804\n",
       "1 year                          11150\n",
       "2 years                         10826\n",
       "3 years                          4489\n",
       "> 9 years                        3988\n",
       "4 years                          2777\n",
       "5 years                          2544\n",
       "< 6 weeks                        2184\n",
       "6 years                          1738\n",
       "7 years                          1482\n",
       "8 years                          1422\n",
       "Name: age upon intake, dtype: int64"
      ]
     },
     "execution_count": 20,
     "metadata": {},
     "output_type": "execute_result"
    }
   ],
   "source": [
    "df_dog[\"age upon intake\"].value_counts()"
   ]
  },
  {
   "cell_type": "code",
   "execution_count": 21,
   "metadata": {},
   "outputs": [
    {
     "data": {
      "text/html": [
       "<div>\n",
       "<style scoped>\n",
       "    .dataframe tbody tr th:only-of-type {\n",
       "        vertical-align: middle;\n",
       "    }\n",
       "\n",
       "    .dataframe tbody tr th {\n",
       "        vertical-align: top;\n",
       "    }\n",
       "\n",
       "    .dataframe thead th {\n",
       "        text-align: right;\n",
       "    }\n",
       "</style>\n",
       "<table border=\"1\" class=\"dataframe\">\n",
       "  <thead>\n",
       "    <tr style=\"text-align: right;\">\n",
       "      <th></th>\n",
       "      <th>Unnamed: 0</th>\n",
       "      <th>Unnamed: 0.1</th>\n",
       "      <th>animal id</th>\n",
       "      <th>name_x</th>\n",
       "      <th>datetime_x</th>\n",
       "      <th>monthyear_x</th>\n",
       "      <th>found location</th>\n",
       "      <th>intake type</th>\n",
       "      <th>intake condition</th>\n",
       "      <th>animal type_x</th>\n",
       "      <th>sex upon intake</th>\n",
       "      <th>age upon intake</th>\n",
       "      <th>breed_x</th>\n",
       "      <th>color_x</th>\n",
       "      <th>name_y</th>\n",
       "      <th>datetime_y</th>\n",
       "      <th>monthyear_y</th>\n",
       "      <th>date of birth</th>\n",
       "      <th>outcome type</th>\n",
       "      <th>outcome subtype</th>\n",
       "      <th>animal type_y</th>\n",
       "      <th>sex upon outcome</th>\n",
       "      <th>age upon outcome</th>\n",
       "      <th>breed_y</th>\n",
       "      <th>color_y</th>\n",
       "    </tr>\n",
       "  </thead>\n",
       "  <tbody>\n",
       "    <tr>\n",
       "      <td>0</td>\n",
       "      <td>0</td>\n",
       "      <td>0</td>\n",
       "      <td>A786884</td>\n",
       "      <td>*Brock</td>\n",
       "      <td>01/03/2019 04:19:00 PM</td>\n",
       "      <td>01/03/2019 04:19:00 PM</td>\n",
       "      <td>2501 Magin Meadow Dr in Austin (TX)</td>\n",
       "      <td>Stray</td>\n",
       "      <td>Normal</td>\n",
       "      <td>Dog</td>\n",
       "      <td>Neutered Male</td>\n",
       "      <td>2 years</td>\n",
       "      <td>Beagle Mix</td>\n",
       "      <td>Tricolor</td>\n",
       "      <td>*Brock</td>\n",
       "      <td>01/08/2019 03:11:00 PM</td>\n",
       "      <td>01/08/2019 03:11:00 PM</td>\n",
       "      <td>01/03/2017</td>\n",
       "      <td>Transfer</td>\n",
       "      <td>Partner</td>\n",
       "      <td>Dog</td>\n",
       "      <td>Neutered Male</td>\n",
       "      <td>2 years</td>\n",
       "      <td>Beagle Mix</td>\n",
       "      <td>Tricolor</td>\n",
       "    </tr>\n",
       "    <tr>\n",
       "      <td>1</td>\n",
       "      <td>1</td>\n",
       "      <td>1</td>\n",
       "      <td>A706918</td>\n",
       "      <td>Belle</td>\n",
       "      <td>07/05/2015 12:59:00 PM</td>\n",
       "      <td>07/05/2015 12:59:00 PM</td>\n",
       "      <td>9409 Bluegrass Dr in Austin (TX)</td>\n",
       "      <td>Stray</td>\n",
       "      <td>Normal</td>\n",
       "      <td>Dog</td>\n",
       "      <td>Spayed Female</td>\n",
       "      <td>8 years</td>\n",
       "      <td>English Springer Spaniel</td>\n",
       "      <td>White/Liver</td>\n",
       "      <td>Belle</td>\n",
       "      <td>07/05/2015 03:13:00 PM</td>\n",
       "      <td>07/05/2015 03:13:00 PM</td>\n",
       "      <td>07/05/2007</td>\n",
       "      <td>Return to Owner</td>\n",
       "      <td>NaN</td>\n",
       "      <td>Dog</td>\n",
       "      <td>Spayed Female</td>\n",
       "      <td>8 years</td>\n",
       "      <td>English Springer Spaniel</td>\n",
       "      <td>White/Liver</td>\n",
       "    </tr>\n",
       "    <tr>\n",
       "      <td>2</td>\n",
       "      <td>2</td>\n",
       "      <td>2</td>\n",
       "      <td>A724273</td>\n",
       "      <td>Runster</td>\n",
       "      <td>04/14/2016 06:43:00 PM</td>\n",
       "      <td>04/14/2016 06:43:00 PM</td>\n",
       "      <td>2818 Palomino Trail in Austin (TX)</td>\n",
       "      <td>Stray</td>\n",
       "      <td>Normal</td>\n",
       "      <td>Dog</td>\n",
       "      <td>Intact Male</td>\n",
       "      <td>between 6 weeks and &lt; 1 year</td>\n",
       "      <td>Basenji Mix</td>\n",
       "      <td>Sable/White</td>\n",
       "      <td>Runster</td>\n",
       "      <td>04/21/2016 05:17:00 PM</td>\n",
       "      <td>04/21/2016 05:17:00 PM</td>\n",
       "      <td>04/17/2015</td>\n",
       "      <td>Return to Owner</td>\n",
       "      <td>NaN</td>\n",
       "      <td>Dog</td>\n",
       "      <td>Neutered Male</td>\n",
       "      <td>1 year</td>\n",
       "      <td>Basenji Mix</td>\n",
       "      <td>Sable/White</td>\n",
       "    </tr>\n",
       "    <tr>\n",
       "      <td>3</td>\n",
       "      <td>3</td>\n",
       "      <td>3</td>\n",
       "      <td>A682524</td>\n",
       "      <td>Rio</td>\n",
       "      <td>06/29/2014 10:38:00 AM</td>\n",
       "      <td>06/29/2014 10:38:00 AM</td>\n",
       "      <td>800 Grove Blvd in Austin (TX)</td>\n",
       "      <td>Stray</td>\n",
       "      <td>Normal</td>\n",
       "      <td>Dog</td>\n",
       "      <td>Neutered Male</td>\n",
       "      <td>4 years</td>\n",
       "      <td>Doberman Pinsch/Australian Cattle Dog</td>\n",
       "      <td>Tan/Gray</td>\n",
       "      <td>Rio</td>\n",
       "      <td>07/02/2014 02:16:00 PM</td>\n",
       "      <td>07/02/2014 02:16:00 PM</td>\n",
       "      <td>06/29/2010</td>\n",
       "      <td>Return to Owner</td>\n",
       "      <td>NaN</td>\n",
       "      <td>Dog</td>\n",
       "      <td>Neutered Male</td>\n",
       "      <td>4 years</td>\n",
       "      <td>Doberman Pinsch/Australian Cattle Dog</td>\n",
       "      <td>Tan/Gray</td>\n",
       "    </tr>\n",
       "    <tr>\n",
       "      <td>4</td>\n",
       "      <td>4</td>\n",
       "      <td>4</td>\n",
       "      <td>A743852</td>\n",
       "      <td>Odin</td>\n",
       "      <td>02/18/2017 12:46:00 PM</td>\n",
       "      <td>02/18/2017 12:46:00 PM</td>\n",
       "      <td>Austin (TX)</td>\n",
       "      <td>Owner Surrender</td>\n",
       "      <td>Normal</td>\n",
       "      <td>Dog</td>\n",
       "      <td>Neutered Male</td>\n",
       "      <td>2 years</td>\n",
       "      <td>Labrador Retriever Mix</td>\n",
       "      <td>Chocolate</td>\n",
       "      <td>Odin</td>\n",
       "      <td>02/21/2017 05:44:00 PM</td>\n",
       "      <td>02/21/2017 05:44:00 PM</td>\n",
       "      <td>02/18/2015</td>\n",
       "      <td>Return to Owner</td>\n",
       "      <td>NaN</td>\n",
       "      <td>Dog</td>\n",
       "      <td>Neutered Male</td>\n",
       "      <td>2 years</td>\n",
       "      <td>Labrador Retriever Mix</td>\n",
       "      <td>Chocolate</td>\n",
       "    </tr>\n",
       "  </tbody>\n",
       "</table>\n",
       "</div>"
      ],
      "text/plain": [
       "   Unnamed: 0  Unnamed: 0.1 animal id   name_x              datetime_x  \\\n",
       "0           0             0   A786884   *Brock  01/03/2019 04:19:00 PM   \n",
       "1           1             1   A706918    Belle  07/05/2015 12:59:00 PM   \n",
       "2           2             2   A724273  Runster  04/14/2016 06:43:00 PM   \n",
       "3           3             3   A682524      Rio  06/29/2014 10:38:00 AM   \n",
       "4           4             4   A743852     Odin  02/18/2017 12:46:00 PM   \n",
       "\n",
       "              monthyear_x                       found location  \\\n",
       "0  01/03/2019 04:19:00 PM  2501 Magin Meadow Dr in Austin (TX)   \n",
       "1  07/05/2015 12:59:00 PM     9409 Bluegrass Dr in Austin (TX)   \n",
       "2  04/14/2016 06:43:00 PM   2818 Palomino Trail in Austin (TX)   \n",
       "3  06/29/2014 10:38:00 AM        800 Grove Blvd in Austin (TX)   \n",
       "4  02/18/2017 12:46:00 PM                          Austin (TX)   \n",
       "\n",
       "       intake type intake condition animal type_x sex upon intake  \\\n",
       "0            Stray           Normal           Dog   Neutered Male   \n",
       "1            Stray           Normal           Dog   Spayed Female   \n",
       "2            Stray           Normal           Dog     Intact Male   \n",
       "3            Stray           Normal           Dog   Neutered Male   \n",
       "4  Owner Surrender           Normal           Dog   Neutered Male   \n",
       "\n",
       "                age upon intake                                breed_x  \\\n",
       "0                       2 years                             Beagle Mix   \n",
       "1                       8 years               English Springer Spaniel   \n",
       "2  between 6 weeks and < 1 year                            Basenji Mix   \n",
       "3                       4 years  Doberman Pinsch/Australian Cattle Dog   \n",
       "4                       2 years                 Labrador Retriever Mix   \n",
       "\n",
       "       color_x   name_y              datetime_y             monthyear_y  \\\n",
       "0     Tricolor   *Brock  01/08/2019 03:11:00 PM  01/08/2019 03:11:00 PM   \n",
       "1  White/Liver    Belle  07/05/2015 03:13:00 PM  07/05/2015 03:13:00 PM   \n",
       "2  Sable/White  Runster  04/21/2016 05:17:00 PM  04/21/2016 05:17:00 PM   \n",
       "3     Tan/Gray      Rio  07/02/2014 02:16:00 PM  07/02/2014 02:16:00 PM   \n",
       "4    Chocolate     Odin  02/21/2017 05:44:00 PM  02/21/2017 05:44:00 PM   \n",
       "\n",
       "  date of birth     outcome type outcome subtype animal type_y  \\\n",
       "0    01/03/2017         Transfer         Partner           Dog   \n",
       "1    07/05/2007  Return to Owner             NaN           Dog   \n",
       "2    04/17/2015  Return to Owner             NaN           Dog   \n",
       "3    06/29/2010  Return to Owner             NaN           Dog   \n",
       "4    02/18/2015  Return to Owner             NaN           Dog   \n",
       "\n",
       "  sex upon outcome age upon outcome                                breed_y  \\\n",
       "0    Neutered Male          2 years                             Beagle Mix   \n",
       "1    Spayed Female          8 years               English Springer Spaniel   \n",
       "2    Neutered Male           1 year                            Basenji Mix   \n",
       "3    Neutered Male          4 years  Doberman Pinsch/Australian Cattle Dog   \n",
       "4    Neutered Male          2 years                 Labrador Retriever Mix   \n",
       "\n",
       "       color_y  \n",
       "0     Tricolor  \n",
       "1  White/Liver  \n",
       "2  Sable/White  \n",
       "3     Tan/Gray  \n",
       "4    Chocolate  "
      ]
     },
     "execution_count": 21,
     "metadata": {},
     "output_type": "execute_result"
    }
   ],
   "source": [
    "df_dog.head()"
   ]
  },
  {
   "cell_type": "code",
   "execution_count": 63,
   "metadata": {},
   "outputs": [
    {
     "data": {
      "text/plain": [
       "Intact Male      21241\n",
       "Intact Female    18981\n",
       "Neutered Male    10154\n",
       "Spayed Female     8573\n",
       "Unknown i          454\n",
       "nan                  1\n",
       "Name: sex upon intake, dtype: int64"
      ]
     },
     "execution_count": 63,
     "metadata": {},
     "output_type": "execute_result"
    }
   ],
   "source": [
    "df_dog[\"sex upon intake\"].value_counts()"
   ]
  },
  {
   "cell_type": "code",
   "execution_count": 42,
   "metadata": {},
   "outputs": [],
   "source": [
    "df_dog[\"sex upon intake\"] = df_dog[\"sex upon intake\"].astype(str)"
   ]
  },
  {
   "cell_type": "code",
   "execution_count": 64,
   "metadata": {},
   "outputs": [],
   "source": [
    "df_dog[\"sex upon intake\"] = df_dog[\"sex upon intake\"].replace(\"Unknown\", \"Unknown i\")\n",
    "df_dog[\"sex upon intake\"] = df_dog[\"sex upon intake\"].replace(\"nan\", \"Unknown i\")"
   ]
  },
  {
   "cell_type": "code",
   "execution_count": 52,
   "metadata": {},
   "outputs": [],
   "source": [
    "a_list = []\n",
    "for i in df_dog[\"sex upon intake\"]:\n",
    "    a_list.append(i.split()[0])"
   ]
  },
  {
   "cell_type": "code",
   "execution_count": 53,
   "metadata": {},
   "outputs": [],
   "source": [
    "df_dog[\"spayed/neutered\"] = a_list"
   ]
  },
  {
   "cell_type": "code",
   "execution_count": 58,
   "metadata": {},
   "outputs": [
    {
     "data": {
      "text/plain": [
       "Intact      40222\n",
       "Neutered    10154\n",
       "Spayed       8573\n",
       "Unknown       455\n",
       "Name: spayed/neutered, dtype: int64"
      ]
     },
     "execution_count": 58,
     "metadata": {},
     "output_type": "execute_result"
    }
   ],
   "source": [
    "df_dog[\"spayed/neutered\"].value_counts()"
   ]
  },
  {
   "cell_type": "code",
   "execution_count": 57,
   "metadata": {},
   "outputs": [],
   "source": [
    "df_dog[\"spayed/neutered\"] = df_dog[\"spayed/neutered\"].replace(\"nan\", \"Unknown\")"
   ]
  },
  {
   "cell_type": "code",
   "execution_count": 65,
   "metadata": {},
   "outputs": [],
   "source": [
    "a_list = []\n",
    "for i in df_dog[\"sex upon intake\"]:\n",
    "    a_list.append(i.split()[1])"
   ]
  },
  {
   "cell_type": "code",
   "execution_count": 66,
   "metadata": {},
   "outputs": [],
   "source": [
    "df_dog[\"sex upon intake\"] = a_list"
   ]
  },
  {
   "cell_type": "code",
   "execution_count": 67,
   "metadata": {},
   "outputs": [
    {
     "data": {
      "text/plain": [
       "Male      31395\n",
       "Female    27554\n",
       "i           455\n",
       "Name: sex upon intake, dtype: int64"
      ]
     },
     "execution_count": 67,
     "metadata": {},
     "output_type": "execute_result"
    }
   ],
   "source": [
    "df_dog[\"sex upon intake\"].value_counts()"
   ]
  },
  {
   "cell_type": "code",
   "execution_count": 69,
   "metadata": {},
   "outputs": [],
   "source": [
    "df_dog[\"sex upon intake\"] = df_dog[\"sex upon intake\"].replace(\"i\", \"unknown\")"
   ]
  },
  {
   "cell_type": "code",
   "execution_count": 70,
   "metadata": {},
   "outputs": [],
   "source": [
    "df_dog[\"sex\"] = df_dog[\"sex upon intake\"]"
   ]
  },
  {
   "cell_type": "code",
   "execution_count": 71,
   "metadata": {},
   "outputs": [
    {
     "data": {
      "text/plain": [
       "Male       31395\n",
       "Female     27554\n",
       "unknown      455\n",
       "Name: sex, dtype: int64"
      ]
     },
     "execution_count": 71,
     "metadata": {},
     "output_type": "execute_result"
    }
   ],
   "source": [
    "df_dog[\"sex\"].value_counts()"
   ]
  },
  {
   "cell_type": "code",
   "execution_count": 85,
   "metadata": {},
   "outputs": [
    {
     "data": {
      "text/html": [
       "<div>\n",
       "<style scoped>\n",
       "    .dataframe tbody tr th:only-of-type {\n",
       "        vertical-align: middle;\n",
       "    }\n",
       "\n",
       "    .dataframe tbody tr th {\n",
       "        vertical-align: top;\n",
       "    }\n",
       "\n",
       "    .dataframe thead th {\n",
       "        text-align: right;\n",
       "    }\n",
       "</style>\n",
       "<table border=\"1\" class=\"dataframe\">\n",
       "  <thead>\n",
       "    <tr style=\"text-align: right;\">\n",
       "      <th></th>\n",
       "      <th>animal id</th>\n",
       "      <th>intake type</th>\n",
       "      <th>intake condition</th>\n",
       "      <th>age upon intake</th>\n",
       "      <th>outcome type</th>\n",
       "      <th>spayed/neutered</th>\n",
       "      <th>sex</th>\n",
       "      <th>breed</th>\n",
       "      <th>color</th>\n",
       "    </tr>\n",
       "  </thead>\n",
       "  <tbody>\n",
       "    <tr>\n",
       "      <td>0</td>\n",
       "      <td>A786884</td>\n",
       "      <td>Stray</td>\n",
       "      <td>Normal</td>\n",
       "      <td>2 years</td>\n",
       "      <td>Transfer</td>\n",
       "      <td>Neutered</td>\n",
       "      <td>Male</td>\n",
       "      <td>Beagle Mix</td>\n",
       "      <td>Tricolor</td>\n",
       "    </tr>\n",
       "  </tbody>\n",
       "</table>\n",
       "</div>"
      ],
      "text/plain": [
       "  animal id intake type intake condition age upon intake outcome type  \\\n",
       "0   A786884       Stray           Normal         2 years     Transfer   \n",
       "\n",
       "  spayed/neutered   sex       breed     color  \n",
       "0        Neutered  Male  Beagle Mix  Tricolor  "
      ]
     },
     "execution_count": 85,
     "metadata": {},
     "output_type": "execute_result"
    }
   ],
   "source": [
    "df_dog.head(1)"
   ]
  },
  {
   "cell_type": "code",
   "execution_count": 84,
   "metadata": {},
   "outputs": [],
   "source": [
    "df_dog[\"breed_x\"] = df_dog[\"breed\"]\n",
    "df_dog[\"color_x\"] = df_dog[\"color\"]"
   ]
  },
  {
   "cell_type": "code",
   "execution_count": 76,
   "metadata": {},
   "outputs": [],
   "source": [
    "#del df_dog[\"breed_x\"]\n",
    "#del df_dog[\"color_x\"]\n",
    "#del df_dog[\"age upon outcome\"]\n",
    "#del df_dog[\"breed_y\"]\n",
    "#del df_dog[\"color_y\"]\n",
    "#del df_dog[\"sex upon intake\"]\n",
    "#del df_dog[\"date of birth\"]\n",
    "#del df_dog[\"outcome subtype\"]\n",
    "#del df_dog[\"sex upon outcome\"]\n",
    "#del df_dog[\"Unnamed: 0\"]\n",
    "#del df_dog[\"Unnamed: 0.1\"]\n",
    "#del df_dog[\"name_x\"]\n",
    "#del df_dog[\"datetime_x\"]\n",
    "#del df_dog[\"monthyear_x\"]\n",
    "#del df_dog[\"found location\"]\n",
    "#del df_dog[\"animal type_x\"]\n",
    "#del df_dog[\"name_y\"]\n",
    "#del df_dog[\"datetime_y\"]\n",
    "#del df_dog[\"monthyear_y\"]\n",
    "#del df_dog[\"animal type_y\"]"
   ]
  },
  {
   "cell_type": "code",
   "execution_count": 86,
   "metadata": {},
   "outputs": [],
   "source": [
    "df_dog.to_csv(\"data/model_outcome_type.csv\")"
   ]
  }
 ],
 "metadata": {
  "kernelspec": {
   "display_name": "Python 3",
   "language": "python",
   "name": "python3"
  },
  "language_info": {
   "codemirror_mode": {
    "name": "ipython",
    "version": 3
   },
   "file_extension": ".py",
   "mimetype": "text/x-python",
   "name": "python",
   "nbconvert_exporter": "python",
   "pygments_lexer": "ipython3",
   "version": "3.7.4"
  }
 },
 "nbformat": 4,
 "nbformat_minor": 2
}
