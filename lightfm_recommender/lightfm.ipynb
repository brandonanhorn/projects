{
  "nbformat": 4,
  "nbformat_minor": 0,
  "metadata": {
    "colab": {
      "name": "BA-lightfm-notebook-DAITA.ipynb",
      "provenance": [],
      "collapsed_sections": []
    },
    "kernelspec": {
      "name": "python3",
      "display_name": "Python 3"
    },
    "language_info": {
      "name": "python"
    }
  },
  "cells": [
    {
      "cell_type": "code",
      "metadata": {
        "colab": {
          "base_uri": "https://localhost:8080/"
        },
        "id": "CSJ0qr6-9Fyr",
        "outputId": "e2c59793-a3ab-4fc9-a6f9-730827742a81"
      },
      "source": [
        "pip install lightfm"
      ],
      "execution_count": 1,
      "outputs": [
        {
          "output_type": "stream",
          "text": [
            "Collecting lightfm\n",
            "\u001b[?25l  Downloading https://files.pythonhosted.org/packages/5e/fe/8864d723daa8e5afc74080ce510c30f7ad52facf6a157d4b42dec83dfab4/lightfm-1.16.tar.gz (310kB)\n",
            "\r\u001b[K     |█                               | 10kB 19.9MB/s eta 0:00:01\r\u001b[K     |██▏                             | 20kB 26.8MB/s eta 0:00:01\r\u001b[K     |███▏                            | 30kB 33.5MB/s eta 0:00:01\r\u001b[K     |████▎                           | 40kB 23.5MB/s eta 0:00:01\r\u001b[K     |█████▎                          | 51kB 16.2MB/s eta 0:00:01\r\u001b[K     |██████▍                         | 61kB 12.9MB/s eta 0:00:01\r\u001b[K     |███████▍                        | 71kB 11.8MB/s eta 0:00:01\r\u001b[K     |████████▌                       | 81kB 12.7MB/s eta 0:00:01\r\u001b[K     |█████████▌                      | 92kB 13.9MB/s eta 0:00:01\r\u001b[K     |██████████▋                     | 102kB 14.4MB/s eta 0:00:01\r\u001b[K     |███████████▋                    | 112kB 14.4MB/s eta 0:00:01\r\u001b[K     |████████████▊                   | 122kB 14.4MB/s eta 0:00:01\r\u001b[K     |█████████████▊                  | 133kB 14.4MB/s eta 0:00:01\r\u001b[K     |██████████████▉                 | 143kB 14.4MB/s eta 0:00:01\r\u001b[K     |███████████████▉                | 153kB 14.4MB/s eta 0:00:01\r\u001b[K     |█████████████████               | 163kB 14.4MB/s eta 0:00:01\r\u001b[K     |██████████████████              | 174kB 14.4MB/s eta 0:00:01\r\u001b[K     |███████████████████             | 184kB 14.4MB/s eta 0:00:01\r\u001b[K     |████████████████████            | 194kB 14.4MB/s eta 0:00:01\r\u001b[K     |█████████████████████▏          | 204kB 14.4MB/s eta 0:00:01\r\u001b[K     |██████████████████████▏         | 215kB 14.4MB/s eta 0:00:01\r\u001b[K     |███████████████████████▎        | 225kB 14.4MB/s eta 0:00:01\r\u001b[K     |████████████████████████▎       | 235kB 14.4MB/s eta 0:00:01\r\u001b[K     |█████████████████████████▍      | 245kB 14.4MB/s eta 0:00:01\r\u001b[K     |██████████████████████████▍     | 256kB 14.4MB/s eta 0:00:01\r\u001b[K     |███████████████████████████▌    | 266kB 14.4MB/s eta 0:00:01\r\u001b[K     |████████████████████████████▌   | 276kB 14.4MB/s eta 0:00:01\r\u001b[K     |█████████████████████████████▋  | 286kB 14.4MB/s eta 0:00:01\r\u001b[K     |██████████████████████████████▋ | 296kB 14.4MB/s eta 0:00:01\r\u001b[K     |███████████████████████████████▊| 307kB 14.4MB/s eta 0:00:01\r\u001b[K     |████████████████████████████████| 317kB 14.4MB/s \n",
            "\u001b[?25hRequirement already satisfied: numpy in /usr/local/lib/python3.7/dist-packages (from lightfm) (1.19.5)\n",
            "Requirement already satisfied: scipy>=0.17.0 in /usr/local/lib/python3.7/dist-packages (from lightfm) (1.4.1)\n",
            "Requirement already satisfied: requests in /usr/local/lib/python3.7/dist-packages (from lightfm) (2.23.0)\n",
            "Requirement already satisfied: scikit-learn in /usr/local/lib/python3.7/dist-packages (from lightfm) (0.22.2.post1)\n",
            "Requirement already satisfied: chardet<4,>=3.0.2 in /usr/local/lib/python3.7/dist-packages (from requests->lightfm) (3.0.4)\n",
            "Requirement already satisfied: idna<3,>=2.5 in /usr/local/lib/python3.7/dist-packages (from requests->lightfm) (2.10)\n",
            "Requirement already satisfied: certifi>=2017.4.17 in /usr/local/lib/python3.7/dist-packages (from requests->lightfm) (2020.12.5)\n",
            "Requirement already satisfied: urllib3!=1.25.0,!=1.25.1,<1.26,>=1.21.1 in /usr/local/lib/python3.7/dist-packages (from requests->lightfm) (1.24.3)\n",
            "Requirement already satisfied: joblib>=0.11 in /usr/local/lib/python3.7/dist-packages (from scikit-learn->lightfm) (1.0.1)\n",
            "Building wheels for collected packages: lightfm\n",
            "  Building wheel for lightfm (setup.py) ... \u001b[?25l\u001b[?25hdone\n",
            "  Created wheel for lightfm: filename=lightfm-1.16-cp37-cp37m-linux_x86_64.whl size=697404 sha256=9051988fe40a320966f536a275f956c5dcfa1b27707888c7fbcdf7b41231af29\n",
            "  Stored in directory: /root/.cache/pip/wheels/c6/64/d4/673c7277f71ac4c5ad4835b94708c01b653ef2d3aa78ef20aa\n",
            "Successfully built lightfm\n",
            "Installing collected packages: lightfm\n",
            "Successfully installed lightfm-1.16\n"
          ],
          "name": "stdout"
        }
      ]
    },
    {
      "cell_type": "code",
      "metadata": {
        "id": "VDhaQM2_8bKn"
      },
      "source": [
        "# import libraries\n",
        "from copy import deepcopy\n",
        "\n",
        "import itertools\n",
        "\n",
        "from lightfm import LightFM\n",
        "from lightfm.evaluation import auc_score, precision_at_k\n",
        "from lightfm.cross_validation import random_train_test_split\n",
        "\n",
        "from matplotlib import pyplot as plt\n",
        "\n",
        "import numpy as np\n",
        "\n",
        "import pandas as pd\n",
        "\n",
        "from scipy.sparse import csr_matrix\n",
        "from sklearn.model_selection import GridSearchCV\n",
        "from sklearn.preprocessing import LabelEncoder\n",
        "\n",
        "pd.set_option(\"max.columns\", None)\n",
        "\n",
        "import warnings\n",
        "warnings.filterwarnings(\"ignore\")"
      ],
      "execution_count": 2,
      "outputs": []
    },
    {
      "cell_type": "code",
      "metadata": {
        "colab": {
          "base_uri": "https://localhost:8080/"
        },
        "id": "-reqmVqE9C9P",
        "outputId": "0211875a-f89c-44b9-bff8-ff77291dbcf1"
      },
      "source": [
        "from google.colab import drive\n",
        "drive.mount('/content/gdrive')"
      ],
      "execution_count": 3,
      "outputs": [
        {
          "output_type": "stream",
          "text": [
            "Mounted at /content/gdrive\n"
          ],
          "name": "stdout"
        }
      ]
    },
    {
      "cell_type": "code",
      "metadata": {
        "id": "TkDdNA6y9lfO"
      },
      "source": [
        "df = pd.read_csv('gdrive/My Drive/job/ratings.csv')"
      ],
      "execution_count": 4,
      "outputs": []
    },
    {
      "cell_type": "code",
      "metadata": {
        "id": "jNJ73SqIwAZa"
      },
      "source": [
        "# EDA"
      ],
      "execution_count": 5,
      "outputs": []
    },
    {
      "cell_type": "code",
      "metadata": {
        "colab": {
          "base_uri": "https://localhost:8080/"
        },
        "id": "RS7rsJJ5-KsK",
        "outputId": "01160698-5c50-4b0b-e4b5-563e6506234b"
      },
      "source": [
        "df.info()"
      ],
      "execution_count": 6,
      "outputs": [
        {
          "output_type": "stream",
          "text": [
            "<class 'pandas.core.frame.DataFrame'>\n",
            "RangeIndex: 93329 entries, 0 to 93328\n",
            "Data columns (total 3 columns):\n",
            " #   Column      Non-Null Count  Dtype  \n",
            "---  ------      --------------  -----  \n",
            " 0   user_id     93329 non-null  int64  \n",
            " 1   product_id  93296 non-null  float64\n",
            " 2   rating      93329 non-null  int64  \n",
            "dtypes: float64(1), int64(2)\n",
            "memory usage: 2.1 MB\n"
          ],
          "name": "stdout"
        }
      ]
    },
    {
      "cell_type": "code",
      "metadata": {
        "colab": {
          "base_uri": "https://localhost:8080/",
          "height": 419
        },
        "id": "B4pL0DFh-Noy",
        "outputId": "a6dd5c1c-b78d-4e26-e9f7-dd226ca3f48f"
      },
      "source": [
        "#found 3000 duplicates\n",
        "df[df.duplicated()]"
      ],
      "execution_count": 7,
      "outputs": [
        {
          "output_type": "execute_result",
          "data": {
            "text/html": [
              "<div>\n",
              "<style scoped>\n",
              "    .dataframe tbody tr th:only-of-type {\n",
              "        vertical-align: middle;\n",
              "    }\n",
              "\n",
              "    .dataframe tbody tr th {\n",
              "        vertical-align: top;\n",
              "    }\n",
              "\n",
              "    .dataframe thead th {\n",
              "        text-align: right;\n",
              "    }\n",
              "</style>\n",
              "<table border=\"1\" class=\"dataframe\">\n",
              "  <thead>\n",
              "    <tr style=\"text-align: right;\">\n",
              "      <th></th>\n",
              "      <th>user_id</th>\n",
              "      <th>product_id</th>\n",
              "      <th>rating</th>\n",
              "    </tr>\n",
              "  </thead>\n",
              "  <tbody>\n",
              "    <tr>\n",
              "      <th>1</th>\n",
              "      <td>8765713110</td>\n",
              "      <td>1.623200e+12</td>\n",
              "      <td>10</td>\n",
              "    </tr>\n",
              "    <tr>\n",
              "      <th>2</th>\n",
              "      <td>8765713110</td>\n",
              "      <td>1.623200e+12</td>\n",
              "      <td>10</td>\n",
              "    </tr>\n",
              "    <tr>\n",
              "      <th>3</th>\n",
              "      <td>8765713110</td>\n",
              "      <td>1.623200e+12</td>\n",
              "      <td>10</td>\n",
              "    </tr>\n",
              "    <tr>\n",
              "      <th>4</th>\n",
              "      <td>8765713110</td>\n",
              "      <td>1.623200e+12</td>\n",
              "      <td>10</td>\n",
              "    </tr>\n",
              "    <tr>\n",
              "      <th>8</th>\n",
              "      <td>8765713110</td>\n",
              "      <td>1.623200e+12</td>\n",
              "      <td>9</td>\n",
              "    </tr>\n",
              "    <tr>\n",
              "      <th>...</th>\n",
              "      <td>...</td>\n",
              "      <td>...</td>\n",
              "      <td>...</td>\n",
              "    </tr>\n",
              "    <tr>\n",
              "      <th>93100</th>\n",
              "      <td>96854724780</td>\n",
              "      <td>6.652259e+11</td>\n",
              "      <td>10</td>\n",
              "    </tr>\n",
              "    <tr>\n",
              "      <th>93150</th>\n",
              "      <td>440533159092</td>\n",
              "      <td>1.663416e+10</td>\n",
              "      <td>7</td>\n",
              "    </tr>\n",
              "    <tr>\n",
              "      <th>93196</th>\n",
              "      <td>410360450104</td>\n",
              "      <td>1.300653e+12</td>\n",
              "      <td>8</td>\n",
              "    </tr>\n",
              "    <tr>\n",
              "      <th>93200</th>\n",
              "      <td>395679429243</td>\n",
              "      <td>9.718234e+09</td>\n",
              "      <td>8</td>\n",
              "    </tr>\n",
              "    <tr>\n",
              "      <th>93280</th>\n",
              "      <td>118648229418</td>\n",
              "      <td>1.535656e+12</td>\n",
              "      <td>8</td>\n",
              "    </tr>\n",
              "  </tbody>\n",
              "</table>\n",
              "<p>3325 rows × 3 columns</p>\n",
              "</div>"
            ],
            "text/plain": [
              "            user_id    product_id  rating\n",
              "1        8765713110  1.623200e+12      10\n",
              "2        8765713110  1.623200e+12      10\n",
              "3        8765713110  1.623200e+12      10\n",
              "4        8765713110  1.623200e+12      10\n",
              "8        8765713110  1.623200e+12       9\n",
              "...             ...           ...     ...\n",
              "93100   96854724780  6.652259e+11      10\n",
              "93150  440533159092  1.663416e+10       7\n",
              "93196  410360450104  1.300653e+12       8\n",
              "93200  395679429243  9.718234e+09       8\n",
              "93280  118648229418  1.535656e+12       8\n",
              "\n",
              "[3325 rows x 3 columns]"
            ]
          },
          "metadata": {
            "tags": []
          },
          "execution_count": 7
        }
      ]
    },
    {
      "cell_type": "code",
      "metadata": {
        "id": "ca9Ogew1-TLs"
      },
      "source": [
        "# removed duplicates, keeping the first of the duplicates\n",
        "df = df.drop_duplicates(keep=\"first\")"
      ],
      "execution_count": 8,
      "outputs": []
    },
    {
      "cell_type": "code",
      "metadata": {
        "colab": {
          "base_uri": "https://localhost:8080/",
          "height": 1000
        },
        "id": "2e74uJZs-U7f",
        "outputId": "87709fde-f8a0-468f-ede1-cc6107869361"
      },
      "source": [
        "# finding null values\n",
        "df[df[\"product_id\"].isna()]"
      ],
      "execution_count": 9,
      "outputs": [
        {
          "output_type": "execute_result",
          "data": {
            "text/html": [
              "<div>\n",
              "<style scoped>\n",
              "    .dataframe tbody tr th:only-of-type {\n",
              "        vertical-align: middle;\n",
              "    }\n",
              "\n",
              "    .dataframe tbody tr th {\n",
              "        vertical-align: top;\n",
              "    }\n",
              "\n",
              "    .dataframe thead th {\n",
              "        text-align: right;\n",
              "    }\n",
              "</style>\n",
              "<table border=\"1\" class=\"dataframe\">\n",
              "  <thead>\n",
              "    <tr style=\"text-align: right;\">\n",
              "      <th></th>\n",
              "      <th>user_id</th>\n",
              "      <th>product_id</th>\n",
              "      <th>rating</th>\n",
              "    </tr>\n",
              "  </thead>\n",
              "  <tbody>\n",
              "    <tr>\n",
              "      <th>4375</th>\n",
              "      <td>190944716400</td>\n",
              "      <td>NaN</td>\n",
              "      <td>6</td>\n",
              "    </tr>\n",
              "    <tr>\n",
              "      <th>4477</th>\n",
              "      <td>53064088275</td>\n",
              "      <td>NaN</td>\n",
              "      <td>7</td>\n",
              "    </tr>\n",
              "    <tr>\n",
              "      <th>8680</th>\n",
              "      <td>156087835176</td>\n",
              "      <td>NaN</td>\n",
              "      <td>7</td>\n",
              "    </tr>\n",
              "    <tr>\n",
              "      <th>9317</th>\n",
              "      <td>34803492348</td>\n",
              "      <td>NaN</td>\n",
              "      <td>8</td>\n",
              "    </tr>\n",
              "    <tr>\n",
              "      <th>15267</th>\n",
              "      <td>24257413050</td>\n",
              "      <td>NaN</td>\n",
              "      <td>7</td>\n",
              "    </tr>\n",
              "    <tr>\n",
              "      <th>17627</th>\n",
              "      <td>213903919380</td>\n",
              "      <td>NaN</td>\n",
              "      <td>7</td>\n",
              "    </tr>\n",
              "    <tr>\n",
              "      <th>18173</th>\n",
              "      <td>94512206592</td>\n",
              "      <td>NaN</td>\n",
              "      <td>6</td>\n",
              "    </tr>\n",
              "    <tr>\n",
              "      <th>32269</th>\n",
              "      <td>433781750208</td>\n",
              "      <td>NaN</td>\n",
              "      <td>6</td>\n",
              "    </tr>\n",
              "    <tr>\n",
              "      <th>32791</th>\n",
              "      <td>34096916028</td>\n",
              "      <td>NaN</td>\n",
              "      <td>2</td>\n",
              "    </tr>\n",
              "    <tr>\n",
              "      <th>35220</th>\n",
              "      <td>183795222312</td>\n",
              "      <td>NaN</td>\n",
              "      <td>8</td>\n",
              "    </tr>\n",
              "    <tr>\n",
              "      <th>36459</th>\n",
              "      <td>262308744613</td>\n",
              "      <td>NaN</td>\n",
              "      <td>10</td>\n",
              "    </tr>\n",
              "    <tr>\n",
              "      <th>45396</th>\n",
              "      <td>16116127404</td>\n",
              "      <td>NaN</td>\n",
              "      <td>9</td>\n",
              "    </tr>\n",
              "    <tr>\n",
              "      <th>48478</th>\n",
              "      <td>223381622460</td>\n",
              "      <td>NaN</td>\n",
              "      <td>5</td>\n",
              "    </tr>\n",
              "    <tr>\n",
              "      <th>55742</th>\n",
              "      <td>94731507000</td>\n",
              "      <td>NaN</td>\n",
              "      <td>6</td>\n",
              "    </tr>\n",
              "    <tr>\n",
              "      <th>56843</th>\n",
              "      <td>129694444436</td>\n",
              "      <td>NaN</td>\n",
              "      <td>5</td>\n",
              "    </tr>\n",
              "    <tr>\n",
              "      <th>58424</th>\n",
              "      <td>9902565673</td>\n",
              "      <td>NaN</td>\n",
              "      <td>9</td>\n",
              "    </tr>\n",
              "    <tr>\n",
              "      <th>59456</th>\n",
              "      <td>286402410468</td>\n",
              "      <td>NaN</td>\n",
              "      <td>9</td>\n",
              "    </tr>\n",
              "    <tr>\n",
              "      <th>60437</th>\n",
              "      <td>139447814002</td>\n",
              "      <td>NaN</td>\n",
              "      <td>6</td>\n",
              "    </tr>\n",
              "    <tr>\n",
              "      <th>61588</th>\n",
              "      <td>131340015522</td>\n",
              "      <td>NaN</td>\n",
              "      <td>6</td>\n",
              "    </tr>\n",
              "    <tr>\n",
              "      <th>63030</th>\n",
              "      <td>245484151360</td>\n",
              "      <td>NaN</td>\n",
              "      <td>6</td>\n",
              "    </tr>\n",
              "    <tr>\n",
              "      <th>64973</th>\n",
              "      <td>168573423884</td>\n",
              "      <td>NaN</td>\n",
              "      <td>6</td>\n",
              "    </tr>\n",
              "    <tr>\n",
              "      <th>65088</th>\n",
              "      <td>340507428300</td>\n",
              "      <td>NaN</td>\n",
              "      <td>8</td>\n",
              "    </tr>\n",
              "    <tr>\n",
              "      <th>70851</th>\n",
              "      <td>238679955120</td>\n",
              "      <td>NaN</td>\n",
              "      <td>8</td>\n",
              "    </tr>\n",
              "    <tr>\n",
              "      <th>73343</th>\n",
              "      <td>37591085676</td>\n",
              "      <td>NaN</td>\n",
              "      <td>9</td>\n",
              "    </tr>\n",
              "    <tr>\n",
              "      <th>74820</th>\n",
              "      <td>316084589712</td>\n",
              "      <td>NaN</td>\n",
              "      <td>8</td>\n",
              "    </tr>\n",
              "    <tr>\n",
              "      <th>74910</th>\n",
              "      <td>238717502172</td>\n",
              "      <td>NaN</td>\n",
              "      <td>2</td>\n",
              "    </tr>\n",
              "    <tr>\n",
              "      <th>75345</th>\n",
              "      <td>164267763420</td>\n",
              "      <td>NaN</td>\n",
              "      <td>8</td>\n",
              "    </tr>\n",
              "    <tr>\n",
              "      <th>76347</th>\n",
              "      <td>171266078130</td>\n",
              "      <td>NaN</td>\n",
              "      <td>8</td>\n",
              "    </tr>\n",
              "    <tr>\n",
              "      <th>76612</th>\n",
              "      <td>58898460115</td>\n",
              "      <td>NaN</td>\n",
              "      <td>6</td>\n",
              "    </tr>\n",
              "    <tr>\n",
              "      <th>84487</th>\n",
              "      <td>299207228784</td>\n",
              "      <td>NaN</td>\n",
              "      <td>8</td>\n",
              "    </tr>\n",
              "    <tr>\n",
              "      <th>87656</th>\n",
              "      <td>127063097040</td>\n",
              "      <td>NaN</td>\n",
              "      <td>10</td>\n",
              "    </tr>\n",
              "    <tr>\n",
              "      <th>90874</th>\n",
              "      <td>343529906439</td>\n",
              "      <td>NaN</td>\n",
              "      <td>8</td>\n",
              "    </tr>\n",
              "    <tr>\n",
              "      <th>91798</th>\n",
              "      <td>52821937665</td>\n",
              "      <td>NaN</td>\n",
              "      <td>6</td>\n",
              "    </tr>\n",
              "  </tbody>\n",
              "</table>\n",
              "</div>"
            ],
            "text/plain": [
              "            user_id  product_id  rating\n",
              "4375   190944716400         NaN       6\n",
              "4477    53064088275         NaN       7\n",
              "8680   156087835176         NaN       7\n",
              "9317    34803492348         NaN       8\n",
              "15267   24257413050         NaN       7\n",
              "17627  213903919380         NaN       7\n",
              "18173   94512206592         NaN       6\n",
              "32269  433781750208         NaN       6\n",
              "32791   34096916028         NaN       2\n",
              "35220  183795222312         NaN       8\n",
              "36459  262308744613         NaN      10\n",
              "45396   16116127404         NaN       9\n",
              "48478  223381622460         NaN       5\n",
              "55742   94731507000         NaN       6\n",
              "56843  129694444436         NaN       5\n",
              "58424    9902565673         NaN       9\n",
              "59456  286402410468         NaN       9\n",
              "60437  139447814002         NaN       6\n",
              "61588  131340015522         NaN       6\n",
              "63030  245484151360         NaN       6\n",
              "64973  168573423884         NaN       6\n",
              "65088  340507428300         NaN       8\n",
              "70851  238679955120         NaN       8\n",
              "73343   37591085676         NaN       9\n",
              "74820  316084589712         NaN       8\n",
              "74910  238717502172         NaN       2\n",
              "75345  164267763420         NaN       8\n",
              "76347  171266078130         NaN       8\n",
              "76612   58898460115         NaN       6\n",
              "84487  299207228784         NaN       8\n",
              "87656  127063097040         NaN      10\n",
              "90874  343529906439         NaN       8\n",
              "91798   52821937665         NaN       6"
            ]
          },
          "metadata": {
            "tags": []
          },
          "execution_count": 9
        }
      ]
    },
    {
      "cell_type": "code",
      "metadata": {
        "colab": {
          "base_uri": "https://localhost:8080/"
        },
        "id": "tuutPeeBwc54",
        "outputId": "6a20143e-d3ab-4620-e5d1-f59bb76b639c"
      },
      "source": [
        "# choosing to keep the nulls - assuming a prdocut_id wasn't labeled right\n",
        "df[\"product_id\"].value_counts()"
      ],
      "execution_count": 10,
      "outputs": [
        {
          "output_type": "execute_result",
          "data": {
            "text/plain": [
              "9.680483e+11    1281\n",
              "6.282665e+11     811\n",
              "9.876884e+09     549\n",
              "3.233516e+09     476\n",
              "4.908337e+09     473\n",
              "                ... \n",
              "1.264997e+12       1\n",
              "9.772420e+11       1\n",
              "5.287477e+11       1\n",
              "1.143797e+12       1\n",
              "4.054371e+10       1\n",
              "Name: product_id, Length: 3913, dtype: int64"
            ]
          },
          "metadata": {
            "tags": []
          },
          "execution_count": 10
        }
      ]
    },
    {
      "cell_type": "code",
      "metadata": {
        "id": "hnG5Z1sh3AOc"
      },
      "source": [
        "# random number\n",
        "df = df.fillna(2.3429352029385)"
      ],
      "execution_count": 11,
      "outputs": []
    },
    {
      "cell_type": "code",
      "metadata": {
        "colab": {
          "base_uri": "https://localhost:8080/",
          "height": 419
        },
        "id": "QUw3i8OK-XJh",
        "outputId": "5a91168e-4115-4639-b3b3-f0a2f537fb48"
      },
      "source": [
        "df"
      ],
      "execution_count": 12,
      "outputs": [
        {
          "output_type": "execute_result",
          "data": {
            "text/html": [
              "<div>\n",
              "<style scoped>\n",
              "    .dataframe tbody tr th:only-of-type {\n",
              "        vertical-align: middle;\n",
              "    }\n",
              "\n",
              "    .dataframe tbody tr th {\n",
              "        vertical-align: top;\n",
              "    }\n",
              "\n",
              "    .dataframe thead th {\n",
              "        text-align: right;\n",
              "    }\n",
              "</style>\n",
              "<table border=\"1\" class=\"dataframe\">\n",
              "  <thead>\n",
              "    <tr style=\"text-align: right;\">\n",
              "      <th></th>\n",
              "      <th>user_id</th>\n",
              "      <th>product_id</th>\n",
              "      <th>rating</th>\n",
              "    </tr>\n",
              "  </thead>\n",
              "  <tbody>\n",
              "    <tr>\n",
              "      <th>0</th>\n",
              "      <td>8765713110</td>\n",
              "      <td>1.623200e+12</td>\n",
              "      <td>10</td>\n",
              "    </tr>\n",
              "    <tr>\n",
              "      <th>5</th>\n",
              "      <td>8765713110</td>\n",
              "      <td>3.534724e+11</td>\n",
              "      <td>9</td>\n",
              "    </tr>\n",
              "    <tr>\n",
              "      <th>6</th>\n",
              "      <td>8765713110</td>\n",
              "      <td>1.623200e+12</td>\n",
              "      <td>9</td>\n",
              "    </tr>\n",
              "    <tr>\n",
              "      <th>7</th>\n",
              "      <td>8765713110</td>\n",
              "      <td>1.352859e+12</td>\n",
              "      <td>9</td>\n",
              "    </tr>\n",
              "    <tr>\n",
              "      <th>12</th>\n",
              "      <td>8765713110</td>\n",
              "      <td>1.259833e+12</td>\n",
              "      <td>9</td>\n",
              "    </tr>\n",
              "    <tr>\n",
              "      <th>...</th>\n",
              "      <td>...</td>\n",
              "      <td>...</td>\n",
              "      <td>...</td>\n",
              "    </tr>\n",
              "    <tr>\n",
              "      <th>93324</th>\n",
              "      <td>339223994897</td>\n",
              "      <td>4.569589e+11</td>\n",
              "      <td>8</td>\n",
              "    </tr>\n",
              "    <tr>\n",
              "      <th>93325</th>\n",
              "      <td>339223994897</td>\n",
              "      <td>7.906555e+11</td>\n",
              "      <td>8</td>\n",
              "    </tr>\n",
              "    <tr>\n",
              "      <th>93326</th>\n",
              "      <td>339223994897</td>\n",
              "      <td>1.406024e+12</td>\n",
              "      <td>8</td>\n",
              "    </tr>\n",
              "    <tr>\n",
              "      <th>93327</th>\n",
              "      <td>339223994897</td>\n",
              "      <td>3.394940e+11</td>\n",
              "      <td>7</td>\n",
              "    </tr>\n",
              "    <tr>\n",
              "      <th>93328</th>\n",
              "      <td>117670696290</td>\n",
              "      <td>9.680483e+11</td>\n",
              "      <td>8</td>\n",
              "    </tr>\n",
              "  </tbody>\n",
              "</table>\n",
              "<p>90004 rows × 3 columns</p>\n",
              "</div>"
            ],
            "text/plain": [
              "            user_id    product_id  rating\n",
              "0        8765713110  1.623200e+12      10\n",
              "5        8765713110  3.534724e+11       9\n",
              "6        8765713110  1.623200e+12       9\n",
              "7        8765713110  1.352859e+12       9\n",
              "12       8765713110  1.259833e+12       9\n",
              "...             ...           ...     ...\n",
              "93324  339223994897  4.569589e+11       8\n",
              "93325  339223994897  7.906555e+11       8\n",
              "93326  339223994897  1.406024e+12       8\n",
              "93327  339223994897  3.394940e+11       7\n",
              "93328  117670696290  9.680483e+11       8\n",
              "\n",
              "[90004 rows x 3 columns]"
            ]
          },
          "metadata": {
            "tags": []
          },
          "execution_count": 12
        }
      ]
    },
    {
      "cell_type": "code",
      "metadata": {
        "colab": {
          "base_uri": "https://localhost:8080/"
        },
        "id": "4AmKhbat-cE3",
        "outputId": "d7be9e6d-199c-458b-9dd6-6c1f6066e073"
      },
      "source": [
        "# viewing ratings value\n",
        "df[\"rating\"].value_counts()"
      ],
      "execution_count": 13,
      "outputs": [
        {
          "output_type": "execute_result",
          "data": {
            "text/plain": [
              "8     36191\n",
              "7     19983\n",
              "6     11347\n",
              "9     10240\n",
              "10     7058\n",
              "5      2519\n",
              "4      1674\n",
              "2       658\n",
              "3       334\n",
              "Name: rating, dtype: int64"
            ]
          },
          "metadata": {
            "tags": []
          },
          "execution_count": 13
        }
      ]
    },
    {
      "cell_type": "code",
      "metadata": {
        "colab": {
          "base_uri": "https://localhost:8080/"
        },
        "id": "XtRU8M08-hj6",
        "outputId": "8ae1f5a4-4a1c-4a35-96ff-3e41b031bf52"
      },
      "source": [
        "# checking shapes\n",
        "df[\"product_id\"].unique().shape"
      ],
      "execution_count": 14,
      "outputs": [
        {
          "output_type": "execute_result",
          "data": {
            "text/plain": [
              "(3914,)"
            ]
          },
          "metadata": {
            "tags": []
          },
          "execution_count": 14
        }
      ]
    },
    {
      "cell_type": "code",
      "metadata": {
        "colab": {
          "base_uri": "https://localhost:8080/"
        },
        "id": "QW5zg-1R-jUP",
        "outputId": "5b8eeee6-f80d-44c2-da73-081fbf1f36e0"
      },
      "source": [
        "df[\"user_id\"].unique().shape"
      ],
      "execution_count": 15,
      "outputs": [
        {
          "output_type": "execute_result",
          "data": {
            "text/plain": [
              "(16838,)"
            ]
          },
          "metadata": {
            "tags": []
          },
          "execution_count": 15
        }
      ]
    },
    {
      "cell_type": "code",
      "metadata": {
        "colab": {
          "base_uri": "https://localhost:8080/"
        },
        "id": "CKHHt5i9-lEO",
        "outputId": "ae85d183-75ab-444a-aa46-c21543efd359"
      },
      "source": [
        "df.groupby('user_id')['product_id'].count().mean()"
      ],
      "execution_count": 16,
      "outputs": [
        {
          "output_type": "execute_result",
          "data": {
            "text/plain": [
              "5.345290414538543"
            ]
          },
          "metadata": {
            "tags": []
          },
          "execution_count": 16
        }
      ]
    },
    {
      "cell_type": "code",
      "metadata": {
        "id": "uBQGTHWU-mso"
      },
      "source": [
        "# setting up the data to be modelled\n",
        "ratings = 'rating'\n",
        "users = 'user_id'\n",
        "product = 'product_id'\n",
        "\n",
        "ratings = np.array(df[ratings])\n",
        "users = np.array(df[users])\n",
        "product = np.array(df[product])"
      ],
      "execution_count": 17,
      "outputs": []
    },
    {
      "cell_type": "code",
      "metadata": {
        "id": "DmK2OSz7-uaP"
      },
      "source": [
        "# heavy lifting encoders\n",
        "user_encoder = LabelEncoder()\n",
        "product_encoder = LabelEncoder()\n",
        "\n",
        "# preparation for the csr matrix\n",
        "u = user_encoder.fit_transform(users)\n",
        "p = product_encoder.fit_transform(product)\n",
        "lu = len(np.unique(u))\n",
        "lp = len(np.unique(p))"
      ],
      "execution_count": 18,
      "outputs": []
    },
    {
      "cell_type": "code",
      "metadata": {
        "id": "AxAtcEov-wnN"
      },
      "source": [
        "interactions = csr_matrix((ratings, (u, p)), shape=(lu, lp))"
      ],
      "execution_count": 19,
      "outputs": []
    },
    {
      "cell_type": "code",
      "metadata": {
        "id": "0azx4E-K-33d"
      },
      "source": [
        "# built this quick - simple way to set up future data\n",
        "class InteractionMachine:\n",
        "    def __init__(self):\n",
        "        self.user_encoder = LabelEncoder()\n",
        "        self.product_encoder = LabelEncoder()\n",
        "\n",
        "    def __repr__(self):\n",
        "        return 'InteractionMachine()'\n",
        "\n",
        "    def build(self, users, items, ratings):\n",
        "        u = self.user_encoder.fit_transform(users)\n",
        "        p = self.product_encoder.fit_transform(product)\n",
        "        self.n_users = len(np.unique(u))\n",
        "        self.n_product = len(np.unique(p))\n",
        "        self.interactions = csr_matrix((ratings, (u, p)), shape=(self.n_users, self.n_product))\n",
        "        return self"
      ],
      "execution_count": 20,
      "outputs": []
    },
    {
      "cell_type": "code",
      "metadata": {
        "id": "iGow5gk9-6oS"
      },
      "source": [
        "im = InteractionMachine()\n",
        "\n",
        "im.build(df['user_id'], df['product_id'], df['rating'])\n",
        "\n",
        "interactions = im.interactions"
      ],
      "execution_count": 21,
      "outputs": []
    },
    {
      "cell_type": "code",
      "metadata": {
        "colab": {
          "base_uri": "https://localhost:8080/"
        },
        "id": "aFwU0fIh-87b",
        "outputId": "5e1b2ec1-0715-4a31-f518-3b2a6a988fce"
      },
      "source": [
        "interactions.toarray()"
      ],
      "execution_count": 22,
      "outputs": [
        {
          "output_type": "execute_result",
          "data": {
            "text/plain": [
              "array([[0, 0, 0, ..., 0, 0, 0],\n",
              "       [0, 0, 0, ..., 0, 0, 0],\n",
              "       [0, 0, 0, ..., 0, 0, 0],\n",
              "       ...,\n",
              "       [0, 0, 0, ..., 0, 0, 0],\n",
              "       [0, 0, 0, ..., 0, 0, 0],\n",
              "       [0, 0, 0, ..., 0, 0, 0]], dtype=int64)"
            ]
          },
          "metadata": {
            "tags": []
          },
          "execution_count": 22
        }
      ]
    },
    {
      "cell_type": "code",
      "metadata": {
        "id": "Vyfybe15--9r"
      },
      "source": [
        "# begin the modelling - using LightFM - basics\n",
        "model = LightFM()"
      ],
      "execution_count": 23,
      "outputs": []
    },
    {
      "cell_type": "code",
      "metadata": {
        "colab": {
          "base_uri": "https://localhost:8080/"
        },
        "id": "v8-WbPqL_BZm",
        "outputId": "6af58e85-6ee2-4e7f-cc36-9b93ed3cb2bf"
      },
      "source": [
        "model.fit(interactions)"
      ],
      "execution_count": 24,
      "outputs": [
        {
          "output_type": "execute_result",
          "data": {
            "text/plain": [
              "<lightfm.lightfm.LightFM at 0x7f4d71de9850>"
            ]
          },
          "metadata": {
            "tags": []
          },
          "execution_count": 24
        }
      ]
    },
    {
      "cell_type": "code",
      "metadata": {
        "colab": {
          "base_uri": "https://localhost:8080/"
        },
        "id": "GWo4ixgV_DSj",
        "outputId": "0282742d-3f2d-43cc-f6da-971e4582cd90"
      },
      "source": [
        "model.predict(0, [1, 2, 3])"
      ],
      "execution_count": 25,
      "outputs": [
        {
          "output_type": "execute_result",
          "data": {
            "text/plain": [
              "array([0.2835276 , 0.18246694, 0.32236135], dtype=float32)"
            ]
          },
          "metadata": {
            "tags": []
          },
          "execution_count": 25
        }
      ]
    },
    {
      "cell_type": "code",
      "metadata": {
        "colab": {
          "base_uri": "https://localhost:8080/"
        },
        "id": "xNDgrSYI_Exd",
        "outputId": "b8b4e6de-556d-4d0d-a3dc-c3f3ad8df583"
      },
      "source": [
        "auc_score(model, interactions).mean()"
      ],
      "execution_count": 26,
      "outputs": [
        {
          "output_type": "execute_result",
          "data": {
            "text/plain": [
              "0.84858984"
            ]
          },
          "metadata": {
            "tags": []
          },
          "execution_count": 26
        }
      ]
    },
    {
      "cell_type": "code",
      "metadata": {
        "colab": {
          "base_uri": "https://localhost:8080/"
        },
        "id": "xvZk-KDE_GQ5",
        "outputId": "6dec1ac7-4753-4336-92f5-83cc868c7600"
      },
      "source": [
        "precision_at_k(model, interactions, k=10).mean()"
      ],
      "execution_count": 27,
      "outputs": [
        {
          "output_type": "execute_result",
          "data": {
            "text/plain": [
              "0.03169022"
            ]
          },
          "metadata": {
            "tags": []
          },
          "execution_count": 27
        }
      ]
    },
    {
      "cell_type": "code",
      "metadata": {
        "id": "tIaq0sSi_Imr"
      },
      "source": [
        "# splitting data - real model begins\n",
        "train, test = random_train_test_split(interactions, test_percentage=0.2, random_state=13)"
      ],
      "execution_count": 28,
      "outputs": []
    },
    {
      "cell_type": "code",
      "metadata": {
        "colab": {
          "base_uri": "https://localhost:8080/"
        },
        "id": "T30Acbye_N5w",
        "outputId": "336bd1f8-9f71-4e82-ad00-409ef3e4a555"
      },
      "source": [
        "model = LightFM()\n",
        "model.fit(train, epochs=500)"
      ],
      "execution_count": 29,
      "outputs": [
        {
          "output_type": "execute_result",
          "data": {
            "text/plain": [
              "<lightfm.lightfm.LightFM at 0x7f4d71e47f90>"
            ]
          },
          "metadata": {
            "tags": []
          },
          "execution_count": 29
        }
      ]
    },
    {
      "cell_type": "code",
      "metadata": {
        "colab": {
          "base_uri": "https://localhost:8080/"
        },
        "id": "bonmG0z6_Qqa",
        "outputId": "e2bb82a5-e0f9-43b8-b2af-b5cc863391ab"
      },
      "source": [
        "auc_score(model, test).mean()"
      ],
      "execution_count": 30,
      "outputs": [
        {
          "output_type": "execute_result",
          "data": {
            "text/plain": [
              "0.83575296"
            ]
          },
          "metadata": {
            "tags": []
          },
          "execution_count": 30
        }
      ]
    },
    {
      "cell_type": "code",
      "metadata": {
        "id": "RO4GWZ8__bRd"
      },
      "source": [
        "# full block - base model to beat\n",
        "model = LightFM(loss='warp')\n",
        "\n",
        "scores = []\n",
        "for e in range(50):\n",
        "    model.fit_partial(train, epochs=1)\n",
        "    auc_train = auc_score(model, train).mean()\n",
        "    auc_test = auc_score(model, test).mean()\n",
        "    scores.append((auc_train, auc_test))\n",
        "    \n",
        "scores = np.array(scores)"
      ],
      "execution_count": 31,
      "outputs": []
    },
    {
      "cell_type": "code",
      "metadata": {
        "colab": {
          "base_uri": "https://localhost:8080/",
          "height": 282
        },
        "id": "J7-URVG6_ezW",
        "outputId": "036afcc6-2cb4-43ba-b456-2d52a5ce5ba9"
      },
      "source": [
        "# shows overfitting\n",
        "plt.plot(scores[:, 0], label='train')\n",
        "plt.plot(scores[:, 1], label='test')\n",
        "plt.legend()"
      ],
      "execution_count": 32,
      "outputs": [
        {
          "output_type": "execute_result",
          "data": {
            "text/plain": [
              "<matplotlib.legend.Legend at 0x7f4d71dc5810>"
            ]
          },
          "metadata": {
            "tags": []
          },
          "execution_count": 32
        },
        {
          "output_type": "display_data",
          "data": {
            "image/png": "[encoded data removed]",
            "text/plain": [
              "<Figure size 432x288 with 1 Axes>"
            ]
          },
          "metadata": {
            "tags": [],
            "needs_background": "light"
          }
        }
      ]
    },
    {
      "cell_type": "code",
      "metadata": {
        "colab": {
          "base_uri": "https://localhost:8080/"
        },
        "id": "oZ_NK13X_hMR",
        "outputId": "75b33c5f-73e5-459e-b487-7528f0ae1a75"
      },
      "source": [
        "# base models\n",
        "model = LightFM(loss='warp')\n",
        "\n",
        "count = 0\n",
        "best = 0\n",
        "scores = []\n",
        "for e in range(100):\n",
        "    if count > 5: # patience\n",
        "        break\n",
        "    model.fit_partial(train, epochs=1)\n",
        "    auc_train = auc_score(model, train).mean()\n",
        "    auc_test = auc_score(model, test).mean()\n",
        "    print(f'Epoch: {e}, Train AUC={auc_train:.3f}, Test AUC={auc_test:.3f}')\n",
        "    scores.append((auc_train, auc_test))\n",
        "    if auc_test > best:\n",
        "        model = deepcopy(model)\n",
        "        best = auc_test\n",
        "    else:\n",
        "        count += 1\n",
        "\n",
        "model = deepcopy(model)"
      ],
      "execution_count": 33,
      "outputs": [
        {
          "output_type": "stream",
          "text": [
            "Epoch: 0, Train AUC=0.825, Test AUC=0.806\n",
            "Epoch: 1, Train AUC=0.851, Test AUC=0.819\n",
            "Epoch: 2, Train AUC=0.875, Test AUC=0.829\n",
            "Epoch: 3, Train AUC=0.894, Test AUC=0.836\n",
            "Epoch: 4, Train AUC=0.907, Test AUC=0.840\n",
            "Epoch: 5, Train AUC=0.917, Test AUC=0.842\n",
            "Epoch: 6, Train AUC=0.925, Test AUC=0.843\n",
            "Epoch: 7, Train AUC=0.931, Test AUC=0.843\n",
            "Epoch: 8, Train AUC=0.937, Test AUC=0.843\n",
            "Epoch: 9, Train AUC=0.941, Test AUC=0.843\n",
            "Epoch: 10, Train AUC=0.945, Test AUC=0.842\n",
            "Epoch: 11, Train AUC=0.948, Test AUC=0.841\n",
            "Epoch: 12, Train AUC=0.951, Test AUC=0.841\n",
            "Epoch: 13, Train AUC=0.954, Test AUC=0.840\n"
          ],
          "name": "stdout"
        }
      ]
    },
    {
      "cell_type": "code",
      "metadata": {
        "colab": {
          "base_uri": "https://localhost:8080/"
        },
        "id": "OKp2-DrYJcO9",
        "outputId": "38cd9844-f2f1-437e-bc43-2c5d30d59780"
      },
      "source": [
        "# finding the best parameters on 200 samples\n",
        "# this code was from stack overflow - customized to fit my situation\n",
        "\n",
        "def sample_hyperparameters():\n",
        "    \"\"\"\n",
        "    Yield possible hyperparameter choices.\n",
        "    \"\"\"\n",
        "\n",
        "    while True:\n",
        "        yield {\n",
        "            \"no_components\": np.random.randint(8, 64),\n",
        "            \"learning_schedule\": np.random.choice([\"adagrad\", \"adadelta\"]),\n",
        "            \"loss\": np.random.choice([\"bpr\", \"warp\", \"warp-kos\"]),\n",
        "            \"learning_rate\": np.random.exponential(0.05),\n",
        "            \"item_alpha\": np.random.exponential(1e-8),\n",
        "            \"user_alpha\": np.random.exponential(1e-8),\n",
        "            \"max_sampled\": np.random.randint(5, 15),\n",
        "            \"num_epochs\": np.random.randint(5, 50),\n",
        "        }\n",
        "\n",
        "\n",
        "def random_search(train, test, num_samples=200, num_threads=1):\n",
        "    \"\"\"\n",
        "    Sample random hyperparameters, fit a LightFM model, and evaluate it\n",
        "    on the test set.\n",
        "\n",
        "    Parameters\n",
        "    ----------\n",
        "\n",
        "    train: np.float32 coo_matrix of shape [n_users, n_items]\n",
        "        Training data.\n",
        "    test: np.float32 coo_matrix of shape [n_users, n_items]\n",
        "        Test data.\n",
        "    num_samples: int, optional\n",
        "        Number of hyperparameter choices to evaluate.\n",
        "\n",
        "\n",
        "    Returns\n",
        "    -------\n",
        "\n",
        "    generator of (auc_score, hyperparameter dict, fitted model)\n",
        "\n",
        "    \"\"\"\n",
        "\n",
        "    for hyperparams in itertools.islice(sample_hyperparameters(), num_samples):\n",
        "        num_epochs = hyperparams.pop(\"num_epochs\")\n",
        "\n",
        "        model = LightFM(**hyperparams)\n",
        "        model.fit(train, epochs=num_epochs, num_threads=num_threads)\n",
        "\n",
        "        score = auc_score(model, test, train_interactions=train, num_threads=num_threads).mean()\n",
        "\n",
        "        hyperparams[\"num_epochs\"] = num_epochs\n",
        "\n",
        "        yield (score, hyperparams, model)\n",
        "\n",
        "\n",
        "if __name__ == \"__main__\":\n",
        "    train = train\n",
        "    test = test\n",
        "\n",
        "    (score, hyperparams, model) = max(random_search(train, test, num_threads=2), key=lambda x: x[0])\n",
        "\n",
        "    print(\"Best score {} at {}\".format(score, hyperparams))"
      ],
      "execution_count": 34,
      "outputs": [
        {
          "output_type": "stream",
          "text": [
            "Best score 0.8528929352760315 at {'no_components': 22, 'learning_schedule': 'adadelta', 'loss': 'warp', 'learning_rate': 0.03736805420081851, 'item_alpha': 2.4888882516771975e-09, 'user_alpha': 7.573440641174502e-09, 'max_sampled': 6, 'num_epochs': 7}\n"
          ],
          "name": "stdout"
        }
      ]
    },
    {
      "cell_type": "code",
      "metadata": {
        "id": "08gOL4OlMCln"
      },
      "source": [
        "model = LightFM(no_components = 22, learning_schedule = 'adadelta', loss = 'warp', learning_rate = 0.03736805420081851, item_alpha = 2.4888882516771975e-09, user_alpha = 7.573440641174502e-09, max_sampled = 6)\n",
        "\n",
        "scores = []\n",
        "for e in range(8):\n",
        "    model.fit_partial(train, epochs=1)\n",
        "    auc_train = auc_score(model, train).mean()\n",
        "    auc_test = auc_score(model, test).mean()\n",
        "    scores.append((auc_train, auc_test))\n",
        "    \n",
        "scores = np.array(scores)"
      ],
      "execution_count": 35,
      "outputs": []
    },
    {
      "cell_type": "code",
      "metadata": {
        "colab": {
          "base_uri": "https://localhost:8080/",
          "height": 282
        },
        "id": "4r-3opN6NdZe",
        "outputId": "6efffd7e-fb21-4e4b-8af7-a5e182d17ec5"
      },
      "source": [
        " # better fits\n",
        "plt.plot(scores[:, 0], label='train')\n",
        "plt.plot(scores[:, 1], label='test')\n",
        "plt.legend()"
      ],
      "execution_count": 36,
      "outputs": [
        {
          "output_type": "execute_result",
          "data": {
            "text/plain": [
              "<matplotlib.legend.Legend at 0x7f4d71821a90>"
            ]
          },
          "metadata": {
            "tags": []
          },
          "execution_count": 36
        },
        {
          "output_type": "display_data",
          "data": {
            "image/png": "[encoded data removed]",
            "text/plain": [
              "<Figure size 432x288 with 1 Axes>"
            ]
          },
          "metadata": {
            "tags": [],
            "needs_background": "light"
          }
        }
      ]
    },
    {
      "cell_type": "code",
      "metadata": {
        "colab": {
          "base_uri": "https://localhost:8080/"
        },
        "id": "CC7yBcbscbqu",
        "outputId": "39cea7ad-cc88-4c69-92eb-7648de45e002"
      },
      "source": [
        "model = LightFM(no_components = 22, learning_schedule = 'adadelta', loss = 'warp', learning_rate = 0.03736805420081851, item_alpha = 2.4888882516771975e-09, user_alpha = 7.573440641174502e-09, max_sampled = 6)\n",
        "\n",
        "count = 0\n",
        "best = 0\n",
        "scores = []\n",
        "for e in range(10):\n",
        "    if count > 3: # patience\n",
        "        break\n",
        "    model.fit_partial(train, epochs=1)\n",
        "    auc_train = auc_score(model, train).mean()\n",
        "    auc_test = auc_score(model, test).mean()\n",
        "    print(f'Epoch: {e}, Train AUC={auc_train:.3f}, Test AUC={auc_test:.3f}')\n",
        "    scores.append((auc_train, auc_test))\n",
        "    if auc_test > best:\n",
        "        best_model = deepcopy(model)\n",
        "        best = auc_test\n",
        "    else:\n",
        "        count += 1\n",
        "\n",
        "model = deepcopy(best_model)"
      ],
      "execution_count": 37,
      "outputs": [
        {
          "output_type": "stream",
          "text": [
            "Epoch: 0, Train AUC=0.842, Test AUC=0.826\n",
            "Epoch: 1, Train AUC=0.853, Test AUC=0.833\n",
            "Epoch: 2, Train AUC=0.865, Test AUC=0.840\n",
            "Epoch: 3, Train AUC=0.877, Test AUC=0.845\n",
            "Epoch: 4, Train AUC=0.888, Test AUC=0.848\n",
            "Epoch: 5, Train AUC=0.899, Test AUC=0.851\n",
            "Epoch: 6, Train AUC=0.910, Test AUC=0.852\n",
            "Epoch: 7, Train AUC=0.921, Test AUC=0.852\n",
            "Epoch: 8, Train AUC=0.930, Test AUC=0.853\n",
            "Epoch: 9, Train AUC=0.939, Test AUC=0.852\n"
          ],
          "name": "stdout"
        }
      ]
    },
    {
      "cell_type": "code",
      "metadata": {
        "id": "vtGBlRuaE1OX"
      },
      "source": [
        "## After building my recommendation algo using LightFM - you can see I beat the results from the assignment."
      ],
      "execution_count": null,
      "outputs": []
    }
  ]
}