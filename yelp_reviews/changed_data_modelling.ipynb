{
  "nbformat": 4,
  "nbformat_minor": 0,
  "metadata": {
    "colab": {
      "name": "changed_data_modelling.ipynb",
      "provenance": [],
      "collapsed_sections": []
    },
    "kernelspec": {
      "name": "python3",
      "display_name": "Python 3"
    }
  },
  "cells": [
    {
      "cell_type": "code",
      "metadata": {
        "colab": {
          "base_uri": "https://localhost:8080/"
        },
        "id": "EehayggslDgh",
        "outputId": "2800a9b9-704d-4f5c-d397-6bf468cb68d4"
      },
      "source": [
        "from google.colab import drive\n",
        "drive.mount('/content/gdrive')"
      ],
      "execution_count": 1,
      "outputs": [
        {
          "output_type": "stream",
          "text": [
            "Drive already mounted at /content/gdrive; to attempt to forcibly remount, call drive.mount(\"/content/gdrive\", force_remount=True).\n"
          ],
          "name": "stdout"
        }
      ]
    },
    {
      "cell_type": "code",
      "metadata": {
        "id": "ksl8dpONlSoA"
      },
      "source": [
        "import pandas as pd\n",
        "\n",
        "from sklearn.model_selection import train_test_split, GridSearchCV\n",
        "from sklearn.preprocessing import LabelBinarizer, StandardScaler\n",
        "from sklearn.linear_model import LogisticRegression, Lasso, Ridge, ElasticNet\n",
        "from sklearn.ensemble import RandomForestClassifier, AdaBoostClassifier\n",
        "from sklearn.tree import DecisionTreeClassifier\n",
        "from sklearn_pandas import DataFrameMapper\n",
        "\n",
        "import tensorflow as tf\n",
        "from tensorflow import keras\n",
        "\n",
        "from tensorflow.keras.models import Sequential\n",
        "from tensorflow.keras.layers import Dense, Input\n",
        "from tensorflow.keras.utils import to_categorical"
      ],
      "execution_count": 2,
      "outputs": []
    },
    {
      "cell_type": "code",
      "metadata": {
        "id": "kz4PPehzl9hr"
      },
      "source": [
        "df = pd.read_csv('gdrive/My Drive/Colab Notebooks/data/changed_data.csv')"
      ],
      "execution_count": 3,
      "outputs": []
    },
    {
      "cell_type": "code",
      "metadata": {
        "colab": {
          "base_uri": "https://localhost:8080/",
          "height": 151
        },
        "id": "u3MRoZbwmKt0",
        "outputId": "31071d80-5bda-4c32-a0da-1b441c7cf6b3"
      },
      "source": [
        "df.head(1)"
      ],
      "execution_count": 4,
      "outputs": [
        {
          "output_type": "execute_result",
          "data": {
            "text/html": [
              "<div>\n",
              "<style scoped>\n",
              "    .dataframe tbody tr th:only-of-type {\n",
              "        vertical-align: middle;\n",
              "    }\n",
              "\n",
              "    .dataframe tbody tr th {\n",
              "        vertical-align: top;\n",
              "    }\n",
              "\n",
              "    .dataframe thead th {\n",
              "        text-align: right;\n",
              "    }\n",
              "</style>\n",
              "<table border=\"1\" class=\"dataframe\">\n",
              "  <thead>\n",
              "    <tr style=\"text-align: right;\">\n",
              "      <th></th>\n",
              "      <th>Unnamed: 0</th>\n",
              "      <th>business_id</th>\n",
              "      <th>date</th>\n",
              "      <th>review_id</th>\n",
              "      <th>stars</th>\n",
              "      <th>type</th>\n",
              "      <th>user_id</th>\n",
              "      <th>cool</th>\n",
              "      <th>useful</th>\n",
              "      <th>funny</th>\n",
              "      <th>first_word</th>\n",
              "      <th>second_word</th>\n",
              "      <th>third_word</th>\n",
              "      <th>fourth_word</th>\n",
              "      <th>fifth_word</th>\n",
              "      <th>sixth_word</th>\n",
              "      <th>seventh_word</th>\n",
              "      <th>eighth_word</th>\n",
              "      <th>ninth_word</th>\n",
              "      <th>tenth_word</th>\n",
              "      <th>elevnth_word</th>\n",
              "      <th>twelfth_word</th>\n",
              "      <th>thirteenth_word</th>\n",
              "      <th>fourteenth_word</th>\n",
              "      <th>fifteenth_word</th>\n",
              "      <th>sixteenth_word</th>\n",
              "      <th>seventeenth_word</th>\n",
              "      <th>eighteenth_word</th>\n",
              "      <th>nineteenth_word</th>\n",
              "      <th>twentieth_word</th>\n",
              "    </tr>\n",
              "  </thead>\n",
              "  <tbody>\n",
              "    <tr>\n",
              "      <th>0</th>\n",
              "      <td>0</td>\n",
              "      <td>9yKzy9PApeiPPOUJEtnvkg</td>\n",
              "      <td>2011-01-26</td>\n",
              "      <td>fWKvX83p0-ka4JS3dc6E5A</td>\n",
              "      <td>5</td>\n",
              "      <td>review</td>\n",
              "      <td>rLtl8ZkDX5vH5nAx9C3q5Q</td>\n",
              "      <td>2</td>\n",
              "      <td>5</td>\n",
              "      <td>0</td>\n",
              "      <td>My</td>\n",
              "      <td>wife</td>\n",
              "      <td>took</td>\n",
              "      <td>me</td>\n",
              "      <td>here</td>\n",
              "      <td>on</td>\n",
              "      <td>my</td>\n",
              "      <td>birthday</td>\n",
              "      <td>for</td>\n",
              "      <td>breakfast</td>\n",
              "      <td>and</td>\n",
              "      <td>it</td>\n",
              "      <td>was</td>\n",
              "      <td>excellent.</td>\n",
              "      <td>NaN</td>\n",
              "      <td>The</td>\n",
              "      <td>weather</td>\n",
              "      <td>was</td>\n",
              "      <td>perfect</td>\n",
              "      <td>which</td>\n",
              "    </tr>\n",
              "  </tbody>\n",
              "</table>\n",
              "</div>"
            ],
            "text/plain": [
              "   Unnamed: 0             business_id  ... nineteenth_word twentieth_word\n",
              "0           0  9yKzy9PApeiPPOUJEtnvkg  ...         perfect          which\n",
              "\n",
              "[1 rows x 30 columns]"
            ]
          },
          "metadata": {
            "tags": []
          },
          "execution_count": 4
        }
      ]
    },
    {
      "cell_type": "code",
      "metadata": {
        "id": "5zg3d10Nrs6U"
      },
      "source": [
        "df = df.fillna(\"n/a\")"
      ],
      "execution_count": 5,
      "outputs": []
    },
    {
      "cell_type": "code",
      "metadata": {
        "id": "-J3QJ3zjsh1c"
      },
      "source": [
        "df = df.drop(df.columns[25:],axis=1)"
      ],
      "execution_count": 6,
      "outputs": []
    },
    {
      "cell_type": "code",
      "metadata": {
        "id": "dbUemMI9mNRN"
      },
      "source": [
        "target = \"stars\"\n",
        "X = df.drop(target, axis=1)\n",
        "y = df[target]"
      ],
      "execution_count": 7,
      "outputs": []
    },
    {
      "cell_type": "code",
      "metadata": {
        "id": "ZPS9_lGsmViP"
      },
      "source": [
        "X_train, X_test, y_train, y_test = train_test_split(X, y, random_state=42)"
      ],
      "execution_count": 8,
      "outputs": []
    },
    {
      "cell_type": "code",
      "metadata": {
        "id": "8knhjgeJmb8B"
      },
      "source": [
        "mapper = DataFrameMapper([\n",
        "    ([\"cool\"], StandardScaler()),\n",
        "    ([\"useful\"], StandardScaler()),\n",
        "    ([\"funny\"], StandardScaler()),\n",
        "    (\"first_word\", LabelBinarizer()),\n",
        "    (\"second_word\", LabelBinarizer()),\n",
        "    (\"third_word\", LabelBinarizer()),\n",
        "    (\"fourth_word\", LabelBinarizer()),\n",
        "    (\"fifth_word\", LabelBinarizer()),\n",
        "    (\"sixth_word\", LabelBinarizer()),\n",
        "    (\"seventh_word\", LabelBinarizer()),\n",
        "    (\"eighth_word\", LabelBinarizer()),\n",
        "#    (\"ninth_word\", LabelBinarizer()),\n",
        "#    (\"tenth_word\", LabelBinarizer()),\n",
        "#    (\"elevnth_word\", LabelBinarizer()),\n",
        "#    (\"twelfth_word\", LabelBinarizer()),\n",
        "#    (\"thirteenth_word\", LabelBinarizer()),\n",
        "#    (\"fourteenth_word\", LabelBinarizer()),\n",
        "#    (\"fifteenth_word\", LabelBinarizer())\n",
        "],df_out=True)"
      ],
      "execution_count": 9,
      "outputs": []
    },
    {
      "cell_type": "code",
      "metadata": {
        "id": "-QsqvmTJmhbe"
      },
      "source": [
        "Z_train = mapper.fit_transform(X_train)\n",
        "Z_test = mapper.transform(X_test)"
      ],
      "execution_count": 10,
      "outputs": []
    },
    {
      "cell_type": "code",
      "metadata": {
        "colab": {
          "base_uri": "https://localhost:8080/"
        },
        "id": "njr_kEa1njlO",
        "outputId": "735ba838-bfde-4f94-8de5-d77f3cd20f56"
      },
      "source": [
        "model = LogisticRegression().fit(Z_train,y_train)\n",
        "print(\"Logistic Regression train score is \" + str(model.score(Z_train,y_train)))\n",
        "print(\"Logistic Regression test score is \" + str(model.score(Z_test,y_test)))"
      ],
      "execution_count": 14,
      "outputs": [
        {
          "output_type": "stream",
          "text": [
            "/usr/local/lib/python3.6/dist-packages/sklearn/linear_model/_logistic.py:940: ConvergenceWarning: lbfgs failed to converge (status=1):\n",
            "STOP: TOTAL NO. of ITERATIONS REACHED LIMIT.\n",
            "\n",
            "Increase the number of iterations (max_iter) or scale the data as shown in:\n",
            "    https://scikit-learn.org/stable/modules/preprocessing.html\n",
            "Please also refer to the documentation for alternative solver options:\n",
            "    https://scikit-learn.org/stable/modules/linear_model.html#logistic-regression\n",
            "  extra_warning_msg=_LOGISTIC_SOLVER_CONVERGENCE_MSG)\n"
          ],
          "name": "stderr"
        },
        {
          "output_type": "stream",
          "text": [
            "Logistic Regression train score is 0.9718666666666667\n",
            "Logistic Regression test score is 0.3852\n"
          ],
          "name": "stdout"
        }
      ]
    },
    {
      "cell_type": "code",
      "metadata": {
        "colab": {
          "base_uri": "https://localhost:8080/"
        },
        "id": "ZtlWcHBnqpAy",
        "outputId": "4d305eb2-ccad-403f-cb23-ad6e7fffe274"
      },
      "source": [
        "model = RandomForestClassifier().fit(Z_train,y_train)\n",
        "print(\"Random Forest Classifier train score is \" + str(model.score(Z_train,y_train)))\n",
        "print(\"Random Forest Classifier test score is \" + str(model.score(Z_test,y_test)))"
      ],
      "execution_count": 15,
      "outputs": [
        {
          "output_type": "stream",
          "text": [
            "Random Forest Classifier train score is 1.0\n",
            "Random Forest Classifier test score is 0.36\n"
          ],
          "name": "stdout"
        }
      ]
    },
    {
      "cell_type": "code",
      "metadata": {
        "colab": {
          "base_uri": "https://localhost:8080/"
        },
        "id": "hN7z9nBvtJXU",
        "outputId": "a122ef3b-72a4-443c-c019-543d96493233"
      },
      "source": [
        "model = DecisionTreeClassifier().fit(Z_train,y_train)\n",
        "print(\"Decision Tree Classifier train score is \" + str(model.score(Z_train,y_train)))\n",
        "print(\"Decision Tree Classifier test score is \" + str(model.score(Z_test,y_test)))"
      ],
      "execution_count": 16,
      "outputs": [
        {
          "output_type": "stream",
          "text": [
            "Decision Tree Classifier train score is 1.0\n",
            "Decision Tree Classifier test score is 0.3412\n"
          ],
          "name": "stdout"
        }
      ]
    },
    {
      "cell_type": "code",
      "metadata": {
        "colab": {
          "base_uri": "https://localhost:8080/"
        },
        "id": "f9KYNyA0EsXa",
        "outputId": "2ee86ef6-7fe3-4453-dfc9-c63902f16a94"
      },
      "source": [
        "model = AdaBoostClassifier().fit(Z_train,y_train)\n",
        "print(\"AdaBoost Classifier train score is \" + str(model.score(Z_train,y_train)))\n",
        "print(\"AdaBoost Classifier test score is \" + str(model.score(Z_test,y_test)))"
      ],
      "execution_count": 17,
      "outputs": [
        {
          "output_type": "stream",
          "text": [
            "AdaBoost Classifier train score is 0.3868\n",
            "AdaBoost Classifier test score is 0.376\n"
          ],
          "name": "stdout"
        }
      ]
    }
  ]
}