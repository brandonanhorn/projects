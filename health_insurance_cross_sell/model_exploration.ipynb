{
  "nbformat": 4,
  "nbformat_minor": 0,
  "metadata": {
    "colab": {
      "name": "model_exploration.ipynb",
      "provenance": [],
      "collapsed_sections": []
    },
    "kernelspec": {
      "name": "python3",
      "display_name": "Python 3"
    }
  },
  "cells": [
    {
      "cell_type": "code",
      "metadata": {
        "id": "fOv2g9gStn6p",
        "colab": {
          "base_uri": "https://localhost:8080/"
        },
        "outputId": "f7228de1-26a4-4baa-f401-ea0baba2c7c3"
      },
      "source": [
        "from google.colab import drive\n",
        "drive.mount('/content/gdrive')"
      ],
      "execution_count": 1,
      "outputs": [
        {
          "output_type": "stream",
          "text": [
            "Drive already mounted at /content/gdrive; to attempt to forcibly remount, call drive.mount(\"/content/gdrive\", force_remount=True).\n"
          ],
          "name": "stdout"
        }
      ]
    },
    {
      "cell_type": "code",
      "metadata": {
        "id": "AsifbNDyuqEE"
      },
      "source": [
        "import pandas as pd\n",
        "\n",
        "from sklearn.model_selection import train_test_split, GridSearchCV\n",
        "from sklearn.preprocessing import LabelBinarizer, StandardScaler\n",
        "from sklearn.linear_model import LogisticRegression, Lasso, Ridge, ElasticNet\n",
        "from sklearn.ensemble import RandomForestClassifier, AdaBoostClassifier\n",
        "from sklearn.tree import DecisionTreeClassifier\n",
        "from sklearn_pandas import DataFrameMapper\n",
        "from sklearn.metrics import mean_squared_error"
      ],
      "execution_count": 2,
      "outputs": []
    },
    {
      "cell_type": "code",
      "metadata": {
        "id": "q-z185sfyBVa"
      },
      "source": [
        "df = pd.read_csv('gdrive/My Drive/Colab Notebooks/data/train.csv')"
      ],
      "execution_count": 3,
      "outputs": []
    },
    {
      "cell_type": "code",
      "metadata": {
        "id": "75ws23cpx9vy",
        "colab": {
          "base_uri": "https://localhost:8080/",
          "height": 100
        },
        "outputId": "0ba0c303-62c8-42d4-accb-6bb58bf7c2b7"
      },
      "source": [
        "df.head(1)"
      ],
      "execution_count": 4,
      "outputs": [
        {
          "output_type": "execute_result",
          "data": {
            "text/html": [
              "<div>\n",
              "<style scoped>\n",
              "    .dataframe tbody tr th:only-of-type {\n",
              "        vertical-align: middle;\n",
              "    }\n",
              "\n",
              "    .dataframe tbody tr th {\n",
              "        vertical-align: top;\n",
              "    }\n",
              "\n",
              "    .dataframe thead th {\n",
              "        text-align: right;\n",
              "    }\n",
              "</style>\n",
              "<table border=\"1\" class=\"dataframe\">\n",
              "  <thead>\n",
              "    <tr style=\"text-align: right;\">\n",
              "      <th></th>\n",
              "      <th>id</th>\n",
              "      <th>Gender</th>\n",
              "      <th>Age</th>\n",
              "      <th>Driving_License</th>\n",
              "      <th>Region_Code</th>\n",
              "      <th>Previously_Insured</th>\n",
              "      <th>Vehicle_Age</th>\n",
              "      <th>Vehicle_Damage</th>\n",
              "      <th>Annual_Premium</th>\n",
              "      <th>Policy_Sales_Channel</th>\n",
              "      <th>Vintage</th>\n",
              "      <th>Response</th>\n",
              "    </tr>\n",
              "  </thead>\n",
              "  <tbody>\n",
              "    <tr>\n",
              "      <th>0</th>\n",
              "      <td>1</td>\n",
              "      <td>Male</td>\n",
              "      <td>44</td>\n",
              "      <td>1</td>\n",
              "      <td>28.0</td>\n",
              "      <td>0</td>\n",
              "      <td>&gt; 2 Years</td>\n",
              "      <td>Yes</td>\n",
              "      <td>40454.0</td>\n",
              "      <td>26.0</td>\n",
              "      <td>217</td>\n",
              "      <td>1</td>\n",
              "    </tr>\n",
              "  </tbody>\n",
              "</table>\n",
              "</div>"
            ],
            "text/plain": [
              "   id Gender  Age  ...  Policy_Sales_Channel  Vintage  Response\n",
              "0   1   Male   44  ...                  26.0      217         1\n",
              "\n",
              "[1 rows x 12 columns]"
            ]
          },
          "metadata": {
            "tags": []
          },
          "execution_count": 4
        }
      ]
    },
    {
      "cell_type": "code",
      "metadata": {
        "id": "stou8Ze9yPVL"
      },
      "source": [
        "df = df.drop(columns=\"id\")"
      ],
      "execution_count": 5,
      "outputs": []
    },
    {
      "cell_type": "code",
      "metadata": {
        "id": "Pws_m2U-x5zq"
      },
      "source": [
        "target = \"Response\"\n",
        "X = df.drop(target, axis=1)\n",
        "y = df[target]"
      ],
      "execution_count": 6,
      "outputs": []
    },
    {
      "cell_type": "code",
      "metadata": {
        "id": "Ihf6of0PybK0"
      },
      "source": [
        "X_train, X_test, y_train, y_test = train_test_split(X, y, random_state=42)"
      ],
      "execution_count": 7,
      "outputs": []
    },
    {
      "cell_type": "code",
      "metadata": {
        "id": "a8zOxr4FyqDS"
      },
      "source": [
        "mapper = DataFrameMapper([\n",
        "    (\"Gender\", LabelBinarizer()),\n",
        "    ([\"Age\"], StandardScaler()),\n",
        "    ([\"Driving_License\"], StandardScaler()),\n",
        "    ([\"Region_Code\"], StandardScaler()),\n",
        "    ([\"Previously_Insured\"], StandardScaler()),\n",
        "    (\"Vehicle_Age\", LabelBinarizer()),\n",
        "    (\"Vehicle_Damage\", LabelBinarizer()),\n",
        "    ([\"Annual_Premium\"], StandardScaler()),\n",
        "    ([\"Policy_Sales_Channel\"], StandardScaler()),\n",
        "    ([\"Vintage\"], StandardScaler())],df_out=True)"
      ],
      "execution_count": 8,
      "outputs": []
    },
    {
      "cell_type": "code",
      "metadata": {
        "id": "obHqA2L7zUH5"
      },
      "source": [
        "Z_train = mapper.fit_transform(X_train)"
      ],
      "execution_count": 9,
      "outputs": []
    },
    {
      "cell_type": "code",
      "metadata": {
        "id": "ABXnzh51zX9x"
      },
      "source": [
        "Z_test = mapper.transform(X_test)"
      ],
      "execution_count": 10,
      "outputs": []
    },
    {
      "cell_type": "code",
      "metadata": {
        "id": "ygVQwwC-zhiv",
        "colab": {
          "base_uri": "https://localhost:8080/"
        },
        "outputId": "86902246-e4d0-493d-d6a5-60565d0a7234"
      },
      "source": [
        "model = LogisticRegression().fit(Z_train,y_train)\n",
        "print(\"Logistic Regression train score is \" + str(model.score(Z_train,y_train)))\n",
        "print(\"Logistic Regression test score is \" + str(model.score(Z_test,y_test)))"
      ],
      "execution_count": 11,
      "outputs": [
        {
          "output_type": "stream",
          "text": [
            "Logistic Regression train score is 0.8777424422123562\n",
            "Logistic Regression test score is 0.8765087428367514\n"
          ],
          "name": "stdout"
        }
      ]
    },
    {
      "cell_type": "code",
      "metadata": {
        "id": "jLfkaJWVzqIM",
        "colab": {
          "base_uri": "https://localhost:8080/"
        },
        "outputId": "f89c9cb8-98bc-45ab-cd32-e752526f3262"
      },
      "source": [
        "model = Lasso().fit(Z_train,y_train)\n",
        "print(\"Lasso train score is \" + str(model.score(Z_train,y_train)))\n",
        "print(\"Lasso test score is \" + str(model.score(Z_test,y_test)))"
      ],
      "execution_count": 12,
      "outputs": [
        {
          "output_type": "stream",
          "text": [
            "Lasso train score is 0.0\n",
            "Lasso test score is -1.382410017258806e-05\n"
          ],
          "name": "stdout"
        }
      ]
    },
    {
      "cell_type": "code",
      "metadata": {
        "id": "sR_UPvTFzt68",
        "colab": {
          "base_uri": "https://localhost:8080/"
        },
        "outputId": "7dbd9cfa-20d2-4edd-a9b7-aa94873e5332"
      },
      "source": [
        "model = Ridge().fit(Z_train,y_train)\n",
        "print(\"Ridge train score is \" + str(model.score(Z_train,y_train)))\n",
        "print(\"Ridge test score is \" + str(model.score(Z_test,y_test)))"
      ],
      "execution_count": 13,
      "outputs": [
        {
          "output_type": "stream",
          "text": [
            "Ridge train score is 0.14659402257305046\n",
            "Ridge test score is 0.15044074636863525\n"
          ],
          "name": "stdout"
        }
      ]
    },
    {
      "cell_type": "code",
      "metadata": {
        "id": "uS00IXFnzwcb",
        "colab": {
          "base_uri": "https://localhost:8080/"
        },
        "outputId": "c92f0a87-0022-4b2d-8758-866cce06d95f"
      },
      "source": [
        "model = ElasticNet().fit(Z_train,y_train)\n",
        "print(\"Elastic Net train score is \" + str(model.score(Z_train,y_train)))\n",
        "print(\"Elastic Net test score is \" + str(model.score(Z_test,y_test)))"
      ],
      "execution_count": 14,
      "outputs": [
        {
          "output_type": "stream",
          "text": [
            "Elastic Net train score is 0.0\n",
            "Elastic Net test score is -1.382410017258806e-05\n"
          ],
          "name": "stdout"
        }
      ]
    },
    {
      "cell_type": "code",
      "metadata": {
        "id": "GSFw_VXHzy90",
        "colab": {
          "base_uri": "https://localhost:8080/"
        },
        "outputId": "c42ecd13-3c1a-4184-cf0b-8f37a4bf23b3"
      },
      "source": [
        "model = RandomForestClassifier().fit(Z_train,y_train)\n",
        "print(\"Random Forest Classifier train score is \" + str(model.score(Z_train,y_train)))\n",
        "print(\"Random Forest Classifier test score is \" + str(model.score(Z_test,y_test)))"
      ],
      "execution_count": 15,
      "outputs": [
        {
          "output_type": "stream",
          "text": [
            "Random Forest Classifier train score is 0.9998740514499826\n",
            "Random Forest Classifier test score is 0.8660656185058461\n"
          ],
          "name": "stdout"
        }
      ]
    },
    {
      "cell_type": "code",
      "metadata": {
        "id": "BvCkSv7Az14b",
        "colab": {
          "base_uri": "https://localhost:8080/"
        },
        "outputId": "88f9292c-681b-4d99-ae68-7ba73a0578b0"
      },
      "source": [
        "model = DecisionTreeClassifier().fit(Z_train,y_train)\n",
        "print(\"Decision Tree Classifier train score is \" + str(model.score(Z_train,y_train)))\n",
        "print(\"Decision Tree Classifier test score is \" + str(model.score(Z_test,y_test)))"
      ],
      "execution_count": 16,
      "outputs": [
        {
          "output_type": "stream",
          "text": [
            "Decision Tree Classifier train score is 0.9998950428749855\n",
            "Decision Tree Classifier test score is 0.8224039127605534\n"
          ],
          "name": "stdout"
        }
      ]
    },
    {
      "cell_type": "code",
      "metadata": {
        "id": "m6VV1zvDz4vy",
        "colab": {
          "base_uri": "https://localhost:8080/"
        },
        "outputId": "c6642161-ec50-4eb9-f390-32b6121598d5"
      },
      "source": [
        "model = AdaBoostClassifier().fit(Z_train,y_train)\n",
        "print(\"AdaBoost Classifier train score is \" + str(model.score(Z_train,y_train)))\n",
        "print(\"AdaBoost Classifier test score is \" + str(model.score(Z_test,y_test)))"
      ],
      "execution_count": 17,
      "outputs": [
        {
          "output_type": "stream",
          "text": [
            "AdaBoost Classifier train score is 0.8777389436415224\n",
            "AdaBoost Classifier test score is 0.8765192384390941\n"
          ],
          "name": "stdout"
        }
      ]
    },
    {
      "cell_type": "code",
      "metadata": {
        "id": "DTU9XQJHz-Ii"
      },
      "source": [
        "import tensorflow as tf\n",
        "from tensorflow import keras\n",
        "\n",
        "from tensorflow.keras.models import Sequential\n",
        "from tensorflow.keras.layers import Dense, Input\n",
        "from tensorflow.keras.utils import to_categorical\n",
        "from tensorflow.keras.callbacks import EarlyStopping"
      ],
      "execution_count": 18,
      "outputs": []
    },
    {
      "cell_type": "code",
      "metadata": {
        "id": "W3EonFpQRjQr"
      },
      "source": [
        "early_stopping = EarlyStopping(\n",
        "    monitor='val_loss',\n",
        "    min_delta=0,\n",
        "    patience=8,\n",
        "    verbose=0,\n",
        "    mode='auto',\n",
        "    baseline=None, restore_best_weights=True\n",
        ")"
      ],
      "execution_count": 19,
      "outputs": []
    },
    {
      "cell_type": "code",
      "metadata": {
        "id": "sA-_pCUY1Vso"
      },
      "source": [
        "model = Sequential([\n",
        "    Input(shape=(Z_train.shape[1],)),\n",
        "    Dense(64, activation='relu'),\n",
        "    Dense(32, activation='relu'),\n",
        "    Dense(16, activation='relu'),\n",
        "    Dense(1, activation='elu')\n",
        "])\n",
        "\n",
        "model.compile(loss='binary_crossentropy', optimizer='adam')"
      ],
      "execution_count": 23,
      "outputs": []
    },
    {
      "cell_type": "code",
      "metadata": {
        "id": "iafVVCmA2U_x",
        "colab": {
          "base_uri": "https://localhost:8080/"
        },
        "outputId": "b120ce30-0dfb-4643-e2d6-3d641b7e4eec"
      },
      "source": [
        "history = model.fit(Z_train, y_train,\n",
        "                    validation_data=(Z_test, y_test),\n",
        "                    epochs=25, batch_size=32,\n",
        "                    verbose=2, callbacks=[early_stopping])\n",
        "\n",
        "model.summary()"
      ],
      "execution_count": 24,
      "outputs": [
        {
          "output_type": "stream",
          "text": [
            "Epoch 1/25\n",
            "8933/8933 - 12s - loss: 0.2850 - val_loss: 0.2796\n",
            "Epoch 2/25\n",
            "8933/8933 - 11s - loss: 0.2792 - val_loss: 0.2766\n",
            "Epoch 3/25\n",
            "8933/8933 - 11s - loss: 0.2765 - val_loss: 0.2792\n",
            "Epoch 4/25\n",
            "8933/8933 - 11s - loss: 0.2768 - val_loss: 0.2773\n",
            "Epoch 5/25\n",
            "8933/8933 - 11s - loss: 0.2868 - val_loss: 0.2950\n",
            "Epoch 6/25\n",
            "8933/8933 - 11s - loss: 0.2841 - val_loss: 0.2766\n",
            "Epoch 7/25\n",
            "8933/8933 - 11s - loss: 0.2798 - val_loss: 0.2784\n",
            "Epoch 8/25\n",
            "8933/8933 - 11s - loss: 0.2839 - val_loss: 0.2839\n",
            "Epoch 9/25\n",
            "8933/8933 - 11s - loss: 0.2932 - val_loss: 0.2838\n",
            "Epoch 10/25\n",
            "8933/8933 - 11s - loss: 0.2937 - val_loss: 0.3112\n",
            "Model: \"sequential_1\"\n",
            "_________________________________________________________________\n",
            "Layer (type)                 Output Shape              Param #   \n",
            "=================================================================\n",
            "dense_4 (Dense)              (None, 64)                832       \n",
            "_________________________________________________________________\n",
            "dense_5 (Dense)              (None, 32)                2080      \n",
            "_________________________________________________________________\n",
            "dense_6 (Dense)              (None, 16)                528       \n",
            "_________________________________________________________________\n",
            "dense_7 (Dense)              (None, 1)                 17        \n",
            "=================================================================\n",
            "Total params: 3,457\n",
            "Trainable params: 3,457\n",
            "Non-trainable params: 0\n",
            "_________________________________________________________________\n"
          ],
          "name": "stdout"
        }
      ]
    },
    {
      "cell_type": "code",
      "metadata": {
        "colab": {
          "base_uri": "https://localhost:8080/"
        },
        "id": "-0qJgjd5SXwV",
        "outputId": "7eca7dc7-ae30-44ca-fbdf-2b4f3e973179"
      },
      "source": [
        "model.evaluate(Z_test, y_test)"
      ],
      "execution_count": 22,
      "outputs": [
        {
          "output_type": "stream",
          "text": [
            "2978/2978 [==============================] - 3s 954us/step - loss: 0.2944\n"
          ],
          "name": "stdout"
        },
        {
          "output_type": "execute_result",
          "data": {
            "text/plain": [
              "0.2944076955318451"
            ]
          },
          "metadata": {
            "tags": []
          },
          "execution_count": 22
        }
      ]
    },
    {
      "cell_type": "code",
      "metadata": {
        "id": "yAFMfFRsWhAi"
      },
      "source": [
        ""
      ],
      "execution_count": 22,
      "outputs": []
    }
  ]
}