{
  "nbformat": 4,
  "nbformat_minor": 0,
  "metadata": {
    "colab": {
      "name": "global_food_prices.ipynb",
      "provenance": [],
      "collapsed_sections": []
    },
    "kernelspec": {
      "name": "python3",
      "display_name": "Python 3"
    }
  },
  "cells": [
    {
      "cell_type": "code",
      "metadata": {
        "colab": {
          "base_uri": "https://localhost:8080/"
        },
        "id": "_g4_1RpGkxcj",
        "outputId": "8bc77f01-da2c-48aa-986f-8da9d0b07d58"
      },
      "source": [
        "from google.colab import drive\n",
        "drive.mount('/content/gdrive')"
      ],
      "execution_count": 1,
      "outputs": [
        {
          "output_type": "stream",
          "text": [
            "Mounted at /content/gdrive\n"
          ],
          "name": "stdout"
        }
      ]
    },
    {
      "cell_type": "code",
      "metadata": {
        "id": "6lR6v5m-k6sP"
      },
      "source": [
        "import pandas as pd"
      ],
      "execution_count": 2,
      "outputs": []
    },
    {
      "cell_type": "code",
      "metadata": {
        "colab": {
          "base_uri": "https://localhost:8080/"
        },
        "id": "nIJYLa14lECX",
        "outputId": "de6fc79a-07cf-4c55-bc00-36a431b43a50"
      },
      "source": [
        "df = pd.read_csv('gdrive/My Drive/Colab Notebooks/data/wfp_food_prices_database.csv')"
      ],
      "execution_count": 4,
      "outputs": [
        {
          "output_type": "stream",
          "text": [
            "/usr/local/lib/python3.6/dist-packages/IPython/core/interactiveshell.py:2718: DtypeWarning: Columns (3) have mixed types.Specify dtype option on import or set low_memory=False.\n",
            "  interactivity=interactivity, compiler=compiler, result=result)\n"
          ],
          "name": "stderr"
        }
      ]
    },
    {
      "cell_type": "code",
      "metadata": {
        "colab": {
          "base_uri": "https://localhost:8080/",
          "height": 117
        },
        "id": "FEJyg398lP6P",
        "outputId": "e4c6189e-4208-40e2-ad31-efb772130c70"
      },
      "source": [
        "df.head(1)"
      ],
      "execution_count": 5,
      "outputs": [
        {
          "output_type": "execute_result",
          "data": {
            "text/html": [
              "<div>\n",
              "<style scoped>\n",
              "    .dataframe tbody tr th:only-of-type {\n",
              "        vertical-align: middle;\n",
              "    }\n",
              "\n",
              "    .dataframe tbody tr th {\n",
              "        vertical-align: top;\n",
              "    }\n",
              "\n",
              "    .dataframe thead th {\n",
              "        text-align: right;\n",
              "    }\n",
              "</style>\n",
              "<table border=\"1\" class=\"dataframe\">\n",
              "  <thead>\n",
              "    <tr style=\"text-align: right;\">\n",
              "      <th></th>\n",
              "      <th>adm0_id</th>\n",
              "      <th>adm0_name</th>\n",
              "      <th>adm1_id</th>\n",
              "      <th>adm1_name</th>\n",
              "      <th>mkt_id</th>\n",
              "      <th>mkt_name</th>\n",
              "      <th>cm_id</th>\n",
              "      <th>cm_name</th>\n",
              "      <th>cur_id</th>\n",
              "      <th>cur_name</th>\n",
              "      <th>pt_id</th>\n",
              "      <th>pt_name</th>\n",
              "      <th>um_id</th>\n",
              "      <th>um_name</th>\n",
              "      <th>mp_month</th>\n",
              "      <th>mp_year</th>\n",
              "      <th>mp_price</th>\n",
              "      <th>mp_commoditysource</th>\n",
              "    </tr>\n",
              "  </thead>\n",
              "  <tbody>\n",
              "    <tr>\n",
              "      <th>0</th>\n",
              "      <td>1.0</td>\n",
              "      <td>Afghanistan</td>\n",
              "      <td>272</td>\n",
              "      <td>Badakhshan</td>\n",
              "      <td>266</td>\n",
              "      <td>Fayzabad</td>\n",
              "      <td>55</td>\n",
              "      <td>Bread - Retail</td>\n",
              "      <td>0.0</td>\n",
              "      <td>AFN</td>\n",
              "      <td>15</td>\n",
              "      <td>Retail</td>\n",
              "      <td>5</td>\n",
              "      <td>KG</td>\n",
              "      <td>1</td>\n",
              "      <td>2014</td>\n",
              "      <td>50.0</td>\n",
              "      <td>NaN</td>\n",
              "    </tr>\n",
              "  </tbody>\n",
              "</table>\n",
              "</div>"
            ],
            "text/plain": [
              "   adm0_id    adm0_name  adm1_id  ... mp_year  mp_price mp_commoditysource\n",
              "0      1.0  Afghanistan      272  ...    2014      50.0                NaN\n",
              "\n",
              "[1 rows x 18 columns]"
            ]
          },
          "metadata": {
            "tags": []
          },
          "execution_count": 5
        }
      ]
    },
    {
      "cell_type": "code",
      "metadata": {
        "colab": {
          "base_uri": "https://localhost:8080/"
        },
        "id": "cnY9A603lYkM",
        "outputId": "8e21527d-21b6-49ee-e164-5ca9908bb5f7"
      },
      "source": [
        "df.info()"
      ],
      "execution_count": 6,
      "outputs": [
        {
          "output_type": "stream",
          "text": [
            "<class 'pandas.core.frame.DataFrame'>\n",
            "RangeIndex: 1560551 entries, 0 to 1560550\n",
            "Data columns (total 18 columns):\n",
            " #   Column              Non-Null Count    Dtype  \n",
            "---  ------              --------------    -----  \n",
            " 0   adm0_id             1560551 non-null  float64\n",
            " 1   adm0_name           1560551 non-null  object \n",
            " 2   adm1_id             1560551 non-null  int64  \n",
            " 3   adm1_name           1089223 non-null  object \n",
            " 4   mkt_id              1560551 non-null  int64  \n",
            " 5   mkt_name            1560551 non-null  object \n",
            " 6   cm_id               1560551 non-null  int64  \n",
            " 7   cm_name             1560551 non-null  object \n",
            " 8   cur_id              1560551 non-null  float64\n",
            " 9   cur_name            1560551 non-null  object \n",
            " 10  pt_id               1560551 non-null  int64  \n",
            " 11  pt_name             1560551 non-null  object \n",
            " 12  um_id               1560551 non-null  int64  \n",
            " 13  um_name             1560551 non-null  object \n",
            " 14  mp_month            1560551 non-null  int64  \n",
            " 15  mp_year             1560551 non-null  int64  \n",
            " 16  mp_price            1560551 non-null  float64\n",
            " 17  mp_commoditysource  0 non-null        float64\n",
            "dtypes: float64(4), int64(7), object(7)\n",
            "memory usage: 214.3+ MB\n"
          ],
          "name": "stdout"
        }
      ]
    },
    {
      "cell_type": "code",
      "metadata": {
        "id": "boMUo937lZps"
      },
      "source": [
        ""
      ],
      "execution_count": null,
      "outputs": []
    }
  ]
}