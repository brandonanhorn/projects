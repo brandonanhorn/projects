{
  "nbformat": 4,
  "nbformat_minor": 0,
  "metadata": {
    "colab": {
      "name": "food_prices_exploration.ipynb",
      "provenance": []
    },
    "kernelspec": {
      "name": "python3",
      "display_name": "Python 3"
    }
  },
  "cells": [
    {
      "cell_type": "code",
      "metadata": {
        "colab": {
          "base_uri": "https://localhost:8080/"
        },
        "id": "Q3vxgo5KGG0R",
        "outputId": "246dbe20-0805-44af-b5ad-52df103bb26f"
      },
      "source": [
        "from google.colab import drive\n",
        "drive.mount('/content/gdrive')"
      ],
      "execution_count": 1,
      "outputs": [
        {
          "output_type": "stream",
          "text": [
            "Mounted at /content/gdrive\n"
          ],
          "name": "stdout"
        }
      ]
    },
    {
      "cell_type": "code",
      "metadata": {
        "id": "SD6pGHKYG127"
      },
      "source": [
        "import pandas as pd"
      ],
      "execution_count": 2,
      "outputs": []
    },
    {
      "cell_type": "code",
      "metadata": {
        "colab": {
          "base_uri": "https://localhost:8080/"
        },
        "id": "blrPIrIAG2yA",
        "outputId": "0b61770d-07c7-4023-ebfe-c1539200168c"
      },
      "source": [
        "df = pd.read_csv('gdrive/My Drive/Colab Notebooks/data/wfp_food_prices_database.csv')"
      ],
      "execution_count": 3,
      "outputs": [
        {
          "output_type": "stream",
          "text": [
            "/usr/local/lib/python3.6/dist-packages/IPython/core/interactiveshell.py:2718: DtypeWarning: Columns (3) have mixed types.Specify dtype option on import or set low_memory=False.\n",
            "  interactivity=interactivity, compiler=compiler, result=result)\n"
          ],
          "name": "stderr"
        }
      ]
    },
    {
      "cell_type": "code",
      "metadata": {
        "colab": {
          "base_uri": "https://localhost:8080/",
          "height": 117
        },
        "id": "fntQ8FbZHIWm",
        "outputId": "50527308-1d3c-4591-ac49-998530974ac5"
      },
      "source": [
        "df.head(1)"
      ],
      "execution_count": 4,
      "outputs": [
        {
          "output_type": "execute_result",
          "data": {
            "text/html": [
              "<div>\n",
              "<style scoped>\n",
              "    .dataframe tbody tr th:only-of-type {\n",
              "        vertical-align: middle;\n",
              "    }\n",
              "\n",
              "    .dataframe tbody tr th {\n",
              "        vertical-align: top;\n",
              "    }\n",
              "\n",
              "    .dataframe thead th {\n",
              "        text-align: right;\n",
              "    }\n",
              "</style>\n",
              "<table border=\"1\" class=\"dataframe\">\n",
              "  <thead>\n",
              "    <tr style=\"text-align: right;\">\n",
              "      <th></th>\n",
              "      <th>adm0_id</th>\n",
              "      <th>adm0_name</th>\n",
              "      <th>adm1_id</th>\n",
              "      <th>adm1_name</th>\n",
              "      <th>mkt_id</th>\n",
              "      <th>mkt_name</th>\n",
              "      <th>cm_id</th>\n",
              "      <th>cm_name</th>\n",
              "      <th>cur_id</th>\n",
              "      <th>cur_name</th>\n",
              "      <th>pt_id</th>\n",
              "      <th>pt_name</th>\n",
              "      <th>um_id</th>\n",
              "      <th>um_name</th>\n",
              "      <th>mp_month</th>\n",
              "      <th>mp_year</th>\n",
              "      <th>mp_price</th>\n",
              "      <th>mp_commoditysource</th>\n",
              "    </tr>\n",
              "  </thead>\n",
              "  <tbody>\n",
              "    <tr>\n",
              "      <th>0</th>\n",
              "      <td>1.0</td>\n",
              "      <td>Afghanistan</td>\n",
              "      <td>272</td>\n",
              "      <td>Badakhshan</td>\n",
              "      <td>266</td>\n",
              "      <td>Fayzabad</td>\n",
              "      <td>55</td>\n",
              "      <td>Bread - Retail</td>\n",
              "      <td>0.0</td>\n",
              "      <td>AFN</td>\n",
              "      <td>15</td>\n",
              "      <td>Retail</td>\n",
              "      <td>5</td>\n",
              "      <td>KG</td>\n",
              "      <td>1</td>\n",
              "      <td>2014</td>\n",
              "      <td>50.0</td>\n",
              "      <td>NaN</td>\n",
              "    </tr>\n",
              "  </tbody>\n",
              "</table>\n",
              "</div>"
            ],
            "text/plain": [
              "   adm0_id    adm0_name  adm1_id  ... mp_year  mp_price mp_commoditysource\n",
              "0      1.0  Afghanistan      272  ...    2014      50.0                NaN\n",
              "\n",
              "[1 rows x 18 columns]"
            ]
          },
          "metadata": {
            "tags": []
          },
          "execution_count": 4
        }
      ]
    },
    {
      "cell_type": "code",
      "metadata": {
        "colab": {
          "base_uri": "https://localhost:8080/"
        },
        "id": "PyfP6VihHKjw",
        "outputId": "e937d929-5248-4574-bcbf-2f7b9057729d"
      },
      "source": [
        "df[\"cur_name\"].value_counts()"
      ],
      "execution_count": 5,
      "outputs": [
        {
          "output_type": "execute_result",
          "data": {
            "text/plain": [
              "XOF    206693\n",
              "RWF    134089\n",
              "INR    108279\n",
              "SYP     82598\n",
              "KGS     54899\n",
              "        ...  \n",
              "VND       257\n",
              "AZN       125\n",
              "ERN       100\n",
              "GEL        80\n",
              "VEF         6\n",
              "Name: cur_name, Length: 83, dtype: int64"
            ]
          },
          "metadata": {
            "tags": []
          },
          "execution_count": 5
        }
      ]
    },
    {
      "cell_type": "code",
      "metadata": {
        "colab": {
          "base_uri": "https://localhost:8080/"
        },
        "id": "c-SA45l2HYpa",
        "outputId": "71e84850-7268-45a1-ed8a-ff0655d25fb0"
      },
      "source": [
        "df[\"adm0_name\"].value_counts()"
      ],
      "execution_count": 6,
      "outputs": [
        {
          "output_type": "execute_result",
          "data": {
            "text/plain": [
              "Rwanda                  134089\n",
              "Bassas da India         108279\n",
              "Syrian Arab Republic     82598\n",
              "Mali                     58173\n",
              "Kyrgyzstan               54899\n",
              "                         ...  \n",
              "Azerbaijan                 125\n",
              "Eritrea                    100\n",
              "Georgia                     80\n",
              "Venezuela                    6\n",
              "Italy                        1\n",
              "Name: adm0_name, Length: 99, dtype: int64"
            ]
          },
          "metadata": {
            "tags": []
          },
          "execution_count": 6
        }
      ]
    },
    {
      "cell_type": "code",
      "metadata": {
        "colab": {
          "base_uri": "https://localhost:8080/"
        },
        "id": "Wg4O1hsKHhg4",
        "outputId": "4ccd24ed-c61c-4754-b369-15b3cd8415a0"
      },
      "source": [
        "df[\"pt_name\"].value_counts()"
      ],
      "execution_count": 7,
      "outputs": [
        {
          "output_type": "execute_result",
          "data": {
            "text/plain": [
              "Retail       1417492\n",
              "Wholesale     142147\n",
              "Farm Gate        664\n",
              "Producer         248\n",
              "Name: pt_name, dtype: int64"
            ]
          },
          "metadata": {
            "tags": []
          },
          "execution_count": 7
        }
      ]
    },
    {
      "cell_type": "code",
      "metadata": {
        "colab": {
          "base_uri": "https://localhost:8080/"
        },
        "id": "4RRep-xPIRUU",
        "outputId": "3d9dafaa-035b-434d-e59f-73ff436b5e3c"
      },
      "source": [
        "df[\"um_name\"].value_counts()"
      ],
      "execution_count": 8,
      "outputs": [
        {
          "output_type": "execute_result",
          "data": {
            "text/plain": [
              "KG         1137377\n",
              "L           108755\n",
              "100 KG       41285\n",
              "Unit         28233\n",
              "Day          13165\n",
              "            ...   \n",
              "16 KG           53\n",
              "360 pcs         52\n",
              "800 G           16\n",
              "Heap            10\n",
              "2.5 KG           8\n",
              "Name: um_name, Length: 117, dtype: int64"
            ]
          },
          "metadata": {
            "tags": []
          },
          "execution_count": 8
        }
      ]
    },
    {
      "cell_type": "code",
      "metadata": {
        "id": "2x1MiXrsIXub"
      },
      "source": [
        "df_rwanda = df[df[\"adm0_name\"] == \"Rwanda\"]"
      ],
      "execution_count": 10,
      "outputs": []
    },
    {
      "cell_type": "code",
      "metadata": {
        "colab": {
          "base_uri": "https://localhost:8080/",
          "height": 694
        },
        "id": "fi7Rv9ogPaMA",
        "outputId": "0cda2acd-6202-4cdb-eb38-0f6f3d6e236d"
      },
      "source": [
        "df_rwanda"
      ],
      "execution_count": 11,
      "outputs": [
        {
          "output_type": "execute_result",
          "data": {
            "text/html": [
              "<div>\n",
              "<style scoped>\n",
              "    .dataframe tbody tr th:only-of-type {\n",
              "        vertical-align: middle;\n",
              "    }\n",
              "\n",
              "    .dataframe tbody tr th {\n",
              "        vertical-align: top;\n",
              "    }\n",
              "\n",
              "    .dataframe thead th {\n",
              "        text-align: right;\n",
              "    }\n",
              "</style>\n",
              "<table border=\"1\" class=\"dataframe\">\n",
              "  <thead>\n",
              "    <tr style=\"text-align: right;\">\n",
              "      <th></th>\n",
              "      <th>adm0_id</th>\n",
              "      <th>adm0_name</th>\n",
              "      <th>adm1_id</th>\n",
              "      <th>adm1_name</th>\n",
              "      <th>mkt_id</th>\n",
              "      <th>mkt_name</th>\n",
              "      <th>cm_id</th>\n",
              "      <th>cm_name</th>\n",
              "      <th>cur_id</th>\n",
              "      <th>cur_name</th>\n",
              "      <th>pt_id</th>\n",
              "      <th>pt_name</th>\n",
              "      <th>um_id</th>\n",
              "      <th>um_name</th>\n",
              "      <th>mp_month</th>\n",
              "      <th>mp_year</th>\n",
              "      <th>mp_price</th>\n",
              "      <th>mp_commoditysource</th>\n",
              "    </tr>\n",
              "  </thead>\n",
              "  <tbody>\n",
              "    <tr>\n",
              "      <th>1077086</th>\n",
              "      <td>205.0</td>\n",
              "      <td>Rwanda</td>\n",
              "      <td>2587</td>\n",
              "      <td>Kigali City/Umujyi wa Kigali</td>\n",
              "      <td>1054</td>\n",
              "      <td>Gahanga</td>\n",
              "      <td>51</td>\n",
              "      <td>Maize - Retail</td>\n",
              "      <td>0.0</td>\n",
              "      <td>RWF</td>\n",
              "      <td>15</td>\n",
              "      <td>Retail</td>\n",
              "      <td>5</td>\n",
              "      <td>KG</td>\n",
              "      <td>7</td>\n",
              "      <td>2010</td>\n",
              "      <td>107.5000</td>\n",
              "      <td>NaN</td>\n",
              "    </tr>\n",
              "    <tr>\n",
              "      <th>1077087</th>\n",
              "      <td>205.0</td>\n",
              "      <td>Rwanda</td>\n",
              "      <td>2587</td>\n",
              "      <td>Kigali City/Umujyi wa Kigali</td>\n",
              "      <td>1054</td>\n",
              "      <td>Gahanga</td>\n",
              "      <td>51</td>\n",
              "      <td>Maize - Retail</td>\n",
              "      <td>0.0</td>\n",
              "      <td>RWF</td>\n",
              "      <td>15</td>\n",
              "      <td>Retail</td>\n",
              "      <td>5</td>\n",
              "      <td>KG</td>\n",
              "      <td>8</td>\n",
              "      <td>2010</td>\n",
              "      <td>121.6667</td>\n",
              "      <td>NaN</td>\n",
              "    </tr>\n",
              "    <tr>\n",
              "      <th>1077088</th>\n",
              "      <td>205.0</td>\n",
              "      <td>Rwanda</td>\n",
              "      <td>2587</td>\n",
              "      <td>Kigali City/Umujyi wa Kigali</td>\n",
              "      <td>1054</td>\n",
              "      <td>Gahanga</td>\n",
              "      <td>51</td>\n",
              "      <td>Maize - Retail</td>\n",
              "      <td>0.0</td>\n",
              "      <td>RWF</td>\n",
              "      <td>15</td>\n",
              "      <td>Retail</td>\n",
              "      <td>5</td>\n",
              "      <td>KG</td>\n",
              "      <td>9</td>\n",
              "      <td>2010</td>\n",
              "      <td>108.7500</td>\n",
              "      <td>NaN</td>\n",
              "    </tr>\n",
              "    <tr>\n",
              "      <th>1077089</th>\n",
              "      <td>205.0</td>\n",
              "      <td>Rwanda</td>\n",
              "      <td>2587</td>\n",
              "      <td>Kigali City/Umujyi wa Kigali</td>\n",
              "      <td>1054</td>\n",
              "      <td>Gahanga</td>\n",
              "      <td>51</td>\n",
              "      <td>Maize - Retail</td>\n",
              "      <td>0.0</td>\n",
              "      <td>RWF</td>\n",
              "      <td>15</td>\n",
              "      <td>Retail</td>\n",
              "      <td>5</td>\n",
              "      <td>KG</td>\n",
              "      <td>10</td>\n",
              "      <td>2010</td>\n",
              "      <td>177.5000</td>\n",
              "      <td>NaN</td>\n",
              "    </tr>\n",
              "    <tr>\n",
              "      <th>1077090</th>\n",
              "      <td>205.0</td>\n",
              "      <td>Rwanda</td>\n",
              "      <td>2587</td>\n",
              "      <td>Kigali City/Umujyi wa Kigali</td>\n",
              "      <td>1054</td>\n",
              "      <td>Gahanga</td>\n",
              "      <td>51</td>\n",
              "      <td>Maize - Retail</td>\n",
              "      <td>0.0</td>\n",
              "      <td>RWF</td>\n",
              "      <td>15</td>\n",
              "      <td>Retail</td>\n",
              "      <td>5</td>\n",
              "      <td>KG</td>\n",
              "      <td>11</td>\n",
              "      <td>2010</td>\n",
              "      <td>181.2500</td>\n",
              "      <td>NaN</td>\n",
              "    </tr>\n",
              "    <tr>\n",
              "      <th>...</th>\n",
              "      <td>...</td>\n",
              "      <td>...</td>\n",
              "      <td>...</td>\n",
              "      <td>...</td>\n",
              "      <td>...</td>\n",
              "      <td>...</td>\n",
              "      <td>...</td>\n",
              "      <td>...</td>\n",
              "      <td>...</td>\n",
              "      <td>...</td>\n",
              "      <td>...</td>\n",
              "      <td>...</td>\n",
              "      <td>...</td>\n",
              "      <td>...</td>\n",
              "      <td>...</td>\n",
              "      <td>...</td>\n",
              "      <td>...</td>\n",
              "      <td>...</td>\n",
              "    </tr>\n",
              "    <tr>\n",
              "      <th>1211170</th>\n",
              "      <td>205.0</td>\n",
              "      <td>Rwanda</td>\n",
              "      <td>21973</td>\n",
              "      <td>West/Iburengerazuba</td>\n",
              "      <td>2379</td>\n",
              "      <td>Kivuruga</td>\n",
              "      <td>455</td>\n",
              "      <td>Cassava leaves - Retail</td>\n",
              "      <td>0.0</td>\n",
              "      <td>RWF</td>\n",
              "      <td>15</td>\n",
              "      <td>Retail</td>\n",
              "      <td>5</td>\n",
              "      <td>KG</td>\n",
              "      <td>7</td>\n",
              "      <td>2019</td>\n",
              "      <td>200.0000</td>\n",
              "      <td>NaN</td>\n",
              "    </tr>\n",
              "    <tr>\n",
              "      <th>1211171</th>\n",
              "      <td>205.0</td>\n",
              "      <td>Rwanda</td>\n",
              "      <td>21973</td>\n",
              "      <td>West/Iburengerazuba</td>\n",
              "      <td>2379</td>\n",
              "      <td>Kivuruga</td>\n",
              "      <td>455</td>\n",
              "      <td>Cassava leaves - Retail</td>\n",
              "      <td>0.0</td>\n",
              "      <td>RWF</td>\n",
              "      <td>15</td>\n",
              "      <td>Retail</td>\n",
              "      <td>5</td>\n",
              "      <td>KG</td>\n",
              "      <td>9</td>\n",
              "      <td>2019</td>\n",
              "      <td>150.0000</td>\n",
              "      <td>NaN</td>\n",
              "    </tr>\n",
              "    <tr>\n",
              "      <th>1211172</th>\n",
              "      <td>205.0</td>\n",
              "      <td>Rwanda</td>\n",
              "      <td>21973</td>\n",
              "      <td>West/Iburengerazuba</td>\n",
              "      <td>2379</td>\n",
              "      <td>Kivuruga</td>\n",
              "      <td>455</td>\n",
              "      <td>Cassava leaves - Retail</td>\n",
              "      <td>0.0</td>\n",
              "      <td>RWF</td>\n",
              "      <td>15</td>\n",
              "      <td>Retail</td>\n",
              "      <td>5</td>\n",
              "      <td>KG</td>\n",
              "      <td>11</td>\n",
              "      <td>2019</td>\n",
              "      <td>250.0000</td>\n",
              "      <td>NaN</td>\n",
              "    </tr>\n",
              "    <tr>\n",
              "      <th>1211173</th>\n",
              "      <td>205.0</td>\n",
              "      <td>Rwanda</td>\n",
              "      <td>21973</td>\n",
              "      <td>West/Iburengerazuba</td>\n",
              "      <td>2379</td>\n",
              "      <td>Kivuruga</td>\n",
              "      <td>455</td>\n",
              "      <td>Cassava leaves - Retail</td>\n",
              "      <td>0.0</td>\n",
              "      <td>RWF</td>\n",
              "      <td>15</td>\n",
              "      <td>Retail</td>\n",
              "      <td>5</td>\n",
              "      <td>KG</td>\n",
              "      <td>12</td>\n",
              "      <td>2019</td>\n",
              "      <td>150.0000</td>\n",
              "      <td>NaN</td>\n",
              "    </tr>\n",
              "    <tr>\n",
              "      <th>1211174</th>\n",
              "      <td>205.0</td>\n",
              "      <td>Rwanda</td>\n",
              "      <td>21973</td>\n",
              "      <td>West/Iburengerazuba</td>\n",
              "      <td>2379</td>\n",
              "      <td>Kivuruga</td>\n",
              "      <td>455</td>\n",
              "      <td>Cassava leaves - Retail</td>\n",
              "      <td>0.0</td>\n",
              "      <td>RWF</td>\n",
              "      <td>15</td>\n",
              "      <td>Retail</td>\n",
              "      <td>5</td>\n",
              "      <td>KG</td>\n",
              "      <td>2</td>\n",
              "      <td>2020</td>\n",
              "      <td>150.0000</td>\n",
              "      <td>NaN</td>\n",
              "    </tr>\n",
              "  </tbody>\n",
              "</table>\n",
              "<p>134089 rows × 18 columns</p>\n",
              "</div>"
            ],
            "text/plain": [
              "         adm0_id adm0_name  adm1_id  ... mp_year  mp_price mp_commoditysource\n",
              "1077086    205.0    Rwanda     2587  ...    2010  107.5000                NaN\n",
              "1077087    205.0    Rwanda     2587  ...    2010  121.6667                NaN\n",
              "1077088    205.0    Rwanda     2587  ...    2010  108.7500                NaN\n",
              "1077089    205.0    Rwanda     2587  ...    2010  177.5000                NaN\n",
              "1077090    205.0    Rwanda     2587  ...    2010  181.2500                NaN\n",
              "...          ...       ...      ...  ...     ...       ...                ...\n",
              "1211170    205.0    Rwanda    21973  ...    2019  200.0000                NaN\n",
              "1211171    205.0    Rwanda    21973  ...    2019  150.0000                NaN\n",
              "1211172    205.0    Rwanda    21973  ...    2019  250.0000                NaN\n",
              "1211173    205.0    Rwanda    21973  ...    2019  150.0000                NaN\n",
              "1211174    205.0    Rwanda    21973  ...    2020  150.0000                NaN\n",
              "\n",
              "[134089 rows x 18 columns]"
            ]
          },
          "metadata": {
            "tags": []
          },
          "execution_count": 11
        }
      ]
    },
    {
      "cell_type": "code",
      "metadata": {
        "colab": {
          "base_uri": "https://localhost:8080/"
        },
        "id": "S65rihUEPhcQ",
        "outputId": "75722fd9-ab62-4bc1-dd90-e28b4ef631ce"
      },
      "source": [
        "df_rwanda[\"pt_name\"].value_counts()"
      ],
      "execution_count": 12,
      "outputs": [
        {
          "output_type": "execute_result",
          "data": {
            "text/plain": [
              "Retail       133483\n",
              "Wholesale       606\n",
              "Name: pt_name, dtype: int64"
            ]
          },
          "metadata": {
            "tags": []
          },
          "execution_count": 12
        }
      ]
    },
    {
      "cell_type": "code",
      "metadata": {
        "colab": {
          "base_uri": "https://localhost:8080/"
        },
        "id": "kKGDOXq4Qlnq",
        "outputId": "49852b9d-64ca-4a84-f199-021b23b2c8f9"
      },
      "source": [
        "df_rwanda[\"um_id\"].value_counts()"
      ],
      "execution_count": 14,
      "outputs": [
        {
          "output_type": "execute_result",
          "data": {
            "text/plain": [
              "5     116737\n",
              "33     10485\n",
              "15      3462\n",
              "31      2799\n",
              "18       606\n",
              "Name: um_id, dtype: int64"
            ]
          },
          "metadata": {
            "tags": []
          },
          "execution_count": 14
        }
      ]
    }
  ]
}