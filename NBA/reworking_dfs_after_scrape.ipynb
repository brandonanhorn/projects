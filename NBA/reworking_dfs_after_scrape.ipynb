{
 "cells": [
  {
   "cell_type": "code",
   "execution_count": 1,
   "metadata": {},
   "outputs": [],
   "source": [
    "import pandas as pd"
   ]
  },
  {
   "cell_type": "code",
   "execution_count": 67,
   "metadata": {},
   "outputs": [],
   "source": [
    "z = \"opp_turnovers\"\n",
    "df = pd.read_csv(\"data/a/\" + z + \".csv\")"
   ]
  },
  {
   "cell_type": "code",
   "execution_count": 68,
   "metadata": {},
   "outputs": [
    {
     "data": {
      "text/html": [
       "<div>\n",
       "<style scoped>\n",
       "    .dataframe tbody tr th:only-of-type {\n",
       "        vertical-align: middle;\n",
       "    }\n",
       "\n",
       "    .dataframe tbody tr th {\n",
       "        vertical-align: top;\n",
       "    }\n",
       "\n",
       "    .dataframe thead th {\n",
       "        text-align: right;\n",
       "    }\n",
       "</style>\n",
       "<table border=\"1\" class=\"dataframe\">\n",
       "  <thead>\n",
       "    <tr style=\"text-align: right;\">\n",
       "      <th></th>\n",
       "      <th>Unnamed: 0</th>\n",
       "      <th>date</th>\n",
       "      <th>rank</th>\n",
       "      <th>team</th>\n",
       "      <th>current_year_total</th>\n",
       "      <th>last_three</th>\n",
       "      <th>last_game</th>\n",
       "      <th>home_score_avg</th>\n",
       "      <th>away_score_avg</th>\n",
       "    </tr>\n",
       "  </thead>\n",
       "  <tbody>\n",
       "    <tr>\n",
       "      <th>0</th>\n",
       "      <td>0</td>\n",
       "      <td>2015-11-03</td>\n",
       "      <td>1</td>\n",
       "      <td>Boston</td>\n",
       "      <td>22.0</td>\n",
       "      <td>22.0</td>\n",
       "      <td>20.0</td>\n",
       "      <td>22.0</td>\n",
       "      <td>--</td>\n",
       "    </tr>\n",
       "  </tbody>\n",
       "</table>\n",
       "</div>"
      ],
      "text/plain": [
       "   Unnamed: 0        date  rank    team  current_year_total  last_three  \\\n",
       "0           0  2015-11-03     1  Boston                22.0        22.0   \n",
       "\n",
       "   last_game home_score_avg away_score_avg  \n",
       "0       20.0           22.0             --  "
      ]
     },
     "execution_count": 68,
     "metadata": {},
     "output_type": "execute_result"
    }
   ],
   "source": [
    "df.head(1)"
   ]
  },
  {
   "cell_type": "code",
   "execution_count": 69,
   "metadata": {},
   "outputs": [],
   "source": [
    "df = df.sort_values(by=[\"team\", \"date\"])"
   ]
  },
  {
   "cell_type": "code",
   "execution_count": 70,
   "metadata": {},
   "outputs": [
    {
     "data": {
      "text/html": [
       "<div>\n",
       "<style scoped>\n",
       "    .dataframe tbody tr th:only-of-type {\n",
       "        vertical-align: middle;\n",
       "    }\n",
       "\n",
       "    .dataframe tbody tr th {\n",
       "        vertical-align: top;\n",
       "    }\n",
       "\n",
       "    .dataframe thead th {\n",
       "        text-align: right;\n",
       "    }\n",
       "</style>\n",
       "<table border=\"1\" class=\"dataframe\">\n",
       "  <thead>\n",
       "    <tr style=\"text-align: right;\">\n",
       "      <th></th>\n",
       "      <th>Unnamed: 0</th>\n",
       "      <th>date</th>\n",
       "      <th>rank</th>\n",
       "      <th>team</th>\n",
       "      <th>current_year_total</th>\n",
       "      <th>last_three</th>\n",
       "      <th>last_game</th>\n",
       "      <th>home_score_avg</th>\n",
       "      <th>away_score_avg</th>\n",
       "    </tr>\n",
       "  </thead>\n",
       "  <tbody>\n",
       "    <tr>\n",
       "      <th>8</th>\n",
       "      <td>8</td>\n",
       "      <td>2015-11-03</td>\n",
       "      <td>9</td>\n",
       "      <td>Atlanta</td>\n",
       "      <td>17.0</td>\n",
       "      <td>17.7</td>\n",
       "      <td>12.0</td>\n",
       "      <td>17.5</td>\n",
       "      <td>16.5</td>\n",
       "    </tr>\n",
       "    <tr>\n",
       "      <th>33</th>\n",
       "      <td>33</td>\n",
       "      <td>2015-11-04</td>\n",
       "      <td>4</td>\n",
       "      <td>Atlanta</td>\n",
       "      <td>17.4</td>\n",
       "      <td>17.0</td>\n",
       "      <td>19.0</td>\n",
       "      <td>17.5</td>\n",
       "      <td>17.3</td>\n",
       "    </tr>\n",
       "    <tr>\n",
       "      <th>64</th>\n",
       "      <td>64</td>\n",
       "      <td>2015-11-05</td>\n",
       "      <td>5</td>\n",
       "      <td>Atlanta</td>\n",
       "      <td>17.7</td>\n",
       "      <td>16.7</td>\n",
       "      <td>19.0</td>\n",
       "      <td>18.0</td>\n",
       "      <td>17.3</td>\n",
       "    </tr>\n",
       "    <tr>\n",
       "      <th>93</th>\n",
       "      <td>93</td>\n",
       "      <td>2015-11-06</td>\n",
       "      <td>4</td>\n",
       "      <td>Atlanta</td>\n",
       "      <td>17.7</td>\n",
       "      <td>16.7</td>\n",
       "      <td>19.0</td>\n",
       "      <td>18.0</td>\n",
       "      <td>17.3</td>\n",
       "    </tr>\n",
       "    <tr>\n",
       "      <th>125</th>\n",
       "      <td>125</td>\n",
       "      <td>2015-11-07</td>\n",
       "      <td>6</td>\n",
       "      <td>Atlanta</td>\n",
       "      <td>17.0</td>\n",
       "      <td>17.0</td>\n",
       "      <td>13.0</td>\n",
       "      <td>18.0</td>\n",
       "      <td>16.2</td>\n",
       "    </tr>\n",
       "  </tbody>\n",
       "</table>\n",
       "</div>"
      ],
      "text/plain": [
       "     Unnamed: 0        date  rank     team  current_year_total  last_three  \\\n",
       "8             8  2015-11-03     9  Atlanta                17.0        17.7   \n",
       "33           33  2015-11-04     4  Atlanta                17.4        17.0   \n",
       "64           64  2015-11-05     5  Atlanta                17.7        16.7   \n",
       "93           93  2015-11-06     4  Atlanta                17.7        16.7   \n",
       "125         125  2015-11-07     6  Atlanta                17.0        17.0   \n",
       "\n",
       "     last_game home_score_avg away_score_avg  \n",
       "8         12.0           17.5           16.5  \n",
       "33        19.0           17.5           17.3  \n",
       "64        19.0           18.0           17.3  \n",
       "93        19.0           18.0           17.3  \n",
       "125       13.0           18.0           16.2  "
      ]
     },
     "execution_count": 70,
     "metadata": {},
     "output_type": "execute_result"
    }
   ],
   "source": [
    "df.head()"
   ]
  },
  {
   "cell_type": "code",
   "execution_count": 71,
   "metadata": {},
   "outputs": [],
   "source": [
    "del df[\"Unnamed: 0\"], df[\"team\"]"
   ]
  },
  {
   "cell_type": "code",
   "execution_count": 72,
   "metadata": {},
   "outputs": [],
   "source": [
    "df = df.rename(columns = {\"rank\": \"rank_\"+z, 'current_year_total': 'current_year_' + z, 'last_three' : 'last_three_' + z, \"last_game\": \"last_game_\"+z, \"home_score_avg\": \"home_\"+z+\"_avg\", \"away_score_avg\": \"away_\"+z+\"_avg\"}, inplace = False)"
   ]
  },
  {
   "cell_type": "code",
   "execution_count": 73,
   "metadata": {},
   "outputs": [
    {
     "data": {
      "text/html": [
       "<div>\n",
       "<style scoped>\n",
       "    .dataframe tbody tr th:only-of-type {\n",
       "        vertical-align: middle;\n",
       "    }\n",
       "\n",
       "    .dataframe tbody tr th {\n",
       "        vertical-align: top;\n",
       "    }\n",
       "\n",
       "    .dataframe thead th {\n",
       "        text-align: right;\n",
       "    }\n",
       "</style>\n",
       "<table border=\"1\" class=\"dataframe\">\n",
       "  <thead>\n",
       "    <tr style=\"text-align: right;\">\n",
       "      <th></th>\n",
       "      <th>date</th>\n",
       "      <th>rank_opp_turnovers</th>\n",
       "      <th>current_year_opp_turnovers</th>\n",
       "      <th>last_three_opp_turnovers</th>\n",
       "      <th>last_game_opp_turnovers</th>\n",
       "      <th>home_opp_turnovers_avg</th>\n",
       "      <th>away_opp_turnovers_avg</th>\n",
       "    </tr>\n",
       "  </thead>\n",
       "  <tbody>\n",
       "    <tr>\n",
       "      <th>8</th>\n",
       "      <td>2015-11-03</td>\n",
       "      <td>9</td>\n",
       "      <td>17.0</td>\n",
       "      <td>17.7</td>\n",
       "      <td>12.0</td>\n",
       "      <td>17.5</td>\n",
       "      <td>16.5</td>\n",
       "    </tr>\n",
       "  </tbody>\n",
       "</table>\n",
       "</div>"
      ],
      "text/plain": [
       "         date  rank_opp_turnovers  current_year_opp_turnovers  \\\n",
       "8  2015-11-03                   9                        17.0   \n",
       "\n",
       "   last_three_opp_turnovers  last_game_opp_turnovers home_opp_turnovers_avg  \\\n",
       "8                      17.7                     12.0                   17.5   \n",
       "\n",
       "  away_opp_turnovers_avg  \n",
       "8                   16.5  "
      ]
     },
     "execution_count": 73,
     "metadata": {},
     "output_type": "execute_result"
    }
   ],
   "source": [
    "df.head(1)"
   ]
  },
  {
   "cell_type": "code",
   "execution_count": 74,
   "metadata": {},
   "outputs": [],
   "source": [
    "df.to_csv(\"order_data/\"+z+\".csv\")"
   ]
  },
  {
   "cell_type": "code",
   "execution_count": null,
   "metadata": {},
   "outputs": [],
   "source": []
  }
 ],
 "metadata": {
  "kernelspec": {
   "display_name": "Python 3",
   "language": "python",
   "name": "python3"
  },
  "language_info": {
   "codemirror_mode": {
    "name": "ipython",
    "version": 3
   },
   "file_extension": ".py",
   "mimetype": "text/x-python",
   "name": "python",
   "nbconvert_exporter": "python",
   "pygments_lexer": "ipython3",
   "version": "3.6.4"
  }
 },
 "nbformat": 4,
 "nbformat_minor": 2
}
