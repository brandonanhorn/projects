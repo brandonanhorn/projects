{
 "cells": [
  {
   "cell_type": "code",
   "execution_count": 1,
   "metadata": {},
   "outputs": [],
   "source": [
    "import pandas as pd\n",
    "\n",
    "from datetime import datetime\n",
    "\n",
    "from sklearn.model_selection import train_test_split\n",
    "from sklearn.preprocessing import LabelBinarizer, StandardScaler\n",
    "\n",
    "from sklearn_pandas import DataFrameMapper\n",
    "from sklearn.linear_model import LinearRegression, HuberRegressor, Lasso, Ridge, ElasticNet\n",
    "from sklearn.ensemble import RandomForestRegressor, AdaBoostRegressor\n",
    "from sklearn.tree import DecisionTreeRegressor\n",
    "from sklearn.metrics import mean_squared_error\n",
    "\n",
    "from tensorflow.keras.models import Sequential\n",
    "from tensorflow.keras import layers, Input, Model\n",
    "from tensorflow.keras.layers import Dense, Dropout, PReLU, LeakyReLU\n",
    "\n",
    "import keras\n",
    "\n",
    "from keras.callbacks import EarlyStopping"
   ]
  },
  {
   "cell_type": "code",
   "execution_count": 2,
   "metadata": {},
   "outputs": [],
   "source": [
    "pd.set_option(\"max.columns\", None)"
   ]
  },
  {
   "cell_type": "code",
   "execution_count": 3,
   "metadata": {},
   "outputs": [],
   "source": [
    "df = pd.read_csv(\"mixed_scores_teams.csv\")"
   ]
  },
  {
   "cell_type": "code",
   "execution_count": 4,
   "metadata": {},
   "outputs": [],
   "source": [
    "df[\"score\"] = 0\n",
    "for i in df[\"home_game\"]:\n",
    "    if i == True:\n",
    "        df[\"score\"] = df[\"pts_home\"]\n",
    "    if i == False:\n",
    "        df[\"score\"] = df[\"pts_visitor\"]"
   ]
  },
  {
   "cell_type": "code",
   "execution_count": 5,
   "metadata": {},
   "outputs": [],
   "source": [
    "del df[\"Unnamed: 0\"], df[\"date\"], df[\"team\"], df[\"visitor\"], df[\"pts_visitor\"], df[\"home\"], df[\"pts_home\"], df[\"ot\"]"
   ]
  },
  {
   "cell_type": "code",
   "execution_count": 6,
   "metadata": {},
   "outputs": [
    {
     "data": {
      "text/html": [
       "<div>\n",
       "<style scoped>\n",
       "    .dataframe tbody tr th:only-of-type {\n",
       "        vertical-align: middle;\n",
       "    }\n",
       "\n",
       "    .dataframe tbody tr th {\n",
       "        vertical-align: top;\n",
       "    }\n",
       "\n",
       "    .dataframe thead th {\n",
       "        text-align: right;\n",
       "    }\n",
       "</style>\n",
       "<table border=\"1\" class=\"dataframe\">\n",
       "  <thead>\n",
       "    <tr style=\"text-align: right;\">\n",
       "      <th></th>\n",
       "      <th>rank_assists</th>\n",
       "      <th>rank_blocks</th>\n",
       "      <th>rank_deffeciency</th>\n",
       "      <th>rank_drebounds</th>\n",
       "      <th>rank_fouls</th>\n",
       "      <th>rank_ft_pct</th>\n",
       "      <th>rank_oeffeciency</th>\n",
       "      <th>rank_opp_assists</th>\n",
       "      <th>rank_opp_blocks</th>\n",
       "      <th>rank_opp_drebounds</th>\n",
       "      <th>rank_opp_fouls</th>\n",
       "      <th>rank_opp_orebounds</th>\n",
       "      <th>rank_opp_ptsfastbreak</th>\n",
       "      <th>rank_opp_ptsfrom2</th>\n",
       "      <th>rank_opp_ptsfrom3</th>\n",
       "      <th>rank_opp_ptsinpaint</th>\n",
       "      <th>rank_opp_ptspergame</th>\n",
       "      <th>rank_opp_steals</th>\n",
       "      <th>rank_opp_threepointpct</th>\n",
       "      <th>rank_opp_turnovers</th>\n",
       "      <th>rank_opp_twopointpct</th>\n",
       "      <th>rank_orebounds</th>\n",
       "      <th>rank_ptsfrom2</th>\n",
       "      <th>rank_ptsfrom3</th>\n",
       "      <th>rank_ptsfromfastbreak</th>\n",
       "      <th>rank_ptsinpaint</th>\n",
       "      <th>rank_scoring</th>\n",
       "      <th>rank_steals</th>\n",
       "      <th>rank_threeptpct</th>\n",
       "      <th>rank_turnovers</th>\n",
       "      <th>rank_twoptpct</th>\n",
       "      <th>start (et)</th>\n",
       "      <th>home_game</th>\n",
       "      <th>back_to_back</th>\n",
       "      <th>score</th>\n",
       "    </tr>\n",
       "  </thead>\n",
       "  <tbody>\n",
       "    <tr>\n",
       "      <th>0</th>\n",
       "      <td>7</td>\n",
       "      <td>23</td>\n",
       "      <td>15</td>\n",
       "      <td>16</td>\n",
       "      <td>5</td>\n",
       "      <td>11</td>\n",
       "      <td>15</td>\n",
       "      <td>25</td>\n",
       "      <td>23</td>\n",
       "      <td>18</td>\n",
       "      <td>30</td>\n",
       "      <td>29</td>\n",
       "      <td>18</td>\n",
       "      <td>3</td>\n",
       "      <td>29</td>\n",
       "      <td>2</td>\n",
       "      <td>10</td>\n",
       "      <td>13</td>\n",
       "      <td>21</td>\n",
       "      <td>9</td>\n",
       "      <td>2</td>\n",
       "      <td>26</td>\n",
       "      <td>13</td>\n",
       "      <td>16</td>\n",
       "      <td>4</td>\n",
       "      <td>15</td>\n",
       "      <td>21</td>\n",
       "      <td>5</td>\n",
       "      <td>21</td>\n",
       "      <td>11</td>\n",
       "      <td>5</td>\n",
       "      <td>7:30p</td>\n",
       "      <td>False</td>\n",
       "      <td>False</td>\n",
       "      <td>92</td>\n",
       "    </tr>\n",
       "  </tbody>\n",
       "</table>\n",
       "</div>"
      ],
      "text/plain": [
       "   rank_assists  rank_blocks  rank_deffeciency  rank_drebounds  rank_fouls  \\\n",
       "0             7           23                15              16           5   \n",
       "\n",
       "   rank_ft_pct  rank_oeffeciency  rank_opp_assists  rank_opp_blocks  \\\n",
       "0           11                15                25               23   \n",
       "\n",
       "   rank_opp_drebounds  rank_opp_fouls  rank_opp_orebounds  \\\n",
       "0                  18              30                  29   \n",
       "\n",
       "   rank_opp_ptsfastbreak  rank_opp_ptsfrom2  rank_opp_ptsfrom3  \\\n",
       "0                     18                  3                 29   \n",
       "\n",
       "   rank_opp_ptsinpaint  rank_opp_ptspergame  rank_opp_steals  \\\n",
       "0                    2                   10               13   \n",
       "\n",
       "   rank_opp_threepointpct  rank_opp_turnovers  rank_opp_twopointpct  \\\n",
       "0                      21                   9                     2   \n",
       "\n",
       "   rank_orebounds  rank_ptsfrom2  rank_ptsfrom3  rank_ptsfromfastbreak  \\\n",
       "0              26             13             16                      4   \n",
       "\n",
       "   rank_ptsinpaint  rank_scoring  rank_steals  rank_threeptpct  \\\n",
       "0               15            21            5               21   \n",
       "\n",
       "   rank_turnovers  rank_twoptpct start (et)  home_game  back_to_back  score  \n",
       "0              11              5      7:30p      False         False     92  "
      ]
     },
     "execution_count": 6,
     "metadata": {},
     "output_type": "execute_result"
    }
   ],
   "source": [
    "df.head(1)"
   ]
  },
  {
   "cell_type": "code",
   "execution_count": 7,
   "metadata": {},
   "outputs": [],
   "source": [
    "df[\"start (et)\"] = df[\"start (et)\"].str.replace(\"p\", \"\")"
   ]
  },
  {
   "cell_type": "code",
   "execution_count": 8,
   "metadata": {},
   "outputs": [],
   "source": [
    "df[\"start (et)\"] = df[\"start (et)\"].astype(str)"
   ]
  },
  {
   "cell_type": "code",
   "execution_count": 9,
   "metadata": {},
   "outputs": [],
   "source": [
    "target = \"score\"\n",
    "X = df.drop(target, axis=1)\n",
    "y = df[target]"
   ]
  },
  {
   "cell_type": "code",
   "execution_count": 10,
   "metadata": {},
   "outputs": [],
   "source": [
    "X_train, X_test, y_train, y_test = train_test_split(X, y, random_state=13)"
   ]
  },
  {
   "cell_type": "code",
   "execution_count": 11,
   "metadata": {},
   "outputs": [],
   "source": [
    "mapper = DataFrameMapper([\n",
    "    ([\"rank_assists\"], StandardScaler()),\n",
    "    ([\"rank_blocks\"], StandardScaler()),\n",
    "    ([\"rank_deffeciency\"], StandardScaler()),\n",
    "    ([\"rank_drebounds\"], StandardScaler()),\n",
    "    ([\"rank_fouls\"], StandardScaler()),\n",
    "    ([\"rank_ft_pct\"], StandardScaler()),\n",
    "    ([\"rank_oeffeciency\"], StandardScaler()),\n",
    "    ([\"rank_opp_assists\"], StandardScaler()),\n",
    "    ([\"rank_opp_blocks\"], StandardScaler()),\n",
    "    ([\"rank_opp_drebounds\"], StandardScaler()),\n",
    "    ([\"rank_opp_fouls\"], StandardScaler()),\n",
    "    ([\"rank_opp_orebounds\"], StandardScaler()),\n",
    "    ([\"rank_opp_ptsfastbreak\"], StandardScaler()),\n",
    "    ([\"rank_opp_ptsfrom2\"], StandardScaler()),\n",
    "    ([\"rank_opp_ptsfrom3\"], StandardScaler()),\n",
    "    ([\"rank_opp_ptsinpaint\"], StandardScaler()),\n",
    "    ([\"rank_opp_ptspergame\"], StandardScaler()),\n",
    "    ([\"rank_opp_steals\"], StandardScaler()),\n",
    "    ([\"rank_opp_threepointpct\"], StandardScaler()),\n",
    "    ([\"rank_opp_turnovers\"], StandardScaler()),\n",
    "    ([\"rank_opp_twopointpct\"], StandardScaler()),\n",
    "    ([\"rank_orebounds\"], StandardScaler()),\n",
    "    ([\"rank_ptsfrom2\"], StandardScaler()),\n",
    "    ([\"rank_ptsfrom3\"], StandardScaler()),\n",
    "    ([\"rank_ptsfromfastbreak\"], StandardScaler()),\n",
    "    ([\"rank_ptsinpaint\"], StandardScaler()),\n",
    "    ([\"rank_scoring\"], StandardScaler()),\n",
    "    ([\"rank_steals\"], StandardScaler()),\n",
    "    ([\"rank_threeptpct\"], StandardScaler()),\n",
    "    ([\"rank_turnovers\"], StandardScaler()),\n",
    "    ([\"rank_twoptpct\"], StandardScaler()),\n",
    "    (\"start (et)\", LabelBinarizer()),\n",
    "    (\"home_game\", LabelBinarizer()),\n",
    "    (\"back_to_back\", LabelBinarizer())],df_out=True)"
   ]
  },
  {
   "cell_type": "code",
   "execution_count": 12,
   "metadata": {},
   "outputs": [],
   "source": [
    "Z_train = mapper.fit_transform(X_train)\n",
    "Z_test = mapper.transform(X_test)"
   ]
  },
  {
   "cell_type": "code",
   "execution_count": 13,
   "metadata": {},
   "outputs": [
    {
     "name": "stdout",
     "output_type": "stream",
     "text": [
      "LinearRegression train score is 0.04228396982617011\n",
      "LinearRegression test score is 0.03170649640838963\n",
      "Mean squared error is 12.1888259494245\n"
     ]
    }
   ],
   "source": [
    "model = LinearRegression().fit(Z_train,y_train)\n",
    "print(\"LinearRegression train score is \" + str(model.score(Z_train,y_train)))\n",
    "print(\"LinearRegression test score is \" + str(model.score(Z_test,y_test)))\n",
    "\n",
    "print(\"Mean squared error is \" + str(mean_squared_error(y_test, model.predict(Z_test))**(1/2)))"
   ]
  },
  {
   "cell_type": "code",
   "execution_count": 14,
   "metadata": {},
   "outputs": [
    {
     "name": "stdout",
     "output_type": "stream",
     "text": [
      "HuberRegressor train score is 0.04076411753415843\n",
      "HuberRegressor test score is 0.03070203913144476\n",
      "Mean squared error is 12.19514633751953\n"
     ]
    },
    {
     "name": "stderr",
     "output_type": "stream",
     "text": [
      "/Users/brandonanhorn19/anaconda3/lib/python3.6/site-packages/sklearn/linear_model/_huber.py:296: ConvergenceWarning: lbfgs failed to converge (status=1):\n",
      "STOP: TOTAL NO. of ITERATIONS REACHED LIMIT.\n",
      "\n",
      "Increase the number of iterations (max_iter) or scale the data as shown in:\n",
      "    https://scikit-learn.org/stable/modules/preprocessing.html\n",
      "  self.n_iter_ = _check_optimize_result(\"lbfgs\", opt_res, self.max_iter)\n"
     ]
    }
   ],
   "source": [
    "model = HuberRegressor().fit(Z_train,y_train)\n",
    "print(\"HuberRegressor train score is \" + str(model.score(Z_train,y_train)))\n",
    "print(\"HuberRegressor test score is \" + str(model.score(Z_test,y_test)))\n",
    "\n",
    "print(\"Mean squared error is \" + str(mean_squared_error(y_test, model.predict(Z_test))**(1/2)))"
   ]
  },
  {
   "cell_type": "code",
   "execution_count": 15,
   "metadata": {},
   "outputs": [
    {
     "name": "stdout",
     "output_type": "stream",
     "text": [
      "Lasso train score is 0.02469377106953563\n",
      "Lasso test score is 0.02044012096992842\n",
      "Mean squared error is 12.259531135963236\n"
     ]
    }
   ],
   "source": [
    "model = Lasso().fit(Z_train,y_train)\n",
    "print(\"Lasso train score is \" + str(model.score(Z_train,y_train)))\n",
    "print(\"Lasso test score is \" + str(model.score(Z_test,y_test)))\n",
    "\n",
    "print(\"Mean squared error is \" + str(mean_squared_error(y_test, model.predict(Z_test))**(1/2)))"
   ]
  },
  {
   "cell_type": "code",
   "execution_count": 16,
   "metadata": {},
   "outputs": [
    {
     "name": "stdout",
     "output_type": "stream",
     "text": [
      "Ridge train score is 0.042266653172165713\n",
      "Ridge test score is 0.03184521643037441\n",
      "Mean squared error is 12.187952818106378\n"
     ]
    }
   ],
   "source": [
    "model = Ridge().fit(Z_train,y_train)\n",
    "print(\"Ridge train score is \" + str(model.score(Z_train,y_train)))\n",
    "print(\"Ridge test score is \" + str(model.score(Z_test,y_test)))\n",
    "\n",
    "print(\"Mean squared error is \" + str(mean_squared_error(y_test, model.predict(Z_test))**(1/2)))"
   ]
  },
  {
   "cell_type": "code",
   "execution_count": 17,
   "metadata": {},
   "outputs": [
    {
     "name": "stdout",
     "output_type": "stream",
     "text": [
      "ElasticNet train score is 0.02756003091526915\n",
      "ElasticNet test score is 0.02310609856709922\n",
      "Mean squared error is 12.242836953003591\n"
     ]
    }
   ],
   "source": [
    "model = ElasticNet().fit(Z_train,y_train)\n",
    "print(\"ElasticNet train score is \" + str(model.score(Z_train,y_train)))\n",
    "print(\"ElasticNet test score is \" + str(model.score(Z_test,y_test)))\n",
    "\n",
    "print(\"Mean squared error is \" + str(mean_squared_error(y_test, model.predict(Z_test))**(1/2)))"
   ]
  },
  {
   "cell_type": "code",
   "execution_count": 18,
   "metadata": {},
   "outputs": [
    {
     "name": "stdout",
     "output_type": "stream",
     "text": [
      "RandomForestRegressor train score is 0.8699052272887868\n",
      "RandomForestRegressor test score is 0.07261370823359214\n",
      "Mean squared error is 11.92857876398249\n"
     ]
    }
   ],
   "source": [
    "model = RandomForestRegressor().fit(Z_train,y_train)\n",
    "print(\"RandomForestRegressor train score is \" + str(model.score(Z_train,y_train)))\n",
    "print(\"RandomForestRegressor test score is \" + str(model.score(Z_test,y_test)))\n",
    "\n",
    "print(\"Mean squared error is \" + str(mean_squared_error(y_test, model.predict(Z_test))**(1/2)))"
   ]
  },
  {
   "cell_type": "code",
   "execution_count": 19,
   "metadata": {},
   "outputs": [
    {
     "name": "stdout",
     "output_type": "stream",
     "text": [
      "DecisionTreeRegressor train score is 1.0\n",
      "DecisionTreeRegressor test score is -0.8044972797601115\n",
      "Mean squared error is 16.63935480336456\n"
     ]
    }
   ],
   "source": [
    "model = DecisionTreeRegressor().fit(Z_train,y_train)\n",
    "print(\"DecisionTreeRegressor train score is \" + str(model.score(Z_train,y_train)))\n",
    "print(\"DecisionTreeRegressor test score is \" + str(model.score(Z_test,y_test)))\n",
    "\n",
    "print(\"Mean squared error is \" + str(mean_squared_error(y_test, model.predict(Z_test))**(1/2)))"
   ]
  },
  {
   "cell_type": "code",
   "execution_count": 20,
   "metadata": {},
   "outputs": [
    {
     "name": "stdout",
     "output_type": "stream",
     "text": [
      "AdaBoostRegressor train score is 0.053018544946966006\n",
      "AdaBoostRegressor test score is 0.01878122067352095\n",
      "Mean squared error is 12.269907600511875\n"
     ]
    }
   ],
   "source": [
    "model = AdaBoostRegressor().fit(Z_train,y_train)\n",
    "print(\"AdaBoostRegressor train score is \" + str(model.score(Z_train,y_train)))\n",
    "print(\"AdaBoostRegressor test score is \" + str(model.score(Z_test,y_test)))\n",
    "\n",
    "print(\"Mean squared error is \" + str(mean_squared_error(y_test, model.predict(Z_test))**(1/2)))"
   ]
  },
  {
   "cell_type": "code",
   "execution_count": 21,
   "metadata": {},
   "outputs": [
    {
     "name": "stdout",
     "output_type": "stream",
     "text": [
      "Epoch 1/200\n",
      "1146/1146 - 2s - loss: 25.5039 - val_loss: 11.5736\n",
      "Epoch 2/200\n",
      "1146/1146 - 1s - loss: 11.0529 - val_loss: 10.5879\n",
      "Epoch 3/200\n",
      "1146/1146 - 1s - loss: 10.3947 - val_loss: 10.7535\n",
      "Epoch 4/200\n",
      "1146/1146 - 1s - loss: 10.1692 - val_loss: 10.4358\n",
      "Epoch 5/200\n",
      "1146/1146 - 1s - loss: 10.0263 - val_loss: 10.0590\n",
      "Epoch 6/200\n",
      "1146/1146 - 1s - loss: 9.8583 - val_loss: 9.8490\n",
      "Epoch 7/200\n",
      "1146/1146 - 1s - loss: 9.8013 - val_loss: 9.8078\n",
      "Epoch 8/200\n",
      "1146/1146 - 1s - loss: 9.7443 - val_loss: 9.7284\n",
      "Epoch 9/200\n",
      "1146/1146 - 1s - loss: 9.6968 - val_loss: 9.8340\n",
      "Epoch 10/200\n",
      "1146/1146 - 1s - loss: 9.6438 - val_loss: 9.7725\n",
      "Epoch 11/200\n",
      "1146/1146 - 1s - loss: 9.5637 - val_loss: 9.6845\n",
      "Epoch 12/200\n",
      "1146/1146 - 1s - loss: 9.5723 - val_loss: 10.1967\n",
      "Epoch 13/200\n",
      "1146/1146 - 1s - loss: 9.5328 - val_loss: 9.8732\n",
      "Epoch 14/200\n",
      "1146/1146 - 1s - loss: 9.4904 - val_loss: 9.6571\n",
      "Epoch 15/200\n",
      "1146/1146 - 1s - loss: 9.4953 - val_loss: 10.0595\n",
      "Epoch 16/200\n",
      "1146/1146 - 1s - loss: 9.4940 - val_loss: 9.7470\n",
      "Epoch 17/200\n",
      "1146/1146 - 1s - loss: 9.4198 - val_loss: 9.7183\n",
      "Epoch 18/200\n",
      "1146/1146 - 1s - loss: 9.3847 - val_loss: 9.6708\n",
      "Epoch 19/200\n",
      "1146/1146 - 1s - loss: 9.3842 - val_loss: 9.7647\n",
      "Epoch 20/200\n",
      "1146/1146 - 1s - loss: 9.3828 - val_loss: 10.8828\n",
      "Epoch 21/200\n",
      "1146/1146 - 1s - loss: 9.3101 - val_loss: 9.7726\n"
     ]
    },
    {
     "data": {
      "text/plain": [
       "<tensorflow.python.keras.callbacks.History at 0x7facea5288d0>"
      ]
     },
     "execution_count": 21,
     "metadata": {},
     "output_type": "execute_result"
    }
   ],
   "source": [
    "model = Sequential([\n",
    "    Input(shape=(Z_train.shape[1],)),\n",
    "    Dense(32, activation=\"relu\"),\n",
    "    Dense(16, activation=\"relu\"),\n",
    "    Dense(8, activation=\"relu\"),\n",
    "    Dense(4, activation=\"relu\"),\n",
    "    Dense(1, activation=\"relu\")\n",
    "])\n",
    "\n",
    "model.compile(loss=\"mae\", optimizer=\"adam\")\n",
    "\n",
    "early_stop = EarlyStopping(monitor=\"val_loss\", patience=7, verbose=0, mode=\"min\")\n",
    "\n",
    "model.fit(Z_train, y_train,\n",
    "            validation_data=(Z_test, y_test),\n",
    "            epochs=200, batch_size=8,\n",
    "            verbose=2, callbacks=[early_stop])"
   ]
  },
  {
   "cell_type": "code",
   "execution_count": 22,
   "metadata": {},
   "outputs": [
    {
     "data": {
      "text/plain": [
       "{'back_to_back': [False],\n",
       " 'home_game': [True],\n",
       " 'rank_assists': [16],\n",
       " 'rank_blocks': [4],\n",
       " 'rank_deffeciency': [12],\n",
       " 'rank_drebounds': [5],\n",
       " 'rank_fouls': [16],\n",
       " 'rank_ft_pct': [6],\n",
       " 'rank_oeffeciency': [2],\n",
       " 'rank_opp_assists': [5],\n",
       " 'rank_opp_blocks': [14],\n",
       " 'rank_opp_drebounds': [1],\n",
       " 'rank_opp_fouls': [20],\n",
       " 'rank_opp_orebounds': [16],\n",
       " 'rank_opp_ptsfastbreak': [11],\n",
       " 'rank_opp_ptsfrom2': [21],\n",
       " 'rank_opp_ptsfrom3': [10],\n",
       " 'rank_opp_ptsinpaint': [25],\n",
       " 'rank_opp_ptspergame': [14],\n",
       " 'rank_opp_steals': [28],\n",
       " 'rank_opp_threepointpct': [16],\n",
       " 'rank_opp_turnovers': [23],\n",
       " 'rank_opp_twopointpct': [5],\n",
       " 'rank_orebounds': [2],\n",
       " 'rank_ptsfrom2': [3],\n",
       " 'rank_ptsfrom3': [17],\n",
       " 'rank_ptsfromfastbreak': [5],\n",
       " 'rank_ptsinpaint': [4],\n",
       " 'rank_scoring': [2],\n",
       " 'rank_steals': [18],\n",
       " 'rank_threeptpct': [5],\n",
       " 'rank_turnovers': [27],\n",
       " 'rank_twoptpct': [4],\n",
       " 'start (et)': ['7:00']}"
      ]
     },
     "execution_count": 22,
     "metadata": {},
     "output_type": "execute_result"
    }
   ],
   "source": [
    "X_test.sample(1).to_dict(orient='list')"
   ]
  },
  {
   "cell_type": "code",
   "execution_count": 23,
   "metadata": {},
   "outputs": [
    {
     "data": {
      "text/plain": [
       "array([[94.504684]], dtype=float32)"
      ]
     },
     "execution_count": 23,
     "metadata": {},
     "output_type": "execute_result"
    }
   ],
   "source": [
    "# Boston - apr. 25, 2021 - scored 104\n",
    "X_new = pd.DataFrame({\n",
    "    'back_to_back': [False],\n",
    "    'home_game': [False],\n",
    "    'rank_assists': [23],\n",
    "    'rank_blocks': [10],\n",
    "    'rank_deffeciency': [12],\n",
    "    'rank_drebounds': [21],\n",
    "    'rank_fouls': [22],\n",
    "    'rank_ft_pct': [17],\n",
    "    'rank_oeffeciency': [12],\n",
    "    'rank_opp_assists': [7],\n",
    "    'rank_opp_blocks': [10],\n",
    "    'rank_opp_drebounds': [5],\n",
    "    'rank_opp_fouls': [15],\n",
    "    'rank_opp_orebounds': [11],\n",
    "    'rank_opp_ptsfastbreak': [12],\n",
    "    'rank_opp_ptsfrom2': [5],\n",
    "    'rank_opp_ptsfrom3': [16],\n",
    "    'rank_opp_ptsinpaint': [6],\n",
    "    'rank_opp_ptspergame': [9],\n",
    "    'rank_opp_steals': [11],\n",
    "    'rank_opp_threepointpct': [17],\n",
    "    'rank_opp_turnovers': [14],\n",
    "    'rank_opp_twopointpct': [13],\n",
    "    'rank_orebounds': [5],\n",
    "    'rank_ptsfrom2': [15],\n",
    "    'rank_ptsfrom3': [11],\n",
    "    'rank_ptsfromfastbreak': [18],\n",
    "    'rank_ptsinpaint': [19],\n",
    "    'rank_scoring': [16],\n",
    "    'rank_steals': [12],\n",
    "    'rank_threeptpct': [9],\n",
    "    'rank_turnovers': [17],\n",
    "    'rank_twoptpct': [14],\n",
    "    'start (et)': ['1:00']\n",
    "})\n",
    "\n",
    "Z_new = mapper.transform(X_new)\n",
    "model.predict(Z_new)"
   ]
  },
  {
   "cell_type": "code",
   "execution_count": 24,
   "metadata": {},
   "outputs": [
    {
     "data": {
      "text/plain": [
       "array([[111.23766]], dtype=float32)"
      ]
     },
     "execution_count": 24,
     "metadata": {},
     "output_type": "execute_result"
    }
   ],
   "source": [
    "# Charlotte - apr. 25, 2021 - scored 125\n",
    "X_new = pd.DataFrame({\n",
    "    'back_to_back': [False],\n",
    "    'home_game': [True],\n",
    "    'rank_assists': [8],\n",
    "    'rank_blocks': [18],\n",
    "    'rank_deffeciency': [17],\n",
    "    'rank_drebounds': [24],\n",
    "    'rank_fouls': [4],\n",
    "    'rank_ft_pct': [21],\n",
    "    'rank_oeffeciency': [18],\n",
    "    'rank_opp_assists': [30],\n",
    "    'rank_opp_blocks': [13],\n",
    "    'rank_opp_drebounds': [17],\n",
    "    'rank_opp_fouls': [24],\n",
    "    'rank_opp_orebounds': [27],\n",
    "    'rank_opp_ptsfastbreak': [24],\n",
    "    'rank_opp_ptsfrom2': [4],\n",
    "    'rank_opp_ptsfrom3': [30],\n",
    "    'rank_opp_ptsinpaint': [13],\n",
    "    'rank_opp_ptspergame': [13],\n",
    "    'rank_opp_steals': [24],\n",
    "    'rank_opp_threepointpct': [16],\n",
    "    'rank_opp_turnovers': [10],\n",
    "    'rank_opp_twopointpct': [30],\n",
    "    'rank_orebounds': [10],\n",
    "    'rank_ptsfrom2': [25],\n",
    "    'rank_ptsfrom3': [8],\n",
    "    'rank_ptsfromfastbreak': [10],\n",
    "    'rank_ptsinpaint': [21],\n",
    "    'rank_scoring': [22],\n",
    "    'rank_steals': [10],\n",
    "    'rank_threeptpct': [8],\n",
    "    'rank_turnovers': [26],\n",
    "    'rank_twoptpct': [21],\n",
    "    'start (et)': ['1:00']\n",
    "})\n",
    "\n",
    "Z_new = mapper.transform(X_new)\n",
    "model.predict(Z_new)"
   ]
  },
  {
   "cell_type": "code",
   "execution_count": 25,
   "metadata": {},
   "outputs": [
    {
     "name": "stdout",
     "output_type": "stream",
     "text": [
      "0.011054418162669055\n"
     ]
    }
   ],
   "source": [
    "from sklearn.metrics import r2_score\n",
    "\n",
    "y_hat_score = model.predict(Z_test)[:, 0]\n",
    "preds = pd.DataFrame({\n",
    "    'score': y_test,\n",
    "    'y_hat_score': y_hat_score\n",
    "})\n",
    "\n",
    "print(r2_score(preds['score'], preds['y_hat_score']))"
   ]
  }
 ],
 "metadata": {
  "kernelspec": {
   "display_name": "Python 3",
   "language": "python",
   "name": "python3"
  },
  "language_info": {
   "codemirror_mode": {
    "name": "ipython",
    "version": 3
   },
   "file_extension": ".py",
   "mimetype": "text/x-python",
   "name": "python",
   "nbconvert_exporter": "python",
   "pygments_lexer": "ipython3",
   "version": "3.6.4"
  }
 },
 "nbformat": 4,
 "nbformat_minor": 2
}
