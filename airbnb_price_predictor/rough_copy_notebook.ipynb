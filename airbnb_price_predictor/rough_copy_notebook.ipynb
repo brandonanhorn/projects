{
 "cells": [
  {
   "cell_type": "code",
   "execution_count": 37,
   "metadata": {},
   "outputs": [],
   "source": [
    "import pandas as pd\n",
    "import numpy as np\n",
    "import matplotlib.pyplot as plt\n",
    "import seaborn as sns\n",
    "\n",
    "from sklearn_pandas import DataFrameMapper, CategoricalImputer\n",
    "from sklearn.model_selection import train_test_split, GridSearchCV\n",
    "from sklearn.impute import SimpleImputer\n",
    "from sklearn.preprocessing import StandardScaler, LabelBinarizer, LabelEncoder, MinMaxScaler, PolynomialFeatures\n",
    "from sklearn.linear_model import LinearRegression, Lasso, Ridge, ElasticNet, HuberRegressor\n",
    "from sklearn.feature_selection import SelectPercentile\n",
    "from sklearn.pipeline import make_pipeline\n",
    "from sklearn import metrics\n",
    "from sklearn.metrics import mean_squared_error, r2_score\n",
    "from sklearn import linear_model\n",
    "from sklearn.ensemble import RandomForestRegressor\n",
    "\n",
    "\n",
    "from warnings import simplefilter\n",
    "simplefilter(action='ignore', category=FutureWarning)"
   ]
  },
  {
   "cell_type": "code",
   "execution_count": 130,
   "metadata": {},
   "outputs": [],
   "source": [
    "df = pd.read_csv('data/train.csv')"
   ]
  },
  {
   "cell_type": "markdown",
   "metadata": {},
   "source": [
    "## Exploratory "
   ]
  },
  {
   "cell_type": "code",
   "execution_count": 131,
   "metadata": {},
   "outputs": [
    {
     "name": "stdout",
     "output_type": "stream",
     "text": [
      "<class 'pandas.core.frame.DataFrame'>\n",
      "RangeIndex: 50000 entries, 0 to 49999\n",
      "Data columns (total 26 columns):\n",
      "id                        50000 non-null int64\n",
      "property_type             50000 non-null object\n",
      "room_type                 50000 non-null object\n",
      "amenities                 50000 non-null object\n",
      "accommodates              50000 non-null int64\n",
      "bathrooms                 49875 non-null float64\n",
      "bed_type                  50000 non-null object\n",
      "cancellation_policy       50000 non-null object\n",
      "cleaning_fee              50000 non-null bool\n",
      "city                      50000 non-null object\n",
      "description               50000 non-null object\n",
      "host_has_profile_pic      49877 non-null object\n",
      "host_identity_verified    49877 non-null object\n",
      "host_response_rate        37637 non-null object\n",
      "host_since                49877 non-null object\n",
      "instant_bookable          50000 non-null object\n",
      "latitude                  50000 non-null float64\n",
      "longitude                 50000 non-null float64\n",
      "name                      50000 non-null object\n",
      "neighbourhood             45431 non-null object\n",
      "number_of_reviews         50000 non-null int64\n",
      "review_scores_rating      38729 non-null float64\n",
      "zipcode                   49376 non-null object\n",
      "bedrooms                  49945 non-null float64\n",
      "beds                      49927 non-null float64\n",
      "price                     50000 non-null float64\n",
      "dtypes: bool(1), float64(7), int64(3), object(15)\n",
      "memory usage: 9.6+ MB\n"
     ]
    }
   ],
   "source": [
    "df.info()"
   ]
  },
  {
   "cell_type": "code",
   "execution_count": 132,
   "metadata": {},
   "outputs": [
    {
     "data": {
      "text/html": [
       "<div>\n",
       "<style scoped>\n",
       "    .dataframe tbody tr th:only-of-type {\n",
       "        vertical-align: middle;\n",
       "    }\n",
       "\n",
       "    .dataframe tbody tr th {\n",
       "        vertical-align: top;\n",
       "    }\n",
       "\n",
       "    .dataframe thead th {\n",
       "        text-align: right;\n",
       "    }\n",
       "</style>\n",
       "<table border=\"1\" class=\"dataframe\">\n",
       "  <thead>\n",
       "    <tr style=\"text-align: right;\">\n",
       "      <th></th>\n",
       "      <th>count</th>\n",
       "      <th>mean</th>\n",
       "      <th>std</th>\n",
       "      <th>min</th>\n",
       "      <th>25%</th>\n",
       "      <th>50%</th>\n",
       "      <th>75%</th>\n",
       "      <th>max</th>\n",
       "    </tr>\n",
       "  </thead>\n",
       "  <tbody>\n",
       "    <tr>\n",
       "      <td>id</td>\n",
       "      <td>50000.0</td>\n",
       "      <td>35067.620360</td>\n",
       "      <td>20201.229334</td>\n",
       "      <td>0.000000</td>\n",
       "      <td>17564.000000</td>\n",
       "      <td>35101.500000</td>\n",
       "      <td>52547.250000</td>\n",
       "      <td>69999.000000</td>\n",
       "    </tr>\n",
       "    <tr>\n",
       "      <td>accommodates</td>\n",
       "      <td>50000.0</td>\n",
       "      <td>3.151780</td>\n",
       "      <td>2.170373</td>\n",
       "      <td>1.000000</td>\n",
       "      <td>2.000000</td>\n",
       "      <td>2.000000</td>\n",
       "      <td>4.000000</td>\n",
       "      <td>16.000000</td>\n",
       "    </tr>\n",
       "    <tr>\n",
       "      <td>bathrooms</td>\n",
       "      <td>49875.0</td>\n",
       "      <td>1.233464</td>\n",
       "      <td>0.584081</td>\n",
       "      <td>0.000000</td>\n",
       "      <td>1.000000</td>\n",
       "      <td>1.000000</td>\n",
       "      <td>1.000000</td>\n",
       "      <td>8.000000</td>\n",
       "    </tr>\n",
       "    <tr>\n",
       "      <td>latitude</td>\n",
       "      <td>50000.0</td>\n",
       "      <td>38.453568</td>\n",
       "      <td>3.079660</td>\n",
       "      <td>33.338905</td>\n",
       "      <td>34.127573</td>\n",
       "      <td>40.662752</td>\n",
       "      <td>40.746226</td>\n",
       "      <td>42.390248</td>\n",
       "    </tr>\n",
       "    <tr>\n",
       "      <td>longitude</td>\n",
       "      <td>50000.0</td>\n",
       "      <td>-92.388038</td>\n",
       "      <td>21.709764</td>\n",
       "      <td>-122.510940</td>\n",
       "      <td>-118.342612</td>\n",
       "      <td>-76.996397</td>\n",
       "      <td>-73.954355</td>\n",
       "      <td>-70.985047</td>\n",
       "    </tr>\n",
       "    <tr>\n",
       "      <td>number_of_reviews</td>\n",
       "      <td>50000.0</td>\n",
       "      <td>21.080140</td>\n",
       "      <td>38.113959</td>\n",
       "      <td>0.000000</td>\n",
       "      <td>1.000000</td>\n",
       "      <td>6.000000</td>\n",
       "      <td>24.000000</td>\n",
       "      <td>605.000000</td>\n",
       "    </tr>\n",
       "    <tr>\n",
       "      <td>review_scores_rating</td>\n",
       "      <td>38729.0</td>\n",
       "      <td>94.053035</td>\n",
       "      <td>7.932111</td>\n",
       "      <td>20.000000</td>\n",
       "      <td>92.000000</td>\n",
       "      <td>96.000000</td>\n",
       "      <td>100.000000</td>\n",
       "      <td>100.000000</td>\n",
       "    </tr>\n",
       "    <tr>\n",
       "      <td>bedrooms</td>\n",
       "      <td>49945.0</td>\n",
       "      <td>1.264631</td>\n",
       "      <td>0.859241</td>\n",
       "      <td>0.000000</td>\n",
       "      <td>1.000000</td>\n",
       "      <td>1.000000</td>\n",
       "      <td>1.000000</td>\n",
       "      <td>10.000000</td>\n",
       "    </tr>\n",
       "    <tr>\n",
       "      <td>beds</td>\n",
       "      <td>49927.0</td>\n",
       "      <td>1.709536</td>\n",
       "      <td>1.266431</td>\n",
       "      <td>0.000000</td>\n",
       "      <td>1.000000</td>\n",
       "      <td>1.000000</td>\n",
       "      <td>2.000000</td>\n",
       "      <td>18.000000</td>\n",
       "    </tr>\n",
       "    <tr>\n",
       "      <td>price</td>\n",
       "      <td>50000.0</td>\n",
       "      <td>159.502500</td>\n",
       "      <td>167.605699</td>\n",
       "      <td>1.000000</td>\n",
       "      <td>74.000000</td>\n",
       "      <td>110.000000</td>\n",
       "      <td>184.000000</td>\n",
       "      <td>1999.000000</td>\n",
       "    </tr>\n",
       "  </tbody>\n",
       "</table>\n",
       "</div>"
      ],
      "text/plain": [
       "                        count          mean           std         min  \\\n",
       "id                    50000.0  35067.620360  20201.229334    0.000000   \n",
       "accommodates          50000.0      3.151780      2.170373    1.000000   \n",
       "bathrooms             49875.0      1.233464      0.584081    0.000000   \n",
       "latitude              50000.0     38.453568      3.079660   33.338905   \n",
       "longitude             50000.0    -92.388038     21.709764 -122.510940   \n",
       "number_of_reviews     50000.0     21.080140     38.113959    0.000000   \n",
       "review_scores_rating  38729.0     94.053035      7.932111   20.000000   \n",
       "bedrooms              49945.0      1.264631      0.859241    0.000000   \n",
       "beds                  49927.0      1.709536      1.266431    0.000000   \n",
       "price                 50000.0    159.502500    167.605699    1.000000   \n",
       "\n",
       "                               25%           50%           75%           max  \n",
       "id                    17564.000000  35101.500000  52547.250000  69999.000000  \n",
       "accommodates              2.000000      2.000000      4.000000     16.000000  \n",
       "bathrooms                 1.000000      1.000000      1.000000      8.000000  \n",
       "latitude                 34.127573     40.662752     40.746226     42.390248  \n",
       "longitude              -118.342612    -76.996397    -73.954355    -70.985047  \n",
       "number_of_reviews         1.000000      6.000000     24.000000    605.000000  \n",
       "review_scores_rating     92.000000     96.000000    100.000000    100.000000  \n",
       "bedrooms                  1.000000      1.000000      1.000000     10.000000  \n",
       "beds                      1.000000      1.000000      2.000000     18.000000  \n",
       "price                    74.000000    110.000000    184.000000   1999.000000  "
      ]
     },
     "execution_count": 132,
     "metadata": {},
     "output_type": "execute_result"
    }
   ],
   "source": [
    "df.describe().T"
   ]
  },
  {
   "cell_type": "code",
   "execution_count": 4,
   "metadata": {
    "scrolled": true
   },
   "outputs": [
    {
     "data": {
      "text/html": [
       "<div>\n",
       "<style scoped>\n",
       "    .dataframe tbody tr th:only-of-type {\n",
       "        vertical-align: middle;\n",
       "    }\n",
       "\n",
       "    .dataframe tbody tr th {\n",
       "        vertical-align: top;\n",
       "    }\n",
       "\n",
       "    .dataframe thead th {\n",
       "        text-align: right;\n",
       "    }\n",
       "</style>\n",
       "<table border=\"1\" class=\"dataframe\">\n",
       "  <thead>\n",
       "    <tr style=\"text-align: right;\">\n",
       "      <th></th>\n",
       "      <th>id</th>\n",
       "      <th>property_type</th>\n",
       "      <th>room_type</th>\n",
       "      <th>amenities</th>\n",
       "      <th>accommodates</th>\n",
       "      <th>bathrooms</th>\n",
       "      <th>bed_type</th>\n",
       "      <th>cancellation_policy</th>\n",
       "      <th>cleaning_fee</th>\n",
       "      <th>city</th>\n",
       "      <th>description</th>\n",
       "      <th>host_has_profile_pic</th>\n",
       "      <th>host_identity_verified</th>\n",
       "      <th>host_response_rate</th>\n",
       "      <th>host_since</th>\n",
       "      <th>instant_bookable</th>\n",
       "      <th>latitude</th>\n",
       "      <th>longitude</th>\n",
       "      <th>name</th>\n",
       "      <th>neighbourhood</th>\n",
       "      <th>number_of_reviews</th>\n",
       "      <th>review_scores_rating</th>\n",
       "      <th>zipcode</th>\n",
       "      <th>bedrooms</th>\n",
       "      <th>beds</th>\n",
       "      <th>price</th>\n",
       "    </tr>\n",
       "  </thead>\n",
       "  <tbody>\n",
       "    <tr>\n",
       "      <td>0</td>\n",
       "      <td>46730</td>\n",
       "      <td>Apartment</td>\n",
       "      <td>Shared room</td>\n",
       "      <td>{TV,\"Wireless Internet\",\"Air conditioning\",Kit...</td>\n",
       "      <td>2</td>\n",
       "      <td>1.0</td>\n",
       "      <td>Real Bed</td>\n",
       "      <td>flexible</td>\n",
       "      <td>False</td>\n",
       "      <td>NYC</td>\n",
       "      <td>Квартира рядом с метро ( 3мин пешком) 4 станци...</td>\n",
       "      <td>t</td>\n",
       "      <td>f</td>\n",
       "      <td>NaN</td>\n",
       "      <td>2016-12-14</td>\n",
       "      <td>t</td>\n",
       "      <td>40.577507</td>\n",
       "      <td>-73.985210</td>\n",
       "      <td>Не дорогая комната в Нью-Йорке, в Бруклине</td>\n",
       "      <td>Coney Island</td>\n",
       "      <td>1</td>\n",
       "      <td>100.0</td>\n",
       "      <td>11224.0</td>\n",
       "      <td>1.0</td>\n",
       "      <td>1.0</td>\n",
       "      <td>50.0</td>\n",
       "    </tr>\n",
       "    <tr>\n",
       "      <td>1</td>\n",
       "      <td>48393</td>\n",
       "      <td>Apartment</td>\n",
       "      <td>Entire home/apt</td>\n",
       "      <td>{TV,Internet,\"Wireless Internet\",\"Air conditio...</td>\n",
       "      <td>2</td>\n",
       "      <td>3.0</td>\n",
       "      <td>Real Bed</td>\n",
       "      <td>moderate</td>\n",
       "      <td>True</td>\n",
       "      <td>LA</td>\n",
       "      <td>Spacious, bright penthouse loft Condo in Brent...</td>\n",
       "      <td>t</td>\n",
       "      <td>f</td>\n",
       "      <td>NaN</td>\n",
       "      <td>2016-02-27</td>\n",
       "      <td>f</td>\n",
       "      <td>34.047200</td>\n",
       "      <td>-118.465782</td>\n",
       "      <td>Penthouse Loft Condo in Brentwood</td>\n",
       "      <td>Brentwood</td>\n",
       "      <td>2</td>\n",
       "      <td>100.0</td>\n",
       "      <td>90049</td>\n",
       "      <td>1.0</td>\n",
       "      <td>1.0</td>\n",
       "      <td>200.0</td>\n",
       "    </tr>\n",
       "    <tr>\n",
       "      <td>2</td>\n",
       "      <td>41416</td>\n",
       "      <td>Apartment</td>\n",
       "      <td>Private room</td>\n",
       "      <td>{TV,\"Cable TV\",\"Wireless Internet\",\"Air condit...</td>\n",
       "      <td>2</td>\n",
       "      <td>2.0</td>\n",
       "      <td>Real Bed</td>\n",
       "      <td>flexible</td>\n",
       "      <td>False</td>\n",
       "      <td>NYC</td>\n",
       "      <td>Washington Heights. Brand new renovated, dark ...</td>\n",
       "      <td>t</td>\n",
       "      <td>t</td>\n",
       "      <td>70%</td>\n",
       "      <td>2012-03-05</td>\n",
       "      <td>f</td>\n",
       "      <td>40.853085</td>\n",
       "      <td>-73.928880</td>\n",
       "      <td>French Night in NYC</td>\n",
       "      <td>Washington Heights</td>\n",
       "      <td>0</td>\n",
       "      <td>NaN</td>\n",
       "      <td>10040</td>\n",
       "      <td>3.0</td>\n",
       "      <td>1.0</td>\n",
       "      <td>45.0</td>\n",
       "    </tr>\n",
       "    <tr>\n",
       "      <td>3</td>\n",
       "      <td>34506</td>\n",
       "      <td>Apartment</td>\n",
       "      <td>Entire home/apt</td>\n",
       "      <td>{\"Wireless Internet\",Kitchen,\"Family/kid frien...</td>\n",
       "      <td>4</td>\n",
       "      <td>1.0</td>\n",
       "      <td>Real Bed</td>\n",
       "      <td>moderate</td>\n",
       "      <td>True</td>\n",
       "      <td>NYC</td>\n",
       "      <td>Brownstone apartment in Harlem. Very quiet blo...</td>\n",
       "      <td>t</td>\n",
       "      <td>f</td>\n",
       "      <td>100%</td>\n",
       "      <td>2017-07-31</td>\n",
       "      <td>f</td>\n",
       "      <td>40.807185</td>\n",
       "      <td>-73.949837</td>\n",
       "      <td>Harlem brownstone apartment</td>\n",
       "      <td>Harlem</td>\n",
       "      <td>2</td>\n",
       "      <td>100.0</td>\n",
       "      <td>10027</td>\n",
       "      <td>2.0</td>\n",
       "      <td>3.0</td>\n",
       "      <td>130.0</td>\n",
       "    </tr>\n",
       "    <tr>\n",
       "      <td>4</td>\n",
       "      <td>43725</td>\n",
       "      <td>Apartment</td>\n",
       "      <td>Entire home/apt</td>\n",
       "      <td>{TV,\"Cable TV\",Internet,\"Wireless Internet\",\"A...</td>\n",
       "      <td>4</td>\n",
       "      <td>1.0</td>\n",
       "      <td>Real Bed</td>\n",
       "      <td>strict</td>\n",
       "      <td>True</td>\n",
       "      <td>DC</td>\n",
       "      <td>Welcome to my flat in DC!   About the apartmen...</td>\n",
       "      <td>t</td>\n",
       "      <td>f</td>\n",
       "      <td>50%</td>\n",
       "      <td>2011-05-22</td>\n",
       "      <td>f</td>\n",
       "      <td>38.900307</td>\n",
       "      <td>-77.016468</td>\n",
       "      <td>\"The Family\" Flat Downtown DC- 1023</td>\n",
       "      <td>Judiciary Square</td>\n",
       "      <td>102</td>\n",
       "      <td>95.0</td>\n",
       "      <td>20001</td>\n",
       "      <td>1.0</td>\n",
       "      <td>1.0</td>\n",
       "      <td>215.0</td>\n",
       "    </tr>\n",
       "  </tbody>\n",
       "</table>\n",
       "</div>"
      ],
      "text/plain": [
       "      id property_type        room_type  \\\n",
       "0  46730     Apartment      Shared room   \n",
       "1  48393     Apartment  Entire home/apt   \n",
       "2  41416     Apartment     Private room   \n",
       "3  34506     Apartment  Entire home/apt   \n",
       "4  43725     Apartment  Entire home/apt   \n",
       "\n",
       "                                           amenities  accommodates  bathrooms  \\\n",
       "0  {TV,\"Wireless Internet\",\"Air conditioning\",Kit...             2        1.0   \n",
       "1  {TV,Internet,\"Wireless Internet\",\"Air conditio...             2        3.0   \n",
       "2  {TV,\"Cable TV\",\"Wireless Internet\",\"Air condit...             2        2.0   \n",
       "3  {\"Wireless Internet\",Kitchen,\"Family/kid frien...             4        1.0   \n",
       "4  {TV,\"Cable TV\",Internet,\"Wireless Internet\",\"A...             4        1.0   \n",
       "\n",
       "   bed_type cancellation_policy  cleaning_fee city  \\\n",
       "0  Real Bed            flexible         False  NYC   \n",
       "1  Real Bed            moderate          True   LA   \n",
       "2  Real Bed            flexible         False  NYC   \n",
       "3  Real Bed            moderate          True  NYC   \n",
       "4  Real Bed              strict          True   DC   \n",
       "\n",
       "                                         description host_has_profile_pic  \\\n",
       "0  Квартира рядом с метро ( 3мин пешком) 4 станци...                    t   \n",
       "1  Spacious, bright penthouse loft Condo in Brent...                    t   \n",
       "2  Washington Heights. Brand new renovated, dark ...                    t   \n",
       "3  Brownstone apartment in Harlem. Very quiet blo...                    t   \n",
       "4  Welcome to my flat in DC!   About the apartmen...                    t   \n",
       "\n",
       "  host_identity_verified host_response_rate  host_since instant_bookable  \\\n",
       "0                      f                NaN  2016-12-14                t   \n",
       "1                      f                NaN  2016-02-27                f   \n",
       "2                      t                70%  2012-03-05                f   \n",
       "3                      f               100%  2017-07-31                f   \n",
       "4                      f                50%  2011-05-22                f   \n",
       "\n",
       "    latitude   longitude                                        name  \\\n",
       "0  40.577507  -73.985210  Не дорогая комната в Нью-Йорке, в Бруклине   \n",
       "1  34.047200 -118.465782           Penthouse Loft Condo in Brentwood   \n",
       "2  40.853085  -73.928880                         French Night in NYC   \n",
       "3  40.807185  -73.949837                 Harlem brownstone apartment   \n",
       "4  38.900307  -77.016468         \"The Family\" Flat Downtown DC- 1023   \n",
       "\n",
       "        neighbourhood  number_of_reviews  review_scores_rating  zipcode  \\\n",
       "0        Coney Island                  1                 100.0  11224.0   \n",
       "1           Brentwood                  2                 100.0    90049   \n",
       "2  Washington Heights                  0                   NaN    10040   \n",
       "3              Harlem                  2                 100.0    10027   \n",
       "4    Judiciary Square                102                  95.0    20001   \n",
       "\n",
       "   bedrooms  beds  price  \n",
       "0       1.0   1.0   50.0  \n",
       "1       1.0   1.0  200.0  \n",
       "2       3.0   1.0   45.0  \n",
       "3       2.0   3.0  130.0  \n",
       "4       1.0   1.0  215.0  "
      ]
     },
     "execution_count": 4,
     "metadata": {},
     "output_type": "execute_result"
    }
   ],
   "source": [
    "pd.set_option('display.max_columns', 30)\n",
    "df.head()"
   ]
  },
  {
   "cell_type": "code",
   "execution_count": 133,
   "metadata": {},
   "outputs": [
    {
     "data": {
      "text/html": [
       "<div>\n",
       "<style scoped>\n",
       "    .dataframe tbody tr th:only-of-type {\n",
       "        vertical-align: middle;\n",
       "    }\n",
       "\n",
       "    .dataframe tbody tr th {\n",
       "        vertical-align: top;\n",
       "    }\n",
       "\n",
       "    .dataframe thead th {\n",
       "        text-align: right;\n",
       "    }\n",
       "</style>\n",
       "<table border=\"1\" class=\"dataframe\">\n",
       "  <thead>\n",
       "    <tr style=\"text-align: right;\">\n",
       "      <th></th>\n",
       "      <th>id</th>\n",
       "      <th>property_type</th>\n",
       "      <th>room_type</th>\n",
       "      <th>amenities</th>\n",
       "      <th>accommodates</th>\n",
       "      <th>bathrooms</th>\n",
       "      <th>bed_type</th>\n",
       "      <th>cancellation_policy</th>\n",
       "      <th>cleaning_fee</th>\n",
       "      <th>city</th>\n",
       "      <th>description</th>\n",
       "      <th>host_has_profile_pic</th>\n",
       "      <th>host_identity_verified</th>\n",
       "      <th>host_response_rate</th>\n",
       "      <th>host_since</th>\n",
       "      <th>instant_bookable</th>\n",
       "      <th>latitude</th>\n",
       "      <th>longitude</th>\n",
       "      <th>name</th>\n",
       "      <th>neighbourhood</th>\n",
       "      <th>number_of_reviews</th>\n",
       "      <th>review_scores_rating</th>\n",
       "      <th>zipcode</th>\n",
       "      <th>bedrooms</th>\n",
       "      <th>beds</th>\n",
       "      <th>price</th>\n",
       "    </tr>\n",
       "  </thead>\n",
       "  <tbody>\n",
       "    <tr>\n",
       "      <td>49995</td>\n",
       "      <td>30085</td>\n",
       "      <td>Condominium</td>\n",
       "      <td>Private room</td>\n",
       "      <td>{\"Wireless Internet\",\"Air conditioning\",Kitche...</td>\n",
       "      <td>2</td>\n",
       "      <td>1.0</td>\n",
       "      <td>Real Bed</td>\n",
       "      <td>moderate</td>\n",
       "      <td>True</td>\n",
       "      <td>NYC</td>\n",
       "      <td>Bedroom on top floor of Brooklyn brownstone in...</td>\n",
       "      <td>t</td>\n",
       "      <td>t</td>\n",
       "      <td>NaN</td>\n",
       "      <td>2012-02-13</td>\n",
       "      <td>f</td>\n",
       "      <td>40.677508</td>\n",
       "      <td>-73.981430</td>\n",
       "      <td>Clean private bedroom near Barclays</td>\n",
       "      <td>Park Slope</td>\n",
       "      <td>16</td>\n",
       "      <td>99.0</td>\n",
       "      <td>11217</td>\n",
       "      <td>1.0</td>\n",
       "      <td>1.0</td>\n",
       "      <td>100.0</td>\n",
       "    </tr>\n",
       "    <tr>\n",
       "      <td>49996</td>\n",
       "      <td>57551</td>\n",
       "      <td>Apartment</td>\n",
       "      <td>Entire home/apt</td>\n",
       "      <td>{\"Wireless Internet\",Kitchen,\"Family/kid frien...</td>\n",
       "      <td>2</td>\n",
       "      <td>1.0</td>\n",
       "      <td>Real Bed</td>\n",
       "      <td>flexible</td>\n",
       "      <td>False</td>\n",
       "      <td>NYC</td>\n",
       "      <td>Charming studio with separate kitchen that's c...</td>\n",
       "      <td>t</td>\n",
       "      <td>f</td>\n",
       "      <td>NaN</td>\n",
       "      <td>2014-01-21</td>\n",
       "      <td>f</td>\n",
       "      <td>40.765084</td>\n",
       "      <td>-73.909352</td>\n",
       "      <td>Two-Room Astoria Studio</td>\n",
       "      <td>Astoria</td>\n",
       "      <td>0</td>\n",
       "      <td>NaN</td>\n",
       "      <td>11103</td>\n",
       "      <td>0.0</td>\n",
       "      <td>1.0</td>\n",
       "      <td>65.0</td>\n",
       "    </tr>\n",
       "    <tr>\n",
       "      <td>49997</td>\n",
       "      <td>61640</td>\n",
       "      <td>Apartment</td>\n",
       "      <td>Entire home/apt</td>\n",
       "      <td>{\"Wireless Internet\",\"Air conditioning\",Kitche...</td>\n",
       "      <td>2</td>\n",
       "      <td>1.0</td>\n",
       "      <td>Real Bed</td>\n",
       "      <td>strict</td>\n",
       "      <td>True</td>\n",
       "      <td>NYC</td>\n",
       "      <td>Adorable plant jungalow in Lower East Side, li...</td>\n",
       "      <td>t</td>\n",
       "      <td>t</td>\n",
       "      <td>100%</td>\n",
       "      <td>2010-05-18</td>\n",
       "      <td>f</td>\n",
       "      <td>40.720155</td>\n",
       "      <td>-73.990565</td>\n",
       "      <td>1BR LES Artist Jungalow</td>\n",
       "      <td>Lower East Side</td>\n",
       "      <td>1</td>\n",
       "      <td>100.0</td>\n",
       "      <td>10002</td>\n",
       "      <td>1.0</td>\n",
       "      <td>1.0</td>\n",
       "      <td>250.0</td>\n",
       "    </tr>\n",
       "    <tr>\n",
       "      <td>49998</td>\n",
       "      <td>3569</td>\n",
       "      <td>In-law</td>\n",
       "      <td>Entire home/apt</td>\n",
       "      <td>{TV,\"Cable TV\",Internet,\"Wireless Internet\",\"W...</td>\n",
       "      <td>2</td>\n",
       "      <td>1.0</td>\n",
       "      <td>Real Bed</td>\n",
       "      <td>strict</td>\n",
       "      <td>True</td>\n",
       "      <td>SF</td>\n",
       "      <td>Spectacular bay front location across from the...</td>\n",
       "      <td>t</td>\n",
       "      <td>t</td>\n",
       "      <td>100%</td>\n",
       "      <td>2016-01-06</td>\n",
       "      <td>f</td>\n",
       "      <td>37.805153</td>\n",
       "      <td>-122.435702</td>\n",
       "      <td>Own Floor of Perfectly Located Grand Marina Home</td>\n",
       "      <td>Marina</td>\n",
       "      <td>38</td>\n",
       "      <td>97.0</td>\n",
       "      <td>94123</td>\n",
       "      <td>1.0</td>\n",
       "      <td>1.0</td>\n",
       "      <td>225.0</td>\n",
       "    </tr>\n",
       "    <tr>\n",
       "      <td>49999</td>\n",
       "      <td>39305</td>\n",
       "      <td>Apartment</td>\n",
       "      <td>Entire home/apt</td>\n",
       "      <td>{\"Wireless Internet\",\"Air conditioning\",Kitche...</td>\n",
       "      <td>2</td>\n",
       "      <td>1.0</td>\n",
       "      <td>Real Bed</td>\n",
       "      <td>moderate</td>\n",
       "      <td>True</td>\n",
       "      <td>Chicago</td>\n",
       "      <td>In the heart of Ukrainian Village you will fin...</td>\n",
       "      <td>t</td>\n",
       "      <td>f</td>\n",
       "      <td>100%</td>\n",
       "      <td>2013-11-17</td>\n",
       "      <td>t</td>\n",
       "      <td>41.898242</td>\n",
       "      <td>-87.690388</td>\n",
       "      <td>Ukrainian Village Abode!</td>\n",
       "      <td>Humboldt Park</td>\n",
       "      <td>1</td>\n",
       "      <td>100.0</td>\n",
       "      <td>60622</td>\n",
       "      <td>1.0</td>\n",
       "      <td>1.0</td>\n",
       "      <td>70.0</td>\n",
       "    </tr>\n",
       "  </tbody>\n",
       "</table>\n",
       "</div>"
      ],
      "text/plain": [
       "          id property_type        room_type  \\\n",
       "49995  30085   Condominium     Private room   \n",
       "49996  57551     Apartment  Entire home/apt   \n",
       "49997  61640     Apartment  Entire home/apt   \n",
       "49998   3569        In-law  Entire home/apt   \n",
       "49999  39305     Apartment  Entire home/apt   \n",
       "\n",
       "                                               amenities  accommodates  \\\n",
       "49995  {\"Wireless Internet\",\"Air conditioning\",Kitche...             2   \n",
       "49996  {\"Wireless Internet\",Kitchen,\"Family/kid frien...             2   \n",
       "49997  {\"Wireless Internet\",\"Air conditioning\",Kitche...             2   \n",
       "49998  {TV,\"Cable TV\",Internet,\"Wireless Internet\",\"W...             2   \n",
       "49999  {\"Wireless Internet\",\"Air conditioning\",Kitche...             2   \n",
       "\n",
       "       bathrooms  bed_type cancellation_policy  cleaning_fee     city  \\\n",
       "49995        1.0  Real Bed            moderate          True      NYC   \n",
       "49996        1.0  Real Bed            flexible         False      NYC   \n",
       "49997        1.0  Real Bed              strict          True      NYC   \n",
       "49998        1.0  Real Bed              strict          True       SF   \n",
       "49999        1.0  Real Bed            moderate          True  Chicago   \n",
       "\n",
       "                                             description host_has_profile_pic  \\\n",
       "49995  Bedroom on top floor of Brooklyn brownstone in...                    t   \n",
       "49996  Charming studio with separate kitchen that's c...                    t   \n",
       "49997  Adorable plant jungalow in Lower East Side, li...                    t   \n",
       "49998  Spectacular bay front location across from the...                    t   \n",
       "49999  In the heart of Ukrainian Village you will fin...                    t   \n",
       "\n",
       "      host_identity_verified host_response_rate  host_since instant_bookable  \\\n",
       "49995                      t                NaN  2012-02-13                f   \n",
       "49996                      f                NaN  2014-01-21                f   \n",
       "49997                      t               100%  2010-05-18                f   \n",
       "49998                      t               100%  2016-01-06                f   \n",
       "49999                      f               100%  2013-11-17                t   \n",
       "\n",
       "        latitude   longitude  \\\n",
       "49995  40.677508  -73.981430   \n",
       "49996  40.765084  -73.909352   \n",
       "49997  40.720155  -73.990565   \n",
       "49998  37.805153 -122.435702   \n",
       "49999  41.898242  -87.690388   \n",
       "\n",
       "                                                   name    neighbourhood  \\\n",
       "49995               Clean private bedroom near Barclays       Park Slope   \n",
       "49996                           Two-Room Astoria Studio          Astoria   \n",
       "49997                           1BR LES Artist Jungalow  Lower East Side   \n",
       "49998  Own Floor of Perfectly Located Grand Marina Home           Marina   \n",
       "49999                          Ukrainian Village Abode!    Humboldt Park   \n",
       "\n",
       "       number_of_reviews  review_scores_rating zipcode  bedrooms  beds  price  \n",
       "49995                 16                  99.0   11217       1.0   1.0  100.0  \n",
       "49996                  0                   NaN   11103       0.0   1.0   65.0  \n",
       "49997                  1                 100.0   10002       1.0   1.0  250.0  \n",
       "49998                 38                  97.0   94123       1.0   1.0  225.0  \n",
       "49999                  1                 100.0   60622       1.0   1.0   70.0  "
      ]
     },
     "execution_count": 133,
     "metadata": {},
     "output_type": "execute_result"
    }
   ],
   "source": [
    "df.tail()"
   ]
  },
  {
   "cell_type": "code",
   "execution_count": 141,
   "metadata": {},
   "outputs": [
    {
     "data": {
      "text/html": [
       "<div>\n",
       "<style scoped>\n",
       "    .dataframe tbody tr th:only-of-type {\n",
       "        vertical-align: middle;\n",
       "    }\n",
       "\n",
       "    .dataframe tbody tr th {\n",
       "        vertical-align: top;\n",
       "    }\n",
       "\n",
       "    .dataframe thead th {\n",
       "        text-align: right;\n",
       "    }\n",
       "</style>\n",
       "<table border=\"1\" class=\"dataframe\">\n",
       "  <thead>\n",
       "    <tr style=\"text-align: right;\">\n",
       "      <th></th>\n",
       "      <th>id</th>\n",
       "      <th>accommodates</th>\n",
       "      <th>bathrooms</th>\n",
       "      <th>cleaning_fee</th>\n",
       "      <th>latitude</th>\n",
       "      <th>longitude</th>\n",
       "      <th>number_of_reviews</th>\n",
       "      <th>review_scores_rating</th>\n",
       "      <th>bedrooms</th>\n",
       "      <th>beds</th>\n",
       "      <th>price</th>\n",
       "    </tr>\n",
       "  </thead>\n",
       "  <tbody>\n",
       "    <tr>\n",
       "      <td>id</td>\n",
       "      <td>1.000000</td>\n",
       "      <td>-0.001080</td>\n",
       "      <td>0.000772</td>\n",
       "      <td>0.003458</td>\n",
       "      <td>0.000731</td>\n",
       "      <td>0.002403</td>\n",
       "      <td>-0.002219</td>\n",
       "      <td>0.002779</td>\n",
       "      <td>0.000264</td>\n",
       "      <td>-0.000361</td>\n",
       "      <td>-0.003144</td>\n",
       "    </tr>\n",
       "    <tr>\n",
       "      <td>accommodates</td>\n",
       "      <td>-0.001080</td>\n",
       "      <td>1.000000</td>\n",
       "      <td>0.506509</td>\n",
       "      <td>0.181544</td>\n",
       "      <td>-0.077921</td>\n",
       "      <td>-0.085223</td>\n",
       "      <td>0.040982</td>\n",
       "      <td>-0.013744</td>\n",
       "      <td>0.707746</td>\n",
       "      <td>0.810368</td>\n",
       "      <td>0.525293</td>\n",
       "    </tr>\n",
       "    <tr>\n",
       "      <td>bathrooms</td>\n",
       "      <td>0.000772</td>\n",
       "      <td>0.506509</td>\n",
       "      <td>1.000000</td>\n",
       "      <td>0.050484</td>\n",
       "      <td>-0.136089</td>\n",
       "      <td>-0.133987</td>\n",
       "      <td>-0.038414</td>\n",
       "      <td>0.011451</td>\n",
       "      <td>0.591407</td>\n",
       "      <td>0.527022</td>\n",
       "      <td>0.463389</td>\n",
       "    </tr>\n",
       "    <tr>\n",
       "      <td>cleaning_fee</td>\n",
       "      <td>0.003458</td>\n",
       "      <td>0.181544</td>\n",
       "      <td>0.050484</td>\n",
       "      <td>1.000000</td>\n",
       "      <td>-0.056608</td>\n",
       "      <td>-0.065876</td>\n",
       "      <td>0.106826</td>\n",
       "      <td>0.034355</td>\n",
       "      <td>0.102550</td>\n",
       "      <td>0.132621</td>\n",
       "      <td>0.031831</td>\n",
       "    </tr>\n",
       "    <tr>\n",
       "      <td>latitude</td>\n",
       "      <td>0.000731</td>\n",
       "      <td>-0.077921</td>\n",
       "      <td>-0.136089</td>\n",
       "      <td>-0.056608</td>\n",
       "      <td>1.000000</td>\n",
       "      <td>0.895549</td>\n",
       "      <td>-0.016212</td>\n",
       "      <td>-0.032866</td>\n",
       "      <td>-0.060006</td>\n",
       "      <td>-0.079674</td>\n",
       "      <td>-0.030816</td>\n",
       "    </tr>\n",
       "    <tr>\n",
       "      <td>longitude</td>\n",
       "      <td>0.002403</td>\n",
       "      <td>-0.085223</td>\n",
       "      <td>-0.133987</td>\n",
       "      <td>-0.065876</td>\n",
       "      <td>0.895549</td>\n",
       "      <td>1.000000</td>\n",
       "      <td>-0.052626</td>\n",
       "      <td>-0.048709</td>\n",
       "      <td>-0.077006</td>\n",
       "      <td>-0.080956</td>\n",
       "      <td>-0.057170</td>\n",
       "    </tr>\n",
       "    <tr>\n",
       "      <td>number_of_reviews</td>\n",
       "      <td>-0.002219</td>\n",
       "      <td>0.040982</td>\n",
       "      <td>-0.038414</td>\n",
       "      <td>0.106826</td>\n",
       "      <td>-0.016212</td>\n",
       "      <td>-0.052626</td>\n",
       "      <td>1.000000</td>\n",
       "      <td>0.013102</td>\n",
       "      <td>-0.032961</td>\n",
       "      <td>0.032377</td>\n",
       "      <td>-0.069006</td>\n",
       "    </tr>\n",
       "    <tr>\n",
       "      <td>review_scores_rating</td>\n",
       "      <td>0.002779</td>\n",
       "      <td>-0.013744</td>\n",
       "      <td>0.011451</td>\n",
       "      <td>0.034355</td>\n",
       "      <td>-0.032866</td>\n",
       "      <td>-0.048709</td>\n",
       "      <td>0.013102</td>\n",
       "      <td>1.000000</td>\n",
       "      <td>0.012547</td>\n",
       "      <td>-0.025972</td>\n",
       "      <td>0.063253</td>\n",
       "    </tr>\n",
       "    <tr>\n",
       "      <td>bedrooms</td>\n",
       "      <td>0.000264</td>\n",
       "      <td>0.707746</td>\n",
       "      <td>0.591407</td>\n",
       "      <td>0.102550</td>\n",
       "      <td>-0.060006</td>\n",
       "      <td>-0.077006</td>\n",
       "      <td>-0.032961</td>\n",
       "      <td>0.012547</td>\n",
       "      <td>1.000000</td>\n",
       "      <td>0.711677</td>\n",
       "      <td>0.500145</td>\n",
       "    </tr>\n",
       "    <tr>\n",
       "      <td>beds</td>\n",
       "      <td>-0.000361</td>\n",
       "      <td>0.810368</td>\n",
       "      <td>0.527022</td>\n",
       "      <td>0.132621</td>\n",
       "      <td>-0.079674</td>\n",
       "      <td>-0.080956</td>\n",
       "      <td>0.032377</td>\n",
       "      <td>-0.025972</td>\n",
       "      <td>0.711677</td>\n",
       "      <td>1.000000</td>\n",
       "      <td>0.438165</td>\n",
       "    </tr>\n",
       "    <tr>\n",
       "      <td>price</td>\n",
       "      <td>-0.003144</td>\n",
       "      <td>0.525293</td>\n",
       "      <td>0.463389</td>\n",
       "      <td>0.031831</td>\n",
       "      <td>-0.030816</td>\n",
       "      <td>-0.057170</td>\n",
       "      <td>-0.069006</td>\n",
       "      <td>0.063253</td>\n",
       "      <td>0.500145</td>\n",
       "      <td>0.438165</td>\n",
       "      <td>1.000000</td>\n",
       "    </tr>\n",
       "  </tbody>\n",
       "</table>\n",
       "</div>"
      ],
      "text/plain": [
       "                            id  accommodates  bathrooms  cleaning_fee  \\\n",
       "id                    1.000000     -0.001080   0.000772      0.003458   \n",
       "accommodates         -0.001080      1.000000   0.506509      0.181544   \n",
       "bathrooms             0.000772      0.506509   1.000000      0.050484   \n",
       "cleaning_fee          0.003458      0.181544   0.050484      1.000000   \n",
       "latitude              0.000731     -0.077921  -0.136089     -0.056608   \n",
       "longitude             0.002403     -0.085223  -0.133987     -0.065876   \n",
       "number_of_reviews    -0.002219      0.040982  -0.038414      0.106826   \n",
       "review_scores_rating  0.002779     -0.013744   0.011451      0.034355   \n",
       "bedrooms              0.000264      0.707746   0.591407      0.102550   \n",
       "beds                 -0.000361      0.810368   0.527022      0.132621   \n",
       "price                -0.003144      0.525293   0.463389      0.031831   \n",
       "\n",
       "                      latitude  longitude  number_of_reviews  \\\n",
       "id                    0.000731   0.002403          -0.002219   \n",
       "accommodates         -0.077921  -0.085223           0.040982   \n",
       "bathrooms            -0.136089  -0.133987          -0.038414   \n",
       "cleaning_fee         -0.056608  -0.065876           0.106826   \n",
       "latitude              1.000000   0.895549          -0.016212   \n",
       "longitude             0.895549   1.000000          -0.052626   \n",
       "number_of_reviews    -0.016212  -0.052626           1.000000   \n",
       "review_scores_rating -0.032866  -0.048709           0.013102   \n",
       "bedrooms             -0.060006  -0.077006          -0.032961   \n",
       "beds                 -0.079674  -0.080956           0.032377   \n",
       "price                -0.030816  -0.057170          -0.069006   \n",
       "\n",
       "                      review_scores_rating  bedrooms      beds     price  \n",
       "id                                0.002779  0.000264 -0.000361 -0.003144  \n",
       "accommodates                     -0.013744  0.707746  0.810368  0.525293  \n",
       "bathrooms                         0.011451  0.591407  0.527022  0.463389  \n",
       "cleaning_fee                      0.034355  0.102550  0.132621  0.031831  \n",
       "latitude                         -0.032866 -0.060006 -0.079674 -0.030816  \n",
       "longitude                        -0.048709 -0.077006 -0.080956 -0.057170  \n",
       "number_of_reviews                 0.013102 -0.032961  0.032377 -0.069006  \n",
       "review_scores_rating              1.000000  0.012547 -0.025972  0.063253  \n",
       "bedrooms                          0.012547  1.000000  0.711677  0.500145  \n",
       "beds                             -0.025972  0.711677  1.000000  0.438165  \n",
       "price                             0.063253  0.500145  0.438165  1.000000  "
      ]
     },
     "execution_count": 141,
     "metadata": {},
     "output_type": "execute_result"
    }
   ],
   "source": [
    "df.corr()"
   ]
  },
  {
   "cell_type": "code",
   "execution_count": 144,
   "metadata": {},
   "outputs": [
    {
     "data": {
      "text/plain": [
       "2     21644\n",
       "4      8159\n",
       "1      6385\n",
       "3      5184\n",
       "6      3279\n",
       "5      2238\n",
       "8      1223\n",
       "7       639\n",
       "10      474\n",
       "16      225\n",
       "12      190\n",
       "9       180\n",
       "14       71\n",
       "11       53\n",
       "15       31\n",
       "13       25\n",
       "Name: accommodates, dtype: int64"
      ]
     },
     "execution_count": 144,
     "metadata": {},
     "output_type": "execute_result"
    }
   ],
   "source": [
    "df.accommodates.value_counts()"
   ]
  },
  {
   "cell_type": "code",
   "execution_count": 145,
   "metadata": {},
   "outputs": [
    {
     "data": {
      "text/plain": [
       "1.0     33648\n",
       "2.0      7560\n",
       "0.0      4570\n",
       "3.0      2890\n",
       "4.0       903\n",
       "5.0       243\n",
       "6.0        73\n",
       "7.0        29\n",
       "8.0        13\n",
       "10.0        8\n",
       "9.0         8\n",
       "Name: bedrooms, dtype: int64"
      ]
     },
     "execution_count": 145,
     "metadata": {},
     "output_type": "execute_result"
    }
   ],
   "source": [
    "df.bedrooms.value_counts()"
   ]
  },
  {
   "cell_type": "code",
   "execution_count": 146,
   "metadata": {},
   "outputs": [
    {
     "data": {
      "text/plain": [
       "1.0    39276\n",
       "2.0     5262\n",
       "1.5     2583\n",
       "2.5     1053\n",
       "3.0      707\n",
       "3.5      286\n",
       "4.0      191\n",
       "0.5      154\n",
       "0.0      137\n",
       "4.5       78\n",
       "5.0       48\n",
       "5.5       34\n",
       "8.0       29\n",
       "6.0       19\n",
       "7.0       10\n",
       "6.5        5\n",
       "7.5        3\n",
       "Name: bathrooms, dtype: int64"
      ]
     },
     "execution_count": 146,
     "metadata": {},
     "output_type": "execute_result"
    }
   ],
   "source": [
    "df.bathrooms.value_counts()"
   ]
  },
  {
   "cell_type": "code",
   "execution_count": 147,
   "metadata": {},
   "outputs": [
    {
     "data": {
      "text/plain": [
       "1.0     30608\n",
       "2.0     11193\n",
       "3.0      4284\n",
       "4.0      2033\n",
       "5.0       881\n",
       "6.0       463\n",
       "7.0       143\n",
       "8.0       123\n",
       "10.0       65\n",
       "9.0        47\n",
       "16.0       27\n",
       "12.0       21\n",
       "11.0       18\n",
       "13.0        9\n",
       "15.0        4\n",
       "14.0        4\n",
       "0.0         3\n",
       "18.0        1\n",
       "Name: beds, dtype: int64"
      ]
     },
     "execution_count": 147,
     "metadata": {},
     "output_type": "execute_result"
    }
   ],
   "source": [
    "df.beds.value_counts()"
   ]
  },
  {
   "cell_type": "code",
   "execution_count": 163,
   "metadata": {},
   "outputs": [
    {
     "data": {
      "image/png": "[encoded data removed]",
      "text/plain": [
       "<Figure size 864x720 with 2 Axes>"
      ]
     },
     "metadata": {
      "needs_background": "light"
     },
     "output_type": "display_data"
    }
   ],
   "source": [
    "plt.figure(figsize=(12,10))\n",
    "sns.heatmap(df.corr(), annot=True, cmap='icefire');"
   ]
  },
  {
   "cell_type": "markdown",
   "metadata": {},
   "source": [
    "## Model 1"
   ]
  },
  {
   "cell_type": "code",
   "execution_count": 123,
   "metadata": {},
   "outputs": [],
   "source": [
    "df = df.drop('id', axis=1)"
   ]
  },
  {
   "cell_type": "code",
   "execution_count": 124,
   "metadata": {},
   "outputs": [],
   "source": [
    "target = 'price'\n",
    "y = df[target]\n",
    "X = df.drop(target, axis=1)"
   ]
  },
  {
   "cell_type": "code",
   "execution_count": 125,
   "metadata": {},
   "outputs": [],
   "source": [
    "X_train, X_test, y_train, y_test = train_test_split(X, y, random_state=42)"
   ]
  },
  {
   "cell_type": "code",
   "execution_count": 126,
   "metadata": {},
   "outputs": [],
   "source": [
    "mapper = DataFrameMapper([\n",
    "    (['accommodates'], StandardScaler()),\n",
    "    (['bathrooms'], SimpleImputer(strategy='most_frequent')),\n",
    "    (['bedrooms'], SimpleImputer(strategy='most_frequent')),\n",
    "    (['beds'], SimpleImputer(strategy='most_frequent')),\n",
    "    ('room_type', LabelBinarizer()),\n",
    "    ('property_type', LabelBinarizer()),\n",
    "    ('city', LabelBinarizer()),\n",
    "    (['latitude'], StandardScaler()),\n",
    "    (['longitude'], StandardScaler()),\n",
    "    ], df_out = True\n",
    ")"
   ]
  },
  {
   "cell_type": "code",
   "execution_count": 127,
   "metadata": {},
   "outputs": [],
   "source": [
    "Z_train = mapper.fit_transform(X_train)"
   ]
  },
  {
   "cell_type": "code",
   "execution_count": 128,
   "metadata": {},
   "outputs": [],
   "source": [
    "Z_test = mapper.transform(X_test)"
   ]
  },
  {
   "cell_type": "code",
   "execution_count": 129,
   "metadata": {},
   "outputs": [
    {
     "data": {
      "text/plain": [
       "0.4182014318036087"
      ]
     },
     "execution_count": 129,
     "metadata": {},
     "output_type": "execute_result"
    }
   ],
   "source": [
    "model = LinearRegression().fit(Z_train, y_train)\n",
    "model.score(Z_test, y_test)"
   ]
  },
  {
   "cell_type": "code",
   "execution_count": null,
   "metadata": {},
   "outputs": [],
   "source": [
    "#test1 = pd.read_csv('data/test.csv')\n",
    "\n",
    "#test1['price'] = model.predict(mapper.transform(test1))\n",
    "\n",
    "#test1[['id', 'price']]"
   ]
  },
  {
   "cell_type": "code",
   "execution_count": null,
   "metadata": {},
   "outputs": [],
   "source": [
    "##test1[['id','price']].to_csv('linear_regression.csv', index=False)"
   ]
  },
  {
   "cell_type": "markdown",
   "metadata": {},
   "source": [
    "## Model 2"
   ]
  },
  {
   "cell_type": "code",
   "execution_count": 10,
   "metadata": {},
   "outputs": [],
   "source": [
    "df = df.drop('id', axis=1)"
   ]
  },
  {
   "cell_type": "code",
   "execution_count": 11,
   "metadata": {},
   "outputs": [],
   "source": [
    "target = 'price'\n",
    "y = df[target]\n",
    "X = df.drop(target, axis=1)"
   ]
  },
  {
   "cell_type": "code",
   "execution_count": 12,
   "metadata": {},
   "outputs": [],
   "source": [
    "X_train, X_test, y_train, y_test = train_test_split(X, y, random_state=42)"
   ]
  },
  {
   "cell_type": "code",
   "execution_count": 13,
   "metadata": {},
   "outputs": [],
   "source": [
    "mapper = DataFrameMapper([\n",
    "    (['accommodates'], StandardScaler()),\n",
    "    (['bathrooms'], [SimpleImputer(strategy='most_frequent'), StandardScaler()]),\n",
    "    (['latitude'], StandardScaler()),\n",
    "    (['longitude'], StandardScaler()),\n",
    "    (['number_of_reviews'], StandardScaler()),\n",
    "    (['review_scores_rating'], [SimpleImputer(strategy='most_frequent'), StandardScaler()]),\n",
    "    (['bedrooms'], [SimpleImputer(strategy='most_frequent', ), StandardScaler()]),\n",
    "    (['beds'], [SimpleImputer(strategy='most_frequent'), StandardScaler()]),\n",
    "    ('room_type', LabelBinarizer()),\n",
    "    ('property_type', LabelBinarizer()),\n",
    "    ('bed_type', LabelBinarizer()),\n",
    "    ('cancellation_policy', LabelBinarizer()),\n",
    "    ('cleaning_fee', LabelBinarizer()),\n",
    "    ('city', LabelBinarizer()),\n",
    "    ('host_has_profile_pic', [CategoricalImputer(strategy='most_frequent') , LabelBinarizer()]),\n",
    "    ('host_identity_verified', [CategoricalImputer(strategy='most_frequent') , LabelBinarizer()]),\n",
    "    ('instant_bookable', LabelBinarizer()),\n",
    "    ], df_out = True\n",
    ")"
   ]
  },
  {
   "cell_type": "code",
   "execution_count": 14,
   "metadata": {},
   "outputs": [],
   "source": [
    "Z_train = mapper.fit_transform(X_train)"
   ]
  },
  {
   "cell_type": "code",
   "execution_count": 15,
   "metadata": {},
   "outputs": [],
   "source": [
    "Z_test = mapper.transform(X_test)"
   ]
  },
  {
   "cell_type": "code",
   "execution_count": 16,
   "metadata": {},
   "outputs": [
    {
     "data": {
      "text/plain": [
       "0.4377354707156213"
      ]
     },
     "execution_count": 16,
     "metadata": {},
     "output_type": "execute_result"
    }
   ],
   "source": [
    "model = LinearRegression().fit(Z_train, y_train)\n",
    "model.score(Z_test, y_test)"
   ]
  },
  {
   "cell_type": "code",
   "execution_count": 17,
   "metadata": {},
   "outputs": [
    {
     "data": {
      "text/plain": [
       "128.88119524106827"
      ]
     },
     "execution_count": 17,
     "metadata": {},
     "output_type": "execute_result"
    }
   ],
   "source": [
    "np.set_printoptions(suppress=True)\n",
    "\n",
    "mean_squared_error(y_test, model.predict(Z_test))**(1/2)"
   ]
  },
  {
   "cell_type": "code",
   "execution_count": null,
   "metadata": {},
   "outputs": [],
   "source": [
    "#test1 = pd.read_csv('data/test.csv')\n",
    "\n",
    "#test1['price'] = model.predict(mapper.transform(test1))\n",
    "\n",
    "#test1[['id', 'price']]"
   ]
  },
  {
   "cell_type": "code",
   "execution_count": null,
   "metadata": {},
   "outputs": [],
   "source": [
    "##test1[['id','price']].to_csv('linear_regression2.csv', index=False)"
   ]
  },
  {
   "cell_type": "markdown",
   "metadata": {},
   "source": [
    "## Lasso"
   ]
  },
  {
   "cell_type": "code",
   "execution_count": 18,
   "metadata": {},
   "outputs": [],
   "source": [
    "## Lasso\n",
    "model = Lasso()\n",
    "params = {\n",
    "    'alpha': [.0001, .001, .01, .1, 1],\n",
    "    'fit_intercept': [True, False],\n",
    "}"
   ]
  },
  {
   "cell_type": "code",
   "execution_count": 19,
   "metadata": {},
   "outputs": [],
   "source": [
    "grid = GridSearchCV(model, params, cv=3, n_jobs=-1, verbose=1)"
   ]
  },
  {
   "cell_type": "code",
   "execution_count": 20,
   "metadata": {},
   "outputs": [
    {
     "name": "stdout",
     "output_type": "stream",
     "text": [
      "Fitting 3 folds for each of 10 candidates, totalling 30 fits\n"
     ]
    },
    {
     "name": "stderr",
     "output_type": "stream",
     "text": [
      "[Parallel(n_jobs=-1)]: Using backend LokyBackend with 4 concurrent workers.\n",
      "[Parallel(n_jobs=-1)]: Done  30 out of  30 | elapsed:   59.2s finished\n",
      "/Users/BA/opt/anaconda3/lib/python3.7/site-packages/sklearn/linear_model/coordinate_descent.py:475: ConvergenceWarning: Objective did not converge. You might want to increase the number of iterations. Duality gap: 285496596.89893, tolerance: 198652.6178\n",
      "  positive)\n"
     ]
    },
    {
     "data": {
      "text/plain": [
       "0.4266000190018131"
      ]
     },
     "execution_count": 20,
     "metadata": {},
     "output_type": "execute_result"
    }
   ],
   "source": [
    "grid.fit(Z_train, y_train)\n",
    "grid.best_score_"
   ]
  },
  {
   "cell_type": "code",
   "execution_count": 21,
   "metadata": {},
   "outputs": [
    {
     "data": {
      "text/plain": [
       "{'alpha': 0.001, 'fit_intercept': False}"
      ]
     },
     "execution_count": 21,
     "metadata": {},
     "output_type": "execute_result"
    }
   ],
   "source": [
    "grid.best_params_"
   ]
  },
  {
   "cell_type": "markdown",
   "metadata": {},
   "source": [
    "## Ridge"
   ]
  },
  {
   "cell_type": "code",
   "execution_count": 22,
   "metadata": {},
   "outputs": [],
   "source": [
    "## Ridge\n",
    "model = Ridge()\n",
    "params = {\n",
    "    'alpha': [.0001, .001, .01, .1, 1],\n",
    "    'fit_intercept': [True, False],\n",
    "}"
   ]
  },
  {
   "cell_type": "code",
   "execution_count": 23,
   "metadata": {},
   "outputs": [],
   "source": [
    "grid = GridSearchCV(model, params, cv=3, n_jobs=-1, verbose=1)"
   ]
  },
  {
   "cell_type": "code",
   "execution_count": 24,
   "metadata": {},
   "outputs": [
    {
     "name": "stdout",
     "output_type": "stream",
     "text": [
      "Fitting 3 folds for each of 10 candidates, totalling 30 fits\n"
     ]
    },
    {
     "name": "stderr",
     "output_type": "stream",
     "text": [
      "[Parallel(n_jobs=-1)]: Using backend LokyBackend with 4 concurrent workers.\n",
      "[Parallel(n_jobs=-1)]: Done  30 out of  30 | elapsed:   21.5s finished\n"
     ]
    },
    {
     "data": {
      "text/plain": [
       "0.4359153024665274"
      ]
     },
     "execution_count": 24,
     "metadata": {},
     "output_type": "execute_result"
    }
   ],
   "source": [
    "grid.fit(Z_train, y_train)\n",
    "grid.best_score_"
   ]
  },
  {
   "cell_type": "code",
   "execution_count": 25,
   "metadata": {},
   "outputs": [
    {
     "data": {
      "text/plain": [
       "{'alpha': 0.0001, 'fit_intercept': True}"
      ]
     },
     "execution_count": 25,
     "metadata": {},
     "output_type": "execute_result"
    }
   ],
   "source": [
    "grid.best_params_"
   ]
  },
  {
   "cell_type": "markdown",
   "metadata": {},
   "source": [
    "## Elastic Net"
   ]
  },
  {
   "cell_type": "code",
   "execution_count": 26,
   "metadata": {},
   "outputs": [],
   "source": [
    "## ElasticNet\n",
    "model = ElasticNet()\n",
    "params = {\n",
    "    'alpha': [.0001, .001, .01, .1, 1],\n",
    "    'fit_intercept': [True, False],\n",
    "}"
   ]
  },
  {
   "cell_type": "code",
   "execution_count": 27,
   "metadata": {},
   "outputs": [],
   "source": [
    "grid = GridSearchCV(model, params, cv=3, n_jobs=-1, verbose=1)"
   ]
  },
  {
   "cell_type": "code",
   "execution_count": 28,
   "metadata": {},
   "outputs": [
    {
     "name": "stdout",
     "output_type": "stream",
     "text": [
      "Fitting 3 folds for each of 10 candidates, totalling 30 fits\n"
     ]
    },
    {
     "name": "stderr",
     "output_type": "stream",
     "text": [
      "[Parallel(n_jobs=-1)]: Using backend LokyBackend with 4 concurrent workers.\n",
      "[Parallel(n_jobs=-1)]: Done  30 out of  30 | elapsed:   29.6s finished\n",
      "/Users/BA/opt/anaconda3/lib/python3.7/site-packages/sklearn/linear_model/coordinate_descent.py:475: ConvergenceWarning: Objective did not converge. You might want to increase the number of iterations. Duality gap: 294864530.8793081, tolerance: 198652.6178\n",
      "  positive)\n"
     ]
    },
    {
     "data": {
      "text/plain": [
       "0.42662480770852185"
      ]
     },
     "execution_count": 28,
     "metadata": {},
     "output_type": "execute_result"
    }
   ],
   "source": [
    "grid.fit(Z_train, y_train)\n",
    "grid.best_score_"
   ]
  },
  {
   "cell_type": "code",
   "execution_count": 29,
   "metadata": {},
   "outputs": [
    {
     "data": {
      "text/plain": [
       "{'alpha': 0.0001, 'fit_intercept': False}"
      ]
     },
     "execution_count": 29,
     "metadata": {},
     "output_type": "execute_result"
    }
   ],
   "source": [
    "grid.best_params_"
   ]
  },
  {
   "cell_type": "code",
   "execution_count": 153,
   "metadata": {},
   "outputs": [
    {
     "ename": "TypeError",
     "evalue": "int() argument must be a string, a bytes-like object or a number, not 'DataFrame'",
     "output_type": "error",
     "traceback": [
      "\u001b[0;31m---------------------------------------------------------------------------\u001b[0m",
      "\u001b[0;31mTypeError\u001b[0m                                 Traceback (most recent call last)",
      "\u001b[0;32m<ipython-input-153-c41bc0f6fa52>\u001b[0m in \u001b[0;36m<module>\u001b[0;34m\u001b[0m\n\u001b[1;32m      1\u001b[0m \u001b[0mplt\u001b[0m\u001b[0;34m.\u001b[0m\u001b[0mfigure\u001b[0m\u001b[0;34m(\u001b[0m\u001b[0mfigsize\u001b[0m\u001b[0;34m=\u001b[0m\u001b[0;34m(\u001b[0m\u001b[0;36m10\u001b[0m\u001b[0;34m,\u001b[0m\u001b[0;36m10\u001b[0m\u001b[0;34m)\u001b[0m\u001b[0;34m)\u001b[0m\u001b[0;34m\u001b[0m\u001b[0;34m\u001b[0m\u001b[0m\n\u001b[0;32m----> 2\u001b[0;31m \u001b[0mplt\u001b[0m\u001b[0;34m.\u001b[0m\u001b[0msubplot\u001b[0m\u001b[0;34m(\u001b[0m\u001b[0mdf\u001b[0m\u001b[0;34m)\u001b[0m\u001b[0;34m\u001b[0m\u001b[0;34m\u001b[0m\u001b[0m\n\u001b[0m",
      "\u001b[0;32m~/opt/anaconda3/lib/python3.7/site-packages/matplotlib/pyplot.py\u001b[0m in \u001b[0;36msubplot\u001b[0;34m(*args, **kwargs)\u001b[0m\n\u001b[1;32m   1074\u001b[0m \u001b[0;34m\u001b[0m\u001b[0m\n\u001b[1;32m   1075\u001b[0m     \u001b[0mfig\u001b[0m \u001b[0;34m=\u001b[0m \u001b[0mgcf\u001b[0m\u001b[0;34m(\u001b[0m\u001b[0;34m)\u001b[0m\u001b[0;34m\u001b[0m\u001b[0;34m\u001b[0m\u001b[0m\n\u001b[0;32m-> 1076\u001b[0;31m     \u001b[0ma\u001b[0m \u001b[0;34m=\u001b[0m \u001b[0mfig\u001b[0m\u001b[0;34m.\u001b[0m\u001b[0madd_subplot\u001b[0m\u001b[0;34m(\u001b[0m\u001b[0;34m*\u001b[0m\u001b[0margs\u001b[0m\u001b[0;34m,\u001b[0m \u001b[0;34m**\u001b[0m\u001b[0mkwargs\u001b[0m\u001b[0;34m)\u001b[0m\u001b[0;34m\u001b[0m\u001b[0;34m\u001b[0m\u001b[0m\n\u001b[0m\u001b[1;32m   1077\u001b[0m     \u001b[0mbbox\u001b[0m \u001b[0;34m=\u001b[0m \u001b[0ma\u001b[0m\u001b[0;34m.\u001b[0m\u001b[0mbbox\u001b[0m\u001b[0;34m\u001b[0m\u001b[0;34m\u001b[0m\u001b[0m\n\u001b[1;32m   1078\u001b[0m     \u001b[0mbyebye\u001b[0m \u001b[0;34m=\u001b[0m \u001b[0;34m[\u001b[0m\u001b[0;34m]\u001b[0m\u001b[0;34m\u001b[0m\u001b[0;34m\u001b[0m\u001b[0m\n",
      "\u001b[0;32m~/opt/anaconda3/lib/python3.7/site-packages/matplotlib/figure.py\u001b[0m in \u001b[0;36madd_subplot\u001b[0;34m(self, *args, **kwargs)\u001b[0m\n\u001b[1;32m   1412\u001b[0m                     \u001b[0mself\u001b[0m\u001b[0;34m.\u001b[0m\u001b[0m_axstack\u001b[0m\u001b[0;34m.\u001b[0m\u001b[0mremove\u001b[0m\u001b[0;34m(\u001b[0m\u001b[0max\u001b[0m\u001b[0;34m)\u001b[0m\u001b[0;34m\u001b[0m\u001b[0;34m\u001b[0m\u001b[0m\n\u001b[1;32m   1413\u001b[0m \u001b[0;34m\u001b[0m\u001b[0m\n\u001b[0;32m-> 1414\u001b[0;31m             \u001b[0ma\u001b[0m \u001b[0;34m=\u001b[0m \u001b[0msubplot_class_factory\u001b[0m\u001b[0;34m(\u001b[0m\u001b[0mprojection_class\u001b[0m\u001b[0;34m)\u001b[0m\u001b[0;34m(\u001b[0m\u001b[0mself\u001b[0m\u001b[0;34m,\u001b[0m \u001b[0;34m*\u001b[0m\u001b[0margs\u001b[0m\u001b[0;34m,\u001b[0m \u001b[0;34m**\u001b[0m\u001b[0mkwargs\u001b[0m\u001b[0;34m)\u001b[0m\u001b[0;34m\u001b[0m\u001b[0;34m\u001b[0m\u001b[0m\n\u001b[0m\u001b[1;32m   1415\u001b[0m \u001b[0;34m\u001b[0m\u001b[0m\n\u001b[1;32m   1416\u001b[0m         \u001b[0;32mreturn\u001b[0m \u001b[0mself\u001b[0m\u001b[0;34m.\u001b[0m\u001b[0m_add_axes_internal\u001b[0m\u001b[0;34m(\u001b[0m\u001b[0mkey\u001b[0m\u001b[0;34m,\u001b[0m \u001b[0ma\u001b[0m\u001b[0;34m)\u001b[0m\u001b[0;34m\u001b[0m\u001b[0;34m\u001b[0m\u001b[0m\n",
      "\u001b[0;32m~/opt/anaconda3/lib/python3.7/site-packages/matplotlib/axes/_subplots.py\u001b[0m in \u001b[0;36m__init__\u001b[0;34m(self, fig, *args, **kwargs)\u001b[0m\n\u001b[1;32m     37\u001b[0m             \u001b[0;32melse\u001b[0m\u001b[0;34m:\u001b[0m\u001b[0;34m\u001b[0m\u001b[0;34m\u001b[0m\u001b[0m\n\u001b[1;32m     38\u001b[0m                 \u001b[0;32mtry\u001b[0m\u001b[0;34m:\u001b[0m\u001b[0;34m\u001b[0m\u001b[0;34m\u001b[0m\u001b[0m\n\u001b[0;32m---> 39\u001b[0;31m                     \u001b[0ms\u001b[0m \u001b[0;34m=\u001b[0m \u001b[0mstr\u001b[0m\u001b[0;34m(\u001b[0m\u001b[0mint\u001b[0m\u001b[0;34m(\u001b[0m\u001b[0margs\u001b[0m\u001b[0;34m[\u001b[0m\u001b[0;36m0\u001b[0m\u001b[0;34m]\u001b[0m\u001b[0;34m)\u001b[0m\u001b[0;34m)\u001b[0m\u001b[0;34m\u001b[0m\u001b[0;34m\u001b[0m\u001b[0m\n\u001b[0m\u001b[1;32m     40\u001b[0m                     \u001b[0mrows\u001b[0m\u001b[0;34m,\u001b[0m \u001b[0mcols\u001b[0m\u001b[0;34m,\u001b[0m \u001b[0mnum\u001b[0m \u001b[0;34m=\u001b[0m \u001b[0mmap\u001b[0m\u001b[0;34m(\u001b[0m\u001b[0mint\u001b[0m\u001b[0;34m,\u001b[0m \u001b[0ms\u001b[0m\u001b[0;34m)\u001b[0m\u001b[0;34m\u001b[0m\u001b[0;34m\u001b[0m\u001b[0m\n\u001b[1;32m     41\u001b[0m                 \u001b[0;32mexcept\u001b[0m \u001b[0mValueError\u001b[0m\u001b[0;34m:\u001b[0m\u001b[0;34m\u001b[0m\u001b[0;34m\u001b[0m\u001b[0m\n",
      "\u001b[0;31mTypeError\u001b[0m: int() argument must be a string, a bytes-like object or a number, not 'DataFrame'"
     ]
    },
    {
     "data": {
      "text/plain": [
       "<Figure size 720x720 with 0 Axes>"
      ]
     },
     "metadata": {},
     "output_type": "display_data"
    }
   ],
   "source": [
    "model = grid.best_estimator_\n",
    "\n",
    "model.score(Z_train, y_train)\n",
    "score = model.score(Z_test, y_test)"
   ]
  },
  {
   "cell_type": "code",
   "execution_count": null,
   "metadata": {},
   "outputs": [],
   "source": [
    "#test = pd.read_csv('data/test.csv')\n",
    "\n",
    "#test['price'] = model.predict(mapper.transform(test))\n",
    "\n",
    "#test[['id', 'price']]"
   ]
  },
  {
   "cell_type": "code",
   "execution_count": null,
   "metadata": {},
   "outputs": [],
   "source": [
    "## test[['id','price']].to_csv('linear_regression3.csv', index=False)"
   ]
  },
  {
   "cell_type": "markdown",
   "metadata": {},
   "source": [
    "## Huber"
   ]
  },
  {
   "cell_type": "code",
   "execution_count": 30,
   "metadata": {},
   "outputs": [
    {
     "data": {
      "text/plain": [
       "0.3433669996523617"
      ]
     },
     "execution_count": 30,
     "metadata": {},
     "output_type": "execute_result"
    }
   ],
   "source": [
    "## Huber Regression\n",
    "model = HuberRegressor().fit(Z_train, y_train)\n",
    "model.score(Z_test, y_test)"
   ]
  },
  {
   "cell_type": "markdown",
   "metadata": {},
   "source": [
    "## Bayesian Ridge"
   ]
  },
  {
   "cell_type": "code",
   "execution_count": 31,
   "metadata": {},
   "outputs": [
    {
     "data": {
      "text/plain": [
       "0.4376017900109313"
      ]
     },
     "execution_count": 31,
     "metadata": {},
     "output_type": "execute_result"
    }
   ],
   "source": [
    "## Bayesian Ridge\n",
    "model = linear_model.BayesianRidge()\n",
    "model.fit(Z_train, y_train)\n",
    "model.score(Z_test, y_test)"
   ]
  },
  {
   "cell_type": "markdown",
   "metadata": {},
   "source": [
    "## Model 3\n",
    "Model 3 was garbage - it performed worse then my very first model. During the clean up of the notebooks, I accidently saved over the page, deleting the model."
   ]
  },
  {
   "cell_type": "markdown",
   "metadata": {},
   "source": [
    "## Model 4"
   ]
  },
  {
   "cell_type": "code",
   "execution_count": 32,
   "metadata": {},
   "outputs": [],
   "source": [
    "df = pd.read_csv('data/train.csv')"
   ]
  },
  {
   "cell_type": "code",
   "execution_count": 49,
   "metadata": {},
   "outputs": [],
   "source": [
    "mapper = DataFrameMapper([\n",
    "    (['accommodates'], StandardScaler()),\n",
    "    (['bathrooms'], [SimpleImputer(strategy='most_frequent'), StandardScaler()]),\n",
    "    (['latitude'], StandardScaler()),\n",
    "    (['longitude'], StandardScaler()),\n",
    "    (['number_of_reviews'], StandardScaler()),\n",
    "    (['review_scores_rating'], [SimpleImputer(strategy='most_frequent'), StandardScaler()]),\n",
    "    (['bedrooms'], [SimpleImputer(strategy='most_frequent', ), StandardScaler()]),\n",
    "    (['beds'], [SimpleImputer(strategy='most_frequent'), StandardScaler()]),\n",
    "    ('room_type', LabelBinarizer()),\n",
    "    ('property_type', LabelBinarizer()),\n",
    "    ('bed_type', LabelBinarizer()),\n",
    "    ('cancellation_policy', LabelBinarizer()),\n",
    "    ('cleaning_fee', LabelBinarizer()),\n",
    "    ('city', LabelBinarizer()),\n",
    "    ('host_has_profile_pic', [CategoricalImputer(strategy='most_frequent') , LabelBinarizer()]),\n",
    "    ('host_identity_verified', [CategoricalImputer(strategy='most_frequent') , LabelBinarizer()]),\n",
    "    ('instant_bookable', LabelBinarizer()),\n",
    "    ], df_out = True\n",
    ")"
   ]
  },
  {
   "cell_type": "code",
   "execution_count": 43,
   "metadata": {},
   "outputs": [],
   "source": [
    "Z_train = mapper.fit_transform(X_train)"
   ]
  },
  {
   "cell_type": "code",
   "execution_count": 44,
   "metadata": {},
   "outputs": [],
   "source": [
    "Z_test = mapper.transform(X_test)"
   ]
  },
  {
   "cell_type": "code",
   "execution_count": 58,
   "metadata": {},
   "outputs": [],
   "source": [
    "rand_forest = RandomForestRegressor(random_state=42)"
   ]
  },
  {
   "cell_type": "code",
   "execution_count": 59,
   "metadata": {},
   "outputs": [
    {
     "data": {
      "text/plain": [
       "RandomForestRegressor(bootstrap=True, criterion='mse', max_depth=None,\n",
       "                      max_features='auto', max_leaf_nodes=None,\n",
       "                      min_impurity_decrease=0.0, min_impurity_split=None,\n",
       "                      min_samples_leaf=1, min_samples_split=2,\n",
       "                      min_weight_fraction_leaf=0.0, n_estimators=10,\n",
       "                      n_jobs=None, oob_score=False, random_state=42, verbose=0,\n",
       "                      warm_start=False)"
      ]
     },
     "execution_count": 59,
     "metadata": {},
     "output_type": "execute_result"
    }
   ],
   "source": [
    "rand_forest.fit(Z_train, y_train)"
   ]
  },
  {
   "cell_type": "code",
   "execution_count": 62,
   "metadata": {},
   "outputs": [
    {
     "data": {
      "text/plain": [
       "0.5283979148686344"
      ]
     },
     "execution_count": 62,
     "metadata": {},
     "output_type": "execute_result"
    }
   ],
   "source": [
    "rand_forest.score(Z_test, y_test)"
   ]
  },
  {
   "cell_type": "code",
   "execution_count": 63,
   "metadata": {},
   "outputs": [
    {
     "data": {
      "text/plain": [
       "118.03398506193037"
      ]
     },
     "execution_count": 63,
     "metadata": {},
     "output_type": "execute_result"
    }
   ],
   "source": [
    "mean_squared_error(y_test, rand_forest.predict(Z_test))**(1/2)"
   ]
  },
  {
   "cell_type": "code",
   "execution_count": null,
   "metadata": {},
   "outputs": [],
   "source": [
    "##test = pd.read_csv('data/test.csv')\n",
    "\n",
    "##test['price'] = rand_forest.predict(mapper.transform(test))\n",
    "\n",
    "##test[['id', 'price']]"
   ]
  },
  {
   "cell_type": "code",
   "execution_count": null,
   "metadata": {},
   "outputs": [],
   "source": [
    "##test[['id','price']].to_csv('linear_regression4.csv', index=False)"
   ]
  },
  {
   "cell_type": "markdown",
   "metadata": {},
   "source": [
    "## Model 5"
   ]
  },
  {
   "cell_type": "code",
   "execution_count": 74,
   "metadata": {},
   "outputs": [],
   "source": [
    "mapper = DataFrameMapper([\n",
    "    (['accommodates'], StandardScaler()),\n",
    "    (['bathrooms'], [SimpleImputer(strategy='most_frequent'), StandardScaler()]),\n",
    "    (['latitude'], StandardScaler()),\n",
    "    (['longitude'], StandardScaler()),\n",
    "    (['number_of_reviews'], StandardScaler()),\n",
    "    (['review_scores_rating'], [SimpleImputer(strategy='most_frequent'), StandardScaler()]),\n",
    "    (['bedrooms'], [SimpleImputer(strategy='most_frequent', ), StandardScaler()]),\n",
    "    (['beds'], [SimpleImputer(strategy='most_frequent'), StandardScaler()]),\n",
    "    ('room_type', LabelBinarizer()),\n",
    "    ('property_type', LabelBinarizer()),\n",
    "    ('bed_type', LabelBinarizer()),\n",
    "    ('cancellation_policy', LabelBinarizer()),\n",
    "    ('cleaning_fee', LabelBinarizer()),\n",
    "    ('city', LabelBinarizer()),\n",
    "    ('host_has_profile_pic', [CategoricalImputer(strategy='most_frequent') , LabelBinarizer()]),\n",
    "    ('host_identity_verified', [CategoricalImputer(strategy='most_frequent') , LabelBinarizer()]),\n",
    "    ('instant_bookable', LabelBinarizer()),\n",
    "    ], df_out = True\n",
    ")"
   ]
  },
  {
   "cell_type": "code",
   "execution_count": 75,
   "metadata": {},
   "outputs": [],
   "source": [
    "Z_train = mapper.fit_transform(X_train)"
   ]
  },
  {
   "cell_type": "code",
   "execution_count": 76,
   "metadata": {},
   "outputs": [],
   "source": [
    "Z_test = mapper.transform(X_test)"
   ]
  },
  {
   "cell_type": "code",
   "execution_count": 80,
   "metadata": {},
   "outputs": [],
   "source": [
    "model = RandomForestRegressor(random_state=42)"
   ]
  },
  {
   "cell_type": "code",
   "execution_count": 81,
   "metadata": {},
   "outputs": [
    {
     "data": {
      "text/plain": [
       "RandomForestRegressor(bootstrap=True, criterion='mse', max_depth=None,\n",
       "                      max_features='auto', max_leaf_nodes=None,\n",
       "                      min_impurity_decrease=0.0, min_impurity_split=None,\n",
       "                      min_samples_leaf=1, min_samples_split=2,\n",
       "                      min_weight_fraction_leaf=0.0, n_estimators=10,\n",
       "                      n_jobs=None, oob_score=False, random_state=42, verbose=0,\n",
       "                      warm_start=False)"
      ]
     },
     "execution_count": 81,
     "metadata": {},
     "output_type": "execute_result"
    }
   ],
   "source": [
    "model.fit(Z_train, y_train)"
   ]
  },
  {
   "cell_type": "code",
   "execution_count": 82,
   "metadata": {},
   "outputs": [
    {
     "data": {
      "text/plain": [
       "0.531281399737783"
      ]
     },
     "execution_count": 82,
     "metadata": {},
     "output_type": "execute_result"
    }
   ],
   "source": [
    "model.score(Z_test, y_test)"
   ]
  },
  {
   "cell_type": "code",
   "execution_count": 108,
   "metadata": {},
   "outputs": [],
   "source": [
    "model = RandomForestRegressor()\n",
    "params = {\n",
    "    'n_estimators': [1000, 1500, 2000],\n",
    "    'max_leaf_nodes': [100, 500, 1000]\n",
    "}"
   ]
  },
  {
   "cell_type": "code",
   "execution_count": 109,
   "metadata": {},
   "outputs": [],
   "source": [
    "grid = GridSearchCV(model, params, cv=3, n_jobs=-1, verbose=1)"
   ]
  },
  {
   "cell_type": "code",
   "execution_count": 110,
   "metadata": {},
   "outputs": [
    {
     "name": "stdout",
     "output_type": "stream",
     "text": [
      "Fitting 3 folds for each of 9 candidates, totalling 27 fits\n"
     ]
    },
    {
     "name": "stderr",
     "output_type": "stream",
     "text": [
      "[Parallel(n_jobs=-1)]: Using backend LokyBackend with 4 concurrent workers.\n",
      "[Parallel(n_jobs=-1)]: Done  27 out of  27 | elapsed: 49.3min finished\n"
     ]
    },
    {
     "data": {
      "text/plain": [
       "0.5320946959032717"
      ]
     },
     "execution_count": 110,
     "metadata": {},
     "output_type": "execute_result"
    }
   ],
   "source": [
    "# 49.3 min run time\n",
    "grid.fit(Z_train, y_train)\n",
    "## 0.5320946959032717\n",
    "grid.best_score_ "
   ]
  },
  {
   "cell_type": "code",
   "execution_count": 111,
   "metadata": {},
   "outputs": [
    {
     "data": {
      "text/plain": [
       "{'max_leaf_nodes': 1000, 'n_estimators': 1500}"
      ]
     },
     "execution_count": 111,
     "metadata": {},
     "output_type": "execute_result"
    }
   ],
   "source": [
    "## {'max_leaf_nodes': 1000, 'n_estimators': 1500}\n",
    "grid.best_params_"
   ]
  },
  {
   "cell_type": "code",
   "execution_count": 112,
   "metadata": {},
   "outputs": [],
   "source": [
    "model = RandomForestRegressor()\n",
    "params = {\n",
    "    'n_estimators': [1500],\n",
    "    'max_leaf_nodes': [1000, 2500, 5000]\n",
    "}"
   ]
  },
  {
   "cell_type": "code",
   "execution_count": 113,
   "metadata": {},
   "outputs": [],
   "source": [
    "grid = GridSearchCV(model, params, cv=3, n_jobs=-1, verbose=1)"
   ]
  },
  {
   "cell_type": "code",
   "execution_count": 114,
   "metadata": {},
   "outputs": [
    {
     "name": "stdout",
     "output_type": "stream",
     "text": [
      "Fitting 3 folds for each of 3 candidates, totalling 9 fits\n"
     ]
    },
    {
     "name": "stderr",
     "output_type": "stream",
     "text": [
      "[Parallel(n_jobs=-1)]: Using backend LokyBackend with 4 concurrent workers.\n",
      "[Parallel(n_jobs=-1)]: Done   9 out of   9 | elapsed: 31.4min finished\n"
     ]
    },
    {
     "data": {
      "text/plain": [
       "0.5324001527688095"
      ]
     },
     "execution_count": 114,
     "metadata": {},
     "output_type": "execute_result"
    }
   ],
   "source": [
    "# 31.4 min run time\n",
    "grid.fit(Z_train, y_train)\n",
    "## 0.5324001527688095\n",
    "grid.best_score_ "
   ]
  },
  {
   "cell_type": "code",
   "execution_count": 115,
   "metadata": {},
   "outputs": [
    {
     "data": {
      "text/plain": [
       "{'max_leaf_nodes': 5000, 'n_estimators': 1500}"
      ]
     },
     "execution_count": 115,
     "metadata": {},
     "output_type": "execute_result"
    }
   ],
   "source": [
    "## {'max_leaf_nodes': 5000, 'n_estimators': 1500}\n",
    "grid.best_params_"
   ]
  },
  {
   "cell_type": "code",
   "execution_count": 117,
   "metadata": {},
   "outputs": [],
   "source": [
    "model = grid.best_estimator_"
   ]
  },
  {
   "cell_type": "code",
   "execution_count": 121,
   "metadata": {},
   "outputs": [
    {
     "data": {
      "text/plain": [
       "0.5686028306718109"
      ]
     },
     "execution_count": 121,
     "metadata": {},
     "output_type": "execute_result"
    }
   ],
   "source": [
    "model.score(Z_test, y_test)"
   ]
  },
  {
   "cell_type": "code",
   "execution_count": 119,
   "metadata": {},
   "outputs": [
    {
     "data": {
      "text/html": [
       "<div>\n",
       "<style scoped>\n",
       "    .dataframe tbody tr th:only-of-type {\n",
       "        vertical-align: middle;\n",
       "    }\n",
       "\n",
       "    .dataframe tbody tr th {\n",
       "        vertical-align: top;\n",
       "    }\n",
       "\n",
       "    .dataframe thead th {\n",
       "        text-align: right;\n",
       "    }\n",
       "</style>\n",
       "<table border=\"1\" class=\"dataframe\">\n",
       "  <thead>\n",
       "    <tr style=\"text-align: right;\">\n",
       "      <th></th>\n",
       "      <th>id</th>\n",
       "      <th>price</th>\n",
       "    </tr>\n",
       "  </thead>\n",
       "  <tbody>\n",
       "    <tr>\n",
       "      <td>0</td>\n",
       "      <td>54473</td>\n",
       "      <td>142.258795</td>\n",
       "    </tr>\n",
       "    <tr>\n",
       "      <td>1</td>\n",
       "      <td>9950</td>\n",
       "      <td>82.826089</td>\n",
       "    </tr>\n",
       "    <tr>\n",
       "      <td>2</td>\n",
       "      <td>50751</td>\n",
       "      <td>66.514907</td>\n",
       "    </tr>\n",
       "    <tr>\n",
       "      <td>3</td>\n",
       "      <td>22699</td>\n",
       "      <td>183.353485</td>\n",
       "    </tr>\n",
       "    <tr>\n",
       "      <td>4</td>\n",
       "      <td>11075</td>\n",
       "      <td>126.118092</td>\n",
       "    </tr>\n",
       "    <tr>\n",
       "      <td>...</td>\n",
       "      <td>...</td>\n",
       "      <td>...</td>\n",
       "    </tr>\n",
       "    <tr>\n",
       "      <td>19995</td>\n",
       "      <td>37194</td>\n",
       "      <td>73.709227</td>\n",
       "    </tr>\n",
       "    <tr>\n",
       "      <td>19996</td>\n",
       "      <td>6265</td>\n",
       "      <td>67.612465</td>\n",
       "    </tr>\n",
       "    <tr>\n",
       "      <td>19997</td>\n",
       "      <td>54886</td>\n",
       "      <td>182.655086</td>\n",
       "    </tr>\n",
       "    <tr>\n",
       "      <td>19998</td>\n",
       "      <td>860</td>\n",
       "      <td>105.502457</td>\n",
       "    </tr>\n",
       "    <tr>\n",
       "      <td>19999</td>\n",
       "      <td>15795</td>\n",
       "      <td>77.422003</td>\n",
       "    </tr>\n",
       "  </tbody>\n",
       "</table>\n",
       "<p>20000 rows × 2 columns</p>\n",
       "</div>"
      ],
      "text/plain": [
       "          id       price\n",
       "0      54473  142.258795\n",
       "1       9950   82.826089\n",
       "2      50751   66.514907\n",
       "3      22699  183.353485\n",
       "4      11075  126.118092\n",
       "...      ...         ...\n",
       "19995  37194   73.709227\n",
       "19996   6265   67.612465\n",
       "19997  54886  182.655086\n",
       "19998    860  105.502457\n",
       "19999  15795   77.422003\n",
       "\n",
       "[20000 rows x 2 columns]"
      ]
     },
     "execution_count": 119,
     "metadata": {},
     "output_type": "execute_result"
    }
   ],
   "source": [
    "##test = pd.read_csv('data/test.csv')\n",
    "\n",
    "##test['price'] = model.predict(mapper.transform(test))\n",
    "\n",
    "##test[['id', 'price']]"
   ]
  },
  {
   "cell_type": "code",
   "execution_count": 120,
   "metadata": {},
   "outputs": [],
   "source": [
    "##test[['id','price']].to_csv('linear_regression5.csv', index=False)"
   ]
  },
  {
   "cell_type": "markdown",
   "metadata": {},
   "source": [
    "I was working across a few different notebooks which made this final submission look a little sloppy. I wanted to show that I used every aspect of what you showed us, thats why I left some grid searchers in there that will take ~40 minutes to run. I also commented each time I saved a CSV file as to not record over them again. "
   ]
  }
 ],
 "metadata": {
  "kernelspec": {
   "display_name": "Python 3",
   "language": "python",
   "name": "python3"
  },
  "language_info": {
   "codemirror_mode": {
    "name": "ipython",
    "version": 3
   },
   "file_extension": ".py",
   "mimetype": "text/x-python",
   "name": "python",
   "nbconvert_exporter": "python",
   "pygments_lexer": "ipython3",
   "version": "3.6.4"
  }
 },
 "nbformat": 4,
 "nbformat_minor": 2
}
