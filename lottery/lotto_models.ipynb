{
 "cells": [
  {
   "cell_type": "code",
   "execution_count": null,
   "metadata": {},
   "outputs": [],
   "source": [
    "import pandas as pd\n",
    "\n",
    "from sklearn.model_selection import train_test_split\n",
    "from sklearn.linear_model import LinearRegression, HuberRegressor, Lasso, Ridge, ElasticNet\n",
    "from sklearn.ensemble import RandomForestRegressor, AdaBoostRegressor\n",
    "from sklearn.tree import DecisionTreeRegressor\n",
    "from sklearn.metrics import mean_squared_error\n",
    "\n",
    "from catboost import CatBoostRegressor\n",
    "\n",
    "import tensorflow as tf\n",
    "\n",
    "from tensorflow.keras.models import Sequential\n",
    "from tensorflow.keras.layers import Dense, Input, Dropout"
   ]
  },
  {
   "cell_type": "code",
   "execution_count": null,
   "metadata": {},
   "outputs": [],
   "source": [
    "df = pd.read_csv(\"data/clean_lotto_max_data.csv\")"
   ]
  },
  {
   "cell_type": "code",
   "execution_count": null,
   "metadata": {},
   "outputs": [],
   "source": [
    "pd.set_option(\"max.columns\", None)\n",
    "pd.set_option(\"max.rows\", None)"
   ]
  },
  {
   "cell_type": "code",
   "execution_count": null,
   "metadata": {},
   "outputs": [],
   "source": [
    "del df[\"Unnamed: 0\"]"
   ]
  },
  {
   "cell_type": "code",
   "execution_count": null,
   "metadata": {},
   "outputs": [],
   "source": [
    "df[\"last_draw\"] = df[\"past_numbers\"].shift(7)\n",
    "df[\"two\"] = df[\"past_numbers\"].shift(14)\n",
    "df[\"three\"] = df[\"past_numbers\"].shift(21)\n",
    "df[\"four\"] = df[\"past_numbers\"].shift(28)\n",
    "df[\"five\"] = df[\"past_numbers\"].shift(35)\n",
    "df[\"six\"] = df[\"past_numbers\"].shift(42)\n",
    "df[\"seven\"] = df[\"past_numbers\"].shift(49)\n",
    "df[\"eight\"] = df[\"past_numbers\"].shift(56)\n",
    "df[\"nine\"] = df[\"past_numbers\"].shift(63)\n",
    "df[\"ten\"] = df[\"past_numbers\"].shift(70)\n",
    "df[\"eleven\"] = df[\"past_numbers\"].shift(77)\n",
    "df[\"twelve\"] = df[\"past_numbers\"].shift(84)\n",
    "df[\"thirteen\"] = df[\"past_numbers\"].shift(91)\n",
    "df[\"fourteen\"] = df[\"past_numbers\"].shift(98)\n",
    "df[\"fifteen\"] = df[\"past_numbers\"].shift(105)\n",
    "df[\"sixteen\"] = df[\"past_numbers\"].shift(112)\n",
    "df[\"seventeen\"] = df[\"past_numbers\"].shift(119)\n",
    "df[\"eightteen\"] = df[\"past_numbers\"].shift(126)\n",
    "df[\"nineteen\"] = df[\"past_numbers\"].shift(133)\n",
    "df[\"twenty\"] = df[\"past_numbers\"].shift(140)\n",
    "df[\"twentyone\"] = df[\"past_numbers\"].shift(147)\n",
    "df[\"twentytwo\"] = df[\"past_numbers\"].shift(154)\n",
    "df[\"twentythree\"] = df[\"past_numbers\"].shift(161)\n",
    "df[\"twentyfour\"] = df[\"past_numbers\"].shift(168)\n",
    "df[\"twentyfive\"] = df[\"past_numbers\"].shift(175)\n",
    "df[\"twentysix\"] = df[\"past_numbers\"].shift(182)\n",
    "df[\"twentyseven\"] = df[\"past_numbers\"].shift(189)\n",
    "df[\"twentyeight\"] = df[\"past_numbers\"].shift(196)\n",
    "df[\"twentynine\"] = df[\"past_numbers\"].shift(203)\n",
    "df[\"thirty\"] = df[\"past_numbers\"].shift(210)\n",
    "df[\"thirtyone\"] = df[\"past_numbers\"].shift(217)\n",
    "df[\"thirtytwo\"] = df[\"past_numbers\"].shift(224)\n",
    "df[\"thirtythree\"] = df[\"past_numbers\"].shift(231)\n",
    "df[\"thirtyfour\"] = df[\"past_numbers\"].shift(238)\n",
    "df[\"thirtyfive\"] = df[\"past_numbers\"].shift(245)\n",
    "df[\"thirtysix\"] = df[\"past_numbers\"].shift(252)\n",
    "df[\"thirtyseven\"] = df[\"past_numbers\"].shift(259)\n",
    "df[\"thirtyeight\"] = df[\"past_numbers\"].shift(266)\n",
    "df[\"thirtynine\"] = df[\"past_numbers\"].shift(273)\n",
    "df[\"fourty\"] = df[\"past_numbers\"].shift(280)\n",
    "df[\"fourtyone\"] = df[\"past_numbers\"].shift(287)\n",
    "df[\"fourtytwo\"] = df[\"past_numbers\"].shift(294)"
   ]
  },
  {
   "cell_type": "code",
   "execution_count": null,
   "metadata": {},
   "outputs": [],
   "source": [
    "df = df.dropna()"
   ]
  },
  {
   "cell_type": "code",
   "execution_count": 7,
   "metadata": {},
   "outputs": [],
   "source": [
    "target = \"past_numbers\"\n",
    "X = df.drop(target, axis=1)\n",
    "y = df[target]"
   ]
  },
  {
   "cell_type": "code",
   "execution_count": 8,
   "metadata": {},
   "outputs": [],
   "source": [
    "X_train, X_test, y_train, y_test = train_test_split(X, y, random_state=42)"
   ]
  },
  {
   "cell_type": "code",
   "execution_count": 9,
   "metadata": {},
   "outputs": [
    {
     "name": "stdout",
     "output_type": "stream",
     "text": [
      "LinearRegression train score is 0.7748384940491285\n",
      "LinearRegression test score is 0.7793965621659263\n",
      "Mean squared error is 6.737861782187537\n"
     ]
    }
   ],
   "source": [
    "model = LinearRegression().fit(X_train,y_train)\n",
    "print(\"LinearRegression train score is \" + str(model.score(X_train,y_train)))\n",
    "print(\"LinearRegression test score is \" + str(model.score(X_test,y_test)))\n",
    "\n",
    "print(\"Mean squared error is \" + str(mean_squared_error(y_test, model.predict(X_test))**(1/2)))"
   ]
  },
  {
   "cell_type": "code",
   "execution_count": null,
   "metadata": {},
   "outputs": [],
   "source": [
    "model = Lasso().fit(X_train,y_train)\n",
    "print(\"Lasso train score is \" + str(model.score(X_train,y_train)))\n",
    "print(\"Lasso test score is \" + str(model.score(X_test,y_test)))\n",
    "\n",
    "print(\"Mean squared error is \" + str(mean_squared_error(y_test, model.predict(X_test))**(1/2)))"
   ]
  },
  {
   "cell_type": "code",
   "execution_count": null,
   "metadata": {},
   "outputs": [],
   "source": [
    "model = HuberRegressor().fit(X_train,y_train)\n",
    "print(\"HuberRegressor train score is \" + str(model.score(X_train,y_train)))\n",
    "print(\"HuberRegressor test score is \" + str(model.score(X_test,y_test)))\n",
    "\n",
    "print(\"Mean squared error is \" + str(mean_squared_error(y_test, model.predict(X_test))**(1/2)))"
   ]
  },
  {
   "cell_type": "code",
   "execution_count": null,
   "metadata": {},
   "outputs": [],
   "source": [
    "model = Ridge().fit(X_train,y_train)\n",
    "print(\"Ridge train score is \" + str(model.score(X_train,y_train)))\n",
    "print(\"Ridge test score is \" + str(model.score(X_test,y_test)))\n",
    "\n",
    "print(\"Mean squared error is \" + str(mean_squared_error(y_test, model.predict(X_test))**(1/2)))"
   ]
  },
  {
   "cell_type": "code",
   "execution_count": null,
   "metadata": {},
   "outputs": [],
   "source": [
    "model = ElasticNet().fit(X_train,y_train)\n",
    "print(\"ElasticNet train score is \" + str(model.score(X_train,y_train)))\n",
    "print(\"ElasticNet test score is \" + str(model.score(X_test,y_test)))\n",
    "\n",
    "print(\"Mean squared error is \" + str(mean_squared_error(y_test, model.predict(X_test))**(1/2)))"
   ]
  },
  {
   "cell_type": "code",
   "execution_count": null,
   "metadata": {},
   "outputs": [],
   "source": [
    "model = RandomForestRegressor().fit(X_train,y_train)\n",
    "print(\"RandomForestRegressor train score is \" + str(model.score(X_train,y_train)))\n",
    "print(\"RandomForestRegressor test score is \" + str(model.score(X_test,y_test)))\n",
    "\n",
    "print(\"Mean squared error is \" + str(mean_squared_error(y_test, model.predict(X_test))**(1/2)))"
   ]
  },
  {
   "cell_type": "code",
   "execution_count": null,
   "metadata": {},
   "outputs": [],
   "source": [
    "model = CatBoostRegressor(iterations=1500).fit(X_train,y_train)\n",
    "print(\"CatBoostRegressor train score is \" + str(model.score(X_train,y_train)))\n",
    "print(\"CatBoostRegressor test score is \" + str(model.score(X_test,y_test)))\n",
    "\n",
    "print(\"Mean squared error is \" + str(mean_squared_error(y_test, model.predict(X_test))**(1/2)))"
   ]
  },
  {
   "cell_type": "code",
   "execution_count": null,
   "metadata": {},
   "outputs": [],
   "source": [
    "model = Sequential([\n",
    "    Input(shape=(X_train.shape[1],)),\n",
    "    Dense(8, activation='relu'),\n",
    "    Dense(4, activation='elu'),\n",
    "    Dense(1, activation='elu')\n",
    "])\n",
    "\n",
    "model.compile(loss='mae', optimizer='adam')"
   ]
  },
  {
   "cell_type": "code",
   "execution_count": null,
   "metadata": {},
   "outputs": [],
   "source": [
    "checkpoint_filepath = '/tmp/checkpoint'\n",
    "model_checkpoint_callback = tf.keras.callbacks.ModelCheckpoint(\n",
    "    filepath=checkpoint_filepath,\n",
    "    save_weights_only=True,\n",
    "    monitor='val_loss',\n",
    "    mode='auto',\n",
    "    save_best_only=True)"
   ]
  },
  {
   "cell_type": "code",
   "execution_count": null,
   "metadata": {},
   "outputs": [],
   "source": [
    "history = model.fit(X_train, y_train,\n",
    "                    validation_data=(X_test, y_test),\n",
    "                    epochs=100, batch_size=4,\n",
    "                    verbose=2, callbacks=[model_checkpoint_callback])\n",
    "\n",
    "print(\"Mean squared error is \" + str(mean_squared_error(y_test, model.predict(X_test))**(1/2)))"
   ]
  },
  {
   "cell_type": "code",
   "execution_count": null,
   "metadata": {},
   "outputs": [],
   "source": [
    "model.summary()"
   ]
  },
  {
   "cell_type": "code",
   "execution_count": null,
   "metadata": {},
   "outputs": [],
   "source": [
    "from sklearn.pipeline import make_pipeline\n",
    "pipe = make_pipeline(model)\n",
    "pipe.fit(X_train, y_train)"
   ]
  },
  {
   "cell_type": "code",
   "execution_count": null,
   "metadata": {},
   "outputs": [],
   "source": [
    "df.columns"
   ]
  },
  {
   "cell_type": "code",
   "execution_count": null,
   "metadata": {},
   "outputs": [],
   "source": [
    "feb_18 = pd.DataFrame({\n",
    "    'last_draw': [46],\n",
    "    \"two\":[48],\n",
    "    \"three\":[43],\n",
    "    \"four\":[46],\n",
    "    \"five\":[48],\n",
    "    \"six\":[42],\n",
    "    \"seven\":[47],\n",
    "    \"eight\":[49],\n",
    "    \"nine\":[48],\n",
    "    \"ten\":[40],\n",
    "    \"eleven\":[47],\n",
    "    \"twelve\":[47],\n",
    "    \"thirteen\":[45],\n",
    "    \"fourteen\":[46],\n",
    "    \"fifteen\":[44]}\n",
    ")"
   ]
  },
  {
   "cell_type": "code",
   "execution_count": null,
   "metadata": {},
   "outputs": [],
   "source": [
    "pipe.predict(feb_18)"
   ]
  }
 ],
 "metadata": {
  "kernelspec": {
   "display_name": "Python 3",
   "language": "python",
   "name": "python3"
  },
  "language_info": {
   "codemirror_mode": {
    "name": "ipython",
    "version": 3
   },
   "file_extension": ".py",
   "mimetype": "text/x-python",
   "name": "python",
   "nbconvert_exporter": "python",
   "pygments_lexer": "ipython3",
   "version": "3.7.4"
  }
 },
 "nbformat": 4,
 "nbformat_minor": 2
}
