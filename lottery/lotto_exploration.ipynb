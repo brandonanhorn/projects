{
 "cells": [
  {
   "cell_type": "code",
   "execution_count": 1,
   "metadata": {},
   "outputs": [],
   "source": [
    "import pandas as pd"
   ]
  },
  {
   "cell_type": "code",
   "execution_count": 133,
   "metadata": {},
   "outputs": [],
   "source": [
    "df = pd.read_csv(\"data/long_columns_df\")\n",
    "df_1 = pd.read_csv(\"data/clean_lotto_max_data.csv\")"
   ]
  },
  {
   "cell_type": "code",
   "execution_count": 127,
   "metadata": {},
   "outputs": [
    {
     "data": {
      "text/plain": [
       "2     606\n",
       "24    600\n",
       "39    596\n",
       "11    595\n",
       "9     595\n",
       "12    590\n",
       "20    589\n",
       "22    584\n",
       "3     583\n",
       "48    581\n",
       "18    579\n",
       "4     579\n",
       "6     577\n",
       "44    575\n",
       "8     575\n",
       "15    575\n",
       "19    573\n",
       "16    573\n",
       "32    569\n",
       "7     569\n",
       "5     565\n",
       "28    564\n",
       "49    562\n",
       "17    562\n",
       "37    562\n",
       "10    561\n",
       "33    560\n",
       "21    559\n",
       "47    557\n",
       "23    557\n",
       "45    556\n",
       "42    556\n",
       "36    555\n",
       "34    554\n",
       "35    553\n",
       "30    553\n",
       "38    551\n",
       "41    550\n",
       "25    548\n",
       "40    546\n",
       "13    545\n",
       "27    544\n",
       "14    543\n",
       "43    541\n",
       "31    539\n",
       "46    536\n",
       "29    530\n",
       "26    529\n",
       "1     526\n",
       "50     93\n",
       "Name: past_numbers, dtype: int64"
      ]
     },
     "execution_count": 127,
     "metadata": {},
     "output_type": "execute_result"
    }
   ],
   "source": [
    "df_1[\"past_numbers\"].value_counts()"
   ]
  },
  {
   "cell_type": "code",
   "execution_count": 130,
   "metadata": {},
   "outputs": [],
   "source": [
    "#dfs = []\n",
    "#def some_function():\n",
    "#    for i in range(7, 27720, 7):\n",
    "#        dfs.append(\"df\"+\"['shift\"+str(i)+\"']\" + \" = \" + \"df\"+\"['past_numbers'\" + \"]\" +\".shift(\" +str(i) + \")\" )\n",
    "        \n",
    "#some_function()\n",
    "\n",
    "#for i in dfs:\n",
    "#    print(i)\n",
    "\n",
    "#df = df.dropna()\n",
    "\n",
    "#df.to_csv(\"data/lotto_max_all_columns.csv\")"
   ]
  },
  {
   "cell_type": "code",
   "execution_count": 138,
   "metadata": {},
   "outputs": [
    {
     "data": {
      "text/plain": [
       "7"
      ]
     },
     "execution_count": 138,
     "metadata": {},
     "output_type": "execute_result"
    }
   ],
   "source": [
    "len(df)"
   ]
  },
  {
   "cell_type": "code",
   "execution_count": 144,
   "metadata": {},
   "outputs": [
    {
     "data": {
      "text/plain": [
       "27713    43.813131\n",
       "27714    37.421970\n",
       "27715    31.185859\n",
       "27716    24.883838\n",
       "27717    18.626263\n",
       "27718    12.395202\n",
       "27719     6.132828\n",
       "dtype: float64"
      ]
     },
     "execution_count": 144,
     "metadata": {},
     "output_type": "execute_result"
    }
   ],
   "source": [
    "df.mean(axis=1)"
   ]
  },
  {
   "cell_type": "code",
   "execution_count": 145,
   "metadata": {},
   "outputs": [
    {
     "data": {
      "text/html": [
       "<div>\n",
       "<style scoped>\n",
       "    .dataframe tbody tr th:only-of-type {\n",
       "        vertical-align: middle;\n",
       "    }\n",
       "\n",
       "    .dataframe tbody tr th {\n",
       "        vertical-align: top;\n",
       "    }\n",
       "\n",
       "    .dataframe thead th {\n",
       "        text-align: right;\n",
       "    }\n",
       "</style>\n",
       "<table border=\"1\" class=\"dataframe\">\n",
       "  <thead>\n",
       "    <tr style=\"text-align: right;\">\n",
       "      <th></th>\n",
       "      <th>0</th>\n",
       "    </tr>\n",
       "  </thead>\n",
       "  <tbody>\n",
       "    <tr>\n",
       "      <td>27713</td>\n",
       "      <td>49.0</td>\n",
       "    </tr>\n",
       "    <tr>\n",
       "      <td>27714</td>\n",
       "      <td>44.0</td>\n",
       "    </tr>\n",
       "    <tr>\n",
       "      <td>27715</td>\n",
       "      <td>32.0</td>\n",
       "    </tr>\n",
       "    <tr>\n",
       "      <td>27716</td>\n",
       "      <td>25.0</td>\n",
       "    </tr>\n",
       "    <tr>\n",
       "      <td>27717</td>\n",
       "      <td>15.0</td>\n",
       "    </tr>\n",
       "    <tr>\n",
       "      <td>27718</td>\n",
       "      <td>9.0</td>\n",
       "    </tr>\n",
       "    <tr>\n",
       "      <td>27719</td>\n",
       "      <td>2.0</td>\n",
       "    </tr>\n",
       "  </tbody>\n",
       "</table>\n",
       "</div>"
      ],
      "text/plain": [
       "          0\n",
       "27713  49.0\n",
       "27714  44.0\n",
       "27715  32.0\n",
       "27716  25.0\n",
       "27717  15.0\n",
       "27718   9.0\n",
       "27719   2.0"
      ]
     },
     "execution_count": 145,
     "metadata": {},
     "output_type": "execute_result"
    }
   ],
   "source": [
    "df.mode(axis=1)"
   ]
  }
 ],
 "metadata": {
  "kernelspec": {
   "display_name": "Python 3",
   "language": "python",
   "name": "python3"
  },
  "language_info": {
   "codemirror_mode": {
    "name": "ipython",
    "version": 3
   },
   "file_extension": ".py",
   "mimetype": "text/x-python",
   "name": "python",
   "nbconvert_exporter": "python",
   "pygments_lexer": "ipython3",
   "version": "3.7.4"
  }
 },
 "nbformat": 4,
 "nbformat_minor": 2
}
