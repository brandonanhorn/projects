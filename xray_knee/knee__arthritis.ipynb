{
  "nbformat": 4,
  "nbformat_minor": 0,
  "metadata": {
    "colab": {
      "name": "knee_ arthritis.ipynb",
      "provenance": [],
      "collapsed_sections": []
    },
    "kernelspec": {
      "name": "python3",
      "display_name": "Python 3"
    },
    "language_info": {
      "name": "python"
    }
  },
  "cells": [
    {
      "cell_type": "code",
      "metadata": {
        "id": "1QqhcPnUmv33"
      },
      "source": [
        "import os\n",
        "import pandas as pd\n",
        "import numpy as np\n",
        "\n",
        "from tqdm import tqdm\n",
        "\n",
        "from sklearn.preprocessing import LabelBinarizer\n",
        "from sklearn.model_selection import train_test_split\n",
        "\n",
        "import tensorflow as tf\n",
        "import keras\n",
        "from keras.models import Sequential\n",
        "from keras.layers import Dense, Dropout, Flatten\n",
        "from keras.layers import Conv2D, MaxPool2D\n",
        "from keras.utils import to_categorical\n",
        "from keras.preprocessing import image\n",
        "from keras.preprocessing.image import ImageDataGenerator\n",
        "from keras.utils import to_categorical\n",
        "\n",
        "from keras.callbacks import ModelCheckpoint, EarlyStopping, ReduceLROnPlateau\n",
        "\n",
        "import cv2\n",
        "import os"
      ],
      "execution_count": 1,
      "outputs": []
    },
    {
      "cell_type": "code",
      "metadata": {
        "colab": {
          "base_uri": "https://localhost:8080/"
        },
        "id": "vaeZ4UHhm9En",
        "outputId": "53057e66-697e-440a-d0e6-ac22ba86b62a"
      },
      "source": [
        "from google.colab import drive\n",
        "drive.mount('/content/gdrive')"
      ],
      "execution_count": 2,
      "outputs": [
        {
          "output_type": "stream",
          "text": [
            "Drive already mounted at /content/gdrive; to attempt to forcibly remount, call drive.mount(\"/content/gdrive\", force_remount=True).\n"
          ],
          "name": "stdout"
        }
      ]
    },
    {
      "cell_type": "code",
      "metadata": {
        "id": "FXubOs6gnHHP"
      },
      "source": [
        "labels = [\"0\",\"1\",\"2\",\"3\",\"4\"]\n",
        "img_size = 128\n",
        "def get_data(data_dir):\n",
        "    data = [] \n",
        "    for label in labels: \n",
        "        path = os.path.join(data_dir, label)\n",
        "        class_num = labels.index(label)\n",
        "        for img in tqdm(os.listdir(path)):\n",
        "            try:\n",
        "                img_arr = cv2.imread(os.path.join(path, img))[...,::-1]\n",
        "                resized_arr = cv2.resize(img_arr, (img_size, img_size))\n",
        "                data.append([resized_arr, class_num])\n",
        "            except Exception as e:\n",
        "                print(e)\n",
        "    return np.array(data)"
      ],
      "execution_count": 3,
      "outputs": []
    },
    {
      "cell_type": "code",
      "metadata": {
        "colab": {
          "base_uri": "https://localhost:8080/"
        },
        "id": "i8WL_s5en6R7",
        "outputId": "d93dcb99-3b34-4ae7-c915-03d4af843906"
      },
      "source": [
        "images_data = get_data(\"gdrive/My Drive/knee_data/images\")"
      ],
      "execution_count": 4,
      "outputs": [
        {
          "output_type": "stream",
          "text": [
            "100%|██████████| 3857/3857 [00:17<00:00, 216.65it/s]\n",
            "100%|██████████| 1770/1770 [00:08<00:00, 218.58it/s]\n",
            "100%|██████████| 2578/2578 [00:11<00:00, 217.29it/s]\n",
            "100%|██████████| 1286/1286 [00:05<00:00, 218.46it/s]\n",
            "100%|██████████| 295/295 [00:01<00:00, 211.67it/s]\n",
            "/usr/local/lib/python3.7/dist-packages/ipykernel_launcher.py:15: VisibleDeprecationWarning: Creating an ndarray from ragged nested sequences (which is a list-or-tuple of lists-or-tuples-or ndarrays with different lengths or shapes) is deprecated. If you meant to do this, you must specify 'dtype=object' when creating the ndarray\n",
            "  from ipykernel import kernelapp as app\n"
          ],
          "name": "stderr"
        }
      ]
    },
    {
      "cell_type": "code",
      "metadata": {
        "id": "sESVdl-AoIkK"
      },
      "source": [
        "X = []\n",
        "y = []\n",
        "for feature, label in images_data:\n",
        "  X.append(feature)\n",
        "  y.append(label)"
      ],
      "execution_count": 5,
      "outputs": []
    },
    {
      "cell_type": "code",
      "metadata": {
        "id": "UD1pt0xQ1-LP"
      },
      "source": [
        "X = np.array(X) / 255"
      ],
      "execution_count": 6,
      "outputs": []
    },
    {
      "cell_type": "code",
      "metadata": {
        "id": "dKWZmzjF2ADf"
      },
      "source": [
        "X.reshape(-1, img_size, img_size, 1)\n",
        "y = np.array(y)"
      ],
      "execution_count": 7,
      "outputs": []
    },
    {
      "cell_type": "code",
      "metadata": {
        "id": "2NwB2cgd2B1P"
      },
      "source": [
        "X_train, X_test, y_train, y_test = train_test_split(X, y, random_state=13)"
      ],
      "execution_count": 8,
      "outputs": []
    },
    {
      "cell_type": "code",
      "metadata": {
        "colab": {
          "base_uri": "https://localhost:8080/"
        },
        "id": "JtWXJc1a2EbP",
        "outputId": "f6fd9654-3c0f-4498-c9fd-fbd483cf5be4"
      },
      "source": [
        "X_train.shape"
      ],
      "execution_count": 9,
      "outputs": [
        {
          "output_type": "execute_result",
          "data": {
            "text/plain": [
              "(7339, 128, 128, 3)"
            ]
          },
          "metadata": {
            "tags": []
          },
          "execution_count": 9
        }
      ]
    },
    {
      "cell_type": "code",
      "metadata": {
        "colab": {
          "base_uri": "https://localhost:8080/"
        },
        "id": "C3r6HtoE2GK-",
        "outputId": "cab09ba8-350e-4228-e174-9d7acc99a70e"
      },
      "source": [
        "X_test.shape"
      ],
      "execution_count": 10,
      "outputs": [
        {
          "output_type": "execute_result",
          "data": {
            "text/plain": [
              "(2447, 128, 128, 3)"
            ]
          },
          "metadata": {
            "tags": []
          },
          "execution_count": 10
        }
      ]
    },
    {
      "cell_type": "code",
      "metadata": {
        "id": "ToIw8k062IjN"
      },
      "source": [
        "datagen = ImageDataGenerator(\n",
        "        featurewise_center=False,  # set input mean to 0 over the dataset\n",
        "        samplewise_center=False,  # set each sample mean to 0\n",
        "        featurewise_std_normalization=False,  # divide inputs by std of the dataset\n",
        "        samplewise_std_normalization=False,  # divide each input by its std\n",
        "        zca_whitening=False,  # apply ZCA whitening\n",
        "        rotation_range = 30,  # randomly rotate images in the range (degrees, 0 to 180)\n",
        "        zoom_range = 0.2, # Randomly zoom image \n",
        "        width_shift_range=0.1,  # randomly shift images horizontally (fraction of total width)\n",
        "        height_shift_range=0.1,  # randomly shift images vertically (fraction of total height)\n",
        "        horizontal_flip = True,  # randomly flip images\n",
        "        vertical_flip=False)  # randomly flip images\n",
        "\n",
        "\n",
        "datagen.fit(X_train)"
      ],
      "execution_count": 11,
      "outputs": []
    },
    {
      "cell_type": "code",
      "metadata": {
        "colab": {
          "base_uri": "https://localhost:8080/"
        },
        "id": "S6XXRQU12OUn",
        "outputId": "69447107-5b8c-411b-ab55-41e5a050f6f1"
      },
      "source": [
        "model = Sequential()\n",
        "model.add(Conv2D(32,3,padding=\"same\", activation=\"relu\", input_shape=(128,128,3)))\n",
        "model.add(MaxPool2D())\n",
        "\n",
        "model.add(Conv2D(32, 3, padding=\"same\", activation=\"relu\"))\n",
        "model.add(MaxPool2D())\n",
        "\n",
        "model.add(Conv2D(32, 3, padding=\"same\", activation=\"elu\"))\n",
        "model.add(MaxPool2D())\n",
        "\n",
        "model.add(Conv2D(64, 3, padding=\"same\", activation=\"elu\"))\n",
        "model.add(MaxPool2D())\n",
        "model.add(Dropout(0.4))\n",
        "\n",
        "model.add(Flatten())\n",
        "model.add(Dense(64,activation=\"relu\"))\n",
        "model.add(Dense(5, activation=\"softmax\"))\n",
        "\n",
        "model.summary()"
      ],
      "execution_count": 12,
      "outputs": [
        {
          "output_type": "stream",
          "text": [
            "Model: \"sequential\"\n",
            "_________________________________________________________________\n",
            "Layer (type)                 Output Shape              Param #   \n",
            "=================================================================\n",
            "conv2d (Conv2D)              (None, 128, 128, 32)      896       \n",
            "_________________________________________________________________\n",
            "max_pooling2d (MaxPooling2D) (None, 64, 64, 32)        0         \n",
            "_________________________________________________________________\n",
            "conv2d_1 (Conv2D)            (None, 64, 64, 32)        9248      \n",
            "_________________________________________________________________\n",
            "max_pooling2d_1 (MaxPooling2 (None, 32, 32, 32)        0         \n",
            "_________________________________________________________________\n",
            "conv2d_2 (Conv2D)            (None, 32, 32, 32)        9248      \n",
            "_________________________________________________________________\n",
            "max_pooling2d_2 (MaxPooling2 (None, 16, 16, 32)        0         \n",
            "_________________________________________________________________\n",
            "conv2d_3 (Conv2D)            (None, 16, 16, 64)        18496     \n",
            "_________________________________________________________________\n",
            "max_pooling2d_3 (MaxPooling2 (None, 8, 8, 64)          0         \n",
            "_________________________________________________________________\n",
            "dropout (Dropout)            (None, 8, 8, 64)          0         \n",
            "_________________________________________________________________\n",
            "flatten (Flatten)            (None, 4096)              0         \n",
            "_________________________________________________________________\n",
            "dense (Dense)                (None, 64)                262208    \n",
            "_________________________________________________________________\n",
            "dense_1 (Dense)              (None, 5)                 325       \n",
            "=================================================================\n",
            "Total params: 300,421\n",
            "Trainable params: 300,421\n",
            "Non-trainable params: 0\n",
            "_________________________________________________________________\n"
          ],
          "name": "stdout"
        }
      ]
    },
    {
      "cell_type": "code",
      "metadata": {
        "id": "51hVRHeB2fMk"
      },
      "source": [
        "model.compile(optimizer = \"adam\" , loss = tf.keras.losses.SparseCategoricalCrossentropy(from_logits=True) , metrics = ['accuracy'])"
      ],
      "execution_count": 13,
      "outputs": []
    },
    {
      "cell_type": "code",
      "metadata": {
        "id": "Jd_unpmA2ibr"
      },
      "source": [
        "early_stop = EarlyStopping(monitor='val_loss', patience=10, verbose=0, mode='min')\n",
        "mcp_save = ModelCheckpoint('gdrive/My Drive/knee_data/image/callback_model.h5', save_best_only=True, monitor='val_loss', mode='min')"
      ],
      "execution_count": 14,
      "outputs": []
    },
    {
      "cell_type": "code",
      "metadata": {
        "colab": {
          "base_uri": "https://localhost:8080/"
        },
        "id": "k5FyZOrq2oiK",
        "outputId": "34462a16-5a43-41b7-ee4a-1b25bf6301b3"
      },
      "source": [
        "history = model.fit(X_train, y_train,\n",
        "                   validation_data=(X_test, y_test),\n",
        "                   epochs=40, batch_size=32,\n",
        "                   verbose=2, callbacks=[early_stop, mcp_save])"
      ],
      "execution_count": 15,
      "outputs": [
        {
          "output_type": "stream",
          "text": [
            "Epoch 1/40\n",
            "230/230 - 135s - loss: 1.4197 - accuracy: 0.3795 - val_loss: 1.4122 - val_accuracy: 0.3919\n",
            "Epoch 2/40\n",
            "230/230 - 131s - loss: 1.4060 - accuracy: 0.3834 - val_loss: 1.4033 - val_accuracy: 0.3952\n",
            "Epoch 3/40\n",
            "230/230 - 131s - loss: 1.3982 - accuracy: 0.3905 - val_loss: 1.3969 - val_accuracy: 0.3952\n",
            "Epoch 4/40\n",
            "230/230 - 130s - loss: 1.3836 - accuracy: 0.4081 - val_loss: 1.3804 - val_accuracy: 0.4054\n",
            "Epoch 5/40\n",
            "230/230 - 130s - loss: 1.3700 - accuracy: 0.4137 - val_loss: 1.3407 - val_accuracy: 0.4205\n",
            "Epoch 6/40\n",
            "230/230 - 130s - loss: 1.3448 - accuracy: 0.4180 - val_loss: 1.2928 - val_accuracy: 0.4377\n",
            "Epoch 7/40\n",
            "230/230 - 130s - loss: 1.2421 - accuracy: 0.4596 - val_loss: 1.2362 - val_accuracy: 0.4659\n",
            "Epoch 8/40\n",
            "230/230 - 130s - loss: 1.1732 - accuracy: 0.4886 - val_loss: 1.1191 - val_accuracy: 0.5149\n",
            "Epoch 9/40\n",
            "230/230 - 130s - loss: 1.1218 - accuracy: 0.5123 - val_loss: 1.0900 - val_accuracy: 0.5268\n",
            "Epoch 10/40\n",
            "230/230 - 130s - loss: 1.0716 - accuracy: 0.5367 - val_loss: 1.0892 - val_accuracy: 0.5227\n",
            "Epoch 11/40\n",
            "230/230 - 129s - loss: 1.0501 - accuracy: 0.5453 - val_loss: 1.0588 - val_accuracy: 0.5468\n",
            "Epoch 12/40\n",
            "230/230 - 130s - loss: 1.0154 - accuracy: 0.5677 - val_loss: 1.0465 - val_accuracy: 0.5488\n",
            "Epoch 13/40\n",
            "230/230 - 130s - loss: 0.9798 - accuracy: 0.5784 - val_loss: 1.0375 - val_accuracy: 0.5492\n",
            "Epoch 14/40\n",
            "230/230 - 130s - loss: 0.9527 - accuracy: 0.5935 - val_loss: 1.0350 - val_accuracy: 0.5656\n",
            "Epoch 15/40\n",
            "230/230 - 130s - loss: 0.9294 - accuracy: 0.6028 - val_loss: 1.0143 - val_accuracy: 0.5615\n",
            "Epoch 16/40\n",
            "230/230 - 130s - loss: 0.8908 - accuracy: 0.6228 - val_loss: 1.0509 - val_accuracy: 0.5562\n",
            "Epoch 17/40\n",
            "230/230 - 129s - loss: 0.8609 - accuracy: 0.6261 - val_loss: 1.0221 - val_accuracy: 0.5586\n",
            "Epoch 18/40\n",
            "230/230 - 130s - loss: 0.8134 - accuracy: 0.6539 - val_loss: 1.0239 - val_accuracy: 0.5709\n",
            "Epoch 19/40\n",
            "230/230 - 130s - loss: 0.7841 - accuracy: 0.6758 - val_loss: 1.0517 - val_accuracy: 0.5823\n",
            "Epoch 20/40\n",
            "230/230 - 130s - loss: 0.7516 - accuracy: 0.6854 - val_loss: 1.0743 - val_accuracy: 0.5582\n",
            "Epoch 21/40\n",
            "230/230 - 130s - loss: 0.7195 - accuracy: 0.7008 - val_loss: 1.0397 - val_accuracy: 0.5701\n",
            "Epoch 22/40\n",
            "230/230 - 130s - loss: 0.6727 - accuracy: 0.7174 - val_loss: 1.0451 - val_accuracy: 0.5750\n",
            "Epoch 23/40\n",
            "230/230 - 130s - loss: 0.6444 - accuracy: 0.7365 - val_loss: 1.0936 - val_accuracy: 0.5738\n",
            "Epoch 24/40\n",
            "230/230 - 130s - loss: 0.6064 - accuracy: 0.7526 - val_loss: 1.1112 - val_accuracy: 0.5627\n",
            "Epoch 25/40\n",
            "230/230 - 130s - loss: 0.5726 - accuracy: 0.7636 - val_loss: 1.1338 - val_accuracy: 0.5787\n"
          ],
          "name": "stdout"
        }
      ]
    },
    {
      "cell_type": "code",
      "metadata": {
        "id": "9Y5fL8u22q7a"
      },
      "source": [
        ""
      ],
      "execution_count": 15,
      "outputs": []
    }
  ]
}