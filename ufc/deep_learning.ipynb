{
  "nbformat": 4,
  "nbformat_minor": 0,
  "metadata": {
    "colab": {
      "name": "deep_learning.ipynb",
      "provenance": [],
      "collapsed_sections": []
    },
    "kernelspec": {
      "name": "python3",
      "display_name": "Python 3"
    }
  },
  "cells": [
    {
      "cell_type": "code",
      "metadata": {
        "colab": {
          "base_uri": "https://localhost:8080/"
        },
        "id": "iy7LciTOIDIT",
        "outputId": "1220a061-f266-40db-d61d-78962cc546af"
      },
      "source": [
        "from google.colab import drive\n",
        "drive.mount('/content/gdrive')"
      ],
      "execution_count": 1,
      "outputs": [
        {
          "output_type": "stream",
          "text": [
            "Mounted at /content/gdrive\n"
          ],
          "name": "stdout"
        }
      ]
    },
    {
      "cell_type": "code",
      "metadata": {
        "id": "FfN-KbMTIFdv"
      },
      "source": [
        "import pandas as pd"
      ],
      "execution_count": 2,
      "outputs": []
    },
    {
      "cell_type": "code",
      "metadata": {
        "id": "VN4GZGyfIUqk"
      },
      "source": [
        "df = pd.read_csv('gdrive/My Drive/Colab Notebooks/data/data.csv')"
      ],
      "execution_count": 3,
      "outputs": []
    },
    {
      "cell_type": "code",
      "metadata": {
        "id": "ca20Z4sXIWcb"
      },
      "source": [
        "df.columns = map(str.lower, df.columns)"
      ],
      "execution_count": 4,
      "outputs": []
    },
    {
      "cell_type": "code",
      "metadata": {
        "id": "dS7SLcS0IY4S"
      },
      "source": [
        "df = df.dropna()"
      ],
      "execution_count": 5,
      "outputs": []
    },
    {
      "cell_type": "code",
      "metadata": {
        "id": "EW1YS1fnIaiE"
      },
      "source": [
        "from sklearn.preprocessing import LabelBinarizer, StandardScaler\n",
        "from sklearn.model_selection import train_test_split\n",
        "from sklearn_pandas import DataFrameMapper\n",
        "\n",
        "import tensorflow as tf\n",
        "from tensorflow import keras\n",
        "\n",
        "from tensorflow.keras.models import Sequential\n",
        "from tensorflow.keras.layers import Dense, Input, Dropout\n",
        "from tensorflow.keras.utils import to_categorical"
      ],
      "execution_count": 6,
      "outputs": []
    },
    {
      "cell_type": "code",
      "metadata": {
        "id": "m5Wozb6SI9Wl"
      },
      "source": [
        "target = \"winner\"\n",
        "X = df.drop(target, axis=1)\n",
        "y = df[target]"
      ],
      "execution_count": 7,
      "outputs": []
    },
    {
      "cell_type": "code",
      "metadata": {
        "id": "eknBhSx_JCmM"
      },
      "source": [
        "X_train, X_test, y_train, y_test = train_test_split(X, y)"
      ],
      "execution_count": 8,
      "outputs": []
    },
    {
      "cell_type": "code",
      "metadata": {
        "id": "pumy3y5WJEc8"
      },
      "source": [
        "lb = LabelBinarizer()\n",
        "y_train = lb.fit_transform(y_train)\n",
        "y_test = lb.transform(y_test)"
      ],
      "execution_count": 9,
      "outputs": []
    },
    {
      "cell_type": "code",
      "metadata": {
        "id": "mctBkfksJadR"
      },
      "source": [
        "mapper = DataFrameMapper([\n",
        "    ('r_fighter', LabelBinarizer()),\n",
        "    ('b_fighter', LabelBinarizer()),\n",
        "    ('referee', LabelBinarizer()),\n",
        "    ('location', LabelBinarizer()),\n",
        "    (['b_current_lose_streak'], StandardScaler()),\n",
        "    (['b_current_win_streak'], StandardScaler()),\n",
        "    (['b_avg_body_landed'], StandardScaler()),\n",
        "    (['b_avg_clinch_landed'], StandardScaler()),\n",
        "    (['b_avg_ground_landed'], StandardScaler()),\n",
        "    (['b_avg_head_landed'], StandardScaler()),\n",
        "    (['b_avg_leg_landed'], StandardScaler()),\n",
        "    (['b_avg_td_landed'], StandardScaler()),\n",
        "    (['b_longest_win_streak'], StandardScaler()),\n",
        "    (['b_losses'], StandardScaler()),\n",
        "    (['b_avg_opp_body_landed'], StandardScaler()),\n",
        "    (['b_avg_opp_clinch_landed'], StandardScaler()),\n",
        "    (['b_avg_opp_ground_landed'], StandardScaler()),\n",
        "    (['b_avg_opp_head_landed'], StandardScaler()),\n",
        "    (['b_avg_opp_leg_landed'], StandardScaler()),\n",
        "    (['b_avg_opp_td_landed'], StandardScaler()),    \n",
        "    (['b_total_rounds_fought'], StandardScaler()),    \n",
        "    (['b_win_by_decision_majority'], StandardScaler()),    \n",
        "    (['b_win_by_decision_split'], StandardScaler()),    \n",
        "    (['b_win_by_decision_unanimous'], StandardScaler()),    \n",
        "    (['b_win_by_ko/tko'], StandardScaler()),    \n",
        "    (['b_win_by_submission'], StandardScaler()),    \n",
        "    (['b_win_by_tko_doctor_stoppage'], StandardScaler()),\n",
        "    (['b_wins'], StandardScaler()),\n",
        "    ('b_stance', LabelBinarizer()),\n",
        "    (['b_height_cms'], StandardScaler()),\n",
        "    (['b_reach_cms'], StandardScaler()),\n",
        "    (['b_weight_lbs'], StandardScaler()),\n",
        "    (['r_current_lose_streak'], StandardScaler()),\n",
        "    (['r_current_win_streak'], StandardScaler()),\n",
        "    (['r_draw'], StandardScaler()),\n",
        "    (['r_avg_body_landed'], StandardScaler()),\n",
        "    (['r_avg_clinch_landed'], StandardScaler()),\n",
        "    (['r_avg_ground_landed'], StandardScaler()),\n",
        "    (['r_avg_head_landed'], StandardScaler()),\n",
        "    (['r_avg_leg_landed'], StandardScaler()),\n",
        "    (['r_avg_td_landed'], StandardScaler()),\n",
        "    (['r_longest_win_streak'], StandardScaler()),\n",
        "    (['r_losses'], StandardScaler()),\n",
        "    (['r_avg_opp_body_landed'], StandardScaler()),\n",
        "    (['r_avg_opp_clinch_landed'], StandardScaler()),\n",
        "    (['r_avg_opp_distance_landed'], StandardScaler()),\n",
        "    (['r_avg_opp_head_landed'], StandardScaler()),\n",
        "    (['r_avg_opp_leg_landed'], StandardScaler()),\n",
        "    (['r_avg_opp_td_landed'], StandardScaler()),    \n",
        "    (['r_total_rounds_fought'], StandardScaler()),    \n",
        "    (['r_win_by_decision_majority'], StandardScaler()),    \n",
        "    (['r_win_by_decision_split'], StandardScaler()),    \n",
        "    (['r_win_by_decision_unanimous'], StandardScaler()),    \n",
        "    (['r_win_by_ko/tko'], StandardScaler()),    \n",
        "    (['r_win_by_submission'], StandardScaler()),    \n",
        "    (['r_win_by_tko_doctor_stoppage'], StandardScaler()),\n",
        "    (['r_wins'], StandardScaler()),\n",
        "    ('r_stance', LabelBinarizer()),\n",
        "    (['r_height_cms'], StandardScaler()),\n",
        "    (['r_reach_cms'], StandardScaler()),\n",
        "    (['r_weight_lbs'], StandardScaler()),\n",
        "    (['b_age'], StandardScaler()),\n",
        "    (['r_age'], StandardScaler())],df_out=True)"
      ],
      "execution_count": 10,
      "outputs": []
    },
    {
      "cell_type": "code",
      "metadata": {
        "id": "swCS1ZyqJp48"
      },
      "source": [
        "Z_train = mapper.fit_transform(X_train)\n",
        "Z_test = mapper.transform(X_test)"
      ],
      "execution_count": 11,
      "outputs": []
    },
    {
      "cell_type": "code",
      "metadata": {
        "id": "gieyD2ZtJwZN"
      },
      "source": [
        "model = Sequential([\n",
        "    Input(shape=(Z_train.shape[1],)),\n",
        "    Dense(50, activation='relu'),\n",
        "    Dense(25, activation='relu'),\n",
        "    Dense(15, activation='relu'),\n",
        "    Dense(8, activation='relu'),\n",
        "    Dense(1, activation='relu')\n",
        "])"
      ],
      "execution_count": 15,
      "outputs": []
    },
    {
      "cell_type": "code",
      "metadata": {
        "id": "8R4O3OTw0pGf"
      },
      "source": [
        "model = Sequential([\n",
        "    Input(shape=(Z_train.shape[1],)),\n",
        "    Dense(50, activation='elu'),\n",
        "    Dense(25, activation='elu'),\n",
        "    Dense(15, activation='elu'),\n",
        "    Dense(8, activation='elu'),\n",
        "    Dense(1, activation='elu')\n",
        "])"
      ],
      "execution_count": 18,
      "outputs": []
    },
    {
      "cell_type": "code",
      "metadata": {
        "id": "zRe20iww2tDQ"
      },
      "source": [
        "model = Sequential([\n",
        "    Input(shape=(Z_train.shape[1],)),\n",
        "    Dense(50, activation='selu'),\n",
        "    Dense(25, activation='selu'),\n",
        "    Dense(15, activation='selu'),\n",
        "    Dense(8, activation='selu'),\n",
        "    Dense(1, activation='selu')\n",
        "])"
      ],
      "execution_count": 21,
      "outputs": []
    },
    {
      "cell_type": "code",
      "metadata": {
        "id": "QIa82ECO3WOd"
      },
      "source": [
        "model = Sequential([\n",
        "    Input(shape=(Z_train.shape[1],)),\n",
        "    Dense(50, activation='exponential'),\n",
        "    Dense(25, activation='exponential'),\n",
        "    Dense(15, activation='exponential'),\n",
        "    Dense(8, activation='exponential'),\n",
        "    Dense(1, activation='exponential')\n",
        "])"
      ],
      "execution_count": 27,
      "outputs": []
    },
    {
      "cell_type": "code",
      "metadata": {
        "id": "ABVeXqbu36ov"
      },
      "source": [
        "model = Sequential([\n",
        "    Input(shape=(Z_train.shape[1],)),\n",
        "    Dense(50, activation='tanh'),\n",
        "    Dense(25, activation='tanh'),\n",
        "    Dense(15, activation='tanh'),\n",
        "    Dense(8, activation='tanh'),\n",
        "    Dense(1, activation='tanh')\n",
        "])"
      ],
      "execution_count": 30,
      "outputs": []
    },
    {
      "cell_type": "code",
      "metadata": {
        "id": "FoRy3eSZ4g0L"
      },
      "source": [
        "model = Sequential([\n",
        "    Input(shape=(Z_train.shape[1],)),\n",
        "    Dense(100, activation='swish'),\n",
        "    Dense(50, activation='swish'),\n",
        "    Dense(25, activation='swish'),\n",
        "    Dense(16, activation='swish'),\n",
        "    Dense(1, activation='swish')\n",
        "])"
      ],
      "execution_count": 12,
      "outputs": []
    },
    {
      "cell_type": "code",
      "metadata": {
        "id": "zMK9fNDrz7C7"
      },
      "source": [
        "model = Sequential([\n",
        "    Input(shape=(Z_train.shape[1],)),\n",
        "    Dense(100, activation='relu'),\n",
        "    Dense(50, activation='elu'),\n",
        "    Dense(25, activation='swish'),\n",
        "    Dense(16, activation='tanh'),\n",
        "    Dense(1, activation='elu')\n",
        "])"
      ],
      "execution_count": 15,
      "outputs": []
    },
    {
      "cell_type": "code",
      "metadata": {
        "id": "gMAMLJFPKCh8"
      },
      "source": [
        "model.compile(loss='binary_crossentropy', optimizer='rmsprop', metrics=[\"accuracy\"])"
      ],
      "execution_count": 16,
      "outputs": []
    },
    {
      "cell_type": "code",
      "metadata": {
        "colab": {
          "base_uri": "https://localhost:8080/"
        },
        "id": "y7kNW3rqKEg5",
        "outputId": "4232e0c3-e826-454e-cd18-5762951c9e12"
      },
      "source": [
        "history = model.fit(Z_train, y_train,\n",
        "                    validation_data=(Z_test, y_test),\n",
        "                    epochs=50, batch_size=8,\n",
        "                    verbose=2)"
      ],
      "execution_count": 17,
      "outputs": [
        {
          "output_type": "stream",
          "text": [
            "Epoch 1/50\n",
            "301/301 - 1s - loss: 0.6542 - accuracy: 0.6604 - val_loss: 0.6382 - val_accuracy: 0.6667\n",
            "Epoch 2/50\n",
            "301/301 - 1s - loss: 0.6375 - accuracy: 0.6667 - val_loss: 0.6372 - val_accuracy: 0.6667\n",
            "Epoch 3/50\n",
            "301/301 - 1s - loss: 0.6370 - accuracy: 0.6667 - val_loss: 0.6372 - val_accuracy: 0.6667\n",
            "Epoch 4/50\n",
            "301/301 - 1s - loss: 0.6368 - accuracy: 0.6667 - val_loss: 0.6366 - val_accuracy: 0.6667\n",
            "Epoch 5/50\n",
            "301/301 - 1s - loss: 0.6367 - accuracy: 0.6667 - val_loss: 0.6376 - val_accuracy: 0.6667\n",
            "Epoch 6/50\n",
            "301/301 - 1s - loss: 0.6367 - accuracy: 0.6667 - val_loss: 0.6367 - val_accuracy: 0.6667\n",
            "Epoch 7/50\n",
            "301/301 - 1s - loss: 0.6366 - accuracy: 0.6667 - val_loss: 0.6365 - val_accuracy: 0.6667\n",
            "Epoch 8/50\n",
            "301/301 - 1s - loss: 0.6366 - accuracy: 0.6667 - val_loss: 0.6367 - val_accuracy: 0.6667\n",
            "Epoch 9/50\n",
            "301/301 - 1s - loss: 0.6366 - accuracy: 0.6667 - val_loss: 0.6367 - val_accuracy: 0.6667\n",
            "Epoch 10/50\n",
            "301/301 - 1s - loss: 0.6366 - accuracy: 0.6667 - val_loss: 0.6366 - val_accuracy: 0.6667\n",
            "Epoch 11/50\n",
            "301/301 - 1s - loss: 0.6366 - accuracy: 0.6667 - val_loss: 0.6366 - val_accuracy: 0.6667\n",
            "Epoch 12/50\n",
            "301/301 - 1s - loss: 0.6366 - accuracy: 0.6667 - val_loss: 0.6366 - val_accuracy: 0.6667\n",
            "Epoch 13/50\n",
            "301/301 - 1s - loss: 0.6366 - accuracy: 0.6667 - val_loss: 0.6366 - val_accuracy: 0.6667\n",
            "Epoch 14/50\n",
            "301/301 - 1s - loss: 0.6366 - accuracy: 0.6667 - val_loss: 0.6366 - val_accuracy: 0.6667\n",
            "Epoch 15/50\n",
            "301/301 - 1s - loss: 0.6366 - accuracy: 0.6667 - val_loss: 0.6366 - val_accuracy: 0.6667\n",
            "Epoch 16/50\n",
            "301/301 - 1s - loss: 0.6366 - accuracy: 0.6667 - val_loss: 0.6366 - val_accuracy: 0.6667\n",
            "Epoch 17/50\n",
            "301/301 - 1s - loss: 0.6366 - accuracy: 0.6667 - val_loss: 0.6369 - val_accuracy: 0.6667\n",
            "Epoch 18/50\n",
            "301/301 - 1s - loss: 0.6366 - accuracy: 0.6667 - val_loss: 0.6366 - val_accuracy: 0.6667\n",
            "Epoch 19/50\n",
            "301/301 - 1s - loss: 0.6366 - accuracy: 0.6667 - val_loss: 0.6366 - val_accuracy: 0.6667\n",
            "Epoch 20/50\n",
            "301/301 - 1s - loss: 0.6366 - accuracy: 0.6667 - val_loss: 0.6367 - val_accuracy: 0.6667\n",
            "Epoch 21/50\n",
            "301/301 - 1s - loss: 0.6366 - accuracy: 0.6667 - val_loss: 0.6366 - val_accuracy: 0.6667\n",
            "Epoch 22/50\n",
            "301/301 - 1s - loss: 0.6366 - accuracy: 0.6667 - val_loss: 0.6366 - val_accuracy: 0.6667\n",
            "Epoch 23/50\n",
            "301/301 - 1s - loss: 0.6366 - accuracy: 0.6667 - val_loss: 0.6366 - val_accuracy: 0.6667\n",
            "Epoch 24/50\n",
            "301/301 - 1s - loss: 0.6366 - accuracy: 0.6667 - val_loss: 0.6366 - val_accuracy: 0.6667\n",
            "Epoch 25/50\n",
            "301/301 - 1s - loss: 0.6366 - accuracy: 0.6667 - val_loss: 0.6366 - val_accuracy: 0.6667\n",
            "Epoch 26/50\n",
            "301/301 - 1s - loss: 0.6366 - accuracy: 0.6667 - val_loss: 0.6365 - val_accuracy: 0.6667\n",
            "Epoch 27/50\n",
            "301/301 - 1s - loss: 0.6366 - accuracy: 0.6667 - val_loss: 0.6366 - val_accuracy: 0.6667\n",
            "Epoch 28/50\n",
            "301/301 - 1s - loss: 0.6366 - accuracy: 0.6667 - val_loss: 0.6366 - val_accuracy: 0.6667\n",
            "Epoch 29/50\n",
            "301/301 - 1s - loss: 0.6366 - accuracy: 0.6667 - val_loss: 0.6366 - val_accuracy: 0.6667\n",
            "Epoch 30/50\n",
            "301/301 - 1s - loss: 0.6366 - accuracy: 0.6667 - val_loss: 0.6366 - val_accuracy: 0.6667\n",
            "Epoch 31/50\n",
            "301/301 - 1s - loss: 0.6366 - accuracy: 0.6667 - val_loss: 0.6366 - val_accuracy: 0.6667\n",
            "Epoch 32/50\n",
            "301/301 - 1s - loss: 0.6366 - accuracy: 0.6667 - val_loss: 0.6366 - val_accuracy: 0.6667\n",
            "Epoch 33/50\n",
            "301/301 - 1s - loss: 0.6366 - accuracy: 0.6667 - val_loss: 0.6365 - val_accuracy: 0.6667\n",
            "Epoch 34/50\n",
            "301/301 - 1s - loss: 0.6366 - accuracy: 0.6667 - val_loss: 0.6366 - val_accuracy: 0.6667\n",
            "Epoch 35/50\n",
            "301/301 - 1s - loss: 0.6366 - accuracy: 0.6667 - val_loss: 0.6366 - val_accuracy: 0.6667\n",
            "Epoch 36/50\n",
            "301/301 - 1s - loss: 0.6366 - accuracy: 0.6667 - val_loss: 0.6366 - val_accuracy: 0.6667\n",
            "Epoch 37/50\n",
            "301/301 - 1s - loss: 0.6366 - accuracy: 0.6667 - val_loss: 0.6366 - val_accuracy: 0.6667\n",
            "Epoch 38/50\n",
            "301/301 - 1s - loss: 0.6366 - accuracy: 0.6667 - val_loss: 0.6367 - val_accuracy: 0.6667\n",
            "Epoch 39/50\n",
            "301/301 - 1s - loss: 0.6366 - accuracy: 0.6667 - val_loss: 0.6365 - val_accuracy: 0.6667\n",
            "Epoch 40/50\n",
            "301/301 - 1s - loss: 0.6366 - accuracy: 0.6667 - val_loss: 0.6365 - val_accuracy: 0.6667\n",
            "Epoch 41/50\n",
            "301/301 - 1s - loss: 0.6366 - accuracy: 0.6667 - val_loss: 0.6366 - val_accuracy: 0.6667\n",
            "Epoch 42/50\n",
            "301/301 - 1s - loss: 0.6366 - accuracy: 0.6667 - val_loss: 0.6366 - val_accuracy: 0.6667\n",
            "Epoch 43/50\n",
            "301/301 - 1s - loss: 0.6366 - accuracy: 0.6667 - val_loss: 0.6366 - val_accuracy: 0.6667\n",
            "Epoch 44/50\n",
            "301/301 - 1s - loss: 0.6366 - accuracy: 0.6667 - val_loss: 0.6365 - val_accuracy: 0.6667\n",
            "Epoch 45/50\n",
            "301/301 - 1s - loss: 0.6366 - accuracy: 0.6667 - val_loss: 0.6366 - val_accuracy: 0.6667\n",
            "Epoch 46/50\n",
            "301/301 - 1s - loss: 0.6366 - accuracy: 0.6667 - val_loss: 0.6366 - val_accuracy: 0.6667\n",
            "Epoch 47/50\n",
            "301/301 - 1s - loss: 0.6366 - accuracy: 0.6667 - val_loss: 0.6366 - val_accuracy: 0.6667\n",
            "Epoch 48/50\n",
            "301/301 - 1s - loss: 0.6366 - accuracy: 0.6667 - val_loss: 0.6366 - val_accuracy: 0.6667\n",
            "Epoch 49/50\n",
            "301/301 - 1s - loss: 0.6366 - accuracy: 0.6667 - val_loss: 0.6366 - val_accuracy: 0.6667\n",
            "Epoch 50/50\n",
            "301/301 - 1s - loss: 0.6366 - accuracy: 0.6667 - val_loss: 0.6366 - val_accuracy: 0.6667\n"
          ],
          "name": "stdout"
        }
      ]
    },
    {
      "cell_type": "code",
      "metadata": {
        "id": "3i-AkxQoKlie"
      },
      "source": [
        "#relu\n",
        "Epoch 50/50\n",
        "1201/1201 - 2s - loss: 0.6365 - accuracy: 0.6667 - val_loss: 0.6365 - val_accuracy: 0.6667"
      ],
      "execution_count": null,
      "outputs": []
    },
    {
      "cell_type": "code",
      "metadata": {
        "id": "6MBfoloT2Hvz"
      },
      "source": [
        "#elu\n",
        "Epoch 50/50\n",
        "1201/1201 - 2s - loss: 0.6365 - accuracy: 0.6667 - val_loss: 0.6365 - val_accuracy: 0.6667"
      ],
      "execution_count": null,
      "outputs": []
    },
    {
      "cell_type": "code",
      "metadata": {
        "id": "8hmE5RLw3Mx9"
      },
      "source": [
        "#selu\n",
        "Epoch 50/50\n",
        "1201/1201 - 2s - loss: 5.1416 - accuracy: 0.6667 - val_loss: 5.1416 - val_accuracy: 0.6667"
      ],
      "execution_count": null,
      "outputs": []
    },
    {
      "cell_type": "code",
      "metadata": {
        "id": "tOlq-Z993wrM"
      },
      "source": [
        "#exponential\n",
        "Epoch 13/50\n",
        "1201/1201 - 2s - loss: nan - accuracy: 0.6667 - val_loss: nan - val_accuracy: 0.6667"
      ],
      "execution_count": null,
      "outputs": []
    },
    {
      "cell_type": "code",
      "metadata": {
        "id": "uVt9dfwW3zQc"
      },
      "source": [
        "#tanh\n",
        "Epoch 50/50\n",
        "1201/1201 - 2s - loss: 0.6365 - accuracy: 0.6667 - val_loss: 0.6365 - val_accuracy: 0.6667"
      ],
      "execution_count": null,
      "outputs": []
    },
    {
      "cell_type": "code",
      "metadata": {
        "id": "gxdi2VzT5BMn"
      },
      "source": [
        "#swish\n",
        "Epoch 50/50\n",
        "1201/1201 - 2s - loss: 0.6365 - accuracy: 0.6667 - val_loss: 0.6365 - val_accuracy: 0.6667"
      ],
      "execution_count": null,
      "outputs": []
    },
    {
      "cell_type": "code",
      "metadata": {
        "id": "zh1BgI9qRLOs"
      },
      "source": [
        "#swish and adagrad\n",
        "Epoch 50/50\n",
        "301/301 - 1s - loss: 0.6403 - accuracy: 0.6665 - val_loss: 0.6403 - val_accuracy: 0.6667"
      ],
      "execution_count": null,
      "outputs": []
    },
    {
      "cell_type": "code",
      "metadata": {
        "id": "y4AvgOgsqgGr"
      },
      "source": [
        "#swish and sgd\n",
        "Epoch 50/50\n",
        "301/301 - 1s - loss: 0.6366 - accuracy: 0.6667 - val_loss: 0.6366 - val_accuracy: 0.6667"
      ],
      "execution_count": null,
      "outputs": []
    },
    {
      "cell_type": "code",
      "metadata": {
        "id": "2ab7ix80zzeD"
      },
      "source": [
        "#swish and rmsprop\n",
        "Epoch 50/50\n",
        "301/301 - 1s - loss: 0.6365 - accuracy: 0.6667 - val_loss: 0.6365 - val_accuracy: 0.6667"
      ],
      "execution_count": null,
      "outputs": []
    },
    {
      "cell_type": "code",
      "metadata": {
        "id": "5pdwBLUNz4sK"
      },
      "source": [
        ""
      ],
      "execution_count": null,
      "outputs": []
    }
  ]
}